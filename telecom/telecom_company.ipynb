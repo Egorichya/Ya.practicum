{
 "cells": [
  {
   "cell_type": "markdown",
   "metadata": {},
   "source": [
    "# Определение перспективного тарифа для телекомкомпании\n",
    "\n",
    "Пользователям предлагают два тарифных плана: «Смарт» и «Ультра». Чтобы скорректировать рекламный бюджет, коммерческий департамент хочет понять, какой тариф приносит больше денег. Предстоит сделать предварительный анализ тарифов на небольшой выборке клиентов. Есть данные 500 пользователей «Мегалайна»: кто они, откуда, каким тарифом пользуются, сколько звонков и сообщений каждый отправил за 2018 год. Нужно проанализировать поведение клиентов и сделать вывод — какой тариф лучше."
   ]
  },
  {
   "cell_type": "markdown",
   "metadata": {},
   "source": [
    "**План анализа:**\n",
    "\n",
    "* загрузить данные из файлов \n",
    "* провести анализ этих данных (что за данные, какие типы данных, сколько столбцов и строк), определить проблемы с данными.\n",
    "* провести предобработку данных\n",
    "* поменять типы данных\n",
    "* согласно условиям оператора округляем время звонков и интернета до большего целого\n",
    "* добавить столбец с месяцем, когда производился звонок, отправлялась смс и был выход в интернет\n",
    "* формируем единую таблицу по месяцам и звонков, интернета и смс\n",
    "* пишем функцию, которая считаем прибыль по месяцам\n",
    "* формируем таблицы с тарифами\n",
    "* считаем дисперсию, стандартное отклонение, среднее по каждому показателю\n",
    "* строим графики зависимости двух тарифов по всем показателям\n",
    "* анализ графиков\n",
    "* строим гипотезу различия двух тарифов\n",
    "* строим гипотезу различия среднего в Москве и в других районах\n",
    "* итоговый вывод"
   ]
  },
  {
   "cell_type": "markdown",
   "metadata": {},
   "source": [
    "##   Изучение данных из файлов"
   ]
  },
  {
   "cell_type": "markdown",
   "metadata": {},
   "source": [
    "### Изучение данных из файла tariffs"
   ]
  },
  {
   "cell_type": "code",
   "execution_count": 1,
   "metadata": {},
   "outputs": [],
   "source": [
    "import pandas as pd\n",
    "import numpy as np\n",
    "import scipy.stats as sps\n",
    "import matplotlib.pyplot as plt\n",
    "import seaborn as sns\n",
    "import math as mt\n",
    "pd.options.display.float_format = '{:.2f}'.format"
   ]
  },
  {
   "cell_type": "code",
   "execution_count": 2,
   "metadata": {},
   "outputs": [
    {
     "data": {
      "text/html": [
       "<div>\n",
       "<style scoped>\n",
       "    .dataframe tbody tr th:only-of-type {\n",
       "        vertical-align: middle;\n",
       "    }\n",
       "\n",
       "    .dataframe tbody tr th {\n",
       "        vertical-align: top;\n",
       "    }\n",
       "\n",
       "    .dataframe thead th {\n",
       "        text-align: right;\n",
       "    }\n",
       "</style>\n",
       "<table border=\"1\" class=\"dataframe\">\n",
       "  <thead>\n",
       "    <tr style=\"text-align: right;\">\n",
       "      <th></th>\n",
       "      <th>messages_included</th>\n",
       "      <th>mb_per_month_included</th>\n",
       "      <th>minutes_included</th>\n",
       "      <th>rub_monthly_fee</th>\n",
       "      <th>rub_per_gb</th>\n",
       "      <th>rub_per_message</th>\n",
       "      <th>rub_per_minute</th>\n",
       "      <th>tariff_name</th>\n",
       "    </tr>\n",
       "  </thead>\n",
       "  <tbody>\n",
       "    <tr>\n",
       "      <th>0</th>\n",
       "      <td>50</td>\n",
       "      <td>15360</td>\n",
       "      <td>500</td>\n",
       "      <td>550</td>\n",
       "      <td>200</td>\n",
       "      <td>3</td>\n",
       "      <td>3</td>\n",
       "      <td>smart</td>\n",
       "    </tr>\n",
       "    <tr>\n",
       "      <th>1</th>\n",
       "      <td>1000</td>\n",
       "      <td>30720</td>\n",
       "      <td>3000</td>\n",
       "      <td>1950</td>\n",
       "      <td>150</td>\n",
       "      <td>1</td>\n",
       "      <td>1</td>\n",
       "      <td>ultra</td>\n",
       "    </tr>\n",
       "  </tbody>\n",
       "</table>\n",
       "</div>"
      ],
      "text/plain": [
       "   messages_included  mb_per_month_included  minutes_included  \\\n",
       "0                 50                  15360               500   \n",
       "1               1000                  30720              3000   \n",
       "\n",
       "   rub_monthly_fee  rub_per_gb  rub_per_message  rub_per_minute tariff_name  \n",
       "0              550         200                3               3       smart  \n",
       "1             1950         150                1               1       ultra  "
      ]
     },
     "metadata": {},
     "output_type": "display_data"
    },
    {
     "name": "stdout",
     "output_type": "stream",
     "text": [
      "<class 'pandas.core.frame.DataFrame'>\n",
      "RangeIndex: 2 entries, 0 to 1\n",
      "Data columns (total 8 columns):\n",
      " #   Column                 Non-Null Count  Dtype \n",
      "---  ------                 --------------  ----- \n",
      " 0   messages_included      2 non-null      int64 \n",
      " 1   mb_per_month_included  2 non-null      int64 \n",
      " 2   minutes_included       2 non-null      int64 \n",
      " 3   rub_monthly_fee        2 non-null      int64 \n",
      " 4   rub_per_gb             2 non-null      int64 \n",
      " 5   rub_per_message        2 non-null      int64 \n",
      " 6   rub_per_minute         2 non-null      int64 \n",
      " 7   tariff_name            2 non-null      object\n",
      "dtypes: int64(7), object(1)\n",
      "memory usage: 256.0+ bytes\n"
     ]
    },
    {
     "data": {
      "text/html": [
       "<div>\n",
       "<style scoped>\n",
       "    .dataframe tbody tr th:only-of-type {\n",
       "        vertical-align: middle;\n",
       "    }\n",
       "\n",
       "    .dataframe tbody tr th {\n",
       "        vertical-align: top;\n",
       "    }\n",
       "\n",
       "    .dataframe thead th {\n",
       "        text-align: right;\n",
       "    }\n",
       "</style>\n",
       "<table border=\"1\" class=\"dataframe\">\n",
       "  <thead>\n",
       "    <tr style=\"text-align: right;\">\n",
       "      <th></th>\n",
       "      <th>messages_included</th>\n",
       "      <th>mb_per_month_included</th>\n",
       "      <th>minutes_included</th>\n",
       "      <th>rub_monthly_fee</th>\n",
       "      <th>rub_per_gb</th>\n",
       "      <th>rub_per_message</th>\n",
       "      <th>rub_per_minute</th>\n",
       "    </tr>\n",
       "  </thead>\n",
       "  <tbody>\n",
       "    <tr>\n",
       "      <th>count</th>\n",
       "      <td>2.00</td>\n",
       "      <td>2.00</td>\n",
       "      <td>2.00</td>\n",
       "      <td>2.00</td>\n",
       "      <td>2.00</td>\n",
       "      <td>2.00</td>\n",
       "      <td>2.00</td>\n",
       "    </tr>\n",
       "    <tr>\n",
       "      <th>mean</th>\n",
       "      <td>525.00</td>\n",
       "      <td>23040.00</td>\n",
       "      <td>1750.00</td>\n",
       "      <td>1250.00</td>\n",
       "      <td>175.00</td>\n",
       "      <td>2.00</td>\n",
       "      <td>2.00</td>\n",
       "    </tr>\n",
       "    <tr>\n",
       "      <th>std</th>\n",
       "      <td>671.75</td>\n",
       "      <td>10861.16</td>\n",
       "      <td>1767.77</td>\n",
       "      <td>989.95</td>\n",
       "      <td>35.36</td>\n",
       "      <td>1.41</td>\n",
       "      <td>1.41</td>\n",
       "    </tr>\n",
       "    <tr>\n",
       "      <th>min</th>\n",
       "      <td>50.00</td>\n",
       "      <td>15360.00</td>\n",
       "      <td>500.00</td>\n",
       "      <td>550.00</td>\n",
       "      <td>150.00</td>\n",
       "      <td>1.00</td>\n",
       "      <td>1.00</td>\n",
       "    </tr>\n",
       "    <tr>\n",
       "      <th>25%</th>\n",
       "      <td>287.50</td>\n",
       "      <td>19200.00</td>\n",
       "      <td>1125.00</td>\n",
       "      <td>900.00</td>\n",
       "      <td>162.50</td>\n",
       "      <td>1.50</td>\n",
       "      <td>1.50</td>\n",
       "    </tr>\n",
       "    <tr>\n",
       "      <th>50%</th>\n",
       "      <td>525.00</td>\n",
       "      <td>23040.00</td>\n",
       "      <td>1750.00</td>\n",
       "      <td>1250.00</td>\n",
       "      <td>175.00</td>\n",
       "      <td>2.00</td>\n",
       "      <td>2.00</td>\n",
       "    </tr>\n",
       "    <tr>\n",
       "      <th>75%</th>\n",
       "      <td>762.50</td>\n",
       "      <td>26880.00</td>\n",
       "      <td>2375.00</td>\n",
       "      <td>1600.00</td>\n",
       "      <td>187.50</td>\n",
       "      <td>2.50</td>\n",
       "      <td>2.50</td>\n",
       "    </tr>\n",
       "    <tr>\n",
       "      <th>max</th>\n",
       "      <td>1000.00</td>\n",
       "      <td>30720.00</td>\n",
       "      <td>3000.00</td>\n",
       "      <td>1950.00</td>\n",
       "      <td>200.00</td>\n",
       "      <td>3.00</td>\n",
       "      <td>3.00</td>\n",
       "    </tr>\n",
       "  </tbody>\n",
       "</table>\n",
       "</div>"
      ],
      "text/plain": [
       "       messages_included  mb_per_month_included  minutes_included  \\\n",
       "count               2.00                   2.00              2.00   \n",
       "mean              525.00               23040.00           1750.00   \n",
       "std               671.75               10861.16           1767.77   \n",
       "min                50.00               15360.00            500.00   \n",
       "25%               287.50               19200.00           1125.00   \n",
       "50%               525.00               23040.00           1750.00   \n",
       "75%               762.50               26880.00           2375.00   \n",
       "max              1000.00               30720.00           3000.00   \n",
       "\n",
       "       rub_monthly_fee  rub_per_gb  rub_per_message  rub_per_minute  \n",
       "count             2.00        2.00             2.00            2.00  \n",
       "mean           1250.00      175.00             2.00            2.00  \n",
       "std             989.95       35.36             1.41            1.41  \n",
       "min             550.00      150.00             1.00            1.00  \n",
       "25%             900.00      162.50             1.50            1.50  \n",
       "50%            1250.00      175.00             2.00            2.00  \n",
       "75%            1600.00      187.50             2.50            2.50  \n",
       "max            1950.00      200.00             3.00            3.00  "
      ]
     },
     "execution_count": 2,
     "metadata": {},
     "output_type": "execute_result"
    }
   ],
   "source": [
    "data_tariffs = pd.read_csv('/datasets/tariffs.csv')\n",
    "data.to_csv('название_датасета.расширение', index=False) \n",
    "display(data_tariffs.head())\n",
    "data_tariffs.info()\n",
    "data_tariffs.describe()"
   ]
  },
  {
   "cell_type": "markdown",
   "metadata": {},
   "source": [
    "<div class=\"alert alert-info\">\n",
    "1. Для удобства переведем мегабайты в гигабайты, чтобы вести все дальнейшие расчеты в ГБ, т.к. сверх тарифа идет стоимость ГБ. \n",
    "2. Поменяем название столбца 'rub_monthly_fee' на 'price_month' для удобного чтения и порядок столбцов для наглядности."
   ]
  },
  {
   "cell_type": "code",
   "execution_count": 3,
   "metadata": {},
   "outputs": [
    {
     "data": {
      "text/html": [
       "<div>\n",
       "<style scoped>\n",
       "    .dataframe tbody tr th:only-of-type {\n",
       "        vertical-align: middle;\n",
       "    }\n",
       "\n",
       "    .dataframe tbody tr th {\n",
       "        vertical-align: top;\n",
       "    }\n",
       "\n",
       "    .dataframe thead th {\n",
       "        text-align: right;\n",
       "    }\n",
       "</style>\n",
       "<table border=\"1\" class=\"dataframe\">\n",
       "  <thead>\n",
       "    <tr style=\"text-align: right;\">\n",
       "      <th></th>\n",
       "      <th>tariff_name</th>\n",
       "      <th>messages_included</th>\n",
       "      <th>gb_included</th>\n",
       "      <th>minutes_included</th>\n",
       "      <th>price_month</th>\n",
       "      <th>rub_per_gb</th>\n",
       "      <th>rub_per_message</th>\n",
       "      <th>rub_per_minute</th>\n",
       "    </tr>\n",
       "  </thead>\n",
       "  <tbody>\n",
       "    <tr>\n",
       "      <th>0</th>\n",
       "      <td>smart</td>\n",
       "      <td>50</td>\n",
       "      <td>15</td>\n",
       "      <td>500</td>\n",
       "      <td>550</td>\n",
       "      <td>200</td>\n",
       "      <td>3</td>\n",
       "      <td>3</td>\n",
       "    </tr>\n",
       "    <tr>\n",
       "      <th>1</th>\n",
       "      <td>ultra</td>\n",
       "      <td>1000</td>\n",
       "      <td>30</td>\n",
       "      <td>3000</td>\n",
       "      <td>1950</td>\n",
       "      <td>150</td>\n",
       "      <td>1</td>\n",
       "      <td>1</td>\n",
       "    </tr>\n",
       "  </tbody>\n",
       "</table>\n",
       "</div>"
      ],
      "text/plain": [
       "  tariff_name  messages_included  gb_included  minutes_included  price_month  \\\n",
       "0       smart                 50           15               500          550   \n",
       "1       ultra               1000           30              3000         1950   \n",
       "\n",
       "   rub_per_gb  rub_per_message  rub_per_minute  \n",
       "0         200                3               3  \n",
       "1         150                1               1  "
      ]
     },
     "execution_count": 3,
     "metadata": {},
     "output_type": "execute_result"
    }
   ],
   "source": [
    "data_tariffs['gb_included']=(data_tariffs['mb_per_month_included']/1024).astype('int64')\n",
    "data_tariffs = data_tariffs.rename(columns={'rub_monthly_fee': 'price_month'})\n",
    "data_tariffs=data_tariffs[['tariff_name', 'messages_included', 'gb_included', 'minutes_included', 'price_month', 'rub_per_gb', 'rub_per_message', 'rub_per_minute']]\n",
    "data_tariffs.head()"
   ]
  },
  {
   "cell_type": "markdown",
   "metadata": {},
   "source": [
    "### Изучение данных из файла data_calls"
   ]
  },
  {
   "cell_type": "code",
   "execution_count": 4,
   "metadata": {},
   "outputs": [
    {
     "data": {
      "text/html": [
       "<div>\n",
       "<style scoped>\n",
       "    .dataframe tbody tr th:only-of-type {\n",
       "        vertical-align: middle;\n",
       "    }\n",
       "\n",
       "    .dataframe tbody tr th {\n",
       "        vertical-align: top;\n",
       "    }\n",
       "\n",
       "    .dataframe thead th {\n",
       "        text-align: right;\n",
       "    }\n",
       "</style>\n",
       "<table border=\"1\" class=\"dataframe\">\n",
       "  <thead>\n",
       "    <tr style=\"text-align: right;\">\n",
       "      <th></th>\n",
       "      <th>id</th>\n",
       "      <th>call_date</th>\n",
       "      <th>duration</th>\n",
       "      <th>user_id</th>\n",
       "    </tr>\n",
       "  </thead>\n",
       "  <tbody>\n",
       "    <tr>\n",
       "      <th>0</th>\n",
       "      <td>1000_0</td>\n",
       "      <td>2018-07-25</td>\n",
       "      <td>0.00</td>\n",
       "      <td>1000</td>\n",
       "    </tr>\n",
       "    <tr>\n",
       "      <th>1</th>\n",
       "      <td>1000_1</td>\n",
       "      <td>2018-08-17</td>\n",
       "      <td>0.00</td>\n",
       "      <td>1000</td>\n",
       "    </tr>\n",
       "    <tr>\n",
       "      <th>2</th>\n",
       "      <td>1000_2</td>\n",
       "      <td>2018-06-11</td>\n",
       "      <td>2.85</td>\n",
       "      <td>1000</td>\n",
       "    </tr>\n",
       "    <tr>\n",
       "      <th>3</th>\n",
       "      <td>1000_3</td>\n",
       "      <td>2018-09-21</td>\n",
       "      <td>13.80</td>\n",
       "      <td>1000</td>\n",
       "    </tr>\n",
       "    <tr>\n",
       "      <th>4</th>\n",
       "      <td>1000_4</td>\n",
       "      <td>2018-12-15</td>\n",
       "      <td>5.18</td>\n",
       "      <td>1000</td>\n",
       "    </tr>\n",
       "  </tbody>\n",
       "</table>\n",
       "</div>"
      ],
      "text/plain": [
       "       id   call_date  duration  user_id\n",
       "0  1000_0  2018-07-25      0.00     1000\n",
       "1  1000_1  2018-08-17      0.00     1000\n",
       "2  1000_2  2018-06-11      2.85     1000\n",
       "3  1000_3  2018-09-21     13.80     1000\n",
       "4  1000_4  2018-12-15      5.18     1000"
      ]
     },
     "metadata": {},
     "output_type": "display_data"
    },
    {
     "name": "stdout",
     "output_type": "stream",
     "text": [
      "<class 'pandas.core.frame.DataFrame'>\n",
      "RangeIndex: 202607 entries, 0 to 202606\n",
      "Data columns (total 4 columns):\n",
      " #   Column     Non-Null Count   Dtype  \n",
      "---  ------     --------------   -----  \n",
      " 0   id         202607 non-null  object \n",
      " 1   call_date  202607 non-null  object \n",
      " 2   duration   202607 non-null  float64\n",
      " 3   user_id    202607 non-null  int64  \n",
      "dtypes: float64(1), int64(1), object(2)\n",
      "memory usage: 6.2+ MB\n"
     ]
    },
    {
     "data": {
      "text/html": [
       "<div>\n",
       "<style scoped>\n",
       "    .dataframe tbody tr th:only-of-type {\n",
       "        vertical-align: middle;\n",
       "    }\n",
       "\n",
       "    .dataframe tbody tr th {\n",
       "        vertical-align: top;\n",
       "    }\n",
       "\n",
       "    .dataframe thead th {\n",
       "        text-align: right;\n",
       "    }\n",
       "</style>\n",
       "<table border=\"1\" class=\"dataframe\">\n",
       "  <thead>\n",
       "    <tr style=\"text-align: right;\">\n",
       "      <th></th>\n",
       "      <th>duration</th>\n",
       "      <th>user_id</th>\n",
       "    </tr>\n",
       "  </thead>\n",
       "  <tbody>\n",
       "    <tr>\n",
       "      <th>count</th>\n",
       "      <td>202607.00</td>\n",
       "      <td>202607.00</td>\n",
       "    </tr>\n",
       "    <tr>\n",
       "      <th>mean</th>\n",
       "      <td>6.76</td>\n",
       "      <td>1253.94</td>\n",
       "    </tr>\n",
       "    <tr>\n",
       "      <th>std</th>\n",
       "      <td>5.84</td>\n",
       "      <td>144.72</td>\n",
       "    </tr>\n",
       "    <tr>\n",
       "      <th>min</th>\n",
       "      <td>0.00</td>\n",
       "      <td>1000.00</td>\n",
       "    </tr>\n",
       "    <tr>\n",
       "      <th>25%</th>\n",
       "      <td>1.30</td>\n",
       "      <td>1126.00</td>\n",
       "    </tr>\n",
       "    <tr>\n",
       "      <th>50%</th>\n",
       "      <td>6.00</td>\n",
       "      <td>1260.00</td>\n",
       "    </tr>\n",
       "    <tr>\n",
       "      <th>75%</th>\n",
       "      <td>10.70</td>\n",
       "      <td>1379.00</td>\n",
       "    </tr>\n",
       "    <tr>\n",
       "      <th>max</th>\n",
       "      <td>38.00</td>\n",
       "      <td>1499.00</td>\n",
       "    </tr>\n",
       "  </tbody>\n",
       "</table>\n",
       "</div>"
      ],
      "text/plain": [
       "       duration   user_id\n",
       "count 202607.00 202607.00\n",
       "mean       6.76   1253.94\n",
       "std        5.84    144.72\n",
       "min        0.00   1000.00\n",
       "25%        1.30   1126.00\n",
       "50%        6.00   1260.00\n",
       "75%       10.70   1379.00\n",
       "max       38.00   1499.00"
      ]
     },
     "execution_count": 4,
     "metadata": {},
     "output_type": "execute_result"
    }
   ],
   "source": [
    "data_calls = pd.read_csv('/datasets/calls.csv')\n",
    "display(data_calls.head())\n",
    "data_calls.info()\n",
    "data_calls.describe()"
   ]
  },
  {
   "cell_type": "code",
   "execution_count": 5,
   "metadata": {},
   "outputs": [
    {
     "data": {
      "text/plain": [
       "39613"
      ]
     },
     "execution_count": 5,
     "metadata": {},
     "output_type": "execute_result"
    }
   ],
   "source": [
    "data_calls.query('duration == 0')['duration'].count()"
   ]
  },
  {
   "cell_type": "markdown",
   "metadata": {},
   "source": [
    "<div class=\"alert alert-info\">\n",
    "    1. Есть звонки продолжительностью 0 минут, это, скорее всего, неотвеченные, не будем их убирать, они никак не повлияют. \n",
    "    2. Пропущенных значений нет. \n",
    "    3. Надо перевести время в формат даты, чтобы потом разделить по месяцам. \n",
    "    4. Время звонка округлить до целого в большую сторону. \n",
    "    5. Добавим столбец с месяцем. \n",
    "    6. Переведем время в int. \n",
    "    7. Оставим только нужные столбцы - идентиф.пользователя, месяц и время звонка. 8. Сгруппируем полученную таблицу по id пользователя и месяца."
   ]
  },
  {
   "cell_type": "code",
   "execution_count": 6,
   "metadata": {},
   "outputs": [
    {
     "name": "stdout",
     "output_type": "stream",
     "text": [
      "<class 'pandas.core.frame.DataFrame'>\n",
      "Int64Index: 202607 entries, 0 to 202606\n",
      "Data columns (total 4 columns):\n",
      " #   Column     Non-Null Count   Dtype  \n",
      "---  ------     --------------   -----  \n",
      " 0   id         202607 non-null  object \n",
      " 1   call_date  202607 non-null  object \n",
      " 2   duration   202607 non-null  float64\n",
      " 3   user_id    202607 non-null  int64  \n",
      "dtypes: float64(1), int64(1), object(2)\n",
      "memory usage: 7.7+ MB\n"
     ]
    }
   ],
   "source": [
    "data_calls = data_calls.drop_duplicates() # удалим дубликаты в таблице\n",
    "data_calls.info() # проверим кол-во оставшихся строк"
   ]
  },
  {
   "cell_type": "code",
   "execution_count": 7,
   "metadata": {},
   "outputs": [],
   "source": [
    "data_calls['call_date'] = pd.to_datetime(data_calls['call_date'].astype('datetime64[M]'))\n",
    "data_calls['month'] = data_calls['call_date'].dt.month #добавим месяц\n",
    "data_calls['duration'] = np.ceil(data_calls['duration']).astype('int64') #округляем до целого в большую сторону"
   ]
  },
  {
   "cell_type": "code",
   "execution_count": 8,
   "metadata": {},
   "outputs": [
    {
     "data": {
      "text/html": [
       "<div>\n",
       "<style scoped>\n",
       "    .dataframe tbody tr th:only-of-type {\n",
       "        vertical-align: middle;\n",
       "    }\n",
       "\n",
       "    .dataframe tbody tr th {\n",
       "        vertical-align: top;\n",
       "    }\n",
       "\n",
       "    .dataframe thead th {\n",
       "        text-align: right;\n",
       "    }\n",
       "</style>\n",
       "<table border=\"1\" class=\"dataframe\">\n",
       "  <thead>\n",
       "    <tr style=\"text-align: right;\">\n",
       "      <th></th>\n",
       "      <th>id</th>\n",
       "      <th>call_date</th>\n",
       "      <th>duration</th>\n",
       "      <th>user_id</th>\n",
       "      <th>month</th>\n",
       "    </tr>\n",
       "  </thead>\n",
       "  <tbody>\n",
       "    <tr>\n",
       "      <th>0</th>\n",
       "      <td>1000_0</td>\n",
       "      <td>2018-07-01</td>\n",
       "      <td>0</td>\n",
       "      <td>1000</td>\n",
       "      <td>7</td>\n",
       "    </tr>\n",
       "    <tr>\n",
       "      <th>1</th>\n",
       "      <td>1000_1</td>\n",
       "      <td>2018-08-01</td>\n",
       "      <td>0</td>\n",
       "      <td>1000</td>\n",
       "      <td>8</td>\n",
       "    </tr>\n",
       "    <tr>\n",
       "      <th>2</th>\n",
       "      <td>1000_2</td>\n",
       "      <td>2018-06-01</td>\n",
       "      <td>3</td>\n",
       "      <td>1000</td>\n",
       "      <td>6</td>\n",
       "    </tr>\n",
       "    <tr>\n",
       "      <th>3</th>\n",
       "      <td>1000_3</td>\n",
       "      <td>2018-09-01</td>\n",
       "      <td>14</td>\n",
       "      <td>1000</td>\n",
       "      <td>9</td>\n",
       "    </tr>\n",
       "    <tr>\n",
       "      <th>4</th>\n",
       "      <td>1000_4</td>\n",
       "      <td>2018-12-01</td>\n",
       "      <td>6</td>\n",
       "      <td>1000</td>\n",
       "      <td>12</td>\n",
       "    </tr>\n",
       "  </tbody>\n",
       "</table>\n",
       "</div>"
      ],
      "text/plain": [
       "       id  call_date  duration  user_id  month\n",
       "0  1000_0 2018-07-01         0     1000      7\n",
       "1  1000_1 2018-08-01         0     1000      8\n",
       "2  1000_2 2018-06-01         3     1000      6\n",
       "3  1000_3 2018-09-01        14     1000      9\n",
       "4  1000_4 2018-12-01         6     1000     12"
      ]
     },
     "metadata": {},
     "output_type": "display_data"
    },
    {
     "name": "stdout",
     "output_type": "stream",
     "text": [
      "<class 'pandas.core.frame.DataFrame'>\n",
      "Int64Index: 202607 entries, 0 to 202606\n",
      "Data columns (total 5 columns):\n",
      " #   Column     Non-Null Count   Dtype         \n",
      "---  ------     --------------   -----         \n",
      " 0   id         202607 non-null  object        \n",
      " 1   call_date  202607 non-null  datetime64[ns]\n",
      " 2   duration   202607 non-null  int64         \n",
      " 3   user_id    202607 non-null  int64         \n",
      " 4   month      202607 non-null  int64         \n",
      "dtypes: datetime64[ns](1), int64(3), object(1)\n",
      "memory usage: 9.3+ MB\n"
     ]
    }
   ],
   "source": [
    "display(data_calls.head())\n",
    "data_calls.info()"
   ]
  },
  {
   "cell_type": "code",
   "execution_count": 9,
   "metadata": {},
   "outputs": [
    {
     "name": "stdout",
     "output_type": "stream",
     "text": [
      "<class 'pandas.core.frame.DataFrame'>\n",
      "Int64Index: 202607 entries, 0 to 202606\n",
      "Data columns (total 3 columns):\n",
      " #   Column    Non-Null Count   Dtype\n",
      "---  ------    --------------   -----\n",
      " 0   user_id   202607 non-null  int64\n",
      " 1   month     202607 non-null  int64\n",
      " 2   duration  202607 non-null  int64\n",
      "dtypes: int64(3)\n",
      "memory usage: 6.2 MB\n"
     ]
    }
   ],
   "source": [
    "data_calls=data_calls[['user_id', 'month', 'duration']]\n",
    "data_calls.info()"
   ]
  },
  {
   "cell_type": "code",
   "execution_count": 10,
   "metadata": {},
   "outputs": [
    {
     "data": {
      "text/html": [
       "<div>\n",
       "<style scoped>\n",
       "    .dataframe tbody tr th:only-of-type {\n",
       "        vertical-align: middle;\n",
       "    }\n",
       "\n",
       "    .dataframe tbody tr th {\n",
       "        vertical-align: top;\n",
       "    }\n",
       "\n",
       "    .dataframe thead th {\n",
       "        text-align: right;\n",
       "    }\n",
       "</style>\n",
       "<table border=\"1\" class=\"dataframe\">\n",
       "  <thead>\n",
       "    <tr style=\"text-align: right;\">\n",
       "      <th></th>\n",
       "      <th>user_id</th>\n",
       "      <th>month</th>\n",
       "      <th>sum_minut</th>\n",
       "    </tr>\n",
       "  </thead>\n",
       "  <tbody>\n",
       "    <tr>\n",
       "      <th>0</th>\n",
       "      <td>1000</td>\n",
       "      <td>5</td>\n",
       "      <td>159</td>\n",
       "    </tr>\n",
       "    <tr>\n",
       "      <th>1</th>\n",
       "      <td>1000</td>\n",
       "      <td>6</td>\n",
       "      <td>172</td>\n",
       "    </tr>\n",
       "    <tr>\n",
       "      <th>2</th>\n",
       "      <td>1000</td>\n",
       "      <td>7</td>\n",
       "      <td>340</td>\n",
       "    </tr>\n",
       "    <tr>\n",
       "      <th>3</th>\n",
       "      <td>1000</td>\n",
       "      <td>8</td>\n",
       "      <td>408</td>\n",
       "    </tr>\n",
       "    <tr>\n",
       "      <th>4</th>\n",
       "      <td>1000</td>\n",
       "      <td>9</td>\n",
       "      <td>466</td>\n",
       "    </tr>\n",
       "  </tbody>\n",
       "</table>\n",
       "</div>"
      ],
      "text/plain": [
       "   user_id  month  sum_minut\n",
       "0     1000      5        159\n",
       "1     1000      6        172\n",
       "2     1000      7        340\n",
       "3     1000      8        408\n",
       "4     1000      9        466"
      ]
     },
     "metadata": {},
     "output_type": "display_data"
    },
    {
     "name": "stdout",
     "output_type": "stream",
     "text": [
      "<class 'pandas.core.frame.DataFrame'>\n",
      "RangeIndex: 3174 entries, 0 to 3173\n",
      "Data columns (total 3 columns):\n",
      " #   Column     Non-Null Count  Dtype\n",
      "---  ------     --------------  -----\n",
      " 0   user_id    3174 non-null   int64\n",
      " 1   month      3174 non-null   int64\n",
      " 2   sum_minut  3174 non-null   int64\n",
      "dtypes: int64(3)\n",
      "memory usage: 74.5 KB\n"
     ]
    }
   ],
   "source": [
    "data_calls_pivot = data_calls.pivot_table(index=['user_id', 'month'], values='duration', aggfunc='sum').reset_index()     \n",
    "data_calls_pivot = data_calls_pivot.rename(columns={'duration': 'sum_minut'})\n",
    "display(data_calls_pivot.head())\n",
    "data_calls_pivot.info()"
   ]
  },
  {
   "cell_type": "markdown",
   "metadata": {},
   "source": [
    "<div class=\"alert alert-info\">\n",
    "    1. Данные по звонкам преобразованы 2. Таблица содержит идентиф.пользователя, месяц и сумму минут за месяц. 3. Строки сократились до 3174."
   ]
  },
  {
   "cell_type": "markdown",
   "metadata": {},
   "source": [
    "### Изучение данных из файла messages"
   ]
  },
  {
   "cell_type": "code",
   "execution_count": 11,
   "metadata": {},
   "outputs": [
    {
     "data": {
      "text/html": [
       "<div>\n",
       "<style scoped>\n",
       "    .dataframe tbody tr th:only-of-type {\n",
       "        vertical-align: middle;\n",
       "    }\n",
       "\n",
       "    .dataframe tbody tr th {\n",
       "        vertical-align: top;\n",
       "    }\n",
       "\n",
       "    .dataframe thead th {\n",
       "        text-align: right;\n",
       "    }\n",
       "</style>\n",
       "<table border=\"1\" class=\"dataframe\">\n",
       "  <thead>\n",
       "    <tr style=\"text-align: right;\">\n",
       "      <th></th>\n",
       "      <th>id</th>\n",
       "      <th>message_date</th>\n",
       "      <th>user_id</th>\n",
       "    </tr>\n",
       "  </thead>\n",
       "  <tbody>\n",
       "    <tr>\n",
       "      <th>0</th>\n",
       "      <td>1000_0</td>\n",
       "      <td>2018-06-27</td>\n",
       "      <td>1000</td>\n",
       "    </tr>\n",
       "    <tr>\n",
       "      <th>1</th>\n",
       "      <td>1000_1</td>\n",
       "      <td>2018-10-08</td>\n",
       "      <td>1000</td>\n",
       "    </tr>\n",
       "    <tr>\n",
       "      <th>2</th>\n",
       "      <td>1000_2</td>\n",
       "      <td>2018-08-04</td>\n",
       "      <td>1000</td>\n",
       "    </tr>\n",
       "    <tr>\n",
       "      <th>3</th>\n",
       "      <td>1000_3</td>\n",
       "      <td>2018-06-16</td>\n",
       "      <td>1000</td>\n",
       "    </tr>\n",
       "    <tr>\n",
       "      <th>4</th>\n",
       "      <td>1000_4</td>\n",
       "      <td>2018-12-05</td>\n",
       "      <td>1000</td>\n",
       "    </tr>\n",
       "  </tbody>\n",
       "</table>\n",
       "</div>"
      ],
      "text/plain": [
       "       id message_date  user_id\n",
       "0  1000_0   2018-06-27     1000\n",
       "1  1000_1   2018-10-08     1000\n",
       "2  1000_2   2018-08-04     1000\n",
       "3  1000_3   2018-06-16     1000\n",
       "4  1000_4   2018-12-05     1000"
      ]
     },
     "metadata": {},
     "output_type": "display_data"
    },
    {
     "name": "stdout",
     "output_type": "stream",
     "text": [
      "<class 'pandas.core.frame.DataFrame'>\n",
      "RangeIndex: 123036 entries, 0 to 123035\n",
      "Data columns (total 3 columns):\n",
      " #   Column        Non-Null Count   Dtype \n",
      "---  ------        --------------   ----- \n",
      " 0   id            123036 non-null  object\n",
      " 1   message_date  123036 non-null  object\n",
      " 2   user_id       123036 non-null  int64 \n",
      "dtypes: int64(1), object(2)\n",
      "memory usage: 2.8+ MB\n"
     ]
    },
    {
     "data": {
      "text/html": [
       "<div>\n",
       "<style scoped>\n",
       "    .dataframe tbody tr th:only-of-type {\n",
       "        vertical-align: middle;\n",
       "    }\n",
       "\n",
       "    .dataframe tbody tr th {\n",
       "        vertical-align: top;\n",
       "    }\n",
       "\n",
       "    .dataframe thead th {\n",
       "        text-align: right;\n",
       "    }\n",
       "</style>\n",
       "<table border=\"1\" class=\"dataframe\">\n",
       "  <thead>\n",
       "    <tr style=\"text-align: right;\">\n",
       "      <th></th>\n",
       "      <th>user_id</th>\n",
       "    </tr>\n",
       "  </thead>\n",
       "  <tbody>\n",
       "    <tr>\n",
       "      <th>count</th>\n",
       "      <td>123036.00</td>\n",
       "    </tr>\n",
       "    <tr>\n",
       "      <th>mean</th>\n",
       "      <td>1256.99</td>\n",
       "    </tr>\n",
       "    <tr>\n",
       "      <th>std</th>\n",
       "      <td>143.52</td>\n",
       "    </tr>\n",
       "    <tr>\n",
       "      <th>min</th>\n",
       "      <td>1000.00</td>\n",
       "    </tr>\n",
       "    <tr>\n",
       "      <th>25%</th>\n",
       "      <td>1134.00</td>\n",
       "    </tr>\n",
       "    <tr>\n",
       "      <th>50%</th>\n",
       "      <td>1271.00</td>\n",
       "    </tr>\n",
       "    <tr>\n",
       "      <th>75%</th>\n",
       "      <td>1381.00</td>\n",
       "    </tr>\n",
       "    <tr>\n",
       "      <th>max</th>\n",
       "      <td>1499.00</td>\n",
       "    </tr>\n",
       "  </tbody>\n",
       "</table>\n",
       "</div>"
      ],
      "text/plain": [
       "        user_id\n",
       "count 123036.00\n",
       "mean    1256.99\n",
       "std      143.52\n",
       "min     1000.00\n",
       "25%     1134.00\n",
       "50%     1271.00\n",
       "75%     1381.00\n",
       "max     1499.00"
      ]
     },
     "execution_count": 11,
     "metadata": {},
     "output_type": "execute_result"
    }
   ],
   "source": [
    "data_messages = pd.read_csv('/datasets/messages.csv')\n",
    "display(data_messages.head())\n",
    "data_messages.info()\n",
    "data_messages.describe()"
   ]
  },
  {
   "cell_type": "markdown",
   "metadata": {},
   "source": [
    "<div class=\"alert alert-info\">\n",
    "    1. Пропущенных значений нет. 2. Надо перевести время в формат даты, чтобы потом разделить по месяцам. 3. Добавим столбец с месяцем. 4. Сгруппируем полученную таблицу по id пользователя и месяцам."
   ]
  },
  {
   "cell_type": "code",
   "execution_count": 12,
   "metadata": {},
   "outputs": [
    {
     "name": "stdout",
     "output_type": "stream",
     "text": [
      "<class 'pandas.core.frame.DataFrame'>\n",
      "Int64Index: 123036 entries, 0 to 123035\n",
      "Data columns (total 3 columns):\n",
      " #   Column        Non-Null Count   Dtype \n",
      "---  ------        --------------   ----- \n",
      " 0   id            123036 non-null  object\n",
      " 1   message_date  123036 non-null  object\n",
      " 2   user_id       123036 non-null  int64 \n",
      "dtypes: int64(1), object(2)\n",
      "memory usage: 3.8+ MB\n"
     ]
    }
   ],
   "source": [
    "data_messages = data_messages.drop_duplicates() # удалим дубликаты в таблице\n",
    "data_messages.info() # проверим кол-во оставшихся строк"
   ]
  },
  {
   "cell_type": "code",
   "execution_count": 13,
   "metadata": {},
   "outputs": [
    {
     "data": {
      "text/html": [
       "<div>\n",
       "<style scoped>\n",
       "    .dataframe tbody tr th:only-of-type {\n",
       "        vertical-align: middle;\n",
       "    }\n",
       "\n",
       "    .dataframe tbody tr th {\n",
       "        vertical-align: top;\n",
       "    }\n",
       "\n",
       "    .dataframe thead th {\n",
       "        text-align: right;\n",
       "    }\n",
       "</style>\n",
       "<table border=\"1\" class=\"dataframe\">\n",
       "  <thead>\n",
       "    <tr style=\"text-align: right;\">\n",
       "      <th></th>\n",
       "      <th>id</th>\n",
       "      <th>message_date</th>\n",
       "      <th>user_id</th>\n",
       "      <th>month</th>\n",
       "    </tr>\n",
       "  </thead>\n",
       "  <tbody>\n",
       "    <tr>\n",
       "      <th>0</th>\n",
       "      <td>1000_0</td>\n",
       "      <td>2018-06-27</td>\n",
       "      <td>1000</td>\n",
       "      <td>6</td>\n",
       "    </tr>\n",
       "    <tr>\n",
       "      <th>1</th>\n",
       "      <td>1000_1</td>\n",
       "      <td>2018-10-08</td>\n",
       "      <td>1000</td>\n",
       "      <td>10</td>\n",
       "    </tr>\n",
       "    <tr>\n",
       "      <th>2</th>\n",
       "      <td>1000_2</td>\n",
       "      <td>2018-08-04</td>\n",
       "      <td>1000</td>\n",
       "      <td>8</td>\n",
       "    </tr>\n",
       "    <tr>\n",
       "      <th>3</th>\n",
       "      <td>1000_3</td>\n",
       "      <td>2018-06-16</td>\n",
       "      <td>1000</td>\n",
       "      <td>6</td>\n",
       "    </tr>\n",
       "    <tr>\n",
       "      <th>4</th>\n",
       "      <td>1000_4</td>\n",
       "      <td>2018-12-05</td>\n",
       "      <td>1000</td>\n",
       "      <td>12</td>\n",
       "    </tr>\n",
       "  </tbody>\n",
       "</table>\n",
       "</div>"
      ],
      "text/plain": [
       "       id message_date  user_id  month\n",
       "0  1000_0   2018-06-27     1000      6\n",
       "1  1000_1   2018-10-08     1000     10\n",
       "2  1000_2   2018-08-04     1000      8\n",
       "3  1000_3   2018-06-16     1000      6\n",
       "4  1000_4   2018-12-05     1000     12"
      ]
     },
     "metadata": {},
     "output_type": "display_data"
    },
    {
     "name": "stdout",
     "output_type": "stream",
     "text": [
      "<class 'pandas.core.frame.DataFrame'>\n",
      "Int64Index: 123036 entries, 0 to 123035\n",
      "Data columns (total 4 columns):\n",
      " #   Column        Non-Null Count   Dtype         \n",
      "---  ------        --------------   -----         \n",
      " 0   id            123036 non-null  object        \n",
      " 1   message_date  123036 non-null  datetime64[ns]\n",
      " 2   user_id       123036 non-null  int64         \n",
      " 3   month         123036 non-null  int64         \n",
      "dtypes: datetime64[ns](1), int64(2), object(1)\n",
      "memory usage: 4.7+ MB\n"
     ]
    }
   ],
   "source": [
    "data_messages['message_date'] = pd.to_datetime(data_messages['message_date'], format='%Y-%m-%d')\n",
    "data_messages['month'] = data_messages['message_date'].dt.month #добавим месяц\n",
    "display(data_messages.head())\n",
    "data_messages.info()"
   ]
  },
  {
   "cell_type": "code",
   "execution_count": 14,
   "metadata": {},
   "outputs": [
    {
     "data": {
      "text/html": [
       "<div>\n",
       "<style scoped>\n",
       "    .dataframe tbody tr th:only-of-type {\n",
       "        vertical-align: middle;\n",
       "    }\n",
       "\n",
       "    .dataframe tbody tr th {\n",
       "        vertical-align: top;\n",
       "    }\n",
       "\n",
       "    .dataframe thead th {\n",
       "        text-align: right;\n",
       "    }\n",
       "</style>\n",
       "<table border=\"1\" class=\"dataframe\">\n",
       "  <thead>\n",
       "    <tr style=\"text-align: right;\">\n",
       "      <th></th>\n",
       "      <th>user_id</th>\n",
       "      <th>month</th>\n",
       "      <th>message_date</th>\n",
       "    </tr>\n",
       "  </thead>\n",
       "  <tbody>\n",
       "    <tr>\n",
       "      <th>0</th>\n",
       "      <td>1000</td>\n",
       "      <td>5</td>\n",
       "      <td>22</td>\n",
       "    </tr>\n",
       "    <tr>\n",
       "      <th>1</th>\n",
       "      <td>1000</td>\n",
       "      <td>6</td>\n",
       "      <td>60</td>\n",
       "    </tr>\n",
       "    <tr>\n",
       "      <th>2</th>\n",
       "      <td>1000</td>\n",
       "      <td>7</td>\n",
       "      <td>75</td>\n",
       "    </tr>\n",
       "    <tr>\n",
       "      <th>3</th>\n",
       "      <td>1000</td>\n",
       "      <td>8</td>\n",
       "      <td>81</td>\n",
       "    </tr>\n",
       "    <tr>\n",
       "      <th>4</th>\n",
       "      <td>1000</td>\n",
       "      <td>9</td>\n",
       "      <td>57</td>\n",
       "    </tr>\n",
       "  </tbody>\n",
       "</table>\n",
       "</div>"
      ],
      "text/plain": [
       "   user_id  month  message_date\n",
       "0     1000      5            22\n",
       "1     1000      6            60\n",
       "2     1000      7            75\n",
       "3     1000      8            81\n",
       "4     1000      9            57"
      ]
     },
     "metadata": {},
     "output_type": "display_data"
    },
    {
     "name": "stdout",
     "output_type": "stream",
     "text": [
      "<class 'pandas.core.frame.DataFrame'>\n",
      "RangeIndex: 2717 entries, 0 to 2716\n",
      "Data columns (total 3 columns):\n",
      " #   Column        Non-Null Count  Dtype\n",
      "---  ------        --------------  -----\n",
      " 0   user_id       2717 non-null   int64\n",
      " 1   month         2717 non-null   int64\n",
      " 2   message_date  2717 non-null   int64\n",
      "dtypes: int64(3)\n",
      "memory usage: 63.8 KB\n"
     ]
    }
   ],
   "source": [
    "data_messages_pivot = data_messages.pivot_table(index=['user_id', 'month'], values='message_date', aggfunc='count').reset_index()     \n",
    "display(data_messages_pivot.head())\n",
    "data_messages_pivot.info()"
   ]
  },
  {
   "cell_type": "code",
   "execution_count": 15,
   "metadata": {},
   "outputs": [
    {
     "data": {
      "text/html": [
       "<div>\n",
       "<style scoped>\n",
       "    .dataframe tbody tr th:only-of-type {\n",
       "        vertical-align: middle;\n",
       "    }\n",
       "\n",
       "    .dataframe tbody tr th {\n",
       "        vertical-align: top;\n",
       "    }\n",
       "\n",
       "    .dataframe thead th {\n",
       "        text-align: right;\n",
       "    }\n",
       "</style>\n",
       "<table border=\"1\" class=\"dataframe\">\n",
       "  <thead>\n",
       "    <tr style=\"text-align: right;\">\n",
       "      <th></th>\n",
       "      <th>user_id</th>\n",
       "      <th>month</th>\n",
       "      <th>sum_message</th>\n",
       "    </tr>\n",
       "  </thead>\n",
       "  <tbody>\n",
       "    <tr>\n",
       "      <th>0</th>\n",
       "      <td>1000</td>\n",
       "      <td>5</td>\n",
       "      <td>22</td>\n",
       "    </tr>\n",
       "    <tr>\n",
       "      <th>1</th>\n",
       "      <td>1000</td>\n",
       "      <td>6</td>\n",
       "      <td>60</td>\n",
       "    </tr>\n",
       "    <tr>\n",
       "      <th>2</th>\n",
       "      <td>1000</td>\n",
       "      <td>7</td>\n",
       "      <td>75</td>\n",
       "    </tr>\n",
       "    <tr>\n",
       "      <th>3</th>\n",
       "      <td>1000</td>\n",
       "      <td>8</td>\n",
       "      <td>81</td>\n",
       "    </tr>\n",
       "    <tr>\n",
       "      <th>4</th>\n",
       "      <td>1000</td>\n",
       "      <td>9</td>\n",
       "      <td>57</td>\n",
       "    </tr>\n",
       "  </tbody>\n",
       "</table>\n",
       "</div>"
      ],
      "text/plain": [
       "   user_id  month  sum_message\n",
       "0     1000      5           22\n",
       "1     1000      6           60\n",
       "2     1000      7           75\n",
       "3     1000      8           81\n",
       "4     1000      9           57"
      ]
     },
     "execution_count": 15,
     "metadata": {},
     "output_type": "execute_result"
    }
   ],
   "source": [
    "data_messages_pivot = data_messages_pivot.rename(columns={'message_date': 'sum_message'}) #поменяем название для удобства\n",
    "#чтобы название соответствовало содержимому\n",
    "data_messages_pivot.head()"
   ]
  },
  {
   "cell_type": "markdown",
   "metadata": {},
   "source": [
    "<div class=\"alert alert-info\">\n",
    "    1. Данные по кол-ву сообщений преобразованы 2. Таблица содержит идентиф.пользователя, месяц и кол-во сообщений за месяц по каждому абоненту. 3. Строки сократились до 2717."
   ]
  },
  {
   "cell_type": "markdown",
   "metadata": {},
   "source": [
    "### Изучение данных из файла internet"
   ]
  },
  {
   "cell_type": "code",
   "execution_count": 16,
   "metadata": {
    "scrolled": true
   },
   "outputs": [
    {
     "data": {
      "text/html": [
       "<div>\n",
       "<style scoped>\n",
       "    .dataframe tbody tr th:only-of-type {\n",
       "        vertical-align: middle;\n",
       "    }\n",
       "\n",
       "    .dataframe tbody tr th {\n",
       "        vertical-align: top;\n",
       "    }\n",
       "\n",
       "    .dataframe thead th {\n",
       "        text-align: right;\n",
       "    }\n",
       "</style>\n",
       "<table border=\"1\" class=\"dataframe\">\n",
       "  <thead>\n",
       "    <tr style=\"text-align: right;\">\n",
       "      <th></th>\n",
       "      <th>id</th>\n",
       "      <th>mb_used</th>\n",
       "      <th>session_date</th>\n",
       "      <th>user_id</th>\n",
       "    </tr>\n",
       "  </thead>\n",
       "  <tbody>\n",
       "    <tr>\n",
       "      <th>0</th>\n",
       "      <td>1000_0</td>\n",
       "      <td>112.95</td>\n",
       "      <td>2018-11-25</td>\n",
       "      <td>1000</td>\n",
       "    </tr>\n",
       "    <tr>\n",
       "      <th>1</th>\n",
       "      <td>1000_1</td>\n",
       "      <td>1052.81</td>\n",
       "      <td>2018-09-07</td>\n",
       "      <td>1000</td>\n",
       "    </tr>\n",
       "    <tr>\n",
       "      <th>2</th>\n",
       "      <td>1000_2</td>\n",
       "      <td>1197.26</td>\n",
       "      <td>2018-06-25</td>\n",
       "      <td>1000</td>\n",
       "    </tr>\n",
       "    <tr>\n",
       "      <th>3</th>\n",
       "      <td>1000_3</td>\n",
       "      <td>550.27</td>\n",
       "      <td>2018-08-22</td>\n",
       "      <td>1000</td>\n",
       "    </tr>\n",
       "    <tr>\n",
       "      <th>4</th>\n",
       "      <td>1000_4</td>\n",
       "      <td>302.56</td>\n",
       "      <td>2018-09-24</td>\n",
       "      <td>1000</td>\n",
       "    </tr>\n",
       "  </tbody>\n",
       "</table>\n",
       "</div>"
      ],
      "text/plain": [
       "       id  mb_used session_date  user_id\n",
       "0  1000_0   112.95   2018-11-25     1000\n",
       "1  1000_1  1052.81   2018-09-07     1000\n",
       "2  1000_2  1197.26   2018-06-25     1000\n",
       "3  1000_3   550.27   2018-08-22     1000\n",
       "4  1000_4   302.56   2018-09-24     1000"
      ]
     },
     "metadata": {},
     "output_type": "display_data"
    },
    {
     "name": "stdout",
     "output_type": "stream",
     "text": [
      "<class 'pandas.core.frame.DataFrame'>\n",
      "Int64Index: 149396 entries, 0 to 149395\n",
      "Data columns (total 4 columns):\n",
      " #   Column        Non-Null Count   Dtype  \n",
      "---  ------        --------------   -----  \n",
      " 0   id            149396 non-null  object \n",
      " 1   mb_used       149396 non-null  float64\n",
      " 2   session_date  149396 non-null  object \n",
      " 3   user_id       149396 non-null  int64  \n",
      "dtypes: float64(1), int64(1), object(2)\n",
      "memory usage: 5.7+ MB\n"
     ]
    },
    {
     "data": {
      "text/html": [
       "<div>\n",
       "<style scoped>\n",
       "    .dataframe tbody tr th:only-of-type {\n",
       "        vertical-align: middle;\n",
       "    }\n",
       "\n",
       "    .dataframe tbody tr th {\n",
       "        vertical-align: top;\n",
       "    }\n",
       "\n",
       "    .dataframe thead th {\n",
       "        text-align: right;\n",
       "    }\n",
       "</style>\n",
       "<table border=\"1\" class=\"dataframe\">\n",
       "  <thead>\n",
       "    <tr style=\"text-align: right;\">\n",
       "      <th></th>\n",
       "      <th>mb_used</th>\n",
       "      <th>user_id</th>\n",
       "    </tr>\n",
       "  </thead>\n",
       "  <tbody>\n",
       "    <tr>\n",
       "      <th>count</th>\n",
       "      <td>149396.00</td>\n",
       "      <td>149396.00</td>\n",
       "    </tr>\n",
       "    <tr>\n",
       "      <th>mean</th>\n",
       "      <td>370.19</td>\n",
       "      <td>1252.10</td>\n",
       "    </tr>\n",
       "    <tr>\n",
       "      <th>std</th>\n",
       "      <td>278.30</td>\n",
       "      <td>144.05</td>\n",
       "    </tr>\n",
       "    <tr>\n",
       "      <th>min</th>\n",
       "      <td>0.00</td>\n",
       "      <td>1000.00</td>\n",
       "    </tr>\n",
       "    <tr>\n",
       "      <th>25%</th>\n",
       "      <td>138.19</td>\n",
       "      <td>1130.00</td>\n",
       "    </tr>\n",
       "    <tr>\n",
       "      <th>50%</th>\n",
       "      <td>348.01</td>\n",
       "      <td>1251.00</td>\n",
       "    </tr>\n",
       "    <tr>\n",
       "      <th>75%</th>\n",
       "      <td>559.55</td>\n",
       "      <td>1380.00</td>\n",
       "    </tr>\n",
       "    <tr>\n",
       "      <th>max</th>\n",
       "      <td>1724.83</td>\n",
       "      <td>1499.00</td>\n",
       "    </tr>\n",
       "  </tbody>\n",
       "</table>\n",
       "</div>"
      ],
      "text/plain": [
       "        mb_used   user_id\n",
       "count 149396.00 149396.00\n",
       "mean     370.19   1252.10\n",
       "std      278.30    144.05\n",
       "min        0.00   1000.00\n",
       "25%      138.19   1130.00\n",
       "50%      348.01   1251.00\n",
       "75%      559.55   1380.00\n",
       "max     1724.83   1499.00"
      ]
     },
     "execution_count": 16,
     "metadata": {},
     "output_type": "execute_result"
    }
   ],
   "source": [
    "data_internet = pd.read_csv('/datasets/internet.csv', index_col=0)\n",
    "display(data_internet.head())\n",
    "data_internet.info()\n",
    "data_internet.describe()"
   ]
  },
  {
   "cell_type": "markdown",
   "metadata": {},
   "source": [
    "<div class=\"alert alert-info\">\n",
    "    1. Пропущенных значений нет. 2. Надо перевести время в формат даты, чтобы потом разделить по месяцам. 3. Добавим столбец с месяцем. 4. Интернет переведем в ГБ, т.к. перерасход начисляется за гигабайты и преобразуем в int с округлением в большую сторону. 5. Сгруппируем полученную таблицу по id пользователя и месяцам."
   ]
  },
  {
   "cell_type": "code",
   "execution_count": 17,
   "metadata": {
    "scrolled": true
   },
   "outputs": [
    {
     "data": {
      "text/html": [
       "<div>\n",
       "<style scoped>\n",
       "    .dataframe tbody tr th:only-of-type {\n",
       "        vertical-align: middle;\n",
       "    }\n",
       "\n",
       "    .dataframe tbody tr th {\n",
       "        vertical-align: top;\n",
       "    }\n",
       "\n",
       "    .dataframe thead th {\n",
       "        text-align: right;\n",
       "    }\n",
       "</style>\n",
       "<table border=\"1\" class=\"dataframe\">\n",
       "  <thead>\n",
       "    <tr style=\"text-align: right;\">\n",
       "      <th></th>\n",
       "      <th>id</th>\n",
       "      <th>mb_used</th>\n",
       "      <th>session_date</th>\n",
       "      <th>user_id</th>\n",
       "      <th>month</th>\n",
       "      <th>gb_used</th>\n",
       "    </tr>\n",
       "  </thead>\n",
       "  <tbody>\n",
       "    <tr>\n",
       "      <th>0</th>\n",
       "      <td>1000_0</td>\n",
       "      <td>112.95</td>\n",
       "      <td>2018-11-25</td>\n",
       "      <td>1000</td>\n",
       "      <td>11</td>\n",
       "      <td>0.11</td>\n",
       "    </tr>\n",
       "    <tr>\n",
       "      <th>1</th>\n",
       "      <td>1000_1</td>\n",
       "      <td>1052.81</td>\n",
       "      <td>2018-09-07</td>\n",
       "      <td>1000</td>\n",
       "      <td>9</td>\n",
       "      <td>1.03</td>\n",
       "    </tr>\n",
       "    <tr>\n",
       "      <th>2</th>\n",
       "      <td>1000_2</td>\n",
       "      <td>1197.26</td>\n",
       "      <td>2018-06-25</td>\n",
       "      <td>1000</td>\n",
       "      <td>6</td>\n",
       "      <td>1.17</td>\n",
       "    </tr>\n",
       "    <tr>\n",
       "      <th>3</th>\n",
       "      <td>1000_3</td>\n",
       "      <td>550.27</td>\n",
       "      <td>2018-08-22</td>\n",
       "      <td>1000</td>\n",
       "      <td>8</td>\n",
       "      <td>0.54</td>\n",
       "    </tr>\n",
       "    <tr>\n",
       "      <th>4</th>\n",
       "      <td>1000_4</td>\n",
       "      <td>302.56</td>\n",
       "      <td>2018-09-24</td>\n",
       "      <td>1000</td>\n",
       "      <td>9</td>\n",
       "      <td>0.30</td>\n",
       "    </tr>\n",
       "  </tbody>\n",
       "</table>\n",
       "</div>"
      ],
      "text/plain": [
       "       id  mb_used session_date  user_id  month  gb_used\n",
       "0  1000_0   112.95   2018-11-25     1000     11     0.11\n",
       "1  1000_1  1052.81   2018-09-07     1000      9     1.03\n",
       "2  1000_2  1197.26   2018-06-25     1000      6     1.17\n",
       "3  1000_3   550.27   2018-08-22     1000      8     0.54\n",
       "4  1000_4   302.56   2018-09-24     1000      9     0.30"
      ]
     },
     "execution_count": 17,
     "metadata": {},
     "output_type": "execute_result"
    }
   ],
   "source": [
    "data_internet = data_internet.drop_duplicates() # удалим дубликаты в таблице\n",
    "data_internet['session_date'] = pd.to_datetime(data_internet['session_date'], format='%Y-%m-%d')\n",
    "data_internet['month'] = data_internet['session_date'].dt.month #добавим месяц\n",
    "\n",
    "data_internet['gb_used']=data_internet['mb_used'] / 1024\n",
    "\n",
    "data_internet.head()"
   ]
  },
  {
   "cell_type": "code",
   "execution_count": 18,
   "metadata": {},
   "outputs": [
    {
     "name": "stdout",
     "output_type": "stream",
     "text": [
      "<class 'pandas.core.frame.DataFrame'>\n",
      "Int64Index: 149396 entries, 0 to 149395\n",
      "Data columns (total 3 columns):\n",
      " #   Column   Non-Null Count   Dtype  \n",
      "---  ------   --------------   -----  \n",
      " 0   user_id  149396 non-null  int64  \n",
      " 1   month    149396 non-null  int64  \n",
      " 2   gb_used  149396 non-null  float64\n",
      "dtypes: float64(1), int64(2)\n",
      "memory usage: 4.6 MB\n"
     ]
    }
   ],
   "source": [
    "data_internet=data_internet[['user_id', 'month', 'gb_used']]\n",
    "data_internet.info()"
   ]
  },
  {
   "cell_type": "code",
   "execution_count": 19,
   "metadata": {},
   "outputs": [
    {
     "data": {
      "text/html": [
       "<div>\n",
       "<style scoped>\n",
       "    .dataframe tbody tr th:only-of-type {\n",
       "        vertical-align: middle;\n",
       "    }\n",
       "\n",
       "    .dataframe tbody tr th {\n",
       "        vertical-align: top;\n",
       "    }\n",
       "\n",
       "    .dataframe thead th {\n",
       "        text-align: right;\n",
       "    }\n",
       "</style>\n",
       "<table border=\"1\" class=\"dataframe\">\n",
       "  <thead>\n",
       "    <tr style=\"text-align: right;\">\n",
       "      <th></th>\n",
       "      <th>user_id</th>\n",
       "      <th>month</th>\n",
       "      <th>gb_used</th>\n",
       "    </tr>\n",
       "  </thead>\n",
       "  <tbody>\n",
       "    <tr>\n",
       "      <th>0</th>\n",
       "      <td>1000</td>\n",
       "      <td>5</td>\n",
       "      <td>2.20</td>\n",
       "    </tr>\n",
       "    <tr>\n",
       "      <th>1</th>\n",
       "      <td>1000</td>\n",
       "      <td>6</td>\n",
       "      <td>22.69</td>\n",
       "    </tr>\n",
       "    <tr>\n",
       "      <th>2</th>\n",
       "      <td>1000</td>\n",
       "      <td>7</td>\n",
       "      <td>13.68</td>\n",
       "    </tr>\n",
       "    <tr>\n",
       "      <th>3</th>\n",
       "      <td>1000</td>\n",
       "      <td>8</td>\n",
       "      <td>13.73</td>\n",
       "    </tr>\n",
       "    <tr>\n",
       "      <th>4</th>\n",
       "      <td>1000</td>\n",
       "      <td>9</td>\n",
       "      <td>14.23</td>\n",
       "    </tr>\n",
       "  </tbody>\n",
       "</table>\n",
       "</div>"
      ],
      "text/plain": [
       "   user_id  month  gb_used\n",
       "0     1000      5     2.20\n",
       "1     1000      6    22.69\n",
       "2     1000      7    13.68\n",
       "3     1000      8    13.73\n",
       "4     1000      9    14.23"
      ]
     },
     "metadata": {},
     "output_type": "display_data"
    },
    {
     "name": "stdout",
     "output_type": "stream",
     "text": [
      "<class 'pandas.core.frame.DataFrame'>\n",
      "RangeIndex: 3203 entries, 0 to 3202\n",
      "Data columns (total 3 columns):\n",
      " #   Column   Non-Null Count  Dtype  \n",
      "---  ------   --------------  -----  \n",
      " 0   user_id  3203 non-null   int64  \n",
      " 1   month    3203 non-null   int64  \n",
      " 2   gb_used  3203 non-null   float64\n",
      "dtypes: float64(1), int64(2)\n",
      "memory usage: 75.2 KB\n"
     ]
    }
   ],
   "source": [
    "data_internet_pivot = data_internet.pivot_table(index=['user_id', 'month'], values='gb_used', aggfunc='sum').reset_index()\n",
    "data_internet['gb_used'] = np.ceil(data_internet['gb_used']).astype('int64')\n",
    "display(data_internet_pivot.head())\n",
    "data_internet_pivot.info()"
   ]
  },
  {
   "cell_type": "code",
   "execution_count": 20,
   "metadata": {},
   "outputs": [
    {
     "data": {
      "text/html": [
       "<div>\n",
       "<style scoped>\n",
       "    .dataframe tbody tr th:only-of-type {\n",
       "        vertical-align: middle;\n",
       "    }\n",
       "\n",
       "    .dataframe tbody tr th {\n",
       "        vertical-align: top;\n",
       "    }\n",
       "\n",
       "    .dataframe thead th {\n",
       "        text-align: right;\n",
       "    }\n",
       "</style>\n",
       "<table border=\"1\" class=\"dataframe\">\n",
       "  <thead>\n",
       "    <tr style=\"text-align: right;\">\n",
       "      <th></th>\n",
       "      <th>user_id</th>\n",
       "      <th>month</th>\n",
       "      <th>sum_gb</th>\n",
       "    </tr>\n",
       "  </thead>\n",
       "  <tbody>\n",
       "    <tr>\n",
       "      <th>0</th>\n",
       "      <td>1000</td>\n",
       "      <td>5</td>\n",
       "      <td>3.00</td>\n",
       "    </tr>\n",
       "    <tr>\n",
       "      <th>1</th>\n",
       "      <td>1000</td>\n",
       "      <td>6</td>\n",
       "      <td>23.00</td>\n",
       "    </tr>\n",
       "    <tr>\n",
       "      <th>2</th>\n",
       "      <td>1000</td>\n",
       "      <td>7</td>\n",
       "      <td>14.00</td>\n",
       "    </tr>\n",
       "    <tr>\n",
       "      <th>3</th>\n",
       "      <td>1000</td>\n",
       "      <td>8</td>\n",
       "      <td>14.00</td>\n",
       "    </tr>\n",
       "    <tr>\n",
       "      <th>4</th>\n",
       "      <td>1000</td>\n",
       "      <td>9</td>\n",
       "      <td>15.00</td>\n",
       "    </tr>\n",
       "  </tbody>\n",
       "</table>\n",
       "</div>"
      ],
      "text/plain": [
       "   user_id  month  sum_gb\n",
       "0     1000      5    3.00\n",
       "1     1000      6   23.00\n",
       "2     1000      7   14.00\n",
       "3     1000      8   14.00\n",
       "4     1000      9   15.00"
      ]
     },
     "execution_count": 20,
     "metadata": {},
     "output_type": "execute_result"
    }
   ],
   "source": [
    "data_internet_pivot = data_internet_pivot.rename(columns={'gb_used': 'sum_gb'}) #поменяем название,\n",
    "#чтобы соответствовало содержанию\n",
    "data_internet_pivot['sum_gb'] = np.ceil(data_internet_pivot['sum_gb'])\n",
    "data_internet_pivot.head()"
   ]
  },
  {
   "cell_type": "markdown",
   "metadata": {},
   "source": [
    "<div class=\"alert alert-info\">\n",
    "1. Данные по кол-ву ГБ преобразованы 2. Таблица содержит идентиф.пользователя, месяц и кол-во ГБ за месяц по каждому абоненту. 3. Строки сократились до 3203."
   ]
  },
  {
   "cell_type": "markdown",
   "metadata": {},
   "source": [
    "### Изучение данных из файла users"
   ]
  },
  {
   "cell_type": "code",
   "execution_count": 21,
   "metadata": {},
   "outputs": [
    {
     "data": {
      "text/html": [
       "<div>\n",
       "<style scoped>\n",
       "    .dataframe tbody tr th:only-of-type {\n",
       "        vertical-align: middle;\n",
       "    }\n",
       "\n",
       "    .dataframe tbody tr th {\n",
       "        vertical-align: top;\n",
       "    }\n",
       "\n",
       "    .dataframe thead th {\n",
       "        text-align: right;\n",
       "    }\n",
       "</style>\n",
       "<table border=\"1\" class=\"dataframe\">\n",
       "  <thead>\n",
       "    <tr style=\"text-align: right;\">\n",
       "      <th></th>\n",
       "      <th>user_id</th>\n",
       "      <th>age</th>\n",
       "      <th>churn_date</th>\n",
       "      <th>city</th>\n",
       "      <th>first_name</th>\n",
       "      <th>last_name</th>\n",
       "      <th>reg_date</th>\n",
       "      <th>tariff</th>\n",
       "    </tr>\n",
       "  </thead>\n",
       "  <tbody>\n",
       "    <tr>\n",
       "      <th>0</th>\n",
       "      <td>1000</td>\n",
       "      <td>52</td>\n",
       "      <td>NaN</td>\n",
       "      <td>Краснодар</td>\n",
       "      <td>Рафаил</td>\n",
       "      <td>Верещагин</td>\n",
       "      <td>2018-05-25</td>\n",
       "      <td>ultra</td>\n",
       "    </tr>\n",
       "    <tr>\n",
       "      <th>1</th>\n",
       "      <td>1001</td>\n",
       "      <td>41</td>\n",
       "      <td>NaN</td>\n",
       "      <td>Москва</td>\n",
       "      <td>Иван</td>\n",
       "      <td>Ежов</td>\n",
       "      <td>2018-11-01</td>\n",
       "      <td>smart</td>\n",
       "    </tr>\n",
       "    <tr>\n",
       "      <th>2</th>\n",
       "      <td>1002</td>\n",
       "      <td>59</td>\n",
       "      <td>NaN</td>\n",
       "      <td>Стерлитамак</td>\n",
       "      <td>Евгений</td>\n",
       "      <td>Абрамович</td>\n",
       "      <td>2018-06-17</td>\n",
       "      <td>smart</td>\n",
       "    </tr>\n",
       "    <tr>\n",
       "      <th>3</th>\n",
       "      <td>1003</td>\n",
       "      <td>23</td>\n",
       "      <td>NaN</td>\n",
       "      <td>Москва</td>\n",
       "      <td>Белла</td>\n",
       "      <td>Белякова</td>\n",
       "      <td>2018-08-17</td>\n",
       "      <td>ultra</td>\n",
       "    </tr>\n",
       "    <tr>\n",
       "      <th>4</th>\n",
       "      <td>1004</td>\n",
       "      <td>68</td>\n",
       "      <td>NaN</td>\n",
       "      <td>Новокузнецк</td>\n",
       "      <td>Татьяна</td>\n",
       "      <td>Авдеенко</td>\n",
       "      <td>2018-05-14</td>\n",
       "      <td>ultra</td>\n",
       "    </tr>\n",
       "  </tbody>\n",
       "</table>\n",
       "</div>"
      ],
      "text/plain": [
       "   user_id  age churn_date         city first_name  last_name    reg_date  \\\n",
       "0     1000   52        NaN    Краснодар     Рафаил  Верещагин  2018-05-25   \n",
       "1     1001   41        NaN       Москва       Иван       Ежов  2018-11-01   \n",
       "2     1002   59        NaN  Стерлитамак    Евгений  Абрамович  2018-06-17   \n",
       "3     1003   23        NaN       Москва      Белла   Белякова  2018-08-17   \n",
       "4     1004   68        NaN  Новокузнецк    Татьяна   Авдеенко  2018-05-14   \n",
       "\n",
       "  tariff  \n",
       "0  ultra  \n",
       "1  smart  \n",
       "2  smart  \n",
       "3  ultra  \n",
       "4  ultra  "
      ]
     },
     "metadata": {},
     "output_type": "display_data"
    },
    {
     "name": "stdout",
     "output_type": "stream",
     "text": [
      "<class 'pandas.core.frame.DataFrame'>\n",
      "RangeIndex: 500 entries, 0 to 499\n",
      "Data columns (total 8 columns):\n",
      " #   Column      Non-Null Count  Dtype \n",
      "---  ------      --------------  ----- \n",
      " 0   user_id     500 non-null    int64 \n",
      " 1   age         500 non-null    int64 \n",
      " 2   churn_date  38 non-null     object\n",
      " 3   city        500 non-null    object\n",
      " 4   first_name  500 non-null    object\n",
      " 5   last_name   500 non-null    object\n",
      " 6   reg_date    500 non-null    object\n",
      " 7   tariff      500 non-null    object\n",
      "dtypes: int64(2), object(6)\n",
      "memory usage: 31.4+ KB\n"
     ]
    },
    {
     "data": {
      "text/html": [
       "<div>\n",
       "<style scoped>\n",
       "    .dataframe tbody tr th:only-of-type {\n",
       "        vertical-align: middle;\n",
       "    }\n",
       "\n",
       "    .dataframe tbody tr th {\n",
       "        vertical-align: top;\n",
       "    }\n",
       "\n",
       "    .dataframe thead th {\n",
       "        text-align: right;\n",
       "    }\n",
       "</style>\n",
       "<table border=\"1\" class=\"dataframe\">\n",
       "  <thead>\n",
       "    <tr style=\"text-align: right;\">\n",
       "      <th></th>\n",
       "      <th>user_id</th>\n",
       "      <th>age</th>\n",
       "    </tr>\n",
       "  </thead>\n",
       "  <tbody>\n",
       "    <tr>\n",
       "      <th>count</th>\n",
       "      <td>500.00</td>\n",
       "      <td>500.00</td>\n",
       "    </tr>\n",
       "    <tr>\n",
       "      <th>mean</th>\n",
       "      <td>1249.50</td>\n",
       "      <td>46.59</td>\n",
       "    </tr>\n",
       "    <tr>\n",
       "      <th>std</th>\n",
       "      <td>144.48</td>\n",
       "      <td>16.67</td>\n",
       "    </tr>\n",
       "    <tr>\n",
       "      <th>min</th>\n",
       "      <td>1000.00</td>\n",
       "      <td>18.00</td>\n",
       "    </tr>\n",
       "    <tr>\n",
       "      <th>25%</th>\n",
       "      <td>1124.75</td>\n",
       "      <td>32.00</td>\n",
       "    </tr>\n",
       "    <tr>\n",
       "      <th>50%</th>\n",
       "      <td>1249.50</td>\n",
       "      <td>46.00</td>\n",
       "    </tr>\n",
       "    <tr>\n",
       "      <th>75%</th>\n",
       "      <td>1374.25</td>\n",
       "      <td>62.00</td>\n",
       "    </tr>\n",
       "    <tr>\n",
       "      <th>max</th>\n",
       "      <td>1499.00</td>\n",
       "      <td>75.00</td>\n",
       "    </tr>\n",
       "  </tbody>\n",
       "</table>\n",
       "</div>"
      ],
      "text/plain": [
       "       user_id    age\n",
       "count   500.00 500.00\n",
       "mean   1249.50  46.59\n",
       "std     144.48  16.67\n",
       "min    1000.00  18.00\n",
       "25%    1124.75  32.00\n",
       "50%    1249.50  46.00\n",
       "75%    1374.25  62.00\n",
       "max    1499.00  75.00"
      ]
     },
     "execution_count": 21,
     "metadata": {},
     "output_type": "execute_result"
    }
   ],
   "source": [
    "data_users = pd.read_csv('/datasets/users.csv')\n",
    "display(data_users.head())\n",
    "data_users.info()\n",
    "data_users.describe()"
   ]
  },
  {
   "cell_type": "markdown",
   "metadata": {},
   "source": [
    "<div class=\"alert alert-info\">\n",
    "    1. Есть пропущенные значения в дате прекращения тарифа, т.к. большинство тарифов еще действовало. 2. Оставляем только нужные для анализа столбцы - идентиф.абонента, тариф и город."
   ]
  },
  {
   "cell_type": "code",
   "execution_count": 22,
   "metadata": {
    "scrolled": true
   },
   "outputs": [
    {
     "data": {
      "text/html": [
       "<div>\n",
       "<style scoped>\n",
       "    .dataframe tbody tr th:only-of-type {\n",
       "        vertical-align: middle;\n",
       "    }\n",
       "\n",
       "    .dataframe tbody tr th {\n",
       "        vertical-align: top;\n",
       "    }\n",
       "\n",
       "    .dataframe thead th {\n",
       "        text-align: right;\n",
       "    }\n",
       "</style>\n",
       "<table border=\"1\" class=\"dataframe\">\n",
       "  <thead>\n",
       "    <tr style=\"text-align: right;\">\n",
       "      <th></th>\n",
       "      <th>user_id</th>\n",
       "      <th>tariff</th>\n",
       "      <th>city</th>\n",
       "    </tr>\n",
       "  </thead>\n",
       "  <tbody>\n",
       "    <tr>\n",
       "      <th>0</th>\n",
       "      <td>1000</td>\n",
       "      <td>ultra</td>\n",
       "      <td>Краснодар</td>\n",
       "    </tr>\n",
       "    <tr>\n",
       "      <th>1</th>\n",
       "      <td>1001</td>\n",
       "      <td>smart</td>\n",
       "      <td>Москва</td>\n",
       "    </tr>\n",
       "    <tr>\n",
       "      <th>2</th>\n",
       "      <td>1002</td>\n",
       "      <td>smart</td>\n",
       "      <td>Стерлитамак</td>\n",
       "    </tr>\n",
       "    <tr>\n",
       "      <th>3</th>\n",
       "      <td>1003</td>\n",
       "      <td>ultra</td>\n",
       "      <td>Москва</td>\n",
       "    </tr>\n",
       "    <tr>\n",
       "      <th>4</th>\n",
       "      <td>1004</td>\n",
       "      <td>ultra</td>\n",
       "      <td>Новокузнецк</td>\n",
       "    </tr>\n",
       "  </tbody>\n",
       "</table>\n",
       "</div>"
      ],
      "text/plain": [
       "   user_id tariff         city\n",
       "0     1000  ultra    Краснодар\n",
       "1     1001  smart       Москва\n",
       "2     1002  smart  Стерлитамак\n",
       "3     1003  ultra       Москва\n",
       "4     1004  ultra  Новокузнецк"
      ]
     },
     "metadata": {},
     "output_type": "display_data"
    },
    {
     "name": "stdout",
     "output_type": "stream",
     "text": [
      "<class 'pandas.core.frame.DataFrame'>\n",
      "Int64Index: 500 entries, 0 to 499\n",
      "Data columns (total 3 columns):\n",
      " #   Column   Non-Null Count  Dtype \n",
      "---  ------   --------------  ----- \n",
      " 0   user_id  500 non-null    int64 \n",
      " 1   tariff   500 non-null    object\n",
      " 2   city     500 non-null    object\n",
      "dtypes: int64(1), object(2)\n",
      "memory usage: 15.6+ KB\n"
     ]
    }
   ],
   "source": [
    "data_users=data_users[['user_id', 'tariff', 'city']]\n",
    "data_users = data_users.drop_duplicates() # удалим дубликаты в таблице\n",
    "\n",
    "display(data_users.head())\n",
    "data_users.info()"
   ]
  },
  {
   "cell_type": "markdown",
   "metadata": {},
   "source": [
    "## Объединение таблиц"
   ]
  },
  {
   "cell_type": "markdown",
   "metadata": {},
   "source": [
    "**Объединим таблицы звонков и сообщений**"
   ]
  },
  {
   "cell_type": "code",
   "execution_count": 23,
   "metadata": {},
   "outputs": [
    {
     "data": {
      "text/html": [
       "<div>\n",
       "<style scoped>\n",
       "    .dataframe tbody tr th:only-of-type {\n",
       "        vertical-align: middle;\n",
       "    }\n",
       "\n",
       "    .dataframe tbody tr th {\n",
       "        vertical-align: top;\n",
       "    }\n",
       "\n",
       "    .dataframe thead th {\n",
       "        text-align: right;\n",
       "    }\n",
       "</style>\n",
       "<table border=\"1\" class=\"dataframe\">\n",
       "  <thead>\n",
       "    <tr style=\"text-align: right;\">\n",
       "      <th></th>\n",
       "      <th>user_id</th>\n",
       "      <th>month</th>\n",
       "      <th>sum_minut</th>\n",
       "      <th>sum_message</th>\n",
       "    </tr>\n",
       "  </thead>\n",
       "  <tbody>\n",
       "    <tr>\n",
       "      <th>0</th>\n",
       "      <td>1000</td>\n",
       "      <td>5</td>\n",
       "      <td>159.00</td>\n",
       "      <td>22.00</td>\n",
       "    </tr>\n",
       "    <tr>\n",
       "      <th>1</th>\n",
       "      <td>1000</td>\n",
       "      <td>6</td>\n",
       "      <td>172.00</td>\n",
       "      <td>60.00</td>\n",
       "    </tr>\n",
       "    <tr>\n",
       "      <th>2</th>\n",
       "      <td>1000</td>\n",
       "      <td>7</td>\n",
       "      <td>340.00</td>\n",
       "      <td>75.00</td>\n",
       "    </tr>\n",
       "    <tr>\n",
       "      <th>3</th>\n",
       "      <td>1000</td>\n",
       "      <td>8</td>\n",
       "      <td>408.00</td>\n",
       "      <td>81.00</td>\n",
       "    </tr>\n",
       "    <tr>\n",
       "      <th>4</th>\n",
       "      <td>1000</td>\n",
       "      <td>9</td>\n",
       "      <td>466.00</td>\n",
       "      <td>57.00</td>\n",
       "    </tr>\n",
       "  </tbody>\n",
       "</table>\n",
       "</div>"
      ],
      "text/plain": [
       "   user_id  month  sum_minut  sum_message\n",
       "0     1000      5     159.00        22.00\n",
       "1     1000      6     172.00        60.00\n",
       "2     1000      7     340.00        75.00\n",
       "3     1000      8     408.00        81.00\n",
       "4     1000      9     466.00        57.00"
      ]
     },
     "metadata": {},
     "output_type": "display_data"
    },
    {
     "name": "stdout",
     "output_type": "stream",
     "text": [
      "<class 'pandas.core.frame.DataFrame'>\n",
      "Int64Index: 3213 entries, 0 to 3212\n",
      "Data columns (total 4 columns):\n",
      " #   Column       Non-Null Count  Dtype  \n",
      "---  ------       --------------  -----  \n",
      " 0   user_id      3213 non-null   int64  \n",
      " 1   month        3213 non-null   int64  \n",
      " 2   sum_minut    3174 non-null   float64\n",
      " 3   sum_message  2717 non-null   float64\n",
      "dtypes: float64(2), int64(2)\n",
      "memory usage: 125.5 KB\n"
     ]
    }
   ],
   "source": [
    "data=data_calls_pivot.merge(data_messages_pivot, on=['user_id', 'month'], how='outer')\n",
    "display(data.head())\n",
    "data.info()"
   ]
  },
  {
   "cell_type": "markdown",
   "metadata": {},
   "source": [
    "**Объединим полученную таблицу с таблицей интернета**"
   ]
  },
  {
   "cell_type": "code",
   "execution_count": 24,
   "metadata": {
    "scrolled": true
   },
   "outputs": [
    {
     "data": {
      "text/html": [
       "<div>\n",
       "<style scoped>\n",
       "    .dataframe tbody tr th:only-of-type {\n",
       "        vertical-align: middle;\n",
       "    }\n",
       "\n",
       "    .dataframe tbody tr th {\n",
       "        vertical-align: top;\n",
       "    }\n",
       "\n",
       "    .dataframe thead th {\n",
       "        text-align: right;\n",
       "    }\n",
       "</style>\n",
       "<table border=\"1\" class=\"dataframe\">\n",
       "  <thead>\n",
       "    <tr style=\"text-align: right;\">\n",
       "      <th></th>\n",
       "      <th>user_id</th>\n",
       "      <th>month</th>\n",
       "      <th>sum_minut</th>\n",
       "      <th>sum_message</th>\n",
       "      <th>sum_gb</th>\n",
       "    </tr>\n",
       "  </thead>\n",
       "  <tbody>\n",
       "    <tr>\n",
       "      <th>0</th>\n",
       "      <td>1000</td>\n",
       "      <td>5</td>\n",
       "      <td>159.00</td>\n",
       "      <td>22.00</td>\n",
       "      <td>3.00</td>\n",
       "    </tr>\n",
       "    <tr>\n",
       "      <th>1</th>\n",
       "      <td>1000</td>\n",
       "      <td>6</td>\n",
       "      <td>172.00</td>\n",
       "      <td>60.00</td>\n",
       "      <td>23.00</td>\n",
       "    </tr>\n",
       "    <tr>\n",
       "      <th>2</th>\n",
       "      <td>1000</td>\n",
       "      <td>7</td>\n",
       "      <td>340.00</td>\n",
       "      <td>75.00</td>\n",
       "      <td>14.00</td>\n",
       "    </tr>\n",
       "    <tr>\n",
       "      <th>3</th>\n",
       "      <td>1000</td>\n",
       "      <td>8</td>\n",
       "      <td>408.00</td>\n",
       "      <td>81.00</td>\n",
       "      <td>14.00</td>\n",
       "    </tr>\n",
       "    <tr>\n",
       "      <th>4</th>\n",
       "      <td>1000</td>\n",
       "      <td>9</td>\n",
       "      <td>466.00</td>\n",
       "      <td>57.00</td>\n",
       "      <td>15.00</td>\n",
       "    </tr>\n",
       "  </tbody>\n",
       "</table>\n",
       "</div>"
      ],
      "text/plain": [
       "   user_id  month  sum_minut  sum_message  sum_gb\n",
       "0     1000      5     159.00        22.00    3.00\n",
       "1     1000      6     172.00        60.00   23.00\n",
       "2     1000      7     340.00        75.00   14.00\n",
       "3     1000      8     408.00        81.00   14.00\n",
       "4     1000      9     466.00        57.00   15.00"
      ]
     },
     "metadata": {},
     "output_type": "display_data"
    },
    {
     "name": "stdout",
     "output_type": "stream",
     "text": [
      "<class 'pandas.core.frame.DataFrame'>\n",
      "Int64Index: 3214 entries, 0 to 3213\n",
      "Data columns (total 5 columns):\n",
      " #   Column       Non-Null Count  Dtype  \n",
      "---  ------       --------------  -----  \n",
      " 0   user_id      3214 non-null   int64  \n",
      " 1   month        3214 non-null   int64  \n",
      " 2   sum_minut    3174 non-null   float64\n",
      " 3   sum_message  2717 non-null   float64\n",
      " 4   sum_gb       3203 non-null   float64\n",
      "dtypes: float64(3), int64(2)\n",
      "memory usage: 150.7 KB\n"
     ]
    }
   ],
   "source": [
    "data=data.merge(data_internet_pivot, on=['user_id', 'month'], how='outer')\n",
    "display(data.head())\n",
    "data.info()"
   ]
  },
  {
   "cell_type": "markdown",
   "metadata": {},
   "source": [
    "**Объединим полученную таблицу с таблицей абонентов**"
   ]
  },
  {
   "cell_type": "code",
   "execution_count": 25,
   "metadata": {},
   "outputs": [
    {
     "data": {
      "text/html": [
       "<div>\n",
       "<style scoped>\n",
       "    .dataframe tbody tr th:only-of-type {\n",
       "        vertical-align: middle;\n",
       "    }\n",
       "\n",
       "    .dataframe tbody tr th {\n",
       "        vertical-align: top;\n",
       "    }\n",
       "\n",
       "    .dataframe thead th {\n",
       "        text-align: right;\n",
       "    }\n",
       "</style>\n",
       "<table border=\"1\" class=\"dataframe\">\n",
       "  <thead>\n",
       "    <tr style=\"text-align: right;\">\n",
       "      <th></th>\n",
       "      <th>user_id</th>\n",
       "      <th>month</th>\n",
       "      <th>sum_minut</th>\n",
       "      <th>sum_message</th>\n",
       "      <th>sum_gb</th>\n",
       "      <th>tariff</th>\n",
       "      <th>city</th>\n",
       "    </tr>\n",
       "  </thead>\n",
       "  <tbody>\n",
       "    <tr>\n",
       "      <th>0</th>\n",
       "      <td>1000</td>\n",
       "      <td>5.00</td>\n",
       "      <td>159.00</td>\n",
       "      <td>22.00</td>\n",
       "      <td>3.00</td>\n",
       "      <td>ultra</td>\n",
       "      <td>Краснодар</td>\n",
       "    </tr>\n",
       "    <tr>\n",
       "      <th>1</th>\n",
       "      <td>1000</td>\n",
       "      <td>6.00</td>\n",
       "      <td>172.00</td>\n",
       "      <td>60.00</td>\n",
       "      <td>23.00</td>\n",
       "      <td>ultra</td>\n",
       "      <td>Краснодар</td>\n",
       "    </tr>\n",
       "    <tr>\n",
       "      <th>2</th>\n",
       "      <td>1000</td>\n",
       "      <td>7.00</td>\n",
       "      <td>340.00</td>\n",
       "      <td>75.00</td>\n",
       "      <td>14.00</td>\n",
       "      <td>ultra</td>\n",
       "      <td>Краснодар</td>\n",
       "    </tr>\n",
       "    <tr>\n",
       "      <th>3</th>\n",
       "      <td>1000</td>\n",
       "      <td>8.00</td>\n",
       "      <td>408.00</td>\n",
       "      <td>81.00</td>\n",
       "      <td>14.00</td>\n",
       "      <td>ultra</td>\n",
       "      <td>Краснодар</td>\n",
       "    </tr>\n",
       "    <tr>\n",
       "      <th>4</th>\n",
       "      <td>1000</td>\n",
       "      <td>9.00</td>\n",
       "      <td>466.00</td>\n",
       "      <td>57.00</td>\n",
       "      <td>15.00</td>\n",
       "      <td>ultra</td>\n",
       "      <td>Краснодар</td>\n",
       "    </tr>\n",
       "  </tbody>\n",
       "</table>\n",
       "</div>"
      ],
      "text/plain": [
       "   user_id  month  sum_minut  sum_message  sum_gb tariff       city\n",
       "0     1000   5.00     159.00        22.00    3.00  ultra  Краснодар\n",
       "1     1000   6.00     172.00        60.00   23.00  ultra  Краснодар\n",
       "2     1000   7.00     340.00        75.00   14.00  ultra  Краснодар\n",
       "3     1000   8.00     408.00        81.00   14.00  ultra  Краснодар\n",
       "4     1000   9.00     466.00        57.00   15.00  ultra  Краснодар"
      ]
     },
     "metadata": {},
     "output_type": "display_data"
    },
    {
     "name": "stdout",
     "output_type": "stream",
     "text": [
      "<class 'pandas.core.frame.DataFrame'>\n",
      "Int64Index: 3216 entries, 0 to 3215\n",
      "Data columns (total 7 columns):\n",
      " #   Column       Non-Null Count  Dtype  \n",
      "---  ------       --------------  -----  \n",
      " 0   user_id      3216 non-null   int64  \n",
      " 1   month        3214 non-null   float64\n",
      " 2   sum_minut    3174 non-null   float64\n",
      " 3   sum_message  2717 non-null   float64\n",
      " 4   sum_gb       3203 non-null   float64\n",
      " 5   tariff       3216 non-null   object \n",
      " 6   city         3216 non-null   object \n",
      "dtypes: float64(4), int64(1), object(2)\n",
      "memory usage: 201.0+ KB\n"
     ]
    }
   ],
   "source": [
    "data=data.merge(data_users, on=['user_id'], how='outer')\n",
    "display(data.head())\n",
    "data.info()"
   ]
  },
  {
   "cell_type": "markdown",
   "metadata": {},
   "source": [
    "<div class=\"alert alert-info\">\n",
    "    В итоговой таблице есть попущенные значения и float - Заменим отсутствующие значения на 0 и переведем количественные столбцы в int"
   ]
  },
  {
   "cell_type": "code",
   "execution_count": 26,
   "metadata": {},
   "outputs": [],
   "source": [
    "data = data.fillna(0)\n",
    "data = data.astype(\n",
    "    {\n",
    "        'sum_message':'int',\n",
    "        'sum_minut':'int',\n",
    "        'month':'int',\n",
    "        }\n",
    ")\n",
    "\n",
    "data=data.query('month > 0')"
   ]
  },
  {
   "cell_type": "code",
   "execution_count": 27,
   "metadata": {},
   "outputs": [
    {
     "data": {
      "text/html": [
       "<div>\n",
       "<style scoped>\n",
       "    .dataframe tbody tr th:only-of-type {\n",
       "        vertical-align: middle;\n",
       "    }\n",
       "\n",
       "    .dataframe tbody tr th {\n",
       "        vertical-align: top;\n",
       "    }\n",
       "\n",
       "    .dataframe thead th {\n",
       "        text-align: right;\n",
       "    }\n",
       "</style>\n",
       "<table border=\"1\" class=\"dataframe\">\n",
       "  <thead>\n",
       "    <tr style=\"text-align: right;\">\n",
       "      <th></th>\n",
       "      <th>user_id</th>\n",
       "      <th>month</th>\n",
       "      <th>sum_minut</th>\n",
       "      <th>sum_message</th>\n",
       "      <th>sum_gb</th>\n",
       "      <th>tariff</th>\n",
       "      <th>city</th>\n",
       "    </tr>\n",
       "  </thead>\n",
       "  <tbody>\n",
       "    <tr>\n",
       "      <th>0</th>\n",
       "      <td>1000</td>\n",
       "      <td>5</td>\n",
       "      <td>159</td>\n",
       "      <td>22</td>\n",
       "      <td>3.00</td>\n",
       "      <td>ultra</td>\n",
       "      <td>Краснодар</td>\n",
       "    </tr>\n",
       "    <tr>\n",
       "      <th>1</th>\n",
       "      <td>1000</td>\n",
       "      <td>6</td>\n",
       "      <td>172</td>\n",
       "      <td>60</td>\n",
       "      <td>23.00</td>\n",
       "      <td>ultra</td>\n",
       "      <td>Краснодар</td>\n",
       "    </tr>\n",
       "    <tr>\n",
       "      <th>2</th>\n",
       "      <td>1000</td>\n",
       "      <td>7</td>\n",
       "      <td>340</td>\n",
       "      <td>75</td>\n",
       "      <td>14.00</td>\n",
       "      <td>ultra</td>\n",
       "      <td>Краснодар</td>\n",
       "    </tr>\n",
       "    <tr>\n",
       "      <th>3</th>\n",
       "      <td>1000</td>\n",
       "      <td>8</td>\n",
       "      <td>408</td>\n",
       "      <td>81</td>\n",
       "      <td>14.00</td>\n",
       "      <td>ultra</td>\n",
       "      <td>Краснодар</td>\n",
       "    </tr>\n",
       "    <tr>\n",
       "      <th>4</th>\n",
       "      <td>1000</td>\n",
       "      <td>9</td>\n",
       "      <td>466</td>\n",
       "      <td>57</td>\n",
       "      <td>15.00</td>\n",
       "      <td>ultra</td>\n",
       "      <td>Краснодар</td>\n",
       "    </tr>\n",
       "  </tbody>\n",
       "</table>\n",
       "</div>"
      ],
      "text/plain": [
       "   user_id  month  sum_minut  sum_message  sum_gb tariff       city\n",
       "0     1000      5        159           22    3.00  ultra  Краснодар\n",
       "1     1000      6        172           60   23.00  ultra  Краснодар\n",
       "2     1000      7        340           75   14.00  ultra  Краснодар\n",
       "3     1000      8        408           81   14.00  ultra  Краснодар\n",
       "4     1000      9        466           57   15.00  ultra  Краснодар"
      ]
     },
     "metadata": {},
     "output_type": "display_data"
    },
    {
     "name": "stdout",
     "output_type": "stream",
     "text": [
      "<class 'pandas.core.frame.DataFrame'>\n",
      "Int64Index: 3214 entries, 0 to 3213\n",
      "Data columns (total 7 columns):\n",
      " #   Column       Non-Null Count  Dtype  \n",
      "---  ------       --------------  -----  \n",
      " 0   user_id      3214 non-null   int64  \n",
      " 1   month        3214 non-null   int64  \n",
      " 2   sum_minut    3214 non-null   int64  \n",
      " 3   sum_message  3214 non-null   int64  \n",
      " 4   sum_gb       3214 non-null   float64\n",
      " 5   tariff       3214 non-null   object \n",
      " 6   city         3214 non-null   object \n",
      "dtypes: float64(1), int64(4), object(2)\n",
      "memory usage: 200.9+ KB\n"
     ]
    }
   ],
   "source": [
    "display(data.head())\n",
    "data.info()"
   ]
  },
  {
   "cell_type": "markdown",
   "metadata": {},
   "source": [
    "<div class=\"alert alert-info\">\n",
    "    Итоговая таблица преобразована - В ней содержится вся информация по минутам, сообщениям и гигабайтам, по каждому абоненту ежемесячно."
   ]
  },
  {
   "cell_type": "markdown",
   "metadata": {},
   "source": [
    "## Помесячная выручка с каждого пользователя"
   ]
  },
  {
   "cell_type": "code",
   "execution_count": 28,
   "metadata": {},
   "outputs": [
    {
     "data": {
      "text/html": [
       "<div>\n",
       "<style scoped>\n",
       "    .dataframe tbody tr th:only-of-type {\n",
       "        vertical-align: middle;\n",
       "    }\n",
       "\n",
       "    .dataframe tbody tr th {\n",
       "        vertical-align: top;\n",
       "    }\n",
       "\n",
       "    .dataframe thead th {\n",
       "        text-align: right;\n",
       "    }\n",
       "</style>\n",
       "<table border=\"1\" class=\"dataframe\">\n",
       "  <thead>\n",
       "    <tr style=\"text-align: right;\">\n",
       "      <th></th>\n",
       "      <th>tariff_name</th>\n",
       "      <th>messages_included</th>\n",
       "      <th>gb_included</th>\n",
       "      <th>minutes_included</th>\n",
       "      <th>price_month</th>\n",
       "      <th>rub_per_gb</th>\n",
       "      <th>rub_per_message</th>\n",
       "      <th>rub_per_minute</th>\n",
       "    </tr>\n",
       "  </thead>\n",
       "  <tbody>\n",
       "    <tr>\n",
       "      <th>0</th>\n",
       "      <td>smart</td>\n",
       "      <td>50</td>\n",
       "      <td>15</td>\n",
       "      <td>500</td>\n",
       "      <td>550</td>\n",
       "      <td>200</td>\n",
       "      <td>3</td>\n",
       "      <td>3</td>\n",
       "    </tr>\n",
       "    <tr>\n",
       "      <th>1</th>\n",
       "      <td>ultra</td>\n",
       "      <td>1000</td>\n",
       "      <td>30</td>\n",
       "      <td>3000</td>\n",
       "      <td>1950</td>\n",
       "      <td>150</td>\n",
       "      <td>1</td>\n",
       "      <td>1</td>\n",
       "    </tr>\n",
       "  </tbody>\n",
       "</table>\n",
       "</div>"
      ],
      "text/plain": [
       "  tariff_name  messages_included  gb_included  minutes_included  price_month  \\\n",
       "0       smart                 50           15               500          550   \n",
       "1       ultra               1000           30              3000         1950   \n",
       "\n",
       "   rub_per_gb  rub_per_message  rub_per_minute  \n",
       "0         200                3               3  \n",
       "1         150                1               1  "
      ]
     },
     "execution_count": 28,
     "metadata": {},
     "output_type": "execute_result"
    }
   ],
   "source": [
    "data_tariffs.head() #вспомним условия каждого тарифа"
   ]
  },
  {
   "cell_type": "code",
   "execution_count": 29,
   "metadata": {},
   "outputs": [],
   "source": [
    "def price(df):\n",
    "    sum_minut = df['sum_minut']\n",
    "    sum_message = df['sum_message']\n",
    "    sum_gb = df['sum_gb']\n",
    "    tariff = df['tariff']\n",
    "    if tariff == 'smart':\n",
    "        if sum_minut > 500:\n",
    "            price_min=(sum_minut-500)*3 #стоимость минут потраченных сверх тарифа\n",
    "        else:\n",
    "            price_min = 0\n",
    "        if sum_message > 50:\n",
    "            price_message=(sum_message-50)*3 #стоимость сообщений потраченных сверх тарифа\n",
    "        else:\n",
    "            price_message = 0\n",
    "        if sum_gb > 15:\n",
    "            price_gb=(sum_gb-15)*200 #стоимость гб потраченных сверх тарифа\n",
    "        else:\n",
    "            price_gb = 0\n",
    "        return price_min + price_message + price_gb + 550 #цена за месяц: тариф + потраченное сверху\n",
    "    elif tariff == 'ultra':\n",
    "        if sum_minut > 3000:\n",
    "            price_min=sum_minut-3000 #стоимость минут потраченных сверх тарифа\n",
    "        else:\n",
    "            price_min = 0\n",
    "        if sum_message > 1000:\n",
    "            price_message=sum_message-1000 #стоимость сообщений потраченных сверх тарифа\n",
    "        else:\n",
    "            price_message = 0\n",
    "        if sum_gb > 30:\n",
    "            price_gb=(sum_gb-30)*150 #стоимость гб потраченных сверх тарифа\n",
    "        else:\n",
    "            price_gb = 0\n",
    "        return price_min + price_message + price_gb + 1950 #цена за месяц: тариф + потраченное сверху\n",
    "            \n",
    "  \n",
    "   \n",
    "data['price_month'] =  data.apply(price, axis=1) #новый столбец, функцию ко всей строке"
   ]
  },
  {
   "cell_type": "code",
   "execution_count": 30,
   "metadata": {
    "scrolled": false
   },
   "outputs": [
    {
     "data": {
      "text/html": [
       "<div>\n",
       "<style scoped>\n",
       "    .dataframe tbody tr th:only-of-type {\n",
       "        vertical-align: middle;\n",
       "    }\n",
       "\n",
       "    .dataframe tbody tr th {\n",
       "        vertical-align: top;\n",
       "    }\n",
       "\n",
       "    .dataframe thead th {\n",
       "        text-align: right;\n",
       "    }\n",
       "</style>\n",
       "<table border=\"1\" class=\"dataframe\">\n",
       "  <thead>\n",
       "    <tr style=\"text-align: right;\">\n",
       "      <th></th>\n",
       "      <th>user_id</th>\n",
       "      <th>month</th>\n",
       "      <th>sum_minut</th>\n",
       "      <th>sum_message</th>\n",
       "      <th>sum_gb</th>\n",
       "      <th>tariff</th>\n",
       "      <th>city</th>\n",
       "      <th>price_month</th>\n",
       "    </tr>\n",
       "  </thead>\n",
       "  <tbody>\n",
       "    <tr>\n",
       "      <th>0</th>\n",
       "      <td>1000</td>\n",
       "      <td>5</td>\n",
       "      <td>159</td>\n",
       "      <td>22</td>\n",
       "      <td>3.00</td>\n",
       "      <td>ultra</td>\n",
       "      <td>Краснодар</td>\n",
       "      <td>1950.00</td>\n",
       "    </tr>\n",
       "    <tr>\n",
       "      <th>1</th>\n",
       "      <td>1000</td>\n",
       "      <td>6</td>\n",
       "      <td>172</td>\n",
       "      <td>60</td>\n",
       "      <td>23.00</td>\n",
       "      <td>ultra</td>\n",
       "      <td>Краснодар</td>\n",
       "      <td>1950.00</td>\n",
       "    </tr>\n",
       "    <tr>\n",
       "      <th>2</th>\n",
       "      <td>1000</td>\n",
       "      <td>7</td>\n",
       "      <td>340</td>\n",
       "      <td>75</td>\n",
       "      <td>14.00</td>\n",
       "      <td>ultra</td>\n",
       "      <td>Краснодар</td>\n",
       "      <td>1950.00</td>\n",
       "    </tr>\n",
       "    <tr>\n",
       "      <th>3</th>\n",
       "      <td>1000</td>\n",
       "      <td>8</td>\n",
       "      <td>408</td>\n",
       "      <td>81</td>\n",
       "      <td>14.00</td>\n",
       "      <td>ultra</td>\n",
       "      <td>Краснодар</td>\n",
       "      <td>1950.00</td>\n",
       "    </tr>\n",
       "    <tr>\n",
       "      <th>4</th>\n",
       "      <td>1000</td>\n",
       "      <td>9</td>\n",
       "      <td>466</td>\n",
       "      <td>57</td>\n",
       "      <td>15.00</td>\n",
       "      <td>ultra</td>\n",
       "      <td>Краснодар</td>\n",
       "      <td>1950.00</td>\n",
       "    </tr>\n",
       "  </tbody>\n",
       "</table>\n",
       "</div>"
      ],
      "text/plain": [
       "   user_id  month  sum_minut  sum_message  sum_gb tariff       city  \\\n",
       "0     1000      5        159           22    3.00  ultra  Краснодар   \n",
       "1     1000      6        172           60   23.00  ultra  Краснодар   \n",
       "2     1000      7        340           75   14.00  ultra  Краснодар   \n",
       "3     1000      8        408           81   14.00  ultra  Краснодар   \n",
       "4     1000      9        466           57   15.00  ultra  Краснодар   \n",
       "\n",
       "   price_month  \n",
       "0      1950.00  \n",
       "1      1950.00  \n",
       "2      1950.00  \n",
       "3      1950.00  \n",
       "4      1950.00  "
      ]
     },
     "metadata": {},
     "output_type": "display_data"
    },
    {
     "name": "stdout",
     "output_type": "stream",
     "text": [
      "<class 'pandas.core.frame.DataFrame'>\n",
      "Int64Index: 3214 entries, 0 to 3213\n",
      "Data columns (total 8 columns):\n",
      " #   Column       Non-Null Count  Dtype  \n",
      "---  ------       --------------  -----  \n",
      " 0   user_id      3214 non-null   int64  \n",
      " 1   month        3214 non-null   int64  \n",
      " 2   sum_minut    3214 non-null   int64  \n",
      " 3   sum_message  3214 non-null   int64  \n",
      " 4   sum_gb       3214 non-null   float64\n",
      " 5   tariff       3214 non-null   object \n",
      " 6   city         3214 non-null   object \n",
      " 7   price_month  3214 non-null   float64\n",
      "dtypes: float64(2), int64(4), object(2)\n",
      "memory usage: 226.0+ KB\n"
     ]
    }
   ],
   "source": [
    "display(data.head()) #проверим результат\n",
    "data.info()"
   ]
  },
  {
   "cell_type": "markdown",
   "metadata": {},
   "source": [
    "## Анализ результатов"
   ]
  },
  {
   "cell_type": "code",
   "execution_count": 31,
   "metadata": {},
   "outputs": [
    {
     "data": {
      "text/html": [
       "<div>\n",
       "<style scoped>\n",
       "    .dataframe tbody tr th:only-of-type {\n",
       "        vertical-align: middle;\n",
       "    }\n",
       "\n",
       "    .dataframe tbody tr th {\n",
       "        vertical-align: top;\n",
       "    }\n",
       "\n",
       "    .dataframe thead th {\n",
       "        text-align: right;\n",
       "    }\n",
       "</style>\n",
       "<table border=\"1\" class=\"dataframe\">\n",
       "  <thead>\n",
       "    <tr style=\"text-align: right;\">\n",
       "      <th></th>\n",
       "      <th>tariff_name</th>\n",
       "      <th>messages_included</th>\n",
       "      <th>gb_included</th>\n",
       "      <th>minutes_included</th>\n",
       "      <th>price_month</th>\n",
       "      <th>rub_per_gb</th>\n",
       "      <th>rub_per_message</th>\n",
       "      <th>rub_per_minute</th>\n",
       "    </tr>\n",
       "  </thead>\n",
       "  <tbody>\n",
       "    <tr>\n",
       "      <th>0</th>\n",
       "      <td>smart</td>\n",
       "      <td>50</td>\n",
       "      <td>15</td>\n",
       "      <td>500</td>\n",
       "      <td>550</td>\n",
       "      <td>200</td>\n",
       "      <td>3</td>\n",
       "      <td>3</td>\n",
       "    </tr>\n",
       "    <tr>\n",
       "      <th>1</th>\n",
       "      <td>ultra</td>\n",
       "      <td>1000</td>\n",
       "      <td>30</td>\n",
       "      <td>3000</td>\n",
       "      <td>1950</td>\n",
       "      <td>150</td>\n",
       "      <td>1</td>\n",
       "      <td>1</td>\n",
       "    </tr>\n",
       "  </tbody>\n",
       "</table>\n",
       "</div>"
      ],
      "text/plain": [
       "  tariff_name  messages_included  gb_included  minutes_included  price_month  \\\n",
       "0       smart                 50           15               500          550   \n",
       "1       ultra               1000           30              3000         1950   \n",
       "\n",
       "   rub_per_gb  rub_per_message  rub_per_minute  \n",
       "0         200                3               3  \n",
       "1         150                1               1  "
      ]
     },
     "execution_count": 31,
     "metadata": {},
     "output_type": "execute_result"
    }
   ],
   "source": [
    "data_tariffs.head() #вспоминаем условия тарифов, чтобы сравнить с показателями describe"
   ]
  },
  {
   "cell_type": "markdown",
   "metadata": {},
   "source": [
    "### Анализ тарифа ULTRA"
   ]
  },
  {
   "cell_type": "code",
   "execution_count": 32,
   "metadata": {},
   "outputs": [
    {
     "data": {
      "text/html": [
       "<div>\n",
       "<style scoped>\n",
       "    .dataframe tbody tr th:only-of-type {\n",
       "        vertical-align: middle;\n",
       "    }\n",
       "\n",
       "    .dataframe tbody tr th {\n",
       "        vertical-align: top;\n",
       "    }\n",
       "\n",
       "    .dataframe thead th {\n",
       "        text-align: right;\n",
       "    }\n",
       "</style>\n",
       "<table border=\"1\" class=\"dataframe\">\n",
       "  <thead>\n",
       "    <tr style=\"text-align: right;\">\n",
       "      <th></th>\n",
       "      <th>user_id</th>\n",
       "      <th>month</th>\n",
       "      <th>sum_minut</th>\n",
       "      <th>sum_message</th>\n",
       "      <th>sum_gb</th>\n",
       "      <th>price_month</th>\n",
       "    </tr>\n",
       "  </thead>\n",
       "  <tbody>\n",
       "    <tr>\n",
       "      <th>count</th>\n",
       "      <td>985.00</td>\n",
       "      <td>985.00</td>\n",
       "      <td>985.00</td>\n",
       "      <td>985.00</td>\n",
       "      <td>985.00</td>\n",
       "      <td>985.00</td>\n",
       "    </tr>\n",
       "    <tr>\n",
       "      <th>mean</th>\n",
       "      <td>1263.09</td>\n",
       "      <td>8.25</td>\n",
       "      <td>526.62</td>\n",
       "      <td>49.36</td>\n",
       "      <td>19.49</td>\n",
       "      <td>2070.15</td>\n",
       "    </tr>\n",
       "    <tr>\n",
       "      <th>std</th>\n",
       "      <td>140.69</td>\n",
       "      <td>2.87</td>\n",
       "      <td>317.61</td>\n",
       "      <td>47.80</td>\n",
       "      <td>9.85</td>\n",
       "      <td>376.19</td>\n",
       "    </tr>\n",
       "    <tr>\n",
       "      <th>min</th>\n",
       "      <td>1000.00</td>\n",
       "      <td>1.00</td>\n",
       "      <td>0.00</td>\n",
       "      <td>0.00</td>\n",
       "      <td>0.00</td>\n",
       "      <td>1950.00</td>\n",
       "    </tr>\n",
       "    <tr>\n",
       "      <th>25%</th>\n",
       "      <td>1143.00</td>\n",
       "      <td>6.00</td>\n",
       "      <td>284.00</td>\n",
       "      <td>6.00</td>\n",
       "      <td>12.00</td>\n",
       "      <td>1950.00</td>\n",
       "    </tr>\n",
       "    <tr>\n",
       "      <th>50%</th>\n",
       "      <td>1277.00</td>\n",
       "      <td>9.00</td>\n",
       "      <td>518.00</td>\n",
       "      <td>38.00</td>\n",
       "      <td>19.00</td>\n",
       "      <td>1950.00</td>\n",
       "    </tr>\n",
       "    <tr>\n",
       "      <th>75%</th>\n",
       "      <td>1381.00</td>\n",
       "      <td>11.00</td>\n",
       "      <td>752.00</td>\n",
       "      <td>79.00</td>\n",
       "      <td>27.00</td>\n",
       "      <td>1950.00</td>\n",
       "    </tr>\n",
       "    <tr>\n",
       "      <th>max</th>\n",
       "      <td>1495.00</td>\n",
       "      <td>12.00</td>\n",
       "      <td>1673.00</td>\n",
       "      <td>224.00</td>\n",
       "      <td>49.00</td>\n",
       "      <td>4800.00</td>\n",
       "    </tr>\n",
       "  </tbody>\n",
       "</table>\n",
       "</div>"
      ],
      "text/plain": [
       "       user_id  month  sum_minut  sum_message  sum_gb  price_month\n",
       "count   985.00 985.00     985.00       985.00  985.00       985.00\n",
       "mean   1263.09   8.25     526.62        49.36   19.49      2070.15\n",
       "std     140.69   2.87     317.61        47.80    9.85       376.19\n",
       "min    1000.00   1.00       0.00         0.00    0.00      1950.00\n",
       "25%    1143.00   6.00     284.00         6.00   12.00      1950.00\n",
       "50%    1277.00   9.00     518.00        38.00   19.00      1950.00\n",
       "75%    1381.00  11.00     752.00        79.00   27.00      1950.00\n",
       "max    1495.00  12.00    1673.00       224.00   49.00      4800.00"
      ]
     },
     "execution_count": 32,
     "metadata": {},
     "output_type": "execute_result"
    }
   ],
   "source": [
    "data_ultra=data.query('tariff == \"ultra\"')\n",
    "data_ultra.describe()"
   ]
  },
  {
   "cell_type": "code",
   "execution_count": 33,
   "metadata": {},
   "outputs": [
    {
     "data": {
      "text/plain": [
       "134"
      ]
     },
     "execution_count": 33,
     "metadata": {},
     "output_type": "execute_result"
    }
   ],
   "source": [
    "user_ultra_30 = data_ultra.query('sum_gb>30')['sum_gb'].count()\n",
    "user_ultra_30 "
   ]
  },
  {
   "cell_type": "code",
   "execution_count": 34,
   "metadata": {},
   "outputs": [
    {
     "data": {
      "text/plain": [
       "0.13604060913705585"
      ]
     },
     "execution_count": 34,
     "metadata": {},
     "output_type": "execute_result"
    }
   ],
   "source": [
    "user_ultra_30 / 985"
   ]
  },
  {
   "cell_type": "markdown",
   "metadata": {},
   "source": [
    "<div class=\"alert alert-info\">\n",
    "В тариф УЛЬТРА входит 1000 сообщений, 30 гб, 3000 минут, абонет.плата - 1950р.\n",
    "Максимальное кол-во в месяц сообщений было 224, минут 1673, что не превышает лимит. - А максимальное кол-во гб в месяц было 49, 75% пользователей укладываются в лимит - Средний ежемесячный чек - 2070р., что почти равно абоненской плате. 14% наблюдений превышает лимит интернета в 30 ГБ"
   ]
  },
  {
   "cell_type": "code",
   "execution_count": 35,
   "metadata": {
    "scrolled": true
   },
   "outputs": [
    {
     "data": {
      "text/html": [
       "<div>\n",
       "<style scoped>\n",
       "    .dataframe tbody tr th:only-of-type {\n",
       "        vertical-align: middle;\n",
       "    }\n",
       "\n",
       "    .dataframe tbody tr th {\n",
       "        vertical-align: top;\n",
       "    }\n",
       "\n",
       "    .dataframe thead th {\n",
       "        text-align: right;\n",
       "    }\n",
       "</style>\n",
       "<table border=\"1\" class=\"dataframe\">\n",
       "  <thead>\n",
       "    <tr style=\"text-align: right;\">\n",
       "      <th></th>\n",
       "      <th>user_id</th>\n",
       "      <th>month</th>\n",
       "      <th>sum_minut</th>\n",
       "      <th>sum_message</th>\n",
       "      <th>sum_gb</th>\n",
       "      <th>tariff</th>\n",
       "      <th>city</th>\n",
       "      <th>price_month</th>\n",
       "    </tr>\n",
       "  </thead>\n",
       "  <tbody>\n",
       "    <tr>\n",
       "      <th>0</th>\n",
       "      <td>1000</td>\n",
       "      <td>5</td>\n",
       "      <td>159</td>\n",
       "      <td>22</td>\n",
       "      <td>3.00</td>\n",
       "      <td>ultra</td>\n",
       "      <td>Краснодар</td>\n",
       "      <td>1950.00</td>\n",
       "    </tr>\n",
       "    <tr>\n",
       "      <th>1</th>\n",
       "      <td>1000</td>\n",
       "      <td>6</td>\n",
       "      <td>172</td>\n",
       "      <td>60</td>\n",
       "      <td>23.00</td>\n",
       "      <td>ultra</td>\n",
       "      <td>Краснодар</td>\n",
       "      <td>1950.00</td>\n",
       "    </tr>\n",
       "    <tr>\n",
       "      <th>2</th>\n",
       "      <td>1000</td>\n",
       "      <td>7</td>\n",
       "      <td>340</td>\n",
       "      <td>75</td>\n",
       "      <td>14.00</td>\n",
       "      <td>ultra</td>\n",
       "      <td>Краснодар</td>\n",
       "      <td>1950.00</td>\n",
       "    </tr>\n",
       "    <tr>\n",
       "      <th>3</th>\n",
       "      <td>1000</td>\n",
       "      <td>8</td>\n",
       "      <td>408</td>\n",
       "      <td>81</td>\n",
       "      <td>14.00</td>\n",
       "      <td>ultra</td>\n",
       "      <td>Краснодар</td>\n",
       "      <td>1950.00</td>\n",
       "    </tr>\n",
       "    <tr>\n",
       "      <th>4</th>\n",
       "      <td>1000</td>\n",
       "      <td>9</td>\n",
       "      <td>466</td>\n",
       "      <td>57</td>\n",
       "      <td>15.00</td>\n",
       "      <td>ultra</td>\n",
       "      <td>Краснодар</td>\n",
       "      <td>1950.00</td>\n",
       "    </tr>\n",
       "  </tbody>\n",
       "</table>\n",
       "</div>"
      ],
      "text/plain": [
       "   user_id  month  sum_minut  sum_message  sum_gb tariff       city  \\\n",
       "0     1000      5        159           22    3.00  ultra  Краснодар   \n",
       "1     1000      6        172           60   23.00  ultra  Краснодар   \n",
       "2     1000      7        340           75   14.00  ultra  Краснодар   \n",
       "3     1000      8        408           81   14.00  ultra  Краснодар   \n",
       "4     1000      9        466           57   15.00  ultra  Краснодар   \n",
       "\n",
       "   price_month  \n",
       "0      1950.00  \n",
       "1      1950.00  \n",
       "2      1950.00  \n",
       "3      1950.00  \n",
       "4      1950.00  "
      ]
     },
     "execution_count": 35,
     "metadata": {},
     "output_type": "execute_result"
    }
   ],
   "source": [
    "data_ultra.head()"
   ]
  },
  {
   "cell_type": "markdown",
   "metadata": {},
   "source": [
    "#### Анализ ULTRA - минуты"
   ]
  },
  {
   "cell_type": "code",
   "execution_count": 36,
   "metadata": {},
   "outputs": [
    {
     "name": "stdout",
     "output_type": "stream",
     "text": [
      "Дисперсия -  100873.63339730098\n",
      "Отклонение -  317.6060978591264\n",
      "Среднее -  526.6233502538071\n"
     ]
    }
   ],
   "source": [
    "variance = np.var(data_ultra['sum_minut'], ddof=1)\n",
    "print('Дисперсия - ', variance)\n",
    "print('Отклонение - ', np.sqrt(variance))\n",
    "print('Среднее - ', data_ultra['sum_minut'].mean())"
   ]
  },
  {
   "cell_type": "code",
   "execution_count": 37,
   "metadata": {},
   "outputs": [
    {
     "data": {
      "text/plain": [
       "Text(0.5, 1.0, 'Анализ минут УЛЬТРА')"
      ]
     },
     "execution_count": 37,
     "metadata": {},
     "output_type": "execute_result"
    },
    {
     "data": {
      "image/png": "[encoded data removed]",
      "text/plain": [
       "<Figure size 360x360 with 1 Axes>"
      ]
     },
     "metadata": {
      "needs_background": "light"
     },
     "output_type": "display_data"
    }
   ],
   "source": [
    "sns.displot(data_ultra['sum_minut'], kde=True,\n",
    "             bins=20, color = 'blue')\n",
    "\n",
    "plt.xlabel(\"Кол-во минут в месяц\") # подпись к оси X\n",
    "plt.ylabel(\"Частота\"); # подпись к оси Y\n",
    "plt.title(\"Анализ минут УЛЬТРА\")"
   ]
  },
  {
   "cell_type": "markdown",
   "metadata": {},
   "source": [
    "<div class=\"alert alert-info\">\n",
    "Распределение скошено влево, распределение мультимодальное - Половина абонентов используют до 500 минут в месяц из возможных 3000 минут и 25% абонентов пользуются только 9% минут от лимита. - Часть пользователей минимально пользуются минутами, другие приложения с помощью интернета заменяют связь."
   ]
  },
  {
   "cell_type": "markdown",
   "metadata": {},
   "source": [
    "#### Анализ ULTRA - сообщения"
   ]
  },
  {
   "cell_type": "code",
   "execution_count": 38,
   "metadata": {},
   "outputs": [
    {
     "data": {
      "text/plain": [
       "Text(0.5, 1.0, 'Анализ сообщений УЛЬТРА')"
      ]
     },
     "execution_count": 38,
     "metadata": {},
     "output_type": "execute_result"
    },
    {
     "data": {
      "image/png": "[encoded data removed]",
      "text/plain": [
       "<Figure size 360x360 with 1 Axes>"
      ]
     },
     "metadata": {
      "needs_background": "light"
     },
     "output_type": "display_data"
    }
   ],
   "source": [
    "sns.displot(data_ultra['sum_message'], kde=True, \n",
    "             bins=20, color = 'blue')\n",
    "\n",
    "\n",
    "plt.xlabel(\"Кол-во сообщений в месяц\") # подпись к оси X\n",
    "plt.ylabel(\"Частота\"); # подпись к оси Y\n",
    "plt.title('Анализ сообщений УЛЬТРА')"
   ]
  },
  {
   "cell_type": "code",
   "execution_count": 39,
   "metadata": {},
   "outputs": [
    {
     "name": "stdout",
     "output_type": "stream",
     "text": [
      "Дисперсия -  2285.2661425446736\n",
      "Отклонение -  47.804457350174715\n",
      "Среднее -  49.36345177664975\n"
     ]
    }
   ],
   "source": [
    "variance = np.var(data_ultra['sum_message'], ddof=1)\n",
    "print('Дисперсия - ', variance)\n",
    "print('Отклонение - ', np.sqrt(variance))\n",
    "print('Среднее - ', data_ultra['sum_message'].mean())"
   ]
  },
  {
   "cell_type": "markdown",
   "metadata": {},
   "source": [
    "<div class=\"alert alert-info\">\n",
    "Распределение скошено влево, 50% абонентов используют в месяц до 38 сообщений, что около 4% от лимита. - 25% абонентов отправляют до 6 сообщений в месяц, что меньше 1% от лимита, на графике это выглядит как выброс. - обычные сообщения часто заменяются телеграмом, ватсапом и др, т.е. посредством интернета. - сообщения меньше всего интересуют клиентов. "
   ]
  },
  {
   "cell_type": "markdown",
   "metadata": {},
   "source": [
    "#### Анализ ULTRA - интернет"
   ]
  },
  {
   "cell_type": "code",
   "execution_count": 40,
   "metadata": {},
   "outputs": [
    {
     "name": "stdout",
     "output_type": "stream",
     "text": [
      "Дисперсия -  97.09168626965459\n",
      "Отклонение -  9.853511367510293\n",
      "Среднее -  19.494416243654822\n"
     ]
    }
   ],
   "source": [
    "variance = np.var(data_ultra['sum_gb'], ddof=1)\n",
    "print('Дисперсия - ', variance)\n",
    "print('Отклонение - ', np.sqrt(variance))\n",
    "print('Среднее - ', data_ultra['sum_gb'].mean())"
   ]
  },
  {
   "cell_type": "code",
   "execution_count": 41,
   "metadata": {},
   "outputs": [
    {
     "data": {
      "text/plain": [
       "Text(0.5, 1.0, 'Анализ интернета УЛЬТРА')"
      ]
     },
     "execution_count": 41,
     "metadata": {},
     "output_type": "execute_result"
    },
    {
     "data": {
      "image/png": "[encoded data removed]",
      "text/plain": [
       "<Figure size 360x360 with 1 Axes>"
      ]
     },
     "metadata": {
      "needs_background": "light"
     },
     "output_type": "display_data"
    }
   ],
   "source": [
    "sns.displot(data_ultra['sum_gb'], kde=True, \n",
    "             bins=20, color = 'blue')\n",
    "\n",
    "plt.xlabel(\"Кол-во ГБ в месяц\") # подпись к оси X\n",
    "plt.ylabel(\"Частота\"); # подпись к оси Y\n",
    "plt.title('Анализ интернета УЛЬТРА')"
   ]
  },
  {
   "cell_type": "markdown",
   "metadata": {},
   "source": [
    "<div class=\"alert alert-info\">\n",
    "    Распределение нормальное, т.к. интернетом пользуются полноценно, звонки и сообщения часто через приложения и соответственно при помощи интернета, больше половины абонентов не превышают лимит.     "
   ]
  },
  {
   "cell_type": "code",
   "execution_count": 42,
   "metadata": {},
   "outputs": [
    {
     "data": {
      "text/plain": [
       "5.804031190230985"
      ]
     },
     "execution_count": 42,
     "metadata": {},
     "output_type": "execute_result"
    }
   ],
   "source": [
    "gb_ultra=(1-1950*(data_ultra['month'].count()) / data_ultra['price_month'].sum())*100\n",
    "gb_ultra"
   ]
  },
  {
   "cell_type": "markdown",
   "metadata": {},
   "source": [
    "<div class=\"alert alert-info\">\n",
    "    Только 6% от выручки по тарифу УЛЬТРА составляет дополнительный интернет      - минуты входят в стоимость, никто из абонентов не тратит доп.минуты, - сообщения входят в стоимость, никто из абонентов не тратит доп.сообщения."
   ]
  },
  {
   "cell_type": "markdown",
   "metadata": {},
   "source": [
    "### Анализ тарифа SMART"
   ]
  },
  {
   "cell_type": "code",
   "execution_count": 43,
   "metadata": {},
   "outputs": [
    {
     "data": {
      "text/html": [
       "<div>\n",
       "<style scoped>\n",
       "    .dataframe tbody tr th:only-of-type {\n",
       "        vertical-align: middle;\n",
       "    }\n",
       "\n",
       "    .dataframe tbody tr th {\n",
       "        vertical-align: top;\n",
       "    }\n",
       "\n",
       "    .dataframe thead th {\n",
       "        text-align: right;\n",
       "    }\n",
       "</style>\n",
       "<table border=\"1\" class=\"dataframe\">\n",
       "  <thead>\n",
       "    <tr style=\"text-align: right;\">\n",
       "      <th></th>\n",
       "      <th>tariff_name</th>\n",
       "      <th>messages_included</th>\n",
       "      <th>gb_included</th>\n",
       "      <th>minutes_included</th>\n",
       "      <th>price_month</th>\n",
       "      <th>rub_per_gb</th>\n",
       "      <th>rub_per_message</th>\n",
       "      <th>rub_per_minute</th>\n",
       "    </tr>\n",
       "  </thead>\n",
       "  <tbody>\n",
       "    <tr>\n",
       "      <th>0</th>\n",
       "      <td>smart</td>\n",
       "      <td>50</td>\n",
       "      <td>15</td>\n",
       "      <td>500</td>\n",
       "      <td>550</td>\n",
       "      <td>200</td>\n",
       "      <td>3</td>\n",
       "      <td>3</td>\n",
       "    </tr>\n",
       "    <tr>\n",
       "      <th>1</th>\n",
       "      <td>ultra</td>\n",
       "      <td>1000</td>\n",
       "      <td>30</td>\n",
       "      <td>3000</td>\n",
       "      <td>1950</td>\n",
       "      <td>150</td>\n",
       "      <td>1</td>\n",
       "      <td>1</td>\n",
       "    </tr>\n",
       "  </tbody>\n",
       "</table>\n",
       "</div>"
      ],
      "text/plain": [
       "  tariff_name  messages_included  gb_included  minutes_included  price_month  \\\n",
       "0       smart                 50           15               500          550   \n",
       "1       ultra               1000           30              3000         1950   \n",
       "\n",
       "   rub_per_gb  rub_per_message  rub_per_minute  \n",
       "0         200                3               3  \n",
       "1         150                1               1  "
      ]
     },
     "execution_count": 43,
     "metadata": {},
     "output_type": "execute_result"
    }
   ],
   "source": [
    "data_tariffs"
   ]
  },
  {
   "cell_type": "code",
   "execution_count": 44,
   "metadata": {},
   "outputs": [
    {
     "data": {
      "text/html": [
       "<div>\n",
       "<style scoped>\n",
       "    .dataframe tbody tr th:only-of-type {\n",
       "        vertical-align: middle;\n",
       "    }\n",
       "\n",
       "    .dataframe tbody tr th {\n",
       "        vertical-align: top;\n",
       "    }\n",
       "\n",
       "    .dataframe thead th {\n",
       "        text-align: right;\n",
       "    }\n",
       "</style>\n",
       "<table border=\"1\" class=\"dataframe\">\n",
       "  <thead>\n",
       "    <tr style=\"text-align: right;\">\n",
       "      <th></th>\n",
       "      <th>user_id</th>\n",
       "      <th>month</th>\n",
       "      <th>sum_minut</th>\n",
       "      <th>sum_message</th>\n",
       "      <th>sum_gb</th>\n",
       "      <th>price_month</th>\n",
       "    </tr>\n",
       "  </thead>\n",
       "  <tbody>\n",
       "    <tr>\n",
       "      <th>count</th>\n",
       "      <td>2229.00</td>\n",
       "      <td>2229.00</td>\n",
       "      <td>2229.00</td>\n",
       "      <td>2229.00</td>\n",
       "      <td>2229.00</td>\n",
       "      <td>2229.00</td>\n",
       "    </tr>\n",
       "    <tr>\n",
       "      <th>mean</th>\n",
       "      <td>1246.51</td>\n",
       "      <td>8.35</td>\n",
       "      <td>417.93</td>\n",
       "      <td>33.38</td>\n",
       "      <td>16.33</td>\n",
       "      <td>1289.97</td>\n",
       "    </tr>\n",
       "    <tr>\n",
       "      <th>std</th>\n",
       "      <td>146.12</td>\n",
       "      <td>2.92</td>\n",
       "      <td>190.31</td>\n",
       "      <td>28.23</td>\n",
       "      <td>5.75</td>\n",
       "      <td>818.40</td>\n",
       "    </tr>\n",
       "    <tr>\n",
       "      <th>min</th>\n",
       "      <td>1001.00</td>\n",
       "      <td>1.00</td>\n",
       "      <td>0.00</td>\n",
       "      <td>0.00</td>\n",
       "      <td>0.00</td>\n",
       "      <td>550.00</td>\n",
       "    </tr>\n",
       "    <tr>\n",
       "      <th>25%</th>\n",
       "      <td>1121.00</td>\n",
       "      <td>6.00</td>\n",
       "      <td>282.00</td>\n",
       "      <td>10.00</td>\n",
       "      <td>13.00</td>\n",
       "      <td>550.00</td>\n",
       "    </tr>\n",
       "    <tr>\n",
       "      <th>50%</th>\n",
       "      <td>1239.00</td>\n",
       "      <td>9.00</td>\n",
       "      <td>422.00</td>\n",
       "      <td>28.00</td>\n",
       "      <td>17.00</td>\n",
       "      <td>1023.00</td>\n",
       "    </tr>\n",
       "    <tr>\n",
       "      <th>75%</th>\n",
       "      <td>1376.00</td>\n",
       "      <td>11.00</td>\n",
       "      <td>545.00</td>\n",
       "      <td>51.00</td>\n",
       "      <td>20.00</td>\n",
       "      <td>1750.00</td>\n",
       "    </tr>\n",
       "    <tr>\n",
       "      <th>max</th>\n",
       "      <td>1499.00</td>\n",
       "      <td>12.00</td>\n",
       "      <td>1435.00</td>\n",
       "      <td>143.00</td>\n",
       "      <td>38.00</td>\n",
       "      <td>6770.00</td>\n",
       "    </tr>\n",
       "  </tbody>\n",
       "</table>\n",
       "</div>"
      ],
      "text/plain": [
       "       user_id   month  sum_minut  sum_message  sum_gb  price_month\n",
       "count  2229.00 2229.00    2229.00      2229.00 2229.00      2229.00\n",
       "mean   1246.51    8.35     417.93        33.38   16.33      1289.97\n",
       "std     146.12    2.92     190.31        28.23    5.75       818.40\n",
       "min    1001.00    1.00       0.00         0.00    0.00       550.00\n",
       "25%    1121.00    6.00     282.00        10.00   13.00       550.00\n",
       "50%    1239.00    9.00     422.00        28.00   17.00      1023.00\n",
       "75%    1376.00   11.00     545.00        51.00   20.00      1750.00\n",
       "max    1499.00   12.00    1435.00       143.00   38.00      6770.00"
      ]
     },
     "execution_count": 44,
     "metadata": {},
     "output_type": "execute_result"
    }
   ],
   "source": [
    "data_smart=data.query('tariff == \"smart\"')\n",
    "data_smart.describe()"
   ]
  },
  {
   "cell_type": "code",
   "execution_count": 45,
   "metadata": {},
   "outputs": [
    {
     "data": {
      "text/plain": [
       "1304"
      ]
     },
     "execution_count": 45,
     "metadata": {},
     "output_type": "execute_result"
    }
   ],
   "source": [
    "user_smart_15 = data_smart.query('sum_gb>15')['sum_gb'].count()\n",
    "user_smart_15"
   ]
  },
  {
   "cell_type": "markdown",
   "metadata": {},
   "source": [
    "<div class=\"alert alert-info\">\n",
    "1130 раз был превышен лимит 15 ГБ    "
   ]
  },
  {
   "cell_type": "code",
   "execution_count": 46,
   "metadata": {},
   "outputs": [
    {
     "data": {
      "text/plain": [
       "0.5850157021085689"
      ]
     },
     "execution_count": 46,
     "metadata": {},
     "output_type": "execute_result"
    }
   ],
   "source": [
    "user_smart_15/2229"
   ]
  },
  {
   "cell_type": "markdown",
   "metadata": {},
   "source": [
    "<div class=\"alert alert-info\">\n",
    "в 60% наблюдений был превышен лимит 15 ГБ  "
   ]
  },
  {
   "cell_type": "code",
   "execution_count": 47,
   "metadata": {},
   "outputs": [
    {
     "data": {
      "text/plain": [
       "18"
      ]
     },
     "execution_count": 47,
     "metadata": {},
     "output_type": "execute_result"
    }
   ],
   "source": [
    "user_smart_30 = data_smart.query('sum_gb>30')['sum_gb'].count()\n",
    "user_smart_30"
   ]
  },
  {
   "cell_type": "markdown",
   "metadata": {},
   "source": [
    "<div class=\"alert alert-info\">\n",
    "    18 раз был превышен лимит 30 ГБ  "
   ]
  },
  {
   "cell_type": "code",
   "execution_count": 48,
   "metadata": {},
   "outputs": [
    {
     "data": {
      "text/plain": [
       "0.008075370121130552"
      ]
     },
     "execution_count": 48,
     "metadata": {},
     "output_type": "execute_result"
    }
   ],
   "source": [
    "user_smart_30/2229"
   ]
  },
  {
   "cell_type": "markdown",
   "metadata": {},
   "source": [
    "<div class=\"alert alert-info\">\n",
    "Всего в 1% наблюдений был превышен лимит 30 ГБ   "
   ]
  },
  {
   "cell_type": "markdown",
   "metadata": {},
   "source": [
    "<div class=\"alert alert-info\">\n",
    "В тариф СМАРТ входит 50 сообщений, 15 ГБ, 500 минут, абонент плата - 550 руб.      - 25% абонентов используют доп.сообщения, - Больше 50% абонентов используют дополнительный интернет, - Средний показатель ежемес.объема интернета не превышает лимит. - Более 25% абонентов используют дополнительные минуты. - Средний ежемесячный чек в 2 раза превышает абонентскую плату. - 60% наблюдений - больше 15 ГБ, т.е. вышли за лимит - 1% - больше 30 ГБ, это необходимо для сравнения с поведением абонементов УЛЬТРА     "
   ]
  },
  {
   "cell_type": "markdown",
   "metadata": {},
   "source": [
    "#### Анализ SMART минуты"
   ]
  },
  {
   "cell_type": "code",
   "execution_count": 49,
   "metadata": {},
   "outputs": [
    {
     "name": "stdout",
     "output_type": "stream",
     "text": [
      "Дисперсия -  36219.31578434428\n",
      "Отклонение -  190.31372988921288\n",
      "Среднее -  417.9349484073576\n"
     ]
    }
   ],
   "source": [
    "variance = np.var(data_smart['sum_minut'], ddof=1)\n",
    "print('Дисперсия - ', variance)\n",
    "print('Отклонение - ', np.sqrt(variance))\n",
    "print('Среднее - ', data_smart['sum_minut'].mean())"
   ]
  },
  {
   "cell_type": "code",
   "execution_count": 50,
   "metadata": {
    "scrolled": true
   },
   "outputs": [
    {
     "data": {
      "text/plain": [
       "Text(0.5, 1.0, 'Анализ минут СМАРТ')"
      ]
     },
     "execution_count": 50,
     "metadata": {},
     "output_type": "execute_result"
    },
    {
     "data": {
      "image/png": "[encoded data removed]",
      "text/plain": [
       "<Figure size 360x360 with 1 Axes>"
      ]
     },
     "metadata": {
      "needs_background": "light"
     },
     "output_type": "display_data"
    }
   ],
   "source": [
    "sns.displot(data_smart['sum_minut'], kde=True, \n",
    "             bins=20, color = 'blue')\n",
    "\n",
    "plt.xlabel(\"Кол-во минут в месяц\") # подпись к оси X\n",
    "plt.ylabel(\"Частота\"); # подпись к оси Y\n",
    "plt.title('Анализ минут СМАРТ')"
   ]
  },
  {
   "cell_type": "markdown",
   "metadata": {},
   "source": [
    "<div class=\"alert alert-info\">\n",
    "Распределение нормальное - Среднее кол-во минут стремится к ежемесячному лимиту и при этом среднее отклонение составляет 35% от лимита - Абоненты не укладываются в лимит, и оплачивают доп.минуты.       "
   ]
  },
  {
   "cell_type": "code",
   "execution_count": 51,
   "metadata": {},
   "outputs": [
    {
     "name": "stdout",
     "output_type": "stream",
     "text": [
      "92739\n"
     ]
    },
    {
     "data": {
      "text/plain": [
       "9.675931738420806"
      ]
     },
     "execution_count": 51,
     "metadata": {},
     "output_type": "execute_result"
    }
   ],
   "source": [
    "#Посчитаем % отношение выручки от доп.минут к общей выручке \n",
    "min_smart=data_smart.query('sum_minut > 500')['sum_minut'].sum() - data_smart.query('sum_minut > 500')['sum_minut'].count() * 500\n",
    "print(min_smart) #кол-во дополнительных минут\n",
    "((min_smart*3)/data_smart['price_month'].sum())*100"
   ]
  },
  {
   "cell_type": "markdown",
   "metadata": {},
   "source": [
    "<div class=\"alert alert-info\">\n",
    "Выручка от доп.минут составляет 10% ко всей выручке по тарифу      "
   ]
  },
  {
   "cell_type": "code",
   "execution_count": 52,
   "metadata": {},
   "outputs": [
    {
     "name": "stdout",
     "output_type": "stream",
     "text": [
      "92739\n"
     ]
    },
    {
     "data": {
      "text/plain": [
       "0.2269399241404625"
      ]
     },
     "execution_count": 52,
     "metadata": {},
     "output_type": "execute_result"
    }
   ],
   "source": [
    "#Посчитаем % отношение выручки от доп.минут к выручке по абон.плате (2229 абонетов по 550 руб.)   \n",
    "min_smart=data_smart.query('sum_minut > 500')['sum_minut'].sum() - data_smart.query('sum_minut > 500')['sum_minut'].count() * 500\n",
    "print(min_smart) #кол-во дополнительных минут\n",
    "(min_smart*3)/(2229*550)"
   ]
  },
  {
   "cell_type": "markdown",
   "metadata": {},
   "source": [
    "<div class=\"alert alert-info\">\n",
    "Выручка от доп.минут составляет 23% к абоненской плате "
   ]
  },
  {
   "cell_type": "markdown",
   "metadata": {},
   "source": [
    "#### Анализ SMART сообщения"
   ]
  },
  {
   "cell_type": "code",
   "execution_count": 53,
   "metadata": {},
   "outputs": [
    {
     "name": "stdout",
     "output_type": "stream",
     "text": [
      "Дисперсия -  796.8129584480083\n",
      "Отклонение -  28.22787555676141\n",
      "Среднее -  33.384028712427096\n"
     ]
    }
   ],
   "source": [
    "variance = np.var(data_smart['sum_message'], ddof=1)\n",
    "print('Дисперсия - ', variance)\n",
    "print('Отклонение - ', np.sqrt(variance))\n",
    "print('Среднее - ', data_smart['sum_message'].mean())"
   ]
  },
  {
   "cell_type": "code",
   "execution_count": 54,
   "metadata": {},
   "outputs": [
    {
     "data": {
      "text/plain": [
       "Text(0.5, 1.0, 'Анализ сообщений СМАРТ')"
      ]
     },
     "execution_count": 54,
     "metadata": {},
     "output_type": "execute_result"
    },
    {
     "data": {
      "image/png": "[encoded data removed]",
      "text/plain": [
       "<Figure size 360x360 with 1 Axes>"
      ]
     },
     "metadata": {
      "needs_background": "light"
     },
     "output_type": "display_data"
    }
   ],
   "source": [
    "sns.displot(data_smart['sum_message'], kde=True, \n",
    "             bins=20, color = 'blue')\n",
    "\n",
    "plt.xlabel(\"Кол-во сообщений в месяц\") # подпись к оси X\n",
    "plt.ylabel(\"Частота\"); # подпись к оси Y\n",
    "plt.title('Анализ сообщений СМАРТ')"
   ]
  },
  {
   "cell_type": "markdown",
   "metadata": {},
   "source": [
    "<div class=\"alert alert-info\">\n",
    "Распределение скошено влево - 25% от всех месяцев использовали менее 10 сообщений, при наличии интернета сообщения становятся менее востребованными. - 75% - укладывались в лимит 50 сообщений - и только 25% пользовались доп.сообщениями. - Среднее немного больше среднего по лимиту (т.е. 25 сообщений из 50) - И с учетом отклонения 28, большая часть наблюдений укладывается в лимит.   "
   ]
  },
  {
   "cell_type": "code",
   "execution_count": 55,
   "metadata": {},
   "outputs": [
    {
     "name": "stdout",
     "output_type": "stream",
     "text": [
      "12928\n"
     ]
    },
    {
     "data": {
      "text/plain": [
       "0.03163587421999266"
      ]
     },
     "execution_count": 55,
     "metadata": {},
     "output_type": "execute_result"
    }
   ],
   "source": [
    "mess_smart=data_smart.query('sum_message > 50')['sum_message'].sum() - data_smart.query('sum_message > 50')['sum_message'].count() * 50\n",
    "print(mess_smart) #кол-во дополнительных сообщений\n",
    "(mess_smart*3)/(2229*550)"
   ]
  },
  {
   "cell_type": "markdown",
   "metadata": {},
   "source": [
    "<div class=\"alert alert-info\">\n",
    "Выручка от доп.сообщений составляет 3% к абонентской плате  "
   ]
  },
  {
   "cell_type": "code",
   "execution_count": 56,
   "metadata": {},
   "outputs": [
    {
     "name": "stdout",
     "output_type": "stream",
     "text": [
      "12928\n"
     ]
    },
    {
     "data": {
      "text/plain": [
       "1.348844019391024"
      ]
     },
     "execution_count": 56,
     "metadata": {},
     "output_type": "execute_result"
    }
   ],
   "source": [
    "mess_smart=data_smart.query('sum_message > 50')['sum_message'].sum() - data_smart.query('sum_message > 50')['sum_message'].count() * 50\n",
    "print(mess_smart) #кол-во дополнительных сообщений\n",
    "((mess_smart*3)/data_smart['price_month'].sum())*100"
   ]
  },
  {
   "cell_type": "markdown",
   "metadata": {},
   "source": [
    "<div class=\"alert alert-info\">\n",
    "Выручка от доп.сообщений составляет 1,5% ко всей выручке по тарифу     "
   ]
  },
  {
   "cell_type": "markdown",
   "metadata": {},
   "source": [
    "#### Анализ SMART интернет"
   ]
  },
  {
   "cell_type": "code",
   "execution_count": 57,
   "metadata": {},
   "outputs": [
    {
     "name": "stdout",
     "output_type": "stream",
     "text": [
      "Дисперсия -  33.02870517811161\n",
      "Отклонение -  5.7470605685090534\n",
      "Среднее -  16.328847016599372\n"
     ]
    }
   ],
   "source": [
    "variance = np.var(data_smart['sum_gb'], ddof=1)\n",
    "print('Дисперсия - ', variance)\n",
    "print('Отклонение - ', np.sqrt(variance))\n",
    "print('Среднее - ', data_smart['sum_gb'].mean())"
   ]
  },
  {
   "cell_type": "code",
   "execution_count": 58,
   "metadata": {},
   "outputs": [
    {
     "data": {
      "text/plain": [
       "Text(0.5, 1.0, 'Анализ интернета СМАРТ')"
      ]
     },
     "execution_count": 58,
     "metadata": {},
     "output_type": "execute_result"
    },
    {
     "data": {
      "image/png": "[encoded data removed]",
      "text/plain": [
       "<Figure size 360x360 with 1 Axes>"
      ]
     },
     "metadata": {
      "needs_background": "light"
     },
     "output_type": "display_data"
    }
   ],
   "source": [
    "sns.displot(data_smart['sum_gb'], kde=True, \n",
    "             bins=20, color = 'blue')\n",
    "\n",
    "plt.xlabel(\"Кол-во ГБ в месяц\") # подпись к оси X\n",
    "plt.ylabel(\"Частота\"); # подпись к оси Y\n",
    "plt.title('Анализ интернета СМАРТ')"
   ]
  },
  {
   "cell_type": "markdown",
   "metadata": {},
   "source": [
    "<div class=\"alert alert-info\">\n",
    "Распределение нормальное - 15 гб входящих в лимит почти среднеге, чуть менее 50% наблюдений укладываются в лимит."
   ]
  },
  {
   "cell_type": "code",
   "execution_count": 59,
   "metadata": {},
   "outputs": [
    {
     "name": "stdout",
     "output_type": "stream",
     "text": [
      "6662.0\n"
     ]
    },
    {
     "data": {
      "text/plain": [
       "46.338690476397495"
      ]
     },
     "execution_count": 59,
     "metadata": {},
     "output_type": "execute_result"
    }
   ],
   "source": [
    "gb_smart=data_smart.query('sum_gb > 15')['sum_gb'].sum() - data_smart.query('sum_gb > 15')['sum_gb'].count() * 15\n",
    "print(gb_smart) #кол-во дополнительных gb\n",
    "((gb_smart*200)/data_smart['price_month'].sum())*100"
   ]
  },
  {
   "cell_type": "markdown",
   "metadata": {},
   "source": [
    "<div class=\"alert alert-info\">\n",
    "Выручка от доп.gb интернета составляет 46% ко всей выручке по тарифу    "
   ]
  },
  {
   "cell_type": "code",
   "execution_count": 60,
   "metadata": {},
   "outputs": [
    {
     "name": "stdout",
     "output_type": "stream",
     "text": [
      "6662.0\n"
     ]
    },
    {
     "data": {
      "text/plain": [
       "1.0868306211509442"
      ]
     },
     "execution_count": 60,
     "metadata": {},
     "output_type": "execute_result"
    }
   ],
   "source": [
    "gb_smart=data_smart.query('sum_gb > 15')['sum_gb'].sum() - data_smart.query('sum_gb > 15')['sum_gb'].count() * 15\n",
    "print(gb_smart) #кол-во дополнительных gb\n",
    "(gb_smart*200)/(2229*550)"
   ]
  },
  {
   "cell_type": "markdown",
   "metadata": {},
   "source": [
    "## Проверка гипотез"
   ]
  },
  {
   "cell_type": "markdown",
   "metadata": {},
   "source": [
    "### Средняя выручка Ультра и Смарт"
   ]
  },
  {
   "cell_type": "markdown",
   "metadata": {},
   "source": [
    "<div class=\"alert alert-info\">\n",
    "Средняя выручка по тарифам Ультра и Смарт равны 2070 руб. и 1290 руб. - Предположим что это могло произойти случайно. - Пусть нулевая гипотеза звучит так - средние выручки равны - Альтернативная - не равны   "
   ]
  },
  {
   "cell_type": "code",
   "execution_count": 68,
   "metadata": {},
   "outputs": [
    {
     "data": {
      "text/html": [
       "<div>\n",
       "<style scoped>\n",
       "    .dataframe tbody tr th:only-of-type {\n",
       "        vertical-align: middle;\n",
       "    }\n",
       "\n",
       "    .dataframe tbody tr th {\n",
       "        vertical-align: top;\n",
       "    }\n",
       "\n",
       "    .dataframe thead th {\n",
       "        text-align: right;\n",
       "    }\n",
       "</style>\n",
       "<table border=\"1\" class=\"dataframe\">\n",
       "  <thead>\n",
       "    <tr style=\"text-align: right;\">\n",
       "      <th></th>\n",
       "      <th>user_id</th>\n",
       "      <th>month</th>\n",
       "      <th>sum_minut</th>\n",
       "      <th>sum_message</th>\n",
       "      <th>sum_gb</th>\n",
       "      <th>tariff</th>\n",
       "      <th>city</th>\n",
       "      <th>price_month</th>\n",
       "    </tr>\n",
       "  </thead>\n",
       "  <tbody>\n",
       "    <tr>\n",
       "      <th>0</th>\n",
       "      <td>1000</td>\n",
       "      <td>5</td>\n",
       "      <td>159</td>\n",
       "      <td>22</td>\n",
       "      <td>3.00</td>\n",
       "      <td>ultra</td>\n",
       "      <td>Краснодар</td>\n",
       "      <td>1950.00</td>\n",
       "    </tr>\n",
       "    <tr>\n",
       "      <th>1</th>\n",
       "      <td>1000</td>\n",
       "      <td>6</td>\n",
       "      <td>172</td>\n",
       "      <td>60</td>\n",
       "      <td>23.00</td>\n",
       "      <td>ultra</td>\n",
       "      <td>Краснодар</td>\n",
       "      <td>1950.00</td>\n",
       "    </tr>\n",
       "    <tr>\n",
       "      <th>2</th>\n",
       "      <td>1000</td>\n",
       "      <td>7</td>\n",
       "      <td>340</td>\n",
       "      <td>75</td>\n",
       "      <td>14.00</td>\n",
       "      <td>ultra</td>\n",
       "      <td>Краснодар</td>\n",
       "      <td>1950.00</td>\n",
       "    </tr>\n",
       "    <tr>\n",
       "      <th>3</th>\n",
       "      <td>1000</td>\n",
       "      <td>8</td>\n",
       "      <td>408</td>\n",
       "      <td>81</td>\n",
       "      <td>14.00</td>\n",
       "      <td>ultra</td>\n",
       "      <td>Краснодар</td>\n",
       "      <td>1950.00</td>\n",
       "    </tr>\n",
       "    <tr>\n",
       "      <th>4</th>\n",
       "      <td>1000</td>\n",
       "      <td>9</td>\n",
       "      <td>466</td>\n",
       "      <td>57</td>\n",
       "      <td>15.00</td>\n",
       "      <td>ultra</td>\n",
       "      <td>Краснодар</td>\n",
       "      <td>1950.00</td>\n",
       "    </tr>\n",
       "    <tr>\n",
       "      <th>...</th>\n",
       "      <td>...</td>\n",
       "      <td>...</td>\n",
       "      <td>...</td>\n",
       "      <td>...</td>\n",
       "      <td>...</td>\n",
       "      <td>...</td>\n",
       "      <td>...</td>\n",
       "      <td>...</td>\n",
       "    </tr>\n",
       "    <tr>\n",
       "      <th>3209</th>\n",
       "      <td>1489</td>\n",
       "      <td>8</td>\n",
       "      <td>0</td>\n",
       "      <td>17</td>\n",
       "      <td>11.00</td>\n",
       "      <td>smart</td>\n",
       "      <td>Санкт-Петербург</td>\n",
       "      <td>550.00</td>\n",
       "    </tr>\n",
       "    <tr>\n",
       "      <th>3210</th>\n",
       "      <td>1489</td>\n",
       "      <td>9</td>\n",
       "      <td>0</td>\n",
       "      <td>32</td>\n",
       "      <td>17.00</td>\n",
       "      <td>smart</td>\n",
       "      <td>Санкт-Петербург</td>\n",
       "      <td>950.00</td>\n",
       "    </tr>\n",
       "    <tr>\n",
       "      <th>3211</th>\n",
       "      <td>1489</td>\n",
       "      <td>10</td>\n",
       "      <td>0</td>\n",
       "      <td>21</td>\n",
       "      <td>20.00</td>\n",
       "      <td>smart</td>\n",
       "      <td>Санкт-Петербург</td>\n",
       "      <td>1550.00</td>\n",
       "    </tr>\n",
       "    <tr>\n",
       "      <th>3212</th>\n",
       "      <td>1489</td>\n",
       "      <td>11</td>\n",
       "      <td>0</td>\n",
       "      <td>20</td>\n",
       "      <td>18.00</td>\n",
       "      <td>smart</td>\n",
       "      <td>Санкт-Петербург</td>\n",
       "      <td>1150.00</td>\n",
       "    </tr>\n",
       "    <tr>\n",
       "      <th>3213</th>\n",
       "      <td>1489</td>\n",
       "      <td>12</td>\n",
       "      <td>0</td>\n",
       "      <td>35</td>\n",
       "      <td>17.00</td>\n",
       "      <td>smart</td>\n",
       "      <td>Санкт-Петербург</td>\n",
       "      <td>950.00</td>\n",
       "    </tr>\n",
       "  </tbody>\n",
       "</table>\n",
       "<p>3214 rows × 8 columns</p>\n",
       "</div>"
      ],
      "text/plain": [
       "      user_id  month  sum_minut  sum_message  sum_gb tariff             city  \\\n",
       "0        1000      5        159           22    3.00  ultra        Краснодар   \n",
       "1        1000      6        172           60   23.00  ultra        Краснодар   \n",
       "2        1000      7        340           75   14.00  ultra        Краснодар   \n",
       "3        1000      8        408           81   14.00  ultra        Краснодар   \n",
       "4        1000      9        466           57   15.00  ultra        Краснодар   \n",
       "...       ...    ...        ...          ...     ...    ...              ...   \n",
       "3209     1489      8          0           17   11.00  smart  Санкт-Петербург   \n",
       "3210     1489      9          0           32   17.00  smart  Санкт-Петербург   \n",
       "3211     1489     10          0           21   20.00  smart  Санкт-Петербург   \n",
       "3212     1489     11          0           20   18.00  smart  Санкт-Петербург   \n",
       "3213     1489     12          0           35   17.00  smart  Санкт-Петербург   \n",
       "\n",
       "      price_month  \n",
       "0         1950.00  \n",
       "1         1950.00  \n",
       "2         1950.00  \n",
       "3         1950.00  \n",
       "4         1950.00  \n",
       "...           ...  \n",
       "3209       550.00  \n",
       "3210       950.00  \n",
       "3211      1550.00  \n",
       "3212      1150.00  \n",
       "3213       950.00  \n",
       "\n",
       "[3214 rows x 8 columns]"
      ]
     },
     "execution_count": 68,
     "metadata": {},
     "output_type": "execute_result"
    }
   ],
   "source": [
    "data"
   ]
  },
  {
   "cell_type": "code",
   "execution_count": 61,
   "metadata": {},
   "outputs": [
    {
     "name": "stdout",
     "output_type": "stream",
     "text": [
      "p-значение: 4.2606313931076085e-250\n",
      "Отвергаем нулевую гипотезу\n"
     ]
    }
   ],
   "source": [
    "alpha = 0.05\n",
    "\n",
    "results = sps.ttest_ind(data_ultra['price_month'], data_smart['price_month'], equal_var = False)\n",
    "\n",
    "print('p-значение:', results.pvalue)\n",
    "\n",
    "if results.pvalue < alpha:\n",
    "    print('Отвергаем нулевую гипотезу')\n",
    "else:\n",
    "    print('Не получилось отвергнуть нулевую гипотезу') "
   ]
  },
  {
   "cell_type": "markdown",
   "metadata": {},
   "source": [
    "<div class=\"alert alert-info\">\n",
    "p-значение достаточно мало, что дает основание отвергнуть предположение об отсутствии различий между выручками у разных тарифных планов.) "
   ]
  },
  {
   "cell_type": "markdown",
   "metadata": {},
   "source": [
    "### Средняя выручка Москва и другие города"
   ]
  },
  {
   "cell_type": "code",
   "execution_count": 62,
   "metadata": {},
   "outputs": [
    {
     "data": {
      "text/html": [
       "<div>\n",
       "<style scoped>\n",
       "    .dataframe tbody tr th:only-of-type {\n",
       "        vertical-align: middle;\n",
       "    }\n",
       "\n",
       "    .dataframe tbody tr th {\n",
       "        vertical-align: top;\n",
       "    }\n",
       "\n",
       "    .dataframe thead th {\n",
       "        text-align: right;\n",
       "    }\n",
       "</style>\n",
       "<table border=\"1\" class=\"dataframe\">\n",
       "  <thead>\n",
       "    <tr style=\"text-align: right;\">\n",
       "      <th></th>\n",
       "      <th>user_id</th>\n",
       "      <th>month</th>\n",
       "      <th>sum_minut</th>\n",
       "      <th>sum_message</th>\n",
       "      <th>sum_gb</th>\n",
       "      <th>tariff</th>\n",
       "      <th>city</th>\n",
       "      <th>price_month</th>\n",
       "    </tr>\n",
       "  </thead>\n",
       "  <tbody>\n",
       "    <tr>\n",
       "      <th>0</th>\n",
       "      <td>1000</td>\n",
       "      <td>5</td>\n",
       "      <td>159</td>\n",
       "      <td>22</td>\n",
       "      <td>3.00</td>\n",
       "      <td>ultra</td>\n",
       "      <td>Краснодар</td>\n",
       "      <td>1950.00</td>\n",
       "    </tr>\n",
       "    <tr>\n",
       "      <th>1</th>\n",
       "      <td>1000</td>\n",
       "      <td>6</td>\n",
       "      <td>172</td>\n",
       "      <td>60</td>\n",
       "      <td>23.00</td>\n",
       "      <td>ultra</td>\n",
       "      <td>Краснодар</td>\n",
       "      <td>1950.00</td>\n",
       "    </tr>\n",
       "    <tr>\n",
       "      <th>2</th>\n",
       "      <td>1000</td>\n",
       "      <td>7</td>\n",
       "      <td>340</td>\n",
       "      <td>75</td>\n",
       "      <td>14.00</td>\n",
       "      <td>ultra</td>\n",
       "      <td>Краснодар</td>\n",
       "      <td>1950.00</td>\n",
       "    </tr>\n",
       "    <tr>\n",
       "      <th>3</th>\n",
       "      <td>1000</td>\n",
       "      <td>8</td>\n",
       "      <td>408</td>\n",
       "      <td>81</td>\n",
       "      <td>14.00</td>\n",
       "      <td>ultra</td>\n",
       "      <td>Краснодар</td>\n",
       "      <td>1950.00</td>\n",
       "    </tr>\n",
       "    <tr>\n",
       "      <th>4</th>\n",
       "      <td>1000</td>\n",
       "      <td>9</td>\n",
       "      <td>466</td>\n",
       "      <td>57</td>\n",
       "      <td>15.00</td>\n",
       "      <td>ultra</td>\n",
       "      <td>Краснодар</td>\n",
       "      <td>1950.00</td>\n",
       "    </tr>\n",
       "  </tbody>\n",
       "</table>\n",
       "</div>"
      ],
      "text/plain": [
       "   user_id  month  sum_minut  sum_message  sum_gb tariff       city  \\\n",
       "0     1000      5        159           22    3.00  ultra  Краснодар   \n",
       "1     1000      6        172           60   23.00  ultra  Краснодар   \n",
       "2     1000      7        340           75   14.00  ultra  Краснодар   \n",
       "3     1000      8        408           81   14.00  ultra  Краснодар   \n",
       "4     1000      9        466           57   15.00  ultra  Краснодар   \n",
       "\n",
       "   price_month  \n",
       "0      1950.00  \n",
       "1      1950.00  \n",
       "2      1950.00  \n",
       "3      1950.00  \n",
       "4      1950.00  "
      ]
     },
     "execution_count": 62,
     "metadata": {},
     "output_type": "execute_result"
    }
   ],
   "source": [
    "data.head() #посмотрим какой столбец овечает за город"
   ]
  },
  {
   "cell_type": "code",
   "execution_count": 63,
   "metadata": {},
   "outputs": [
    {
     "name": "stdout",
     "output_type": "stream",
     "text": [
      "Уникальные значения в столбце city\n",
      "Москва             611\n",
      "Санкт-Петербург    270\n",
      "Новосибирск         98\n",
      "Уфа                 95\n",
      "Краснодар           86\n",
      "                  ... \n",
      "Сургут               6\n",
      "Нижневартовск        6\n",
      "Кемерово             5\n",
      "Химки                5\n",
      "Иваново              2\n",
      "Name: city, Length: 76, dtype: int64\n"
     ]
    }
   ],
   "source": [
    "print('Уникальные значения в столбце city')\n",
    "print(data['city'].value_counts())"
   ]
  },
  {
   "cell_type": "markdown",
   "metadata": {},
   "source": [
    "<div class=\"alert alert-info\">\n",
    "Средняя выручка по Москве и др.городам равны 1547 руб. и 1525 руб. - Средние выручки действительно равны, есть небольшое различие - Пусть нулевая гипотеза звучит так - средние выручки равны - Альтернативная - не равны  "
   ]
  },
  {
   "cell_type": "code",
   "execution_count": 64,
   "metadata": {},
   "outputs": [
    {
     "data": {
      "text/html": [
       "<div>\n",
       "<style scoped>\n",
       "    .dataframe tbody tr th:only-of-type {\n",
       "        vertical-align: middle;\n",
       "    }\n",
       "\n",
       "    .dataframe tbody tr th {\n",
       "        vertical-align: top;\n",
       "    }\n",
       "\n",
       "    .dataframe thead th {\n",
       "        text-align: right;\n",
       "    }\n",
       "</style>\n",
       "<table border=\"1\" class=\"dataframe\">\n",
       "  <thead>\n",
       "    <tr style=\"text-align: right;\">\n",
       "      <th></th>\n",
       "      <th>user_id</th>\n",
       "      <th>month</th>\n",
       "      <th>sum_minut</th>\n",
       "      <th>sum_message</th>\n",
       "      <th>sum_gb</th>\n",
       "      <th>price_month</th>\n",
       "    </tr>\n",
       "  </thead>\n",
       "  <tbody>\n",
       "    <tr>\n",
       "      <th>count</th>\n",
       "      <td>611.00</td>\n",
       "      <td>611.00</td>\n",
       "      <td>611.00</td>\n",
       "      <td>611.00</td>\n",
       "      <td>611.00</td>\n",
       "      <td>611.00</td>\n",
       "    </tr>\n",
       "    <tr>\n",
       "      <th>mean</th>\n",
       "      <td>1268.87</td>\n",
       "      <td>8.43</td>\n",
       "      <td>469.15</td>\n",
       "      <td>37.88</td>\n",
       "      <td>18.05</td>\n",
       "      <td>1546.71</td>\n",
       "    </tr>\n",
       "    <tr>\n",
       "      <th>std</th>\n",
       "      <td>137.53</td>\n",
       "      <td>2.89</td>\n",
       "      <td>241.54</td>\n",
       "      <td>37.16</td>\n",
       "      <td>7.65</td>\n",
       "      <td>752.09</td>\n",
       "    </tr>\n",
       "    <tr>\n",
       "      <th>min</th>\n",
       "      <td>1001.00</td>\n",
       "      <td>1.00</td>\n",
       "      <td>0.00</td>\n",
       "      <td>0.00</td>\n",
       "      <td>1.00</td>\n",
       "      <td>550.00</td>\n",
       "    </tr>\n",
       "    <tr>\n",
       "      <th>25%</th>\n",
       "      <td>1171.00</td>\n",
       "      <td>6.00</td>\n",
       "      <td>304.00</td>\n",
       "      <td>6.50</td>\n",
       "      <td>13.00</td>\n",
       "      <td>780.50</td>\n",
       "    </tr>\n",
       "    <tr>\n",
       "      <th>50%</th>\n",
       "      <td>1291.00</td>\n",
       "      <td>9.00</td>\n",
       "      <td>453.00</td>\n",
       "      <td>29.00</td>\n",
       "      <td>18.00</td>\n",
       "      <td>1750.00</td>\n",
       "    </tr>\n",
       "    <tr>\n",
       "      <th>75%</th>\n",
       "      <td>1385.00</td>\n",
       "      <td>11.00</td>\n",
       "      <td>620.50</td>\n",
       "      <td>57.00</td>\n",
       "      <td>22.00</td>\n",
       "      <td>1950.00</td>\n",
       "    </tr>\n",
       "    <tr>\n",
       "      <th>max</th>\n",
       "      <td>1490.00</td>\n",
       "      <td>12.00</td>\n",
       "      <td>1321.00</td>\n",
       "      <td>191.00</td>\n",
       "      <td>44.00</td>\n",
       "      <td>5321.00</td>\n",
       "    </tr>\n",
       "  </tbody>\n",
       "</table>\n",
       "</div>"
      ],
      "text/plain": [
       "       user_id  month  sum_minut  sum_message  sum_gb  price_month\n",
       "count   611.00 611.00     611.00       611.00  611.00       611.00\n",
       "mean   1268.87   8.43     469.15        37.88   18.05      1546.71\n",
       "std     137.53   2.89     241.54        37.16    7.65       752.09\n",
       "min    1001.00   1.00       0.00         0.00    1.00       550.00\n",
       "25%    1171.00   6.00     304.00         6.50   13.00       780.50\n",
       "50%    1291.00   9.00     453.00        29.00   18.00      1750.00\n",
       "75%    1385.00  11.00     620.50        57.00   22.00      1950.00\n",
       "max    1490.00  12.00    1321.00       191.00   44.00      5321.00"
      ]
     },
     "execution_count": 64,
     "metadata": {},
     "output_type": "execute_result"
    }
   ],
   "source": [
    "data_msk=data.query('city == \"Москва\"')\n",
    "data_msk.describe()"
   ]
  },
  {
   "cell_type": "code",
   "execution_count": 65,
   "metadata": {},
   "outputs": [
    {
     "data": {
      "text/html": [
       "<div>\n",
       "<style scoped>\n",
       "    .dataframe tbody tr th:only-of-type {\n",
       "        vertical-align: middle;\n",
       "    }\n",
       "\n",
       "    .dataframe tbody tr th {\n",
       "        vertical-align: top;\n",
       "    }\n",
       "\n",
       "    .dataframe thead th {\n",
       "        text-align: right;\n",
       "    }\n",
       "</style>\n",
       "<table border=\"1\" class=\"dataframe\">\n",
       "  <thead>\n",
       "    <tr style=\"text-align: right;\">\n",
       "      <th></th>\n",
       "      <th>user_id</th>\n",
       "      <th>month</th>\n",
       "      <th>sum_minut</th>\n",
       "      <th>sum_message</th>\n",
       "      <th>sum_gb</th>\n",
       "      <th>price_month</th>\n",
       "    </tr>\n",
       "  </thead>\n",
       "  <tbody>\n",
       "    <tr>\n",
       "      <th>count</th>\n",
       "      <td>2603.00</td>\n",
       "      <td>2603.00</td>\n",
       "      <td>2603.00</td>\n",
       "      <td>2603.00</td>\n",
       "      <td>2603.00</td>\n",
       "      <td>2603.00</td>\n",
       "    </tr>\n",
       "    <tr>\n",
       "      <th>mean</th>\n",
       "      <td>1247.53</td>\n",
       "      <td>8.29</td>\n",
       "      <td>447.04</td>\n",
       "      <td>38.38</td>\n",
       "      <td>17.12</td>\n",
       "      <td>1524.94</td>\n",
       "    </tr>\n",
       "    <tr>\n",
       "      <th>std</th>\n",
       "      <td>146.01</td>\n",
       "      <td>2.91</td>\n",
       "      <td>241.85</td>\n",
       "      <td>35.91</td>\n",
       "      <td>7.33</td>\n",
       "      <td>808.79</td>\n",
       "    </tr>\n",
       "    <tr>\n",
       "      <th>min</th>\n",
       "      <td>1000.00</td>\n",
       "      <td>1.00</td>\n",
       "      <td>0.00</td>\n",
       "      <td>0.00</td>\n",
       "      <td>0.00</td>\n",
       "      <td>550.00</td>\n",
       "    </tr>\n",
       "    <tr>\n",
       "      <th>25%</th>\n",
       "      <td>1120.00</td>\n",
       "      <td>6.00</td>\n",
       "      <td>280.50</td>\n",
       "      <td>9.50</td>\n",
       "      <td>13.00</td>\n",
       "      <td>750.00</td>\n",
       "    </tr>\n",
       "    <tr>\n",
       "      <th>50%</th>\n",
       "      <td>1241.00</td>\n",
       "      <td>9.00</td>\n",
       "      <td>440.00</td>\n",
       "      <td>30.00</td>\n",
       "      <td>17.00</td>\n",
       "      <td>1583.00</td>\n",
       "    </tr>\n",
       "    <tr>\n",
       "      <th>75%</th>\n",
       "      <td>1377.00</td>\n",
       "      <td>11.00</td>\n",
       "      <td>584.00</td>\n",
       "      <td>57.00</td>\n",
       "      <td>21.00</td>\n",
       "      <td>1950.00</td>\n",
       "    </tr>\n",
       "    <tr>\n",
       "      <th>max</th>\n",
       "      <td>1499.00</td>\n",
       "      <td>12.00</td>\n",
       "      <td>1673.00</td>\n",
       "      <td>224.00</td>\n",
       "      <td>49.00</td>\n",
       "      <td>6770.00</td>\n",
       "    </tr>\n",
       "  </tbody>\n",
       "</table>\n",
       "</div>"
      ],
      "text/plain": [
       "       user_id   month  sum_minut  sum_message  sum_gb  price_month\n",
       "count  2603.00 2603.00    2603.00      2603.00 2603.00      2603.00\n",
       "mean   1247.53    8.29     447.04        38.38   17.12      1524.94\n",
       "std     146.01    2.91     241.85        35.91    7.33       808.79\n",
       "min    1000.00    1.00       0.00         0.00    0.00       550.00\n",
       "25%    1120.00    6.00     280.50         9.50   13.00       750.00\n",
       "50%    1241.00    9.00     440.00        30.00   17.00      1583.00\n",
       "75%    1377.00   11.00     584.00        57.00   21.00      1950.00\n",
       "max    1499.00   12.00    1673.00       224.00   49.00      6770.00"
      ]
     },
     "execution_count": 65,
     "metadata": {},
     "output_type": "execute_result"
    }
   ],
   "source": [
    "data_no_msk=data.query('city != \"Москва\"')\n",
    "data_no_msk.describe()"
   ]
  },
  {
   "cell_type": "code",
   "execution_count": 66,
   "metadata": {},
   "outputs": [
    {
     "name": "stdout",
     "output_type": "stream",
     "text": [
      "p-значение: 0.5440152911670224\n",
      "Не получилось отвергнуть нулевую гипотезу\n"
     ]
    }
   ],
   "source": [
    "alpha = 0.05\n",
    "\n",
    "results = sps.ttest_ind(data_msk['price_month'], data_no_msk['price_month'])\n",
    "\n",
    "print('p-значение:', results.pvalue)\n",
    "\n",
    "if results.pvalue < alpha:\n",
    "    print('Отвергаем нулевую гипотезу')\n",
    "else:\n",
    "    print('Не получилось отвергнуть нулевую гипотезу') "
   ]
  },
  {
   "cell_type": "markdown",
   "metadata": {},
   "source": [
    "<div class=\"alert alert-info\">\n",
    "С вероятностью 54 % небольшое различие можно получить случайно.     "
   ]
  },
  {
   "cell_type": "markdown",
   "metadata": {},
   "source": [
    "## Общий вывод"
   ]
  },
  {
   "cell_type": "markdown",
   "metadata": {},
   "source": [
    "<div class=\"alert alert-info\">\n",
    "\n",
    "Краткий обзор проведённой работы: \n",
    "\n",
    "1. Данные со звонками, сообщениями и интернетом, пользователями не содержали пропущенных значений, дубликатов не было. В таблице звонков была продолжительность 0.0 минут, это неотвеченные звонки , не имеет смысла их убирать, т.к. для анализа суммируем сумму минут за месяц. \n",
    "2. Было проанализировано два тарифа Смарт и Ультра. - В СМАРТ входит 50 сообщений, 500 минут, 15 ГБ, абон.плата – 550 руб. - В УЛЬТРА входит 1000 сообщений, 3000 минут, 30 ГБ, абон.плата – 1950 руб. \n",
    "\n",
    "Анализ тарифов сотового оператора: \n",
    "1. Абоненты в обоих тарифах используют интернет значительно больше лимита. - В Ультра в среднем – 20 ГБ, максимально – 49 ГБ. - 12% из всех месяцев у абонентов УЛЬТРА был превышен лимит ГБ, т.е. было более 30 ГБ - В Смарте в среднем – 16 ГБ, максимально – 38 ГБ. - 50% из всех месяцев у абонентов СМАРТ - больше 15 ГБ, т.е. вышли за лимит - 0,5% из всех месяцев абоненты СМАРТ использовали более 30 ГБ. \n",
    "2. Т.е. в лимиты обоих тарифов входит существенная разница по минутам и сообщениям, а интернет отличатся на 15ГБ. Фактически абоненты обоих тарифов тратят похожее кол-во минут, сообщений абоненты Ультра тратят в среднем немного больше. А интернет абоненты Смарта тратят больше и при этом он для них по более дорогой цене. Более 0,5% месяцев по тарифу Смарт превышают лимит ГБ в два раза, т.е. за дополнительные 15 ГБ платят 3000. А это значит, что эти 0,5% - как минимум приносят оператору 3550 рублей при тех же условиях что и тариф УЛЬТРА. Т.е. вместо 1950 получается 3550. А если еще рассмотреть превышение 30 ГБ, то для сотового оператора абоненты Смарта становятся еще более выгодными, ведь они платят по 200 руб. за ГБ, а Ультра 150 руб. за ГБ. \n",
    "3. Доп.минуты от абонентов Смарт также приносят прибыль сотовому оператору, а именно 22% от выручке по абон.плате. Средняя выручка от абонента в месяц: - УЛЬТРА – 2050 руб. - СМАРТ – 1173 руб. \n",
    "Анализ тарифов и проверка гипотез показывает, что различие это не случайное, а закономерное. Поведение пользователей двух тарифов мало отличается , а расценки разные, отсюда и разность в выручке. Средняя выручка по Москве и другим регионам практически не отличается. \n",
    "\n",
    "Рекомендации:\n",
    "1. Оставить тариф \"Ультра\" и привлекать потребителей к данному тарифу, поскольку он приносит максимальную выручку из двух вариантов.\n",
    "\n",
    "2. Незначительно уменьшить стоимость сверхлимитного использования минут разговора и отправки сообщений в тарифе \"Ультра\", поскольку это может привлечь ещё больше потребителей. Однако не следует рассматривать дополнительную плату за эти опции как дополнительный доход, поскольку пользователи способны уложиться в установленные лимиты.\n",
    "\n",
    "3. При неизменной стоимости дополнительных опций уменьшить лимиты в тарифе \"Ультра\": минуты разговора до 1 500, количество сообщений до 200.\n",
    "\n",
    "4. Региональная политика оператора должна быть идентичной, так как Москва и другие города приносят идентичную среднюю выручку в рамках тарифа."
   ]
  }
 ],
 "metadata": {
  "ExecuteTimeLog": [
   {
    "duration": 1625,
    "start_time": "2022-06-23T14:15:06.224Z"
   },
   {
    "duration": 15,
    "start_time": "2022-06-23T14:26:33.849Z"
   },
   {
    "duration": 322,
    "start_time": "2022-06-23T14:28:26.626Z"
   },
   {
    "duration": 61,
    "start_time": "2022-06-23T14:29:29.972Z"
   },
   {
    "duration": 59,
    "start_time": "2022-06-23T14:30:22.583Z"
   },
   {
    "duration": 13,
    "start_time": "2022-06-23T14:30:22.645Z"
   },
   {
    "duration": 233,
    "start_time": "2022-06-23T14:30:22.660Z"
   },
   {
    "duration": 70,
    "start_time": "2022-06-23T14:31:41.964Z"
   },
   {
    "duration": 43,
    "start_time": "2022-06-23T14:31:59.882Z"
   },
   {
    "duration": 239,
    "start_time": "2022-06-23T14:32:23.651Z"
   },
   {
    "duration": 262,
    "start_time": "2022-06-23T14:32:48.140Z"
   },
   {
    "duration": 68,
    "start_time": "2022-06-23T14:33:47.482Z"
   },
   {
    "duration": 17,
    "start_time": "2022-06-23T14:34:43.845Z"
   },
   {
    "duration": 155,
    "start_time": "2022-06-23T14:37:21.951Z"
   },
   {
    "duration": 66,
    "start_time": "2022-06-23T14:37:47.515Z"
   },
   {
    "duration": 34,
    "start_time": "2022-06-23T14:38:27.246Z"
   },
   {
    "duration": 23,
    "start_time": "2022-06-23T14:38:41.596Z"
   },
   {
    "duration": 38,
    "start_time": "2022-06-23T14:39:03.349Z"
   },
   {
    "duration": 399,
    "start_time": "2022-06-23T14:42:12.766Z"
   },
   {
    "duration": 67,
    "start_time": "2022-06-23T14:43:21.413Z"
   },
   {
    "duration": 54,
    "start_time": "2022-06-23T14:43:38.281Z"
   },
   {
    "duration": 51,
    "start_time": "2022-06-23T14:43:52.666Z"
   },
   {
    "duration": 9,
    "start_time": "2022-06-23T14:44:11.182Z"
   },
   {
    "duration": 514,
    "start_time": "2022-06-23T14:45:50.932Z"
   },
   {
    "duration": 122,
    "start_time": "2022-06-23T14:47:01.979Z"
   },
   {
    "duration": 15,
    "start_time": "2022-06-23T14:47:12.881Z"
   },
   {
    "duration": 30,
    "start_time": "2022-06-23T14:47:25.737Z"
   },
   {
    "duration": 10,
    "start_time": "2022-06-23T14:47:47.054Z"
   },
   {
    "duration": 206,
    "start_time": "2022-06-23T14:49:15.258Z"
   },
   {
    "duration": 64,
    "start_time": "2022-06-23T14:49:41.439Z"
   },
   {
    "duration": 65,
    "start_time": "2022-06-23T14:50:17.347Z"
   },
   {
    "duration": 18,
    "start_time": "2022-06-23T14:51:09.329Z"
   },
   {
    "duration": 20,
    "start_time": "2022-06-23T15:04:21.397Z"
   },
   {
    "duration": 20,
    "start_time": "2022-06-23T15:05:39.341Z"
   },
   {
    "duration": 20,
    "start_time": "2022-06-23T15:06:32.621Z"
   },
   {
    "duration": 20,
    "start_time": "2022-06-23T15:07:04.934Z"
   },
   {
    "duration": 10,
    "start_time": "2022-06-23T15:07:57.702Z"
   },
   {
    "duration": 16,
    "start_time": "2022-06-23T15:08:07.078Z"
   },
   {
    "duration": 8,
    "start_time": "2022-06-23T15:09:33.102Z"
   },
   {
    "duration": 67,
    "start_time": "2022-06-23T15:09:56.509Z"
   },
   {
    "duration": 11,
    "start_time": "2022-06-23T15:09:56.577Z"
   },
   {
    "duration": 203,
    "start_time": "2022-06-23T15:09:56.589Z"
   },
   {
    "duration": 11,
    "start_time": "2022-06-23T15:09:56.794Z"
   },
   {
    "duration": 146,
    "start_time": "2022-06-23T15:09:56.806Z"
   },
   {
    "duration": 60,
    "start_time": "2022-06-23T15:09:56.953Z"
   },
   {
    "duration": 23,
    "start_time": "2022-06-23T15:09:57.014Z"
   },
   {
    "duration": 35,
    "start_time": "2022-06-23T15:09:57.039Z"
   },
   {
    "duration": 27,
    "start_time": "2022-06-23T15:09:57.075Z"
   },
   {
    "duration": 122,
    "start_time": "2022-06-23T15:09:57.105Z"
   },
   {
    "duration": 75,
    "start_time": "2022-06-23T15:09:57.229Z"
   },
   {
    "duration": 46,
    "start_time": "2022-06-23T15:09:57.305Z"
   },
   {
    "duration": 37,
    "start_time": "2022-06-23T15:09:57.353Z"
   },
   {
    "duration": 8,
    "start_time": "2022-06-23T15:09:57.391Z"
   },
   {
    "duration": 199,
    "start_time": "2022-06-23T15:09:57.400Z"
   },
   {
    "duration": 139,
    "start_time": "2022-06-23T15:09:57.601Z"
   },
   {
    "duration": 15,
    "start_time": "2022-06-23T15:09:57.742Z"
   },
   {
    "duration": 30,
    "start_time": "2022-06-23T15:09:57.767Z"
   },
   {
    "duration": 8,
    "start_time": "2022-06-23T15:09:57.799Z"
   },
   {
    "duration": 67,
    "start_time": "2022-06-23T15:09:57.808Z"
   },
   {
    "duration": 18,
    "start_time": "2022-06-23T15:09:57.876Z"
   },
   {
    "duration": 21,
    "start_time": "2022-06-23T15:09:57.896Z"
   },
   {
    "duration": 53,
    "start_time": "2022-06-23T15:09:57.919Z"
   },
   {
    "duration": 23,
    "start_time": "2022-06-23T15:09:57.974Z"
   },
   {
    "duration": 10,
    "start_time": "2022-06-23T15:09:57.998Z"
   },
   {
    "duration": 15,
    "start_time": "2022-06-23T15:09:58.009Z"
   },
   {
    "duration": 7,
    "start_time": "2022-06-23T15:09:58.026Z"
   },
   {
    "duration": 54,
    "start_time": "2022-06-23T15:10:27.106Z"
   },
   {
    "duration": 18,
    "start_time": "2022-06-23T15:10:36.283Z"
   },
   {
    "duration": 9,
    "start_time": "2022-06-23T15:12:19.464Z"
   },
   {
    "duration": 26,
    "start_time": "2022-06-23T15:12:59.624Z"
   },
   {
    "duration": 7,
    "start_time": "2022-06-23T15:13:30.780Z"
   },
   {
    "duration": 4,
    "start_time": "2022-06-23T15:13:38.036Z"
   },
   {
    "duration": 10,
    "start_time": "2022-06-23T15:17:31.349Z"
   },
   {
    "duration": 7,
    "start_time": "2022-06-23T15:18:27.067Z"
   },
   {
    "duration": 6,
    "start_time": "2022-06-23T15:18:54.699Z"
   },
   {
    "duration": 76,
    "start_time": "2022-06-23T15:18:58.804Z"
   },
   {
    "duration": 19,
    "start_time": "2022-06-23T15:18:58.883Z"
   },
   {
    "duration": 285,
    "start_time": "2022-06-23T15:18:58.904Z"
   },
   {
    "duration": 19,
    "start_time": "2022-06-23T15:18:59.192Z"
   },
   {
    "duration": 193,
    "start_time": "2022-06-23T15:18:59.213Z"
   },
   {
    "duration": 55,
    "start_time": "2022-06-23T15:18:59.408Z"
   },
   {
    "duration": 42,
    "start_time": "2022-06-23T15:18:59.465Z"
   },
   {
    "duration": 19,
    "start_time": "2022-06-23T15:18:59.509Z"
   },
   {
    "duration": 54,
    "start_time": "2022-06-23T15:18:59.530Z"
   },
   {
    "duration": 140,
    "start_time": "2022-06-23T15:18:59.587Z"
   },
   {
    "duration": 84,
    "start_time": "2022-06-23T15:18:59.728Z"
   },
   {
    "duration": 60,
    "start_time": "2022-06-23T15:18:59.814Z"
   },
   {
    "duration": 37,
    "start_time": "2022-06-23T15:18:59.878Z"
   },
   {
    "duration": 8,
    "start_time": "2022-06-23T15:18:59.917Z"
   },
   {
    "duration": 216,
    "start_time": "2022-06-23T15:18:59.927Z"
   },
   {
    "duration": 140,
    "start_time": "2022-06-23T15:19:00.145Z"
   },
   {
    "duration": 18,
    "start_time": "2022-06-23T15:19:00.287Z"
   },
   {
    "duration": 36,
    "start_time": "2022-06-23T15:19:00.307Z"
   },
   {
    "duration": 8,
    "start_time": "2022-06-23T15:19:00.344Z"
   },
   {
    "duration": 55,
    "start_time": "2022-06-23T15:19:00.388Z"
   },
   {
    "duration": 16,
    "start_time": "2022-06-23T15:19:00.445Z"
   },
   {
    "duration": 61,
    "start_time": "2022-06-23T15:19:00.463Z"
   },
   {
    "duration": 22,
    "start_time": "2022-06-23T15:19:00.526Z"
   },
   {
    "duration": 22,
    "start_time": "2022-06-23T15:19:00.550Z"
   },
   {
    "duration": 47,
    "start_time": "2022-06-23T15:19:00.573Z"
   },
   {
    "duration": 37,
    "start_time": "2022-06-23T15:19:00.622Z"
   },
   {
    "duration": 38,
    "start_time": "2022-06-23T15:19:00.660Z"
   },
   {
    "duration": 72,
    "start_time": "2022-06-23T15:19:00.701Z"
   },
   {
    "duration": 37,
    "start_time": "2022-06-23T15:19:00.775Z"
   },
   {
    "duration": 10,
    "start_time": "2022-06-23T15:19:00.813Z"
   },
   {
    "duration": 31,
    "start_time": "2022-06-23T15:19:00.824Z"
   },
   {
    "duration": 7,
    "start_time": "2022-06-23T15:19:00.857Z"
   },
   {
    "duration": 64,
    "start_time": "2022-06-23T15:19:00.867Z"
   },
   {
    "duration": 19,
    "start_time": "2022-06-23T15:19:00.933Z"
   },
   {
    "duration": 9,
    "start_time": "2022-06-23T15:19:00.954Z"
   },
   {
    "duration": 87,
    "start_time": "2022-06-23T15:19:16.400Z"
   },
   {
    "duration": 17,
    "start_time": "2022-06-23T15:19:16.490Z"
   },
   {
    "duration": 252,
    "start_time": "2022-06-23T15:19:16.508Z"
   },
   {
    "duration": 14,
    "start_time": "2022-06-23T15:19:16.762Z"
   },
   {
    "duration": 169,
    "start_time": "2022-06-23T15:19:16.780Z"
   },
   {
    "duration": 69,
    "start_time": "2022-06-23T15:19:16.951Z"
   },
   {
    "duration": 30,
    "start_time": "2022-06-23T15:19:17.022Z"
   },
   {
    "duration": 30,
    "start_time": "2022-06-23T15:19:17.054Z"
   },
   {
    "duration": 36,
    "start_time": "2022-06-23T15:19:17.088Z"
   },
   {
    "duration": 139,
    "start_time": "2022-06-23T15:19:17.126Z"
   },
   {
    "duration": 77,
    "start_time": "2022-06-23T15:19:17.267Z"
   },
   {
    "duration": 71,
    "start_time": "2022-06-23T15:19:17.346Z"
   },
   {
    "duration": 27,
    "start_time": "2022-06-23T15:19:17.419Z"
   },
   {
    "duration": 32,
    "start_time": "2022-06-23T15:19:17.449Z"
   },
   {
    "duration": 254,
    "start_time": "2022-06-23T15:19:17.483Z"
   },
   {
    "duration": 159,
    "start_time": "2022-06-23T15:19:17.739Z"
   },
   {
    "duration": 17,
    "start_time": "2022-06-23T15:19:17.900Z"
   },
   {
    "duration": 29,
    "start_time": "2022-06-23T15:19:17.918Z"
   },
   {
    "duration": 21,
    "start_time": "2022-06-23T15:19:17.973Z"
   },
   {
    "duration": 60,
    "start_time": "2022-06-23T15:19:17.996Z"
   },
   {
    "duration": 28,
    "start_time": "2022-06-23T15:19:18.058Z"
   },
   {
    "duration": 35,
    "start_time": "2022-06-23T15:19:18.088Z"
   },
   {
    "duration": 21,
    "start_time": "2022-06-23T15:19:18.125Z"
   },
   {
    "duration": 52,
    "start_time": "2022-06-23T15:19:18.147Z"
   },
   {
    "duration": 10,
    "start_time": "2022-06-23T15:19:18.201Z"
   },
   {
    "duration": 17,
    "start_time": "2022-06-23T15:19:18.213Z"
   },
   {
    "duration": 10,
    "start_time": "2022-06-23T15:19:18.232Z"
   },
   {
    "duration": 102,
    "start_time": "2022-06-23T15:19:18.244Z"
   },
   {
    "duration": 17,
    "start_time": "2022-06-23T15:19:18.348Z"
   },
   {
    "duration": 10,
    "start_time": "2022-06-23T15:19:18.368Z"
   },
   {
    "duration": 51,
    "start_time": "2022-06-23T15:19:18.383Z"
   },
   {
    "duration": 7,
    "start_time": "2022-06-23T15:19:18.436Z"
   },
   {
    "duration": 7,
    "start_time": "2022-06-23T15:19:18.445Z"
   },
   {
    "duration": 20,
    "start_time": "2022-06-23T15:19:18.454Z"
   },
   {
    "duration": 35,
    "start_time": "2022-06-23T15:19:18.476Z"
   },
   {
    "duration": 13,
    "start_time": "2022-06-23T15:19:47.001Z"
   },
   {
    "duration": 13,
    "start_time": "2022-06-23T15:19:51.716Z"
   },
   {
    "duration": 18,
    "start_time": "2022-06-23T15:20:04.404Z"
   },
   {
    "duration": 65,
    "start_time": "2022-06-23T15:20:41.999Z"
   },
   {
    "duration": 19,
    "start_time": "2022-06-23T15:20:42.066Z"
   },
   {
    "duration": 273,
    "start_time": "2022-06-23T15:20:42.087Z"
   },
   {
    "duration": 23,
    "start_time": "2022-06-23T15:20:42.376Z"
   },
   {
    "duration": 149,
    "start_time": "2022-06-23T15:20:42.402Z"
   },
   {
    "duration": 66,
    "start_time": "2022-06-23T15:20:42.553Z"
   },
   {
    "duration": 21,
    "start_time": "2022-06-23T15:20:42.621Z"
   },
   {
    "duration": 37,
    "start_time": "2022-06-23T15:20:42.643Z"
   },
   {
    "duration": 61,
    "start_time": "2022-06-23T15:20:42.682Z"
   },
   {
    "duration": 132,
    "start_time": "2022-06-23T15:20:42.746Z"
   },
   {
    "duration": 72,
    "start_time": "2022-06-23T15:20:42.880Z"
   },
   {
    "duration": 59,
    "start_time": "2022-06-23T15:20:42.954Z"
   },
   {
    "duration": 26,
    "start_time": "2022-06-23T15:20:43.014Z"
   },
   {
    "duration": 8,
    "start_time": "2022-06-23T15:20:43.043Z"
   },
   {
    "duration": 247,
    "start_time": "2022-06-23T15:20:43.067Z"
   },
   {
    "duration": 123,
    "start_time": "2022-06-23T15:20:43.315Z"
   },
   {
    "duration": 12,
    "start_time": "2022-06-23T15:20:43.439Z"
   },
   {
    "duration": 46,
    "start_time": "2022-06-23T15:20:43.452Z"
   },
   {
    "duration": 21,
    "start_time": "2022-06-23T15:20:43.499Z"
   },
   {
    "duration": 90,
    "start_time": "2022-06-23T15:20:43.521Z"
   },
   {
    "duration": 18,
    "start_time": "2022-06-23T15:20:43.614Z"
   },
   {
    "duration": 30,
    "start_time": "2022-06-23T15:20:43.634Z"
   },
   {
    "duration": 27,
    "start_time": "2022-06-23T15:20:43.667Z"
   },
   {
    "duration": 48,
    "start_time": "2022-06-23T15:20:43.696Z"
   },
   {
    "duration": 12,
    "start_time": "2022-06-23T15:20:43.745Z"
   },
   {
    "duration": 65,
    "start_time": "2022-06-23T15:20:43.758Z"
   },
   {
    "duration": 21,
    "start_time": "2022-06-23T15:20:43.826Z"
   },
   {
    "duration": 111,
    "start_time": "2022-06-23T15:20:43.848Z"
   },
   {
    "duration": 30,
    "start_time": "2022-06-23T15:20:43.960Z"
   },
   {
    "duration": 33,
    "start_time": "2022-06-23T15:20:43.992Z"
   },
   {
    "duration": 35,
    "start_time": "2022-06-23T15:20:44.026Z"
   },
   {
    "duration": 13,
    "start_time": "2022-06-23T15:20:44.063Z"
   },
   {
    "duration": 67,
    "start_time": "2022-06-23T15:20:44.078Z"
   },
   {
    "duration": 52,
    "start_time": "2022-06-23T15:20:44.147Z"
   },
   {
    "duration": 20,
    "start_time": "2022-06-23T15:20:44.203Z"
   },
   {
    "duration": 264,
    "start_time": "2022-06-23T15:21:37.468Z"
   },
   {
    "duration": 228,
    "start_time": "2022-06-23T15:22:06.885Z"
   },
   {
    "duration": 315,
    "start_time": "2022-06-23T15:23:28.385Z"
   },
   {
    "duration": 256,
    "start_time": "2022-06-23T15:23:39.566Z"
   },
   {
    "duration": 131,
    "start_time": "2022-06-23T15:24:14.122Z"
   },
   {
    "duration": 235,
    "start_time": "2022-06-23T15:24:36.541Z"
   },
   {
    "duration": 12,
    "start_time": "2022-06-23T15:25:55.386Z"
   },
   {
    "duration": 136,
    "start_time": "2022-06-23T15:26:14.019Z"
   },
   {
    "duration": 404,
    "start_time": "2022-06-23T15:26:37.290Z"
   },
   {
    "duration": 264,
    "start_time": "2022-06-23T15:30:55.179Z"
   },
   {
    "duration": 59,
    "start_time": "2022-06-23T15:31:25.078Z"
   },
   {
    "duration": 86,
    "start_time": "2022-06-23T15:32:05.255Z"
   },
   {
    "duration": 44,
    "start_time": "2022-06-23T15:32:13.205Z"
   },
   {
    "duration": 453,
    "start_time": "2022-06-23T15:32:31.139Z"
   },
   {
    "duration": 455,
    "start_time": "2022-06-23T15:33:10.697Z"
   },
   {
    "duration": 448,
    "start_time": "2022-06-23T15:35:29.646Z"
   },
   {
    "duration": 403,
    "start_time": "2022-06-23T15:35:43.993Z"
   },
   {
    "duration": 448,
    "start_time": "2022-06-23T15:36:26.123Z"
   },
   {
    "duration": 456,
    "start_time": "2022-06-23T15:40:26.248Z"
   },
   {
    "duration": 7,
    "start_time": "2022-06-23T15:41:27.368Z"
   },
   {
    "duration": 274,
    "start_time": "2022-06-23T15:41:34.406Z"
   },
   {
    "duration": 316,
    "start_time": "2022-06-23T15:41:54.420Z"
   },
   {
    "duration": 49,
    "start_time": "2022-06-23T15:42:11.004Z"
   },
   {
    "duration": 461,
    "start_time": "2022-06-23T15:42:54.617Z"
   },
   {
    "duration": 485,
    "start_time": "2022-06-23T15:43:52.871Z"
   },
   {
    "duration": 376,
    "start_time": "2022-06-23T16:51:46.514Z"
   },
   {
    "duration": 374,
    "start_time": "2022-06-23T16:52:02.764Z"
   },
   {
    "duration": 347,
    "start_time": "2022-06-23T16:52:40.912Z"
   },
   {
    "duration": 370,
    "start_time": "2022-06-23T16:53:24.581Z"
   },
   {
    "duration": 401,
    "start_time": "2022-06-23T16:53:50.640Z"
   },
   {
    "duration": 424,
    "start_time": "2022-06-23T16:54:02.039Z"
   },
   {
    "duration": 373,
    "start_time": "2022-06-23T16:54:35.415Z"
   },
   {
    "duration": 358,
    "start_time": "2022-06-23T16:54:46.297Z"
   },
   {
    "duration": 418,
    "start_time": "2022-06-23T16:56:23.319Z"
   },
   {
    "duration": 354,
    "start_time": "2022-06-23T16:56:43.692Z"
   },
   {
    "duration": 534,
    "start_time": "2022-06-23T16:57:30.414Z"
   },
   {
    "duration": 339,
    "start_time": "2022-06-23T16:57:36.790Z"
   },
   {
    "duration": 268,
    "start_time": "2022-06-23T16:58:22.741Z"
   },
   {
    "duration": 354,
    "start_time": "2022-06-23T16:58:37.305Z"
   },
   {
    "duration": 275,
    "start_time": "2022-06-23T17:01:00.140Z"
   },
   {
    "duration": 255,
    "start_time": "2022-06-23T17:01:28.367Z"
   },
   {
    "duration": 333,
    "start_time": "2022-06-23T17:01:36.195Z"
   },
   {
    "duration": 381,
    "start_time": "2022-06-23T17:05:54.275Z"
   },
   {
    "duration": 191,
    "start_time": "2022-06-23T17:07:12.309Z"
   },
   {
    "duration": 312,
    "start_time": "2022-06-23T17:08:50.320Z"
   },
   {
    "duration": 471,
    "start_time": "2022-06-23T17:09:10.564Z"
   },
   {
    "duration": 347,
    "start_time": "2022-06-23T17:09:33.581Z"
   },
   {
    "duration": 382,
    "start_time": "2022-06-23T17:09:40.564Z"
   },
   {
    "duration": 287,
    "start_time": "2022-06-23T17:11:39.930Z"
   },
   {
    "duration": 407,
    "start_time": "2022-06-23T17:12:07.828Z"
   },
   {
    "duration": 6,
    "start_time": "2022-06-23T17:13:12.920Z"
   },
   {
    "duration": 342,
    "start_time": "2022-06-23T17:15:01.502Z"
   },
   {
    "duration": 353,
    "start_time": "2022-06-23T17:15:23.507Z"
   },
   {
    "duration": 3,
    "start_time": "2022-06-23T17:15:47.934Z"
   },
   {
    "duration": 365,
    "start_time": "2022-06-23T17:16:07.541Z"
   },
   {
    "duration": 5,
    "start_time": "2022-06-23T17:16:16.340Z"
   },
   {
    "duration": 6,
    "start_time": "2022-06-23T17:16:47.502Z"
   },
   {
    "duration": 75,
    "start_time": "2022-06-23T17:17:38.685Z"
   },
   {
    "duration": 185,
    "start_time": "2022-06-23T17:17:49.534Z"
   },
   {
    "duration": 338,
    "start_time": "2022-06-23T17:18:00.467Z"
   },
   {
    "duration": 14,
    "start_time": "2022-06-23T17:19:23.563Z"
   },
   {
    "duration": 72,
    "start_time": "2022-06-23T17:19:59.307Z"
   },
   {
    "duration": 15,
    "start_time": "2022-06-23T17:19:59.382Z"
   },
   {
    "duration": 228,
    "start_time": "2022-06-23T17:19:59.398Z"
   },
   {
    "duration": 12,
    "start_time": "2022-06-23T17:19:59.628Z"
   },
   {
    "duration": 173,
    "start_time": "2022-06-23T17:19:59.641Z"
   },
   {
    "duration": 73,
    "start_time": "2022-06-23T17:19:59.816Z"
   },
   {
    "duration": 25,
    "start_time": "2022-06-23T17:19:59.891Z"
   },
   {
    "duration": 19,
    "start_time": "2022-06-23T17:19:59.918Z"
   },
   {
    "duration": 61,
    "start_time": "2022-06-23T17:19:59.939Z"
   },
   {
    "duration": 147,
    "start_time": "2022-06-23T17:20:00.003Z"
   },
   {
    "duration": 84,
    "start_time": "2022-06-23T17:20:00.152Z"
   },
   {
    "duration": 65,
    "start_time": "2022-06-23T17:20:00.238Z"
   },
   {
    "duration": 30,
    "start_time": "2022-06-23T17:20:00.305Z"
   },
   {
    "duration": 30,
    "start_time": "2022-06-23T17:20:00.338Z"
   },
   {
    "duration": 206,
    "start_time": "2022-06-23T17:20:00.374Z"
   },
   {
    "duration": 141,
    "start_time": "2022-06-23T17:20:00.589Z"
   },
   {
    "duration": 18,
    "start_time": "2022-06-23T17:20:00.732Z"
   },
   {
    "duration": 36,
    "start_time": "2022-06-23T17:20:00.770Z"
   },
   {
    "duration": 12,
    "start_time": "2022-06-23T17:20:00.808Z"
   },
   {
    "duration": 88,
    "start_time": "2022-06-23T17:20:00.822Z"
   },
   {
    "duration": 19,
    "start_time": "2022-06-23T17:20:00.912Z"
   },
   {
    "duration": 36,
    "start_time": "2022-06-23T17:20:00.933Z"
   },
   {
    "duration": 31,
    "start_time": "2022-06-23T17:20:00.977Z"
   },
   {
    "duration": 26,
    "start_time": "2022-06-23T17:20:01.009Z"
   },
   {
    "duration": 30,
    "start_time": "2022-06-23T17:20:01.038Z"
   },
   {
    "duration": 38,
    "start_time": "2022-06-23T17:20:01.081Z"
   },
   {
    "duration": 32,
    "start_time": "2022-06-23T17:20:01.121Z"
   },
   {
    "duration": 81,
    "start_time": "2022-06-23T17:20:01.158Z"
   },
   {
    "duration": 21,
    "start_time": "2022-06-23T17:20:01.241Z"
   },
   {
    "duration": 40,
    "start_time": "2022-06-23T17:20:01.264Z"
   },
   {
    "duration": 57,
    "start_time": "2022-06-23T17:20:01.306Z"
   },
   {
    "duration": 43,
    "start_time": "2022-06-23T17:20:01.365Z"
   },
   {
    "duration": 77,
    "start_time": "2022-06-23T17:20:01.410Z"
   },
   {
    "duration": 28,
    "start_time": "2022-06-23T17:20:01.489Z"
   },
   {
    "duration": 37,
    "start_time": "2022-06-23T17:20:01.519Z"
   },
   {
    "duration": 387,
    "start_time": "2022-06-23T17:20:01.558Z"
   },
   {
    "duration": 471,
    "start_time": "2022-06-23T17:20:01.947Z"
   },
   {
    "duration": 6,
    "start_time": "2022-06-23T17:20:02.420Z"
   },
   {
    "duration": 18,
    "start_time": "2022-06-23T17:20:02.428Z"
   },
   {
    "duration": 394,
    "start_time": "2022-06-23T17:20:02.448Z"
   },
   {
    "duration": 5,
    "start_time": "2022-06-23T17:20:02.845Z"
   },
   {
    "duration": 2,
    "start_time": "2022-06-23T17:20:34.484Z"
   },
   {
    "duration": 8,
    "start_time": "2022-06-23T17:20:53.102Z"
   },
   {
    "duration": 28,
    "start_time": "2022-06-23T17:21:03.220Z"
   },
   {
    "duration": 11,
    "start_time": "2022-06-23T17:21:20.985Z"
   },
   {
    "duration": 63,
    "start_time": "2022-06-23T17:21:44.766Z"
   },
   {
    "duration": 5,
    "start_time": "2022-06-23T17:22:04.703Z"
   },
   {
    "duration": 110,
    "start_time": "2022-06-23T17:22:36.507Z"
   },
   {
    "duration": 9,
    "start_time": "2022-06-23T17:22:57.738Z"
   },
   {
    "duration": 5,
    "start_time": "2022-06-23T17:23:27.526Z"
   },
   {
    "duration": 3,
    "start_time": "2022-06-23T17:24:45.369Z"
   },
   {
    "duration": 7,
    "start_time": "2022-06-23T17:25:29.578Z"
   },
   {
    "duration": 360,
    "start_time": "2022-06-23T17:26:15.397Z"
   },
   {
    "duration": 11,
    "start_time": "2022-06-23T17:27:57.004Z"
   },
   {
    "duration": 11,
    "start_time": "2022-06-23T17:28:32.524Z"
   },
   {
    "duration": 14,
    "start_time": "2022-06-23T17:30:05.481Z"
   },
   {
    "duration": 5,
    "start_time": "2022-06-23T17:32:13.370Z"
   },
   {
    "duration": 218,
    "start_time": "2022-06-23T17:32:55.639Z"
   },
   {
    "duration": 394,
    "start_time": "2022-06-23T17:33:00.839Z"
   },
   {
    "duration": 11,
    "start_time": "2022-06-23T17:33:45.917Z"
   },
   {
    "duration": 83,
    "start_time": "2022-06-23T17:34:04.873Z"
   },
   {
    "duration": 11,
    "start_time": "2022-06-23T17:34:39.690Z"
   },
   {
    "duration": 7,
    "start_time": "2022-06-23T17:45:01.697Z"
   },
   {
    "duration": 226,
    "start_time": "2022-06-23T17:45:45.905Z"
   },
   {
    "duration": 395,
    "start_time": "2022-06-23T17:45:50.658Z"
   },
   {
    "duration": 12,
    "start_time": "2022-06-23T17:46:31.619Z"
   },
   {
    "duration": 14,
    "start_time": "2022-06-23T17:47:08.705Z"
   },
   {
    "duration": 9,
    "start_time": "2022-06-23T17:49:49.422Z"
   },
   {
    "duration": 7,
    "start_time": "2022-06-23T17:51:19.291Z"
   },
   {
    "duration": 70,
    "start_time": "2022-06-23T17:54:07.493Z"
   },
   {
    "duration": 13,
    "start_time": "2022-06-23T17:54:07.566Z"
   },
   {
    "duration": 227,
    "start_time": "2022-06-23T17:54:07.581Z"
   },
   {
    "duration": 13,
    "start_time": "2022-06-23T17:54:07.810Z"
   },
   {
    "duration": 155,
    "start_time": "2022-06-23T17:54:07.825Z"
   },
   {
    "duration": 58,
    "start_time": "2022-06-23T17:54:07.982Z"
   },
   {
    "duration": 39,
    "start_time": "2022-06-23T17:54:08.042Z"
   },
   {
    "duration": 20,
    "start_time": "2022-06-23T17:54:08.083Z"
   },
   {
    "duration": 32,
    "start_time": "2022-06-23T17:54:08.105Z"
   },
   {
    "duration": 149,
    "start_time": "2022-06-23T17:54:08.139Z"
   },
   {
    "duration": 77,
    "start_time": "2022-06-23T17:54:08.290Z"
   },
   {
    "duration": 50,
    "start_time": "2022-06-23T17:54:08.369Z"
   },
   {
    "duration": 53,
    "start_time": "2022-06-23T17:54:08.422Z"
   },
   {
    "duration": 10,
    "start_time": "2022-06-23T17:54:08.479Z"
   },
   {
    "duration": 187,
    "start_time": "2022-06-23T17:54:08.491Z"
   },
   {
    "duration": 124,
    "start_time": "2022-06-23T17:54:08.679Z"
   },
   {
    "duration": 14,
    "start_time": "2022-06-23T17:54:08.805Z"
   },
   {
    "duration": 52,
    "start_time": "2022-06-23T17:54:08.821Z"
   },
   {
    "duration": 12,
    "start_time": "2022-06-23T17:54:08.876Z"
   },
   {
    "duration": 91,
    "start_time": "2022-06-23T17:54:08.890Z"
   },
   {
    "duration": 21,
    "start_time": "2022-06-23T17:54:08.983Z"
   },
   {
    "duration": 27,
    "start_time": "2022-06-23T17:54:09.006Z"
   },
   {
    "duration": 57,
    "start_time": "2022-06-23T17:54:09.036Z"
   },
   {
    "duration": 28,
    "start_time": "2022-06-23T17:54:09.095Z"
   },
   {
    "duration": 11,
    "start_time": "2022-06-23T17:54:09.126Z"
   },
   {
    "duration": 44,
    "start_time": "2022-06-23T17:54:09.139Z"
   },
   {
    "duration": 8,
    "start_time": "2022-06-23T17:54:09.185Z"
   },
   {
    "duration": 80,
    "start_time": "2022-06-23T17:54:09.195Z"
   },
   {
    "duration": 17,
    "start_time": "2022-06-23T17:54:09.277Z"
   },
   {
    "duration": 10,
    "start_time": "2022-06-23T17:54:09.296Z"
   },
   {
    "duration": 27,
    "start_time": "2022-06-23T17:54:09.308Z"
   },
   {
    "duration": 34,
    "start_time": "2022-06-23T17:54:09.337Z"
   },
   {
    "duration": 8,
    "start_time": "2022-06-23T17:54:09.373Z"
   },
   {
    "duration": 13,
    "start_time": "2022-06-23T17:54:09.382Z"
   },
   {
    "duration": 19,
    "start_time": "2022-06-23T17:54:09.396Z"
   },
   {
    "duration": 369,
    "start_time": "2022-06-23T17:54:09.416Z"
   },
   {
    "duration": 303,
    "start_time": "2022-06-23T17:54:09.787Z"
   },
   {
    "duration": 6,
    "start_time": "2022-06-23T17:54:10.092Z"
   },
   {
    "duration": 9,
    "start_time": "2022-06-23T17:54:10.099Z"
   },
   {
    "duration": 379,
    "start_time": "2022-06-23T17:54:10.110Z"
   },
   {
    "duration": 5,
    "start_time": "2022-06-23T17:54:10.493Z"
   },
   {
    "duration": 11,
    "start_time": "2022-06-23T17:54:10.500Z"
   },
   {
    "duration": 37,
    "start_time": "2022-06-23T17:54:10.513Z"
   },
   {
    "duration": 7,
    "start_time": "2022-06-23T17:54:10.568Z"
   },
   {
    "duration": 5,
    "start_time": "2022-06-23T17:54:10.577Z"
   },
   {
    "duration": 11,
    "start_time": "2022-06-23T17:54:10.583Z"
   },
   {
    "duration": 4,
    "start_time": "2022-06-23T17:54:10.596Z"
   },
   {
    "duration": 5,
    "start_time": "2022-06-23T17:54:10.602Z"
   },
   {
    "duration": 418,
    "start_time": "2022-06-23T17:54:10.609Z"
   },
   {
    "duration": 14,
    "start_time": "2022-06-23T17:54:11.029Z"
   },
   {
    "duration": 30,
    "start_time": "2022-06-23T17:54:11.045Z"
   },
   {
    "duration": 6,
    "start_time": "2022-06-23T17:54:11.078Z"
   },
   {
    "duration": 325,
    "start_time": "2022-06-23T17:54:11.086Z"
   },
   {
    "duration": 12,
    "start_time": "2022-06-23T17:54:11.412Z"
   },
   {
    "duration": 17,
    "start_time": "2022-06-23T17:54:11.427Z"
   },
   {
    "duration": 6,
    "start_time": "2022-06-23T17:54:11.468Z"
   },
   {
    "duration": 537,
    "start_time": "2022-06-23T17:54:11.475Z"
   },
   {
    "duration": 17,
    "start_time": "2022-06-23T17:54:12.014Z"
   },
   {
    "duration": 24,
    "start_time": "2022-06-23T17:54:12.033Z"
   },
   {
    "duration": 17,
    "start_time": "2022-06-23T17:54:12.059Z"
   },
   {
    "duration": 13,
    "start_time": "2022-06-23T17:57:09.299Z"
   },
   {
    "duration": 8,
    "start_time": "2022-06-23T17:57:21.716Z"
   },
   {
    "duration": 24,
    "start_time": "2022-06-23T17:58:35.112Z"
   },
   {
    "duration": 26,
    "start_time": "2022-06-23T17:59:00.799Z"
   },
   {
    "duration": 6,
    "start_time": "2022-06-23T17:59:34.305Z"
   },
   {
    "duration": 76,
    "start_time": "2022-06-23T18:12:17.037Z"
   },
   {
    "duration": 14,
    "start_time": "2022-06-23T18:12:17.116Z"
   },
   {
    "duration": 280,
    "start_time": "2022-06-23T18:12:17.132Z"
   },
   {
    "duration": 13,
    "start_time": "2022-06-23T18:12:17.415Z"
   },
   {
    "duration": 173,
    "start_time": "2022-06-23T18:12:17.430Z"
   },
   {
    "duration": 88,
    "start_time": "2022-06-23T18:12:17.606Z"
   },
   {
    "duration": 28,
    "start_time": "2022-06-23T18:12:17.696Z"
   },
   {
    "duration": 19,
    "start_time": "2022-06-23T18:12:17.726Z"
   },
   {
    "duration": 41,
    "start_time": "2022-06-23T18:12:17.768Z"
   },
   {
    "duration": 145,
    "start_time": "2022-06-23T18:12:17.812Z"
   },
   {
    "duration": 90,
    "start_time": "2022-06-23T18:12:17.959Z"
   },
   {
    "duration": 67,
    "start_time": "2022-06-23T18:12:18.051Z"
   },
   {
    "duration": 59,
    "start_time": "2022-06-23T18:12:18.120Z"
   },
   {
    "duration": 10,
    "start_time": "2022-06-23T18:12:18.181Z"
   },
   {
    "duration": 220,
    "start_time": "2022-06-23T18:12:18.193Z"
   },
   {
    "duration": 194,
    "start_time": "2022-06-23T18:12:18.415Z"
   },
   {
    "duration": 20,
    "start_time": "2022-06-23T18:12:18.611Z"
   },
   {
    "duration": 53,
    "start_time": "2022-06-23T18:12:18.633Z"
   },
   {
    "duration": 12,
    "start_time": "2022-06-23T18:12:18.688Z"
   },
   {
    "duration": 72,
    "start_time": "2022-06-23T18:12:18.702Z"
   },
   {
    "duration": 28,
    "start_time": "2022-06-23T18:12:18.776Z"
   },
   {
    "duration": 83,
    "start_time": "2022-06-23T18:12:18.806Z"
   },
   {
    "duration": 36,
    "start_time": "2022-06-23T18:12:18.891Z"
   },
   {
    "duration": 60,
    "start_time": "2022-06-23T18:12:18.930Z"
   },
   {
    "duration": 19,
    "start_time": "2022-06-23T18:12:18.993Z"
   },
   {
    "duration": 75,
    "start_time": "2022-06-23T18:12:19.015Z"
   },
   {
    "duration": 41,
    "start_time": "2022-06-23T18:12:19.092Z"
   },
   {
    "duration": 108,
    "start_time": "2022-06-23T18:12:19.171Z"
   },
   {
    "duration": 28,
    "start_time": "2022-06-23T18:12:19.285Z"
   },
   {
    "duration": 27,
    "start_time": "2022-06-23T18:12:19.315Z"
   },
   {
    "duration": 53,
    "start_time": "2022-06-23T18:12:19.344Z"
   },
   {
    "duration": 11,
    "start_time": "2022-06-23T18:12:19.399Z"
   },
   {
    "duration": 15,
    "start_time": "2022-06-23T18:12:19.411Z"
   },
   {
    "duration": 19,
    "start_time": "2022-06-23T18:12:19.428Z"
   },
   {
    "duration": 25,
    "start_time": "2022-06-23T18:12:19.450Z"
   },
   {
    "duration": 404,
    "start_time": "2022-06-23T18:12:19.477Z"
   },
   {
    "duration": 361,
    "start_time": "2022-06-23T18:12:19.883Z"
   },
   {
    "duration": 6,
    "start_time": "2022-06-23T18:12:20.246Z"
   },
   {
    "duration": 34,
    "start_time": "2022-06-23T18:12:20.267Z"
   },
   {
    "duration": 394,
    "start_time": "2022-06-23T18:12:20.303Z"
   },
   {
    "duration": 7,
    "start_time": "2022-06-23T18:12:20.699Z"
   },
   {
    "duration": 24,
    "start_time": "2022-06-23T18:12:20.708Z"
   },
   {
    "duration": 52,
    "start_time": "2022-06-23T18:12:20.734Z"
   },
   {
    "duration": 18,
    "start_time": "2022-06-23T18:12:20.788Z"
   },
   {
    "duration": 21,
    "start_time": "2022-06-23T18:12:20.808Z"
   },
   {
    "duration": 13,
    "start_time": "2022-06-23T18:12:20.831Z"
   },
   {
    "duration": 22,
    "start_time": "2022-06-23T18:12:20.846Z"
   },
   {
    "duration": 24,
    "start_time": "2022-06-23T18:12:20.870Z"
   },
   {
    "duration": 462,
    "start_time": "2022-06-23T18:12:20.896Z"
   },
   {
    "duration": 22,
    "start_time": "2022-06-23T18:12:21.360Z"
   },
   {
    "duration": 29,
    "start_time": "2022-06-23T18:12:21.385Z"
   },
   {
    "duration": 16,
    "start_time": "2022-06-23T18:12:21.416Z"
   },
   {
    "duration": 383,
    "start_time": "2022-06-23T18:12:21.434Z"
   },
   {
    "duration": 13,
    "start_time": "2022-06-23T18:12:21.819Z"
   },
   {
    "duration": 34,
    "start_time": "2022-06-23T18:12:21.835Z"
   },
   {
    "duration": 63,
    "start_time": "2022-06-23T18:12:21.871Z"
   },
   {
    "duration": 451,
    "start_time": "2022-06-23T18:12:21.936Z"
   },
   {
    "duration": 13,
    "start_time": "2022-06-23T18:12:22.389Z"
   },
   {
    "duration": 35,
    "start_time": "2022-06-23T18:12:22.404Z"
   },
   {
    "duration": 54,
    "start_time": "2022-06-23T18:12:22.441Z"
   },
   {
    "duration": 37,
    "start_time": "2022-06-23T18:12:22.497Z"
   },
   {
    "duration": 66,
    "start_time": "2022-06-23T18:12:22.536Z"
   },
   {
    "duration": 57,
    "start_time": "2022-06-23T18:12:22.604Z"
   },
   {
    "duration": 59,
    "start_time": "2022-06-23T18:12:22.664Z"
   },
   {
    "duration": 18,
    "start_time": "2022-06-23T18:12:22.725Z"
   },
   {
    "duration": 1511,
    "start_time": "2022-06-24T10:11:57.502Z"
   },
   {
    "duration": 21,
    "start_time": "2022-06-24T10:11:59.016Z"
   },
   {
    "duration": 373,
    "start_time": "2022-06-24T10:11:59.044Z"
   },
   {
    "duration": 24,
    "start_time": "2022-06-24T10:11:59.419Z"
   },
   {
    "duration": 247,
    "start_time": "2022-06-24T10:11:59.446Z"
   },
   {
    "duration": 76,
    "start_time": "2022-06-24T10:11:59.695Z"
   },
   {
    "duration": 27,
    "start_time": "2022-06-24T10:11:59.773Z"
   },
   {
    "duration": 47,
    "start_time": "2022-06-24T10:11:59.802Z"
   },
   {
    "duration": 34,
    "start_time": "2022-06-24T10:11:59.851Z"
   },
   {
    "duration": 455,
    "start_time": "2022-06-24T10:11:59.887Z"
   },
   {
    "duration": 96,
    "start_time": "2022-06-24T10:12:00.344Z"
   },
   {
    "duration": 69,
    "start_time": "2022-06-24T10:12:00.445Z"
   },
   {
    "duration": 49,
    "start_time": "2022-06-24T10:12:00.516Z"
   },
   {
    "duration": 34,
    "start_time": "2022-06-24T10:12:00.568Z"
   },
   {
    "duration": 595,
    "start_time": "2022-06-24T10:12:00.604Z"
   },
   {
    "duration": 194,
    "start_time": "2022-06-24T10:12:01.202Z"
   },
   {
    "duration": 43,
    "start_time": "2022-06-24T10:12:01.400Z"
   },
   {
    "duration": 57,
    "start_time": "2022-06-24T10:12:01.447Z"
   },
   {
    "duration": 29,
    "start_time": "2022-06-24T10:12:01.507Z"
   },
   {
    "duration": 201,
    "start_time": "2022-06-24T10:12:01.539Z"
   },
   {
    "duration": 36,
    "start_time": "2022-06-24T10:12:01.743Z"
   },
   {
    "duration": 56,
    "start_time": "2022-06-24T10:12:01.782Z"
   },
   {
    "duration": 52,
    "start_time": "2022-06-24T10:12:01.841Z"
   },
   {
    "duration": 38,
    "start_time": "2022-06-24T10:12:01.896Z"
   },
   {
    "duration": 18,
    "start_time": "2022-06-24T10:12:01.937Z"
   },
   {
    "duration": 42,
    "start_time": "2022-06-24T10:12:01.958Z"
   },
   {
    "duration": 13,
    "start_time": "2022-06-24T10:12:02.003Z"
   },
   {
    "duration": 88,
    "start_time": "2022-06-24T10:12:02.021Z"
   },
   {
    "duration": 33,
    "start_time": "2022-06-24T10:12:02.111Z"
   },
   {
    "duration": 23,
    "start_time": "2022-06-24T10:12:02.149Z"
   },
   {
    "duration": 41,
    "start_time": "2022-06-24T10:12:02.174Z"
   },
   {
    "duration": 17,
    "start_time": "2022-06-24T10:12:02.217Z"
   },
   {
    "duration": 35,
    "start_time": "2022-06-24T10:12:02.237Z"
   },
   {
    "duration": 16,
    "start_time": "2022-06-24T10:12:02.276Z"
   },
   {
    "duration": 13,
    "start_time": "2022-06-24T10:12:02.294Z"
   },
   {
    "duration": 397,
    "start_time": "2022-06-24T10:12:02.309Z"
   },
   {
    "duration": 368,
    "start_time": "2022-06-24T10:12:02.709Z"
   },
   {
    "duration": 7,
    "start_time": "2022-06-24T10:12:03.082Z"
   },
   {
    "duration": 12,
    "start_time": "2022-06-24T10:12:03.092Z"
   },
   {
    "duration": 374,
    "start_time": "2022-06-24T10:12:03.106Z"
   },
   {
    "duration": 6,
    "start_time": "2022-06-24T10:12:03.484Z"
   },
   {
    "duration": 17,
    "start_time": "2022-06-24T10:12:03.492Z"
   },
   {
    "duration": 76,
    "start_time": "2022-06-24T10:12:03.512Z"
   },
   {
    "duration": 11,
    "start_time": "2022-06-24T10:12:03.591Z"
   },
   {
    "duration": 11,
    "start_time": "2022-06-24T10:12:03.605Z"
   },
   {
    "duration": 36,
    "start_time": "2022-06-24T10:12:03.618Z"
   },
   {
    "duration": 20,
    "start_time": "2022-06-24T10:12:03.656Z"
   },
   {
    "duration": 14,
    "start_time": "2022-06-24T10:12:03.678Z"
   },
   {
    "duration": 466,
    "start_time": "2022-06-24T10:12:03.694Z"
   },
   {
    "duration": 16,
    "start_time": "2022-06-24T10:12:04.162Z"
   },
   {
    "duration": 10,
    "start_time": "2022-06-24T10:12:04.181Z"
   },
   {
    "duration": 8,
    "start_time": "2022-06-24T10:12:04.192Z"
   },
   {
    "duration": 394,
    "start_time": "2022-06-24T10:12:04.201Z"
   },
   {
    "duration": 12,
    "start_time": "2022-06-24T10:12:04.599Z"
   },
   {
    "duration": 21,
    "start_time": "2022-06-24T10:12:04.631Z"
   },
   {
    "duration": 16,
    "start_time": "2022-06-24T10:12:04.660Z"
   },
   {
    "duration": 588,
    "start_time": "2022-06-24T10:12:04.678Z"
   },
   {
    "duration": 14,
    "start_time": "2022-06-24T10:12:05.270Z"
   },
   {
    "duration": 13,
    "start_time": "2022-06-24T10:12:05.287Z"
   },
   {
    "duration": 31,
    "start_time": "2022-06-24T10:12:05.303Z"
   },
   {
    "duration": 42,
    "start_time": "2022-06-24T10:12:05.338Z"
   },
   {
    "duration": 15,
    "start_time": "2022-06-24T10:12:05.384Z"
   },
   {
    "duration": 36,
    "start_time": "2022-06-24T10:12:05.401Z"
   },
   {
    "duration": 46,
    "start_time": "2022-06-24T10:12:05.438Z"
   },
   {
    "duration": 5,
    "start_time": "2022-06-24T10:12:05.487Z"
   },
   {
    "duration": 1644,
    "start_time": "2022-06-24T11:03:12.894Z"
   },
   {
    "duration": 15,
    "start_time": "2022-06-24T11:03:14.545Z"
   },
   {
    "duration": 321,
    "start_time": "2022-06-24T11:03:14.562Z"
   },
   {
    "duration": 14,
    "start_time": "2022-06-24T11:03:14.885Z"
   },
   {
    "duration": 198,
    "start_time": "2022-06-24T11:03:14.902Z"
   },
   {
    "duration": 92,
    "start_time": "2022-06-24T11:03:15.102Z"
   },
   {
    "duration": 59,
    "start_time": "2022-06-24T11:03:15.199Z"
   },
   {
    "duration": 56,
    "start_time": "2022-06-24T11:03:15.264Z"
   },
   {
    "duration": 107,
    "start_time": "2022-06-24T11:03:15.323Z"
   },
   {
    "duration": 315,
    "start_time": "2022-06-24T11:03:15.437Z"
   },
   {
    "duration": 105,
    "start_time": "2022-06-24T11:03:15.754Z"
   },
   {
    "duration": 94,
    "start_time": "2022-06-24T11:03:15.861Z"
   },
   {
    "duration": 60,
    "start_time": "2022-06-24T11:03:15.962Z"
   },
   {
    "duration": 70,
    "start_time": "2022-06-24T11:03:16.028Z"
   },
   {
    "duration": 404,
    "start_time": "2022-06-24T11:03:16.102Z"
   },
   {
    "duration": 203,
    "start_time": "2022-06-24T11:03:16.510Z"
   },
   {
    "duration": 27,
    "start_time": "2022-06-24T11:03:16.719Z"
   },
   {
    "duration": 84,
    "start_time": "2022-06-24T11:03:16.751Z"
   },
   {
    "duration": 62,
    "start_time": "2022-06-24T11:03:16.840Z"
   },
   {
    "duration": 108,
    "start_time": "2022-06-24T11:03:16.904Z"
   },
   {
    "duration": 23,
    "start_time": "2022-06-24T11:03:17.015Z"
   },
   {
    "duration": 80,
    "start_time": "2022-06-24T11:03:17.040Z"
   },
   {
    "duration": 45,
    "start_time": "2022-06-24T11:03:17.122Z"
   },
   {
    "duration": 43,
    "start_time": "2022-06-24T11:03:17.169Z"
   },
   {
    "duration": 25,
    "start_time": "2022-06-24T11:03:17.214Z"
   },
   {
    "duration": 25,
    "start_time": "2022-06-24T11:03:17.248Z"
   },
   {
    "duration": 21,
    "start_time": "2022-06-24T11:03:17.274Z"
   },
   {
    "duration": 108,
    "start_time": "2022-06-24T11:03:17.297Z"
   },
   {
    "duration": 27,
    "start_time": "2022-06-24T11:03:17.407Z"
   },
   {
    "duration": 31,
    "start_time": "2022-06-24T11:03:17.442Z"
   },
   {
    "duration": 40,
    "start_time": "2022-06-24T11:03:17.475Z"
   },
   {
    "duration": 8,
    "start_time": "2022-06-24T11:03:17.517Z"
   },
   {
    "duration": 56,
    "start_time": "2022-06-24T11:03:17.529Z"
   },
   {
    "duration": 18,
    "start_time": "2022-06-24T11:03:17.587Z"
   },
   {
    "duration": 24,
    "start_time": "2022-06-24T11:03:17.607Z"
   },
   {
    "duration": 414,
    "start_time": "2022-06-24T11:03:17.633Z"
   },
   {
    "duration": 343,
    "start_time": "2022-06-24T11:03:18.052Z"
   },
   {
    "duration": 7,
    "start_time": "2022-06-24T11:03:18.399Z"
   },
   {
    "duration": 31,
    "start_time": "2022-06-24T11:03:18.408Z"
   },
   {
    "duration": 465,
    "start_time": "2022-06-24T11:03:18.441Z"
   },
   {
    "duration": 20,
    "start_time": "2022-06-24T11:03:18.912Z"
   },
   {
    "duration": 63,
    "start_time": "2022-06-24T11:03:18.942Z"
   },
   {
    "duration": 54,
    "start_time": "2022-06-24T11:03:19.007Z"
   },
   {
    "duration": 30,
    "start_time": "2022-06-24T11:03:19.065Z"
   },
   {
    "duration": 17,
    "start_time": "2022-06-24T11:03:19.097Z"
   },
   {
    "duration": 78,
    "start_time": "2022-06-24T11:03:19.116Z"
   },
   {
    "duration": 17,
    "start_time": "2022-06-24T11:03:19.196Z"
   },
   {
    "duration": 8,
    "start_time": "2022-06-24T11:03:19.215Z"
   },
   {
    "duration": 426,
    "start_time": "2022-06-24T11:03:19.225Z"
   },
   {
    "duration": 32,
    "start_time": "2022-06-24T11:03:19.655Z"
   },
   {
    "duration": 67,
    "start_time": "2022-06-24T11:03:19.690Z"
   },
   {
    "duration": 59,
    "start_time": "2022-06-24T11:03:19.759Z"
   },
   {
    "duration": 462,
    "start_time": "2022-06-24T11:03:19.821Z"
   },
   {
    "duration": 14,
    "start_time": "2022-06-24T11:03:20.285Z"
   },
   {
    "duration": 37,
    "start_time": "2022-06-24T11:03:20.301Z"
   },
   {
    "duration": 43,
    "start_time": "2022-06-24T11:03:20.350Z"
   },
   {
    "duration": 500,
    "start_time": "2022-06-24T11:03:20.401Z"
   },
   {
    "duration": 18,
    "start_time": "2022-06-24T11:03:20.903Z"
   },
   {
    "duration": 72,
    "start_time": "2022-06-24T11:03:20.924Z"
   },
   {
    "duration": 13,
    "start_time": "2022-06-24T11:03:20.998Z"
   },
   {
    "duration": 25,
    "start_time": "2022-06-24T11:03:21.014Z"
   },
   {
    "duration": 48,
    "start_time": "2022-06-24T11:03:21.043Z"
   },
   {
    "duration": 57,
    "start_time": "2022-06-24T11:03:21.093Z"
   },
   {
    "duration": 47,
    "start_time": "2022-06-24T11:03:21.159Z"
   },
   {
    "duration": 6,
    "start_time": "2022-06-24T11:03:21.209Z"
   },
   {
    "duration": 1348,
    "start_time": "2022-06-24T15:14:09.626Z"
   },
   {
    "duration": 23,
    "start_time": "2022-06-24T15:14:10.977Z"
   },
   {
    "duration": 236,
    "start_time": "2022-06-24T15:14:11.002Z"
   },
   {
    "duration": 18,
    "start_time": "2022-06-24T15:14:11.241Z"
   },
   {
    "duration": 210,
    "start_time": "2022-06-24T15:14:11.262Z"
   },
   {
    "duration": 87,
    "start_time": "2022-06-24T15:14:11.475Z"
   },
   {
    "duration": 35,
    "start_time": "2022-06-24T15:14:11.565Z"
   },
   {
    "duration": 44,
    "start_time": "2022-06-24T15:14:11.603Z"
   },
   {
    "duration": 71,
    "start_time": "2022-06-24T15:14:11.650Z"
   },
   {
    "duration": 149,
    "start_time": "2022-06-24T15:14:11.727Z"
   },
   {
    "duration": 88,
    "start_time": "2022-06-24T15:14:11.878Z"
   },
   {
    "duration": 67,
    "start_time": "2022-06-24T15:14:11.968Z"
   },
   {
    "duration": 33,
    "start_time": "2022-06-24T15:14:12.037Z"
   },
   {
    "duration": 8,
    "start_time": "2022-06-24T15:14:12.071Z"
   },
   {
    "duration": 246,
    "start_time": "2022-06-24T15:14:12.081Z"
   },
   {
    "duration": 151,
    "start_time": "2022-06-24T15:14:12.333Z"
   },
   {
    "duration": 15,
    "start_time": "2022-06-24T15:14:12.486Z"
   },
   {
    "duration": 48,
    "start_time": "2022-06-24T15:14:12.503Z"
   },
   {
    "duration": 10,
    "start_time": "2022-06-24T15:14:12.553Z"
   },
   {
    "duration": 101,
    "start_time": "2022-06-24T15:14:12.565Z"
   },
   {
    "duration": 26,
    "start_time": "2022-06-24T15:14:12.668Z"
   },
   {
    "duration": 47,
    "start_time": "2022-06-24T15:14:12.696Z"
   },
   {
    "duration": 25,
    "start_time": "2022-06-24T15:14:12.745Z"
   },
   {
    "duration": 57,
    "start_time": "2022-06-24T15:14:12.772Z"
   },
   {
    "duration": 10,
    "start_time": "2022-06-24T15:14:12.830Z"
   },
   {
    "duration": 34,
    "start_time": "2022-06-24T15:14:12.842Z"
   },
   {
    "duration": 15,
    "start_time": "2022-06-24T15:14:12.878Z"
   },
   {
    "duration": 77,
    "start_time": "2022-06-24T15:14:12.897Z"
   },
   {
    "duration": 20,
    "start_time": "2022-06-24T15:14:12.975Z"
   },
   {
    "duration": 32,
    "start_time": "2022-06-24T15:14:12.997Z"
   },
   {
    "duration": 51,
    "start_time": "2022-06-24T15:14:13.031Z"
   },
   {
    "duration": 9,
    "start_time": "2022-06-24T15:14:13.084Z"
   },
   {
    "duration": 42,
    "start_time": "2022-06-24T15:14:13.094Z"
   },
   {
    "duration": 32,
    "start_time": "2022-06-24T15:14:13.138Z"
   },
   {
    "duration": 21,
    "start_time": "2022-06-24T15:14:13.172Z"
   },
   {
    "duration": 383,
    "start_time": "2022-06-24T15:14:13.195Z"
   },
   {
    "duration": 371,
    "start_time": "2022-06-24T15:14:13.580Z"
   },
   {
    "duration": 9,
    "start_time": "2022-06-24T15:14:13.954Z"
   },
   {
    "duration": 19,
    "start_time": "2022-06-24T15:14:13.965Z"
   },
   {
    "duration": 376,
    "start_time": "2022-06-24T15:14:13.986Z"
   },
   {
    "duration": 6,
    "start_time": "2022-06-24T15:14:14.364Z"
   },
   {
    "duration": 10,
    "start_time": "2022-06-24T15:14:14.372Z"
   },
   {
    "duration": 58,
    "start_time": "2022-06-24T15:14:14.384Z"
   },
   {
    "duration": 8,
    "start_time": "2022-06-24T15:14:14.444Z"
   },
   {
    "duration": 20,
    "start_time": "2022-06-24T15:14:14.454Z"
   },
   {
    "duration": 14,
    "start_time": "2022-06-24T15:14:14.475Z"
   },
   {
    "duration": 15,
    "start_time": "2022-06-24T15:14:14.492Z"
   },
   {
    "duration": 7,
    "start_time": "2022-06-24T15:14:14.527Z"
   },
   {
    "duration": 372,
    "start_time": "2022-06-24T15:14:14.537Z"
   },
   {
    "duration": 23,
    "start_time": "2022-06-24T15:14:14.911Z"
   },
   {
    "duration": 26,
    "start_time": "2022-06-24T15:14:14.937Z"
   },
   {
    "duration": 15,
    "start_time": "2022-06-24T15:14:14.966Z"
   },
   {
    "duration": 394,
    "start_time": "2022-06-24T15:14:14.984Z"
   },
   {
    "duration": 9,
    "start_time": "2022-06-24T15:14:15.380Z"
   },
   {
    "duration": 14,
    "start_time": "2022-06-24T15:14:15.391Z"
   },
   {
    "duration": 24,
    "start_time": "2022-06-24T15:14:15.407Z"
   },
   {
    "duration": 365,
    "start_time": "2022-06-24T15:14:15.433Z"
   },
   {
    "duration": 11,
    "start_time": "2022-06-24T15:14:15.799Z"
   },
   {
    "duration": 10,
    "start_time": "2022-06-24T15:14:15.826Z"
   },
   {
    "duration": 9,
    "start_time": "2022-06-24T15:14:15.838Z"
   },
   {
    "duration": 14,
    "start_time": "2022-06-24T15:14:15.849Z"
   },
   {
    "duration": 16,
    "start_time": "2022-06-24T15:14:15.864Z"
   },
   {
    "duration": 68,
    "start_time": "2022-06-24T15:14:15.882Z"
   },
   {
    "duration": 24,
    "start_time": "2022-06-24T15:14:15.952Z"
   },
   {
    "duration": 5,
    "start_time": "2022-06-24T15:14:15.978Z"
   },
   {
    "duration": 1562,
    "start_time": "2022-06-24T15:43:26.132Z"
   },
   {
    "duration": 31,
    "start_time": "2022-06-24T15:43:27.697Z"
   },
   {
    "duration": 338,
    "start_time": "2022-06-24T15:43:27.731Z"
   },
   {
    "duration": 16,
    "start_time": "2022-06-24T15:43:28.072Z"
   },
   {
    "duration": 201,
    "start_time": "2022-06-24T15:43:28.091Z"
   },
   {
    "duration": 75,
    "start_time": "2022-06-24T15:43:28.293Z"
   },
   {
    "duration": 34,
    "start_time": "2022-06-24T15:43:28.370Z"
   },
   {
    "duration": 43,
    "start_time": "2022-06-24T15:43:28.407Z"
   },
   {
    "duration": 39,
    "start_time": "2022-06-24T15:43:28.452Z"
   },
   {
    "duration": 183,
    "start_time": "2022-06-24T15:43:28.495Z"
   },
   {
    "duration": 130,
    "start_time": "2022-06-24T15:43:28.680Z"
   },
   {
    "duration": 83,
    "start_time": "2022-06-24T15:43:28.812Z"
   },
   {
    "duration": 74,
    "start_time": "2022-06-24T15:43:28.897Z"
   },
   {
    "duration": 12,
    "start_time": "2022-06-24T15:43:28.973Z"
   },
   {
    "duration": 246,
    "start_time": "2022-06-24T15:43:28.987Z"
   },
   {
    "duration": 142,
    "start_time": "2022-06-24T15:43:29.234Z"
   },
   {
    "duration": 16,
    "start_time": "2022-06-24T15:43:29.377Z"
   },
   {
    "duration": 54,
    "start_time": "2022-06-24T15:43:29.395Z"
   },
   {
    "duration": 10,
    "start_time": "2022-06-24T15:43:29.451Z"
   },
   {
    "duration": 100,
    "start_time": "2022-06-24T15:43:29.463Z"
   },
   {
    "duration": 26,
    "start_time": "2022-06-24T15:43:29.565Z"
   },
   {
    "duration": 45,
    "start_time": "2022-06-24T15:43:29.593Z"
   },
   {
    "duration": 44,
    "start_time": "2022-06-24T15:43:29.641Z"
   },
   {
    "duration": 36,
    "start_time": "2022-06-24T15:43:29.687Z"
   },
   {
    "duration": 13,
    "start_time": "2022-06-24T15:43:29.727Z"
   },
   {
    "duration": 31,
    "start_time": "2022-06-24T15:43:29.742Z"
   },
   {
    "duration": 27,
    "start_time": "2022-06-24T15:43:29.776Z"
   },
   {
    "duration": 77,
    "start_time": "2022-06-24T15:43:29.808Z"
   },
   {
    "duration": 20,
    "start_time": "2022-06-24T15:43:29.887Z"
   },
   {
    "duration": 27,
    "start_time": "2022-06-24T15:43:29.910Z"
   },
   {
    "duration": 38,
    "start_time": "2022-06-24T15:43:29.939Z"
   },
   {
    "duration": 12,
    "start_time": "2022-06-24T15:43:29.979Z"
   },
   {
    "duration": 32,
    "start_time": "2022-06-24T15:43:29.994Z"
   },
   {
    "duration": 60,
    "start_time": "2022-06-24T15:43:30.029Z"
   },
   {
    "duration": 21,
    "start_time": "2022-06-24T15:43:30.092Z"
   },
   {
    "duration": 382,
    "start_time": "2022-06-24T15:43:30.115Z"
   },
   {
    "duration": 374,
    "start_time": "2022-06-24T15:43:30.500Z"
   },
   {
    "duration": 7,
    "start_time": "2022-06-24T15:43:30.877Z"
   },
   {
    "duration": 23,
    "start_time": "2022-06-24T15:43:30.885Z"
   },
   {
    "duration": 422,
    "start_time": "2022-06-24T15:43:30.910Z"
   },
   {
    "duration": 6,
    "start_time": "2022-06-24T15:43:31.335Z"
   },
   {
    "duration": 53,
    "start_time": "2022-06-24T15:43:31.343Z"
   },
   {
    "duration": 61,
    "start_time": "2022-06-24T15:43:31.398Z"
   },
   {
    "duration": 67,
    "start_time": "2022-06-24T15:43:31.464Z"
   },
   {
    "duration": 59,
    "start_time": "2022-06-24T15:43:31.534Z"
   },
   {
    "duration": 70,
    "start_time": "2022-06-24T15:43:31.595Z"
   },
   {
    "duration": 64,
    "start_time": "2022-06-24T15:43:31.671Z"
   },
   {
    "duration": 24,
    "start_time": "2022-06-24T15:43:31.738Z"
   },
   {
    "duration": 476,
    "start_time": "2022-06-24T15:43:31.765Z"
   },
   {
    "duration": 15,
    "start_time": "2022-06-24T15:43:32.242Z"
   },
   {
    "duration": 39,
    "start_time": "2022-06-24T15:43:32.259Z"
   },
   {
    "duration": 8,
    "start_time": "2022-06-24T15:43:32.301Z"
   },
   {
    "duration": 386,
    "start_time": "2022-06-24T15:43:32.311Z"
   },
   {
    "duration": 10,
    "start_time": "2022-06-24T15:43:32.699Z"
   },
   {
    "duration": 28,
    "start_time": "2022-06-24T15:43:32.711Z"
   },
   {
    "duration": 23,
    "start_time": "2022-06-24T15:43:32.741Z"
   },
   {
    "duration": 479,
    "start_time": "2022-06-24T15:43:32.772Z"
   },
   {
    "duration": 16,
    "start_time": "2022-06-24T15:43:33.253Z"
   },
   {
    "duration": 27,
    "start_time": "2022-06-24T15:43:33.270Z"
   },
   {
    "duration": 10,
    "start_time": "2022-06-24T15:43:33.299Z"
   },
   {
    "duration": 18,
    "start_time": "2022-06-24T15:43:33.311Z"
   },
   {
    "duration": 10,
    "start_time": "2022-06-24T15:43:33.331Z"
   },
   {
    "duration": 27,
    "start_time": "2022-06-24T15:43:33.342Z"
   },
   {
    "duration": 25,
    "start_time": "2022-06-24T15:43:33.371Z"
   },
   {
    "duration": 31,
    "start_time": "2022-06-24T15:43:33.398Z"
   },
   {
    "duration": 1294,
    "start_time": "2022-06-24T16:39:15.827Z"
   },
   {
    "duration": 12,
    "start_time": "2022-06-24T16:39:17.123Z"
   },
   {
    "duration": 209,
    "start_time": "2022-06-24T16:39:17.136Z"
   },
   {
    "duration": 12,
    "start_time": "2022-06-24T16:39:17.347Z"
   },
   {
    "duration": 152,
    "start_time": "2022-06-24T16:39:17.361Z"
   },
   {
    "duration": 55,
    "start_time": "2022-06-24T16:39:17.515Z"
   },
   {
    "duration": 22,
    "start_time": "2022-06-24T16:39:17.571Z"
   },
   {
    "duration": 35,
    "start_time": "2022-06-24T16:39:17.595Z"
   },
   {
    "duration": 28,
    "start_time": "2022-06-24T16:39:17.632Z"
   },
   {
    "duration": 120,
    "start_time": "2022-06-24T16:39:17.662Z"
   },
   {
    "duration": 72,
    "start_time": "2022-06-24T16:39:17.784Z"
   },
   {
    "duration": 47,
    "start_time": "2022-06-24T16:39:17.857Z"
   },
   {
    "duration": 47,
    "start_time": "2022-06-24T16:39:17.906Z"
   },
   {
    "duration": 7,
    "start_time": "2022-06-24T16:39:17.956Z"
   },
   {
    "duration": 194,
    "start_time": "2022-06-24T16:39:17.964Z"
   },
   {
    "duration": 116,
    "start_time": "2022-06-24T16:39:18.159Z"
   },
   {
    "duration": 13,
    "start_time": "2022-06-24T16:39:18.277Z"
   },
   {
    "duration": 47,
    "start_time": "2022-06-24T16:39:18.291Z"
   },
   {
    "duration": 8,
    "start_time": "2022-06-24T16:39:18.339Z"
   },
   {
    "duration": 68,
    "start_time": "2022-06-24T16:39:18.348Z"
   },
   {
    "duration": 15,
    "start_time": "2022-06-24T16:39:18.417Z"
   },
   {
    "duration": 17,
    "start_time": "2022-06-24T16:39:18.434Z"
   },
   {
    "duration": 20,
    "start_time": "2022-06-24T16:39:18.452Z"
   },
   {
    "duration": 20,
    "start_time": "2022-06-24T16:39:18.473Z"
   },
   {
    "duration": 8,
    "start_time": "2022-06-24T16:39:18.527Z"
   },
   {
    "duration": 15,
    "start_time": "2022-06-24T16:39:18.537Z"
   },
   {
    "duration": 7,
    "start_time": "2022-06-24T16:39:18.554Z"
   },
   {
    "duration": 81,
    "start_time": "2022-06-24T16:39:18.562Z"
   },
   {
    "duration": 20,
    "start_time": "2022-06-24T16:39:18.645Z"
   },
   {
    "duration": 10,
    "start_time": "2022-06-24T16:39:18.667Z"
   },
   {
    "duration": 25,
    "start_time": "2022-06-24T16:39:18.678Z"
   },
   {
    "duration": 26,
    "start_time": "2022-06-24T16:39:18.704Z"
   },
   {
    "duration": 9,
    "start_time": "2022-06-24T16:39:18.731Z"
   },
   {
    "duration": 14,
    "start_time": "2022-06-24T16:39:18.742Z"
   },
   {
    "duration": 8,
    "start_time": "2022-06-24T16:39:18.758Z"
   },
   {
    "duration": 371,
    "start_time": "2022-06-24T16:39:18.768Z"
   },
   {
    "duration": 294,
    "start_time": "2022-06-24T16:39:19.141Z"
   },
   {
    "duration": 5,
    "start_time": "2022-06-24T16:39:19.437Z"
   },
   {
    "duration": 19,
    "start_time": "2022-06-24T16:39:19.443Z"
   },
   {
    "duration": 338,
    "start_time": "2022-06-24T16:39:19.464Z"
   },
   {
    "duration": 4,
    "start_time": "2022-06-24T16:39:19.807Z"
   },
   {
    "duration": 7,
    "start_time": "2022-06-24T16:39:19.827Z"
   },
   {
    "duration": 27,
    "start_time": "2022-06-24T16:39:19.836Z"
   },
   {
    "duration": 6,
    "start_time": "2022-06-24T16:39:19.865Z"
   },
   {
    "duration": 7,
    "start_time": "2022-06-24T16:39:19.872Z"
   },
   {
    "duration": 8,
    "start_time": "2022-06-24T16:39:19.881Z"
   },
   {
    "duration": 5,
    "start_time": "2022-06-24T16:39:19.890Z"
   },
   {
    "duration": 30,
    "start_time": "2022-06-24T16:39:19.896Z"
   },
   {
    "duration": 340,
    "start_time": "2022-06-24T16:39:19.928Z"
   },
   {
    "duration": 10,
    "start_time": "2022-06-24T16:39:20.270Z"
   },
   {
    "duration": 11,
    "start_time": "2022-06-24T16:39:20.282Z"
   },
   {
    "duration": 31,
    "start_time": "2022-06-24T16:39:20.295Z"
   },
   {
    "duration": 323,
    "start_time": "2022-06-24T16:39:20.328Z"
   },
   {
    "duration": 9,
    "start_time": "2022-06-24T16:39:20.653Z"
   },
   {
    "duration": 9,
    "start_time": "2022-06-24T16:39:20.664Z"
   },
   {
    "duration": 6,
    "start_time": "2022-06-24T16:39:20.674Z"
   },
   {
    "duration": 374,
    "start_time": "2022-06-24T16:39:20.681Z"
   },
   {
    "duration": 9,
    "start_time": "2022-06-24T16:39:21.057Z"
   },
   {
    "duration": 11,
    "start_time": "2022-06-24T16:39:21.067Z"
   },
   {
    "duration": 5,
    "start_time": "2022-06-24T16:39:21.079Z"
   },
   {
    "duration": 12,
    "start_time": "2022-06-24T16:39:21.085Z"
   },
   {
    "duration": 29,
    "start_time": "2022-06-24T16:39:21.098Z"
   },
   {
    "duration": 23,
    "start_time": "2022-06-24T16:39:21.128Z"
   },
   {
    "duration": 23,
    "start_time": "2022-06-24T16:39:21.152Z"
   },
   {
    "duration": 5,
    "start_time": "2022-06-24T16:39:21.176Z"
   },
   {
    "duration": 1414,
    "start_time": "2022-06-24T18:34:31.928Z"
   },
   {
    "duration": 19,
    "start_time": "2022-06-24T18:34:33.344Z"
   },
   {
    "duration": 262,
    "start_time": "2022-06-24T18:34:33.365Z"
   },
   {
    "duration": 15,
    "start_time": "2022-06-24T18:34:33.629Z"
   },
   {
    "duration": 165,
    "start_time": "2022-06-24T18:34:33.645Z"
   },
   {
    "duration": 63,
    "start_time": "2022-06-24T18:34:33.812Z"
   },
   {
    "duration": 50,
    "start_time": "2022-06-24T18:34:33.877Z"
   },
   {
    "duration": 21,
    "start_time": "2022-06-24T18:34:33.930Z"
   },
   {
    "duration": 33,
    "start_time": "2022-06-24T18:34:33.953Z"
   },
   {
    "duration": 148,
    "start_time": "2022-06-24T18:34:33.990Z"
   },
   {
    "duration": 92,
    "start_time": "2022-06-24T18:34:34.141Z"
   },
   {
    "duration": 54,
    "start_time": "2022-06-24T18:34:34.235Z"
   },
   {
    "duration": 61,
    "start_time": "2022-06-24T18:34:34.292Z"
   },
   {
    "duration": 9,
    "start_time": "2022-06-24T18:34:34.355Z"
   },
   {
    "duration": 194,
    "start_time": "2022-06-24T18:34:34.368Z"
   },
   {
    "duration": 137,
    "start_time": "2022-06-24T18:34:34.563Z"
   },
   {
    "duration": 30,
    "start_time": "2022-06-24T18:34:34.702Z"
   },
   {
    "duration": 30,
    "start_time": "2022-06-24T18:34:34.733Z"
   },
   {
    "duration": 10,
    "start_time": "2022-06-24T18:34:34.766Z"
   },
   {
    "duration": 71,
    "start_time": "2022-06-24T18:34:34.777Z"
   },
   {
    "duration": 22,
    "start_time": "2022-06-24T18:34:34.850Z"
   },
   {
    "duration": 26,
    "start_time": "2022-06-24T18:34:34.874Z"
   },
   {
    "duration": 26,
    "start_time": "2022-06-24T18:34:34.928Z"
   },
   {
    "duration": 26,
    "start_time": "2022-06-24T18:34:34.956Z"
   },
   {
    "duration": 49,
    "start_time": "2022-06-24T18:34:34.984Z"
   },
   {
    "duration": 24,
    "start_time": "2022-06-24T18:34:35.034Z"
   },
   {
    "duration": 12,
    "start_time": "2022-06-24T18:34:35.060Z"
   },
   {
    "duration": 72,
    "start_time": "2022-06-24T18:34:35.075Z"
   },
   {
    "duration": 21,
    "start_time": "2022-06-24T18:34:35.149Z"
   },
   {
    "duration": 11,
    "start_time": "2022-06-24T18:34:35.172Z"
   },
   {
    "duration": 60,
    "start_time": "2022-06-24T18:34:35.186Z"
   },
   {
    "duration": 10,
    "start_time": "2022-06-24T18:34:35.248Z"
   },
   {
    "duration": 24,
    "start_time": "2022-06-24T18:34:35.260Z"
   },
   {
    "duration": 32,
    "start_time": "2022-06-24T18:34:35.286Z"
   },
   {
    "duration": 37,
    "start_time": "2022-06-24T18:34:35.321Z"
   },
   {
    "duration": 396,
    "start_time": "2022-06-24T18:34:35.360Z"
   },
   {
    "duration": 340,
    "start_time": "2022-06-24T18:34:35.758Z"
   },
   {
    "duration": 8,
    "start_time": "2022-06-24T18:34:36.100Z"
   },
   {
    "duration": 20,
    "start_time": "2022-06-24T18:34:36.109Z"
   },
   {
    "duration": 398,
    "start_time": "2022-06-24T18:34:36.131Z"
   },
   {
    "duration": 5,
    "start_time": "2022-06-24T18:34:36.530Z"
   },
   {
    "duration": 42,
    "start_time": "2022-06-24T18:34:36.537Z"
   },
   {
    "duration": 50,
    "start_time": "2022-06-24T18:34:36.581Z"
   },
   {
    "duration": 31,
    "start_time": "2022-06-24T18:34:36.633Z"
   },
   {
    "duration": 31,
    "start_time": "2022-06-24T18:34:36.666Z"
   },
   {
    "duration": 20,
    "start_time": "2022-06-24T18:34:36.699Z"
   },
   {
    "duration": 23,
    "start_time": "2022-06-24T18:34:36.721Z"
   },
   {
    "duration": 20,
    "start_time": "2022-06-24T18:34:36.747Z"
   },
   {
    "duration": 442,
    "start_time": "2022-06-24T18:34:36.769Z"
   },
   {
    "duration": 18,
    "start_time": "2022-06-24T18:34:37.213Z"
   },
   {
    "duration": 28,
    "start_time": "2022-06-24T18:34:37.233Z"
   },
   {
    "duration": 27,
    "start_time": "2022-06-24T18:34:37.263Z"
   },
   {
    "duration": 400,
    "start_time": "2022-06-24T18:34:37.292Z"
   },
   {
    "duration": 11,
    "start_time": "2022-06-24T18:34:37.694Z"
   },
   {
    "duration": 25,
    "start_time": "2022-06-24T18:34:37.707Z"
   },
   {
    "duration": 41,
    "start_time": "2022-06-24T18:34:37.734Z"
   },
   {
    "duration": 426,
    "start_time": "2022-06-24T18:34:37.777Z"
   },
   {
    "duration": 22,
    "start_time": "2022-06-24T18:34:38.205Z"
   },
   {
    "duration": 33,
    "start_time": "2022-06-24T18:34:38.228Z"
   },
   {
    "duration": 23,
    "start_time": "2022-06-24T18:34:38.263Z"
   },
   {
    "duration": 32,
    "start_time": "2022-06-24T18:34:38.288Z"
   },
   {
    "duration": 25,
    "start_time": "2022-06-24T18:34:38.322Z"
   },
   {
    "duration": 46,
    "start_time": "2022-06-24T18:34:38.349Z"
   },
   {
    "duration": 48,
    "start_time": "2022-06-24T18:34:38.397Z"
   },
   {
    "duration": 15,
    "start_time": "2022-06-24T18:34:38.447Z"
   },
   {
    "duration": 1820,
    "start_time": "2022-06-25T14:47:18.417Z"
   },
   {
    "duration": 125,
    "start_time": "2022-06-25T14:47:20.239Z"
   },
   {
    "duration": 7,
    "start_time": "2022-06-25T14:56:10.139Z"
   },
   {
    "duration": 163,
    "start_time": "2022-06-25T14:56:50.367Z"
   },
   {
    "duration": 5,
    "start_time": "2022-06-25T14:57:14.295Z"
   },
   {
    "duration": 101,
    "start_time": "2022-06-25T14:57:14.415Z"
   },
   {
    "duration": 23,
    "start_time": "2022-06-25T14:57:14.607Z"
   },
   {
    "duration": 791,
    "start_time": "2022-06-25T14:57:14.714Z"
   },
   {
    "duration": 22,
    "start_time": "2022-06-25T14:57:15.507Z"
   },
   {
    "duration": 268,
    "start_time": "2022-06-25T14:57:15.531Z"
   },
   {
    "duration": 93,
    "start_time": "2022-06-25T14:57:15.801Z"
   },
   {
    "duration": 1,
    "start_time": "2022-06-25T14:57:15.896Z"
   },
   {
    "duration": 0,
    "start_time": "2022-06-25T14:57:15.898Z"
   },
   {
    "duration": 0,
    "start_time": "2022-06-25T14:57:15.899Z"
   },
   {
    "duration": 0,
    "start_time": "2022-06-25T14:57:15.900Z"
   },
   {
    "duration": 0,
    "start_time": "2022-06-25T14:57:15.902Z"
   },
   {
    "duration": 0,
    "start_time": "2022-06-25T14:57:15.903Z"
   },
   {
    "duration": 0,
    "start_time": "2022-06-25T14:57:15.904Z"
   },
   {
    "duration": 16,
    "start_time": "2022-06-25T14:57:15.994Z"
   },
   {
    "duration": 828,
    "start_time": "2022-06-25T14:57:16.400Z"
   },
   {
    "duration": 194,
    "start_time": "2022-06-25T14:57:17.232Z"
   },
   {
    "duration": 0,
    "start_time": "2022-06-25T14:57:17.432Z"
   },
   {
    "duration": 0,
    "start_time": "2022-06-25T14:57:17.433Z"
   },
   {
    "duration": 0,
    "start_time": "2022-06-25T14:57:17.434Z"
   },
   {
    "duration": 157,
    "start_time": "2022-06-25T14:57:17.826Z"
   },
   {
    "duration": 32,
    "start_time": "2022-06-25T14:57:18.120Z"
   },
   {
    "duration": 11,
    "start_time": "2022-06-25T14:57:18.315Z"
   },
   {
    "duration": 14,
    "start_time": "2022-06-25T14:57:18.421Z"
   },
   {
    "duration": 12,
    "start_time": "2022-06-25T14:57:18.577Z"
   },
   {
    "duration": 15,
    "start_time": "2022-06-25T14:57:18.623Z"
   },
   {
    "duration": 16,
    "start_time": "2022-06-25T14:57:18.741Z"
   },
   {
    "duration": 22,
    "start_time": "2022-06-25T14:57:18.883Z"
   },
   {
    "duration": 25,
    "start_time": "2022-06-25T14:57:19.044Z"
   },
   {
    "duration": 14,
    "start_time": "2022-06-25T14:57:19.117Z"
   },
   {
    "duration": 17,
    "start_time": "2022-06-25T14:57:19.327Z"
   },
   {
    "duration": 21,
    "start_time": "2022-06-25T14:57:19.435Z"
   },
   {
    "duration": 13,
    "start_time": "2022-06-25T14:57:19.576Z"
   },
   {
    "duration": 11,
    "start_time": "2022-06-25T14:57:19.704Z"
   },
   {
    "duration": 13,
    "start_time": "2022-06-25T14:57:19.885Z"
   },
   {
    "duration": 18,
    "start_time": "2022-06-25T14:57:20.026Z"
   },
   {
    "duration": 20,
    "start_time": "2022-06-25T14:57:20.157Z"
   },
   {
    "duration": 15,
    "start_time": "2022-06-25T14:57:20.296Z"
   },
   {
    "duration": 19,
    "start_time": "2022-06-25T14:57:20.571Z"
   },
   {
    "duration": 13,
    "start_time": "2022-06-25T14:57:21.101Z"
   },
   {
    "duration": 13,
    "start_time": "2022-06-25T14:57:21.203Z"
   },
   {
    "duration": 14,
    "start_time": "2022-06-25T14:57:21.418Z"
   },
   {
    "duration": 12,
    "start_time": "2022-06-25T14:57:21.677Z"
   },
   {
    "duration": 14,
    "start_time": "2022-06-25T14:57:21.779Z"
   },
   {
    "duration": 20,
    "start_time": "2022-06-25T14:57:22.089Z"
   },
   {
    "duration": 11,
    "start_time": "2022-06-25T14:57:22.144Z"
   },
   {
    "duration": 14,
    "start_time": "2022-06-25T14:57:22.371Z"
   },
   {
    "duration": 14,
    "start_time": "2022-06-25T14:57:22.573Z"
   },
   {
    "duration": 14,
    "start_time": "2022-06-25T14:57:22.715Z"
   },
   {
    "duration": 15,
    "start_time": "2022-06-25T14:57:23.272Z"
   },
   {
    "duration": 16,
    "start_time": "2022-06-25T14:57:23.695Z"
   },
   {
    "duration": 19,
    "start_time": "2022-06-25T14:57:23.787Z"
   },
   {
    "duration": 14,
    "start_time": "2022-06-25T14:57:23.905Z"
   },
   {
    "duration": 24,
    "start_time": "2022-06-25T14:57:23.969Z"
   },
   {
    "duration": 0,
    "start_time": "2022-06-25T14:57:23.999Z"
   },
   {
    "duration": 37,
    "start_time": "2022-06-25T14:57:24.071Z"
   },
   {
    "duration": 14,
    "start_time": "2022-06-25T14:57:24.126Z"
   },
   {
    "duration": 27,
    "start_time": "2022-06-25T14:57:24.150Z"
   },
   {
    "duration": 0,
    "start_time": "2022-06-25T14:57:24.179Z"
   },
   {
    "duration": 14,
    "start_time": "2022-06-25T14:57:24.208Z"
   },
   {
    "duration": 22,
    "start_time": "2022-06-25T14:57:24.368Z"
   },
   {
    "duration": 13,
    "start_time": "2022-06-25T14:57:24.477Z"
   },
   {
    "duration": 0,
    "start_time": "2022-06-25T14:57:24.492Z"
   },
   {
    "duration": 17,
    "start_time": "2022-06-25T14:57:24.565Z"
   },
   {
    "duration": 15,
    "start_time": "2022-06-25T14:57:24.591Z"
   },
   {
    "duration": 20,
    "start_time": "2022-06-25T14:57:24.616Z"
   },
   {
    "duration": 67,
    "start_time": "2022-06-25T14:59:14.369Z"
   },
   {
    "duration": 45,
    "start_time": "2022-06-25T14:59:33.512Z"
   },
   {
    "duration": 29,
    "start_time": "2022-06-25T14:59:38.023Z"
   },
   {
    "duration": 37,
    "start_time": "2022-06-25T14:59:50.893Z"
   },
   {
    "duration": 5,
    "start_time": "2022-06-25T15:00:35.390Z"
   },
   {
    "duration": 84,
    "start_time": "2022-06-25T15:00:35.400Z"
   },
   {
    "duration": 17,
    "start_time": "2022-06-25T15:00:35.487Z"
   },
   {
    "duration": 378,
    "start_time": "2022-06-25T15:00:35.506Z"
   },
   {
    "duration": 13,
    "start_time": "2022-06-25T15:00:35.886Z"
   },
   {
    "duration": 194,
    "start_time": "2022-06-25T15:00:35.907Z"
   },
   {
    "duration": 94,
    "start_time": "2022-06-25T15:00:36.103Z"
   },
   {
    "duration": 35,
    "start_time": "2022-06-25T15:00:36.199Z"
   },
   {
    "duration": 30,
    "start_time": "2022-06-25T15:00:36.245Z"
   },
   {
    "duration": 41,
    "start_time": "2022-06-25T15:00:36.279Z"
   },
   {
    "duration": 235,
    "start_time": "2022-06-25T15:00:36.323Z"
   },
   {
    "duration": 90,
    "start_time": "2022-06-25T15:00:36.560Z"
   },
   {
    "duration": 76,
    "start_time": "2022-06-25T15:00:36.653Z"
   },
   {
    "duration": 55,
    "start_time": "2022-06-25T15:00:36.731Z"
   },
   {
    "duration": 27,
    "start_time": "2022-06-25T15:00:36.788Z"
   },
   {
    "duration": 327,
    "start_time": "2022-06-25T15:00:36.818Z"
   },
   {
    "duration": 172,
    "start_time": "2022-06-25T15:00:37.147Z"
   },
   {
    "duration": 0,
    "start_time": "2022-06-25T15:00:37.324Z"
   },
   {
    "duration": 0,
    "start_time": "2022-06-25T15:00:37.326Z"
   },
   {
    "duration": 0,
    "start_time": "2022-06-25T15:00:37.328Z"
   },
   {
    "duration": 0,
    "start_time": "2022-06-25T15:00:37.345Z"
   },
   {
    "duration": 0,
    "start_time": "2022-06-25T15:00:37.346Z"
   },
   {
    "duration": 0,
    "start_time": "2022-06-25T15:00:37.347Z"
   },
   {
    "duration": 0,
    "start_time": "2022-06-25T15:00:37.348Z"
   },
   {
    "duration": 0,
    "start_time": "2022-06-25T15:00:37.360Z"
   },
   {
    "duration": 0,
    "start_time": "2022-06-25T15:00:37.361Z"
   },
   {
    "duration": 0,
    "start_time": "2022-06-25T15:00:37.362Z"
   },
   {
    "duration": 0,
    "start_time": "2022-06-25T15:00:37.363Z"
   },
   {
    "duration": 0,
    "start_time": "2022-06-25T15:00:37.369Z"
   },
   {
    "duration": 0,
    "start_time": "2022-06-25T15:00:37.370Z"
   },
   {
    "duration": 0,
    "start_time": "2022-06-25T15:00:37.371Z"
   },
   {
    "duration": 0,
    "start_time": "2022-06-25T15:00:37.373Z"
   },
   {
    "duration": 0,
    "start_time": "2022-06-25T15:00:37.374Z"
   },
   {
    "duration": 0,
    "start_time": "2022-06-25T15:00:37.375Z"
   },
   {
    "duration": 0,
    "start_time": "2022-06-25T15:00:37.384Z"
   },
   {
    "duration": 0,
    "start_time": "2022-06-25T15:00:37.386Z"
   },
   {
    "duration": 0,
    "start_time": "2022-06-25T15:00:37.387Z"
   },
   {
    "duration": 0,
    "start_time": "2022-06-25T15:00:37.388Z"
   },
   {
    "duration": 0,
    "start_time": "2022-06-25T15:00:37.396Z"
   },
   {
    "duration": 0,
    "start_time": "2022-06-25T15:00:37.397Z"
   },
   {
    "duration": 0,
    "start_time": "2022-06-25T15:00:37.398Z"
   },
   {
    "duration": 0,
    "start_time": "2022-06-25T15:00:37.399Z"
   },
   {
    "duration": 0,
    "start_time": "2022-06-25T15:00:37.400Z"
   },
   {
    "duration": 0,
    "start_time": "2022-06-25T15:00:37.405Z"
   },
   {
    "duration": 0,
    "start_time": "2022-06-25T15:00:37.406Z"
   },
   {
    "duration": 0,
    "start_time": "2022-06-25T15:00:37.407Z"
   },
   {
    "duration": 0,
    "start_time": "2022-06-25T15:00:37.408Z"
   },
   {
    "duration": 0,
    "start_time": "2022-06-25T15:00:37.410Z"
   },
   {
    "duration": 1,
    "start_time": "2022-06-25T15:00:37.411Z"
   },
   {
    "duration": 0,
    "start_time": "2022-06-25T15:00:37.413Z"
   },
   {
    "duration": 0,
    "start_time": "2022-06-25T15:00:37.415Z"
   },
   {
    "duration": 0,
    "start_time": "2022-06-25T15:00:37.416Z"
   },
   {
    "duration": 0,
    "start_time": "2022-06-25T15:00:37.418Z"
   },
   {
    "duration": 0,
    "start_time": "2022-06-25T15:00:37.445Z"
   },
   {
    "duration": 0,
    "start_time": "2022-06-25T15:00:37.446Z"
   },
   {
    "duration": 0,
    "start_time": "2022-06-25T15:00:37.447Z"
   },
   {
    "duration": 0,
    "start_time": "2022-06-25T15:00:37.449Z"
   },
   {
    "duration": 0,
    "start_time": "2022-06-25T15:00:37.450Z"
   },
   {
    "duration": 0,
    "start_time": "2022-06-25T15:00:37.452Z"
   },
   {
    "duration": 0,
    "start_time": "2022-06-25T15:00:37.453Z"
   },
   {
    "duration": 0,
    "start_time": "2022-06-25T15:00:37.454Z"
   },
   {
    "duration": 0,
    "start_time": "2022-06-25T15:00:37.455Z"
   },
   {
    "duration": 0,
    "start_time": "2022-06-25T15:00:37.456Z"
   },
   {
    "duration": 0,
    "start_time": "2022-06-25T15:00:37.457Z"
   },
   {
    "duration": 0,
    "start_time": "2022-06-25T15:00:37.458Z"
   },
   {
    "duration": 0,
    "start_time": "2022-06-25T15:00:37.459Z"
   },
   {
    "duration": 1571,
    "start_time": "2022-06-25T15:02:25.066Z"
   },
   {
    "duration": 1886,
    "start_time": "2022-06-25T15:02:50.629Z"
   },
   {
    "duration": 303,
    "start_time": "2022-06-25T15:03:31.365Z"
   },
   {
    "duration": 24,
    "start_time": "2022-06-25T15:03:37.194Z"
   },
   {
    "duration": 238,
    "start_time": "2022-06-25T15:03:41.469Z"
   },
   {
    "duration": 85,
    "start_time": "2022-06-25T15:03:48.341Z"
   },
   {
    "duration": 15,
    "start_time": "2022-06-25T15:10:01.102Z"
   },
   {
    "duration": 690,
    "start_time": "2022-06-25T15:10:46.190Z"
   },
   {
    "duration": 153,
    "start_time": "2022-06-25T15:11:15.560Z"
   },
   {
    "duration": 20,
    "start_time": "2022-06-25T15:12:00.589Z"
   },
   {
    "duration": 42,
    "start_time": "2022-06-25T15:12:07.814Z"
   },
   {
    "duration": 13,
    "start_time": "2022-06-25T15:12:19.625Z"
   },
   {
    "duration": 1951,
    "start_time": "2022-06-25T15:13:18.973Z"
   },
   {
    "duration": 5,
    "start_time": "2022-06-25T15:13:43.501Z"
   },
   {
    "duration": 99,
    "start_time": "2022-06-25T15:13:43.570Z"
   },
   {
    "duration": 19,
    "start_time": "2022-06-25T15:13:43.672Z"
   },
   {
    "duration": 725,
    "start_time": "2022-06-25T15:13:43.778Z"
   },
   {
    "duration": 15,
    "start_time": "2022-06-25T15:13:44.506Z"
   },
   {
    "duration": 199,
    "start_time": "2022-06-25T15:13:44.523Z"
   },
   {
    "duration": 103,
    "start_time": "2022-06-25T15:13:44.726Z"
   },
   {
    "duration": 37,
    "start_time": "2022-06-25T15:13:44.831Z"
   },
   {
    "duration": 44,
    "start_time": "2022-06-25T15:13:44.870Z"
   },
   {
    "duration": 55,
    "start_time": "2022-06-25T15:13:44.917Z"
   },
   {
    "duration": 214,
    "start_time": "2022-06-25T15:13:44.976Z"
   },
   {
    "duration": 95,
    "start_time": "2022-06-25T15:13:45.192Z"
   },
   {
    "duration": 69,
    "start_time": "2022-06-25T15:13:45.291Z"
   },
   {
    "duration": 37,
    "start_time": "2022-06-25T15:13:45.362Z"
   },
   {
    "duration": 12,
    "start_time": "2022-06-25T15:13:45.402Z"
   },
   {
    "duration": 289,
    "start_time": "2022-06-25T15:13:45.416Z"
   },
   {
    "duration": 140,
    "start_time": "2022-06-25T15:13:45.708Z"
   },
   {
    "duration": 22,
    "start_time": "2022-06-25T15:13:45.849Z"
   },
   {
    "duration": 53,
    "start_time": "2022-06-25T15:13:45.873Z"
   },
   {
    "duration": 26,
    "start_time": "2022-06-25T15:13:45.929Z"
   },
   {
    "duration": 122,
    "start_time": "2022-06-25T15:13:45.961Z"
   },
   {
    "duration": 24,
    "start_time": "2022-06-25T15:13:46.086Z"
   },
   {
    "duration": 51,
    "start_time": "2022-06-25T15:13:46.111Z"
   },
   {
    "duration": 26,
    "start_time": "2022-06-25T15:13:46.172Z"
   },
   {
    "duration": 27,
    "start_time": "2022-06-25T15:13:46.201Z"
   },
   {
    "duration": 18,
    "start_time": "2022-06-25T15:13:46.242Z"
   },
   {
    "duration": 39,
    "start_time": "2022-06-25T15:13:46.264Z"
   },
   {
    "duration": 13,
    "start_time": "2022-06-25T15:13:46.305Z"
   },
   {
    "duration": 103,
    "start_time": "2022-06-25T15:13:46.321Z"
   },
   {
    "duration": 38,
    "start_time": "2022-06-25T15:13:46.426Z"
   },
   {
    "duration": 34,
    "start_time": "2022-06-25T15:13:46.472Z"
   },
   {
    "duration": 60,
    "start_time": "2022-06-25T15:13:46.508Z"
   },
   {
    "duration": 10,
    "start_time": "2022-06-25T15:13:46.579Z"
   },
   {
    "duration": 19,
    "start_time": "2022-06-25T15:13:46.591Z"
   },
   {
    "duration": 54,
    "start_time": "2022-06-25T15:13:46.613Z"
   },
   {
    "duration": 30,
    "start_time": "2022-06-25T15:13:46.669Z"
   },
   {
    "duration": 537,
    "start_time": "2022-06-25T15:13:46.701Z"
   },
   {
    "duration": 447,
    "start_time": "2022-06-25T15:13:47.241Z"
   },
   {
    "duration": 10,
    "start_time": "2022-06-25T15:13:47.697Z"
   },
   {
    "duration": 23,
    "start_time": "2022-06-25T15:13:47.717Z"
   },
   {
    "duration": 463,
    "start_time": "2022-06-25T15:13:47.743Z"
   },
   {
    "duration": 6,
    "start_time": "2022-06-25T15:13:48.209Z"
   },
   {
    "duration": 16,
    "start_time": "2022-06-25T15:13:48.217Z"
   },
   {
    "duration": 54,
    "start_time": "2022-06-25T15:13:48.236Z"
   },
   {
    "duration": 8,
    "start_time": "2022-06-25T15:13:48.292Z"
   },
   {
    "duration": 9,
    "start_time": "2022-06-25T15:13:48.303Z"
   },
   {
    "duration": 17,
    "start_time": "2022-06-25T15:13:48.315Z"
   },
   {
    "duration": 8,
    "start_time": "2022-06-25T15:13:48.334Z"
   },
   {
    "duration": 44,
    "start_time": "2022-06-25T15:13:48.344Z"
   },
   {
    "duration": 505,
    "start_time": "2022-06-25T15:13:48.390Z"
   },
   {
    "duration": 15,
    "start_time": "2022-06-25T15:13:48.897Z"
   },
   {
    "duration": 33,
    "start_time": "2022-06-25T15:13:48.914Z"
   },
   {
    "duration": 29,
    "start_time": "2022-06-25T15:13:48.963Z"
   },
   {
    "duration": 492,
    "start_time": "2022-06-25T15:13:48.994Z"
   },
   {
    "duration": 15,
    "start_time": "2022-06-25T15:13:49.488Z"
   },
   {
    "duration": 18,
    "start_time": "2022-06-25T15:13:49.505Z"
   },
   {
    "duration": 17,
    "start_time": "2022-06-25T15:13:49.544Z"
   },
   {
    "duration": 520,
    "start_time": "2022-06-25T15:13:49.563Z"
   },
   {
    "duration": 21,
    "start_time": "2022-06-25T15:13:50.090Z"
   },
   {
    "duration": 18,
    "start_time": "2022-06-25T15:13:50.113Z"
   },
   {
    "duration": 46,
    "start_time": "2022-06-25T15:13:50.133Z"
   },
   {
    "duration": 14,
    "start_time": "2022-06-25T15:13:50.183Z"
   },
   {
    "duration": 11,
    "start_time": "2022-06-25T15:13:50.200Z"
   },
   {
    "duration": 49,
    "start_time": "2022-06-25T15:13:50.214Z"
   },
   {
    "duration": 40,
    "start_time": "2022-06-25T15:13:50.266Z"
   },
   {
    "duration": 6,
    "start_time": "2022-06-25T15:13:50.308Z"
   },
   {
    "duration": 15,
    "start_time": "2022-06-25T15:30:16.211Z"
   },
   {
    "duration": 4,
    "start_time": "2022-06-25T15:30:43.679Z"
   },
   {
    "duration": 94,
    "start_time": "2022-06-25T15:30:43.773Z"
   },
   {
    "duration": 15,
    "start_time": "2022-06-25T15:30:43.869Z"
   },
   {
    "duration": 706,
    "start_time": "2022-06-25T15:30:43.981Z"
   },
   {
    "duration": 14,
    "start_time": "2022-06-25T15:30:44.690Z"
   },
   {
    "duration": 183,
    "start_time": "2022-06-25T15:30:44.707Z"
   },
   {
    "duration": 77,
    "start_time": "2022-06-25T15:30:44.892Z"
   },
   {
    "duration": 26,
    "start_time": "2022-06-25T15:30:44.972Z"
   },
   {
    "duration": 51,
    "start_time": "2022-06-25T15:30:45.000Z"
   },
   {
    "duration": 43,
    "start_time": "2022-06-25T15:30:45.053Z"
   },
   {
    "duration": 220,
    "start_time": "2022-06-25T15:30:45.097Z"
   },
   {
    "duration": 108,
    "start_time": "2022-06-25T15:30:45.319Z"
   },
   {
    "duration": 82,
    "start_time": "2022-06-25T15:30:45.431Z"
   },
   {
    "duration": 58,
    "start_time": "2022-06-25T15:30:45.515Z"
   },
   {
    "duration": 11,
    "start_time": "2022-06-25T15:30:45.575Z"
   },
   {
    "duration": 545,
    "start_time": "2022-06-25T15:30:45.588Z"
   },
   {
    "duration": 142,
    "start_time": "2022-06-25T15:30:46.135Z"
   },
   {
    "duration": 24,
    "start_time": "2022-06-25T15:30:46.279Z"
   },
   {
    "duration": 65,
    "start_time": "2022-06-25T15:30:46.305Z"
   },
   {
    "duration": 17,
    "start_time": "2022-06-25T15:30:46.372Z"
   },
   {
    "duration": 108,
    "start_time": "2022-06-25T15:30:46.391Z"
   },
   {
    "duration": 25,
    "start_time": "2022-06-25T15:30:46.502Z"
   },
   {
    "duration": 32,
    "start_time": "2022-06-25T15:30:46.530Z"
   },
   {
    "duration": 38,
    "start_time": "2022-06-25T15:30:46.564Z"
   },
   {
    "duration": 62,
    "start_time": "2022-06-25T15:30:46.608Z"
   },
   {
    "duration": 15,
    "start_time": "2022-06-25T15:30:46.673Z"
   },
   {
    "duration": 36,
    "start_time": "2022-06-25T15:30:46.689Z"
   },
   {
    "duration": 21,
    "start_time": "2022-06-25T15:30:46.728Z"
   },
   {
    "duration": 108,
    "start_time": "2022-06-25T15:30:46.756Z"
   },
   {
    "duration": 38,
    "start_time": "2022-06-25T15:30:46.866Z"
   },
   {
    "duration": 14,
    "start_time": "2022-06-25T15:30:46.910Z"
   },
   {
    "duration": 44,
    "start_time": "2022-06-25T15:30:46.926Z"
   },
   {
    "duration": 29,
    "start_time": "2022-06-25T15:30:46.972Z"
   },
   {
    "duration": 28,
    "start_time": "2022-06-25T15:30:47.004Z"
   },
   {
    "duration": 50,
    "start_time": "2022-06-25T15:30:47.034Z"
   },
   {
    "duration": 8,
    "start_time": "2022-06-25T15:30:47.086Z"
   },
   {
    "duration": 465,
    "start_time": "2022-06-25T15:30:47.096Z"
   },
   {
    "duration": 524,
    "start_time": "2022-06-25T15:30:47.566Z"
   },
   {
    "duration": 8,
    "start_time": "2022-06-25T15:30:48.092Z"
   },
   {
    "duration": 12,
    "start_time": "2022-06-25T15:30:48.103Z"
   },
   {
    "duration": 370,
    "start_time": "2022-06-25T15:30:48.117Z"
   },
   {
    "duration": 6,
    "start_time": "2022-06-25T15:30:48.490Z"
   },
   {
    "duration": 16,
    "start_time": "2022-06-25T15:30:48.498Z"
   },
   {
    "duration": 62,
    "start_time": "2022-06-25T15:30:48.516Z"
   },
   {
    "duration": 10,
    "start_time": "2022-06-25T15:30:48.580Z"
   },
   {
    "duration": 34,
    "start_time": "2022-06-25T15:30:48.592Z"
   },
   {
    "duration": 9,
    "start_time": "2022-06-25T15:30:48.629Z"
   },
   {
    "duration": 32,
    "start_time": "2022-06-25T15:30:48.639Z"
   },
   {
    "duration": 8,
    "start_time": "2022-06-25T15:30:48.673Z"
   },
   {
    "duration": 402,
    "start_time": "2022-06-25T15:30:48.685Z"
   },
   {
    "duration": 14,
    "start_time": "2022-06-25T15:30:49.089Z"
   },
   {
    "duration": 11,
    "start_time": "2022-06-25T15:30:49.105Z"
   },
   {
    "duration": 36,
    "start_time": "2022-06-25T15:30:49.118Z"
   },
   {
    "duration": 437,
    "start_time": "2022-06-25T15:30:49.156Z"
   },
   {
    "duration": 16,
    "start_time": "2022-06-25T15:30:49.596Z"
   },
   {
    "duration": 34,
    "start_time": "2022-06-25T15:30:49.614Z"
   },
   {
    "duration": 37,
    "start_time": "2022-06-25T15:30:49.651Z"
   },
   {
    "duration": 480,
    "start_time": "2022-06-25T15:30:49.690Z"
   },
   {
    "duration": 13,
    "start_time": "2022-06-25T15:30:50.172Z"
   },
   {
    "duration": 19,
    "start_time": "2022-06-25T15:30:50.187Z"
   },
   {
    "duration": 7,
    "start_time": "2022-06-25T15:30:50.208Z"
   },
   {
    "duration": 38,
    "start_time": "2022-06-25T15:30:50.247Z"
   },
   {
    "duration": 12,
    "start_time": "2022-06-25T15:30:50.287Z"
   },
   {
    "duration": 48,
    "start_time": "2022-06-25T15:30:50.302Z"
   },
   {
    "duration": 40,
    "start_time": "2022-06-25T15:30:50.352Z"
   },
   {
    "duration": 8,
    "start_time": "2022-06-25T15:30:50.395Z"
   },
   {
    "duration": 57,
    "start_time": "2022-06-25T15:32:48.234Z"
   },
   {
    "duration": 24,
    "start_time": "2022-06-25T15:33:08.830Z"
   },
   {
    "duration": 43,
    "start_time": "2022-06-25T15:33:24.908Z"
   },
   {
    "duration": 1619,
    "start_time": "2022-06-25T15:33:37.682Z"
   },
   {
    "duration": 246,
    "start_time": "2022-06-25T15:33:54.982Z"
   },
   {
    "duration": 178,
    "start_time": "2022-06-25T15:34:09.683Z"
   },
   {
    "duration": 16,
    "start_time": "2022-06-25T15:34:34.863Z"
   },
   {
    "duration": 40,
    "start_time": "2022-06-25T15:34:40.095Z"
   },
   {
    "duration": 16,
    "start_time": "2022-06-25T15:34:51.994Z"
   },
   {
    "duration": 5,
    "start_time": "2022-06-25T15:35:03.963Z"
   },
   {
    "duration": 97,
    "start_time": "2022-06-25T15:35:03.995Z"
   },
   {
    "duration": 18,
    "start_time": "2022-06-25T15:35:04.095Z"
   },
   {
    "duration": 245,
    "start_time": "2022-06-25T15:35:04.165Z"
   },
   {
    "duration": 13,
    "start_time": "2022-06-25T15:35:04.412Z"
   },
   {
    "duration": 196,
    "start_time": "2022-06-25T15:35:04.446Z"
   },
   {
    "duration": 76,
    "start_time": "2022-06-25T15:35:04.645Z"
   },
   {
    "duration": 47,
    "start_time": "2022-06-25T15:35:04.723Z"
   },
   {
    "duration": 27,
    "start_time": "2022-06-25T15:35:04.773Z"
   },
   {
    "duration": 68,
    "start_time": "2022-06-25T15:35:04.804Z"
   },
   {
    "duration": 142,
    "start_time": "2022-06-25T15:35:04.874Z"
   },
   {
    "duration": 127,
    "start_time": "2022-06-25T15:35:05.018Z"
   },
   {
    "duration": 88,
    "start_time": "2022-06-25T15:35:05.159Z"
   },
   {
    "duration": 35,
    "start_time": "2022-06-25T15:35:05.250Z"
   },
   {
    "duration": 10,
    "start_time": "2022-06-25T15:35:05.287Z"
   },
   {
    "duration": 254,
    "start_time": "2022-06-25T15:35:05.299Z"
   },
   {
    "duration": 129,
    "start_time": "2022-06-25T15:35:05.555Z"
   },
   {
    "duration": 16,
    "start_time": "2022-06-25T15:35:05.686Z"
   },
   {
    "duration": 64,
    "start_time": "2022-06-25T15:35:05.704Z"
   },
   {
    "duration": 14,
    "start_time": "2022-06-25T15:35:05.771Z"
   },
   {
    "duration": 65,
    "start_time": "2022-06-25T15:35:05.788Z"
   },
   {
    "duration": 27,
    "start_time": "2022-06-25T15:35:05.857Z"
   },
   {
    "duration": 37,
    "start_time": "2022-06-25T15:35:05.886Z"
   },
   {
    "duration": 50,
    "start_time": "2022-06-25T15:35:05.925Z"
   },
   {
    "duration": 35,
    "start_time": "2022-06-25T15:35:05.978Z"
   },
   {
    "duration": 40,
    "start_time": "2022-06-25T15:35:06.014Z"
   },
   {
    "duration": 40,
    "start_time": "2022-06-25T15:35:06.056Z"
   },
   {
    "duration": 11,
    "start_time": "2022-06-25T15:35:06.214Z"
   },
   {
    "duration": 71,
    "start_time": "2022-06-25T15:35:06.310Z"
   },
   {
    "duration": 18,
    "start_time": "2022-06-25T15:35:06.398Z"
   },
   {
    "duration": 9,
    "start_time": "2022-06-25T15:35:06.528Z"
   },
   {
    "duration": 35,
    "start_time": "2022-06-25T15:35:06.682Z"
   },
   {
    "duration": 10,
    "start_time": "2022-06-25T15:35:06.761Z"
   },
   {
    "duration": 9,
    "start_time": "2022-06-25T15:35:06.805Z"
   },
   {
    "duration": 12,
    "start_time": "2022-06-25T15:35:06.882Z"
   },
   {
    "duration": 8,
    "start_time": "2022-06-25T15:35:06.947Z"
   },
   {
    "duration": 437,
    "start_time": "2022-06-25T15:35:07.033Z"
   },
   {
    "duration": 432,
    "start_time": "2022-06-25T15:35:07.475Z"
   },
   {
    "duration": 6,
    "start_time": "2022-06-25T15:35:07.908Z"
   },
   {
    "duration": 9,
    "start_time": "2022-06-25T15:35:07.916Z"
   },
   {
    "duration": 362,
    "start_time": "2022-06-25T15:35:07.942Z"
   },
   {
    "duration": 6,
    "start_time": "2022-06-25T15:35:08.306Z"
   },
   {
    "duration": 46,
    "start_time": "2022-06-25T15:35:08.314Z"
   },
   {
    "duration": 40,
    "start_time": "2022-06-25T15:35:08.363Z"
   },
   {
    "duration": 11,
    "start_time": "2022-06-25T15:35:08.405Z"
   },
   {
    "duration": 9,
    "start_time": "2022-06-25T15:35:08.420Z"
   },
   {
    "duration": 21,
    "start_time": "2022-06-25T15:35:08.431Z"
   },
   {
    "duration": 27,
    "start_time": "2022-06-25T15:35:08.454Z"
   },
   {
    "duration": 13,
    "start_time": "2022-06-25T15:35:08.484Z"
   },
   {
    "duration": 424,
    "start_time": "2022-06-25T15:35:08.499Z"
   },
   {
    "duration": 38,
    "start_time": "2022-06-25T15:35:08.926Z"
   },
   {
    "duration": 18,
    "start_time": "2022-06-25T15:35:08.966Z"
   },
   {
    "duration": 9,
    "start_time": "2022-06-25T15:35:08.986Z"
   },
   {
    "duration": 450,
    "start_time": "2022-06-25T15:35:08.997Z"
   },
   {
    "duration": 18,
    "start_time": "2022-06-25T15:35:09.449Z"
   },
   {
    "duration": 14,
    "start_time": "2022-06-25T15:35:09.471Z"
   },
   {
    "duration": 11,
    "start_time": "2022-06-25T15:35:09.487Z"
   },
   {
    "duration": 424,
    "start_time": "2022-06-25T15:35:09.501Z"
   },
   {
    "duration": 22,
    "start_time": "2022-06-25T15:35:09.927Z"
   },
   {
    "duration": 35,
    "start_time": "2022-06-25T15:35:09.950Z"
   },
   {
    "duration": 7,
    "start_time": "2022-06-25T15:35:09.987Z"
   },
   {
    "duration": 12,
    "start_time": "2022-06-25T15:35:09.996Z"
   },
   {
    "duration": 10,
    "start_time": "2022-06-25T15:35:10.011Z"
   },
   {
    "duration": 51,
    "start_time": "2022-06-25T15:35:10.023Z"
   },
   {
    "duration": 42,
    "start_time": "2022-06-25T15:35:10.076Z"
   },
   {
    "duration": 7,
    "start_time": "2022-06-25T15:35:10.121Z"
   },
   {
    "duration": 11,
    "start_time": "2022-06-25T15:36:01.067Z"
   },
   {
    "duration": 70,
    "start_time": "2022-06-25T15:36:38.889Z"
   },
   {
    "duration": 17,
    "start_time": "2022-06-25T15:36:44.929Z"
   },
   {
    "duration": 8,
    "start_time": "2022-06-25T15:36:57.928Z"
   },
   {
    "duration": 217,
    "start_time": "2022-06-25T15:36:57.993Z"
   },
   {
    "duration": 17,
    "start_time": "2022-06-25T15:36:58.212Z"
   },
   {
    "duration": 326,
    "start_time": "2022-06-25T15:36:58.248Z"
   },
   {
    "duration": 17,
    "start_time": "2022-06-25T15:36:58.577Z"
   },
   {
    "duration": 224,
    "start_time": "2022-06-25T15:36:58.596Z"
   },
   {
    "duration": 94,
    "start_time": "2022-06-25T15:36:58.823Z"
   },
   {
    "duration": 54,
    "start_time": "2022-06-25T15:36:58.919Z"
   },
   {
    "duration": 26,
    "start_time": "2022-06-25T15:36:58.977Z"
   },
   {
    "duration": 64,
    "start_time": "2022-06-25T15:36:59.005Z"
   },
   {
    "duration": 203,
    "start_time": "2022-06-25T15:36:59.073Z"
   },
   {
    "duration": 111,
    "start_time": "2022-06-25T15:36:59.279Z"
   },
   {
    "duration": 90,
    "start_time": "2022-06-25T15:36:59.392Z"
   },
   {
    "duration": 60,
    "start_time": "2022-06-25T15:36:59.485Z"
   },
   {
    "duration": 11,
    "start_time": "2022-06-25T15:36:59.553Z"
   },
   {
    "duration": 300,
    "start_time": "2022-06-25T15:36:59.566Z"
   },
   {
    "duration": 157,
    "start_time": "2022-06-25T15:36:59.870Z"
   },
   {
    "duration": 49,
    "start_time": "2022-06-25T15:37:00.029Z"
   },
   {
    "duration": 100,
    "start_time": "2022-06-25T15:37:00.086Z"
   },
   {
    "duration": 13,
    "start_time": "2022-06-25T15:37:00.189Z"
   },
   {
    "duration": 123,
    "start_time": "2022-06-25T15:37:00.205Z"
   },
   {
    "duration": 44,
    "start_time": "2022-06-25T15:37:00.331Z"
   },
   {
    "duration": 30,
    "start_time": "2022-06-25T15:37:00.377Z"
   },
   {
    "duration": 39,
    "start_time": "2022-06-25T15:37:00.409Z"
   },
   {
    "duration": 42,
    "start_time": "2022-06-25T15:37:00.450Z"
   },
   {
    "duration": 13,
    "start_time": "2022-06-25T15:37:00.494Z"
   },
   {
    "duration": 45,
    "start_time": "2022-06-25T15:37:00.510Z"
   },
   {
    "duration": 47,
    "start_time": "2022-06-25T15:37:00.557Z"
   },
   {
    "duration": 92,
    "start_time": "2022-06-25T15:37:00.607Z"
   },
   {
    "duration": 23,
    "start_time": "2022-06-25T15:37:00.701Z"
   },
   {
    "duration": 36,
    "start_time": "2022-06-25T15:37:00.727Z"
   },
   {
    "duration": 69,
    "start_time": "2022-06-25T15:37:00.765Z"
   },
   {
    "duration": 27,
    "start_time": "2022-06-25T15:37:00.836Z"
   },
   {
    "duration": 19,
    "start_time": "2022-06-25T15:37:00.869Z"
   },
   {
    "duration": 28,
    "start_time": "2022-06-25T15:37:00.893Z"
   },
   {
    "duration": 16,
    "start_time": "2022-06-25T15:37:00.923Z"
   },
   {
    "duration": 479,
    "start_time": "2022-06-25T15:37:00.941Z"
   },
   {
    "duration": 410,
    "start_time": "2022-06-25T15:37:01.423Z"
   },
   {
    "duration": 25,
    "start_time": "2022-06-25T15:37:01.835Z"
   },
   {
    "duration": 31,
    "start_time": "2022-06-25T15:37:01.867Z"
   },
   {
    "duration": 475,
    "start_time": "2022-06-25T15:37:01.901Z"
   },
   {
    "duration": 7,
    "start_time": "2022-06-25T15:37:02.381Z"
   },
   {
    "duration": 31,
    "start_time": "2022-06-25T15:37:02.392Z"
   },
   {
    "duration": 50,
    "start_time": "2022-06-25T15:37:02.425Z"
   },
   {
    "duration": 24,
    "start_time": "2022-06-25T15:37:02.481Z"
   },
   {
    "duration": 11,
    "start_time": "2022-06-25T15:37:02.509Z"
   },
   {
    "duration": 16,
    "start_time": "2022-06-25T15:37:02.522Z"
   },
   {
    "duration": 54,
    "start_time": "2022-06-25T15:37:02.541Z"
   },
   {
    "duration": 18,
    "start_time": "2022-06-25T15:37:02.599Z"
   },
   {
    "duration": 567,
    "start_time": "2022-06-25T15:37:02.619Z"
   },
   {
    "duration": 17,
    "start_time": "2022-06-25T15:37:03.189Z"
   },
   {
    "duration": 12,
    "start_time": "2022-06-25T15:37:03.209Z"
   },
   {
    "duration": 30,
    "start_time": "2022-06-25T15:37:03.244Z"
   },
   {
    "duration": 504,
    "start_time": "2022-06-25T15:37:03.276Z"
   },
   {
    "duration": 17,
    "start_time": "2022-06-25T15:37:03.782Z"
   },
   {
    "duration": 17,
    "start_time": "2022-06-25T15:37:03.802Z"
   },
   {
    "duration": 36,
    "start_time": "2022-06-25T15:37:03.820Z"
   },
   {
    "duration": 506,
    "start_time": "2022-06-25T15:37:03.859Z"
   },
   {
    "duration": 16,
    "start_time": "2022-06-25T15:37:04.368Z"
   },
   {
    "duration": 15,
    "start_time": "2022-06-25T15:37:04.386Z"
   },
   {
    "duration": 9,
    "start_time": "2022-06-25T15:37:04.403Z"
   },
   {
    "duration": 35,
    "start_time": "2022-06-25T15:37:04.446Z"
   },
   {
    "duration": 11,
    "start_time": "2022-06-25T15:37:04.484Z"
   },
   {
    "duration": 40,
    "start_time": "2022-06-25T15:37:04.498Z"
   },
   {
    "duration": 36,
    "start_time": "2022-06-25T15:37:04.542Z"
   },
   {
    "duration": 7,
    "start_time": "2022-06-25T15:37:04.581Z"
   },
   {
    "duration": 4,
    "start_time": "2022-06-25T15:38:18.226Z"
   },
   {
    "duration": 86,
    "start_time": "2022-06-25T15:38:18.282Z"
   },
   {
    "duration": 19,
    "start_time": "2022-06-25T15:38:18.370Z"
   },
   {
    "duration": 312,
    "start_time": "2022-06-25T15:38:18.475Z"
   },
   {
    "duration": 17,
    "start_time": "2022-06-25T15:38:18.790Z"
   },
   {
    "duration": 226,
    "start_time": "2022-06-25T15:38:18.809Z"
   },
   {
    "duration": 89,
    "start_time": "2022-06-25T15:38:19.042Z"
   },
   {
    "duration": 42,
    "start_time": "2022-06-25T15:38:19.134Z"
   },
   {
    "duration": 38,
    "start_time": "2022-06-25T15:38:19.178Z"
   },
   {
    "duration": 72,
    "start_time": "2022-06-25T15:38:19.219Z"
   },
   {
    "duration": 206,
    "start_time": "2022-06-25T15:38:19.294Z"
   },
   {
    "duration": 114,
    "start_time": "2022-06-25T15:38:19.502Z"
   },
   {
    "duration": 82,
    "start_time": "2022-06-25T15:38:19.619Z"
   },
   {
    "duration": 73,
    "start_time": "2022-06-25T15:38:19.705Z"
   },
   {
    "duration": 12,
    "start_time": "2022-06-25T15:38:19.781Z"
   },
   {
    "duration": 293,
    "start_time": "2022-06-25T15:38:19.795Z"
   },
   {
    "duration": 166,
    "start_time": "2022-06-25T15:38:20.090Z"
   },
   {
    "duration": 21,
    "start_time": "2022-06-25T15:38:20.258Z"
   },
   {
    "duration": 82,
    "start_time": "2022-06-25T15:38:20.282Z"
   },
   {
    "duration": 11,
    "start_time": "2022-06-25T15:38:20.374Z"
   },
   {
    "duration": 87,
    "start_time": "2022-06-25T15:38:20.389Z"
   },
   {
    "duration": 27,
    "start_time": "2022-06-25T15:38:20.478Z"
   },
   {
    "duration": 52,
    "start_time": "2022-06-25T15:38:20.507Z"
   },
   {
    "duration": 29,
    "start_time": "2022-06-25T15:38:20.570Z"
   },
   {
    "duration": 48,
    "start_time": "2022-06-25T15:38:20.603Z"
   },
   {
    "duration": 22,
    "start_time": "2022-06-25T15:38:20.653Z"
   },
   {
    "duration": 28,
    "start_time": "2022-06-25T15:38:20.677Z"
   },
   {
    "duration": 15,
    "start_time": "2022-06-25T15:38:20.707Z"
   },
   {
    "duration": 98,
    "start_time": "2022-06-25T15:38:20.763Z"
   },
   {
    "duration": 25,
    "start_time": "2022-06-25T15:38:20.864Z"
   },
   {
    "duration": 15,
    "start_time": "2022-06-25T15:38:20.963Z"
   },
   {
    "duration": 29,
    "start_time": "2022-06-25T15:38:20.998Z"
   },
   {
    "duration": 14,
    "start_time": "2022-06-25T15:38:21.071Z"
   },
   {
    "duration": 6,
    "start_time": "2022-06-25T15:38:21.170Z"
   },
   {
    "duration": 14,
    "start_time": "2022-06-25T15:38:21.269Z"
   },
   {
    "duration": 7,
    "start_time": "2022-06-25T15:38:21.318Z"
   },
   {
    "duration": 477,
    "start_time": "2022-06-25T15:38:21.371Z"
   },
   {
    "duration": 430,
    "start_time": "2022-06-25T15:38:21.850Z"
   },
   {
    "duration": 7,
    "start_time": "2022-06-25T15:38:22.282Z"
   },
   {
    "duration": 29,
    "start_time": "2022-06-25T15:38:22.292Z"
   },
   {
    "duration": 423,
    "start_time": "2022-06-25T15:38:22.322Z"
   },
   {
    "duration": 6,
    "start_time": "2022-06-25T15:38:22.749Z"
   },
   {
    "duration": 40,
    "start_time": "2022-06-25T15:38:22.758Z"
   },
   {
    "duration": 51,
    "start_time": "2022-06-25T15:38:22.800Z"
   },
   {
    "duration": 20,
    "start_time": "2022-06-25T15:38:22.853Z"
   },
   {
    "duration": 9,
    "start_time": "2022-06-25T15:38:22.877Z"
   },
   {
    "duration": 15,
    "start_time": "2022-06-25T15:38:22.889Z"
   },
   {
    "duration": 16,
    "start_time": "2022-06-25T15:38:22.906Z"
   },
   {
    "duration": 12,
    "start_time": "2022-06-25T15:38:22.924Z"
   },
   {
    "duration": 508,
    "start_time": "2022-06-25T15:38:22.942Z"
   },
   {
    "duration": 13,
    "start_time": "2022-06-25T15:38:23.452Z"
   },
   {
    "duration": 29,
    "start_time": "2022-06-25T15:38:23.467Z"
   },
   {
    "duration": 26,
    "start_time": "2022-06-25T15:38:23.498Z"
   },
   {
    "duration": 437,
    "start_time": "2022-06-25T15:38:23.527Z"
   },
   {
    "duration": 14,
    "start_time": "2022-06-25T15:38:23.967Z"
   },
   {
    "duration": 19,
    "start_time": "2022-06-25T15:38:23.984Z"
   },
   {
    "duration": 22,
    "start_time": "2022-06-25T15:38:24.006Z"
   },
   {
    "duration": 708,
    "start_time": "2022-06-25T15:38:24.041Z"
   },
   {
    "duration": 21,
    "start_time": "2022-06-25T15:38:24.753Z"
   },
   {
    "duration": 25,
    "start_time": "2022-06-25T15:38:24.777Z"
   },
   {
    "duration": 8,
    "start_time": "2022-06-25T15:38:24.805Z"
   },
   {
    "duration": 30,
    "start_time": "2022-06-25T15:38:24.815Z"
   },
   {
    "duration": 29,
    "start_time": "2022-06-25T15:38:24.852Z"
   },
   {
    "duration": 43,
    "start_time": "2022-06-25T15:38:24.883Z"
   },
   {
    "duration": 39,
    "start_time": "2022-06-25T15:38:24.928Z"
   },
   {
    "duration": 10,
    "start_time": "2022-06-25T15:38:24.969Z"
   },
   {
    "duration": 50,
    "start_time": "2022-06-25T15:41:13.409Z"
   },
   {
    "duration": 35,
    "start_time": "2022-06-25T15:43:57.153Z"
   },
   {
    "duration": 65,
    "start_time": "2022-06-25T15:44:18.385Z"
   },
   {
    "duration": 11,
    "start_time": "2022-06-25T15:44:25.683Z"
   },
   {
    "duration": 68,
    "start_time": "2022-06-25T15:48:06.581Z"
   },
   {
    "duration": 26,
    "start_time": "2022-06-25T15:49:12.129Z"
   },
   {
    "duration": 17,
    "start_time": "2022-06-25T15:49:59.119Z"
   },
   {
    "duration": 17,
    "start_time": "2022-06-25T15:54:47.767Z"
   },
   {
    "duration": 1705,
    "start_time": "2022-06-25T15:55:14.165Z"
   },
   {
    "duration": 56,
    "start_time": "2022-06-25T15:55:44.253Z"
   },
   {
    "duration": 10,
    "start_time": "2022-06-25T15:56:02.738Z"
   },
   {
    "duration": 118,
    "start_time": "2022-06-25T15:56:02.750Z"
   },
   {
    "duration": 15,
    "start_time": "2022-06-25T15:56:02.873Z"
   },
   {
    "duration": 324,
    "start_time": "2022-06-25T15:56:02.890Z"
   },
   {
    "duration": 41,
    "start_time": "2022-06-25T15:56:03.217Z"
   },
   {
    "duration": 172,
    "start_time": "2022-06-25T15:56:03.261Z"
   },
   {
    "duration": 71,
    "start_time": "2022-06-25T15:56:03.441Z"
   },
   {
    "duration": 59,
    "start_time": "2022-06-25T15:56:03.517Z"
   },
   {
    "duration": 26,
    "start_time": "2022-06-25T15:56:03.580Z"
   },
   {
    "duration": 59,
    "start_time": "2022-06-25T15:56:03.608Z"
   },
   {
    "duration": 145,
    "start_time": "2022-06-25T15:56:03.671Z"
   },
   {
    "duration": 100,
    "start_time": "2022-06-25T15:56:03.818Z"
   },
   {
    "duration": 73,
    "start_time": "2022-06-25T15:56:03.920Z"
   },
   {
    "duration": 57,
    "start_time": "2022-06-25T15:56:03.995Z"
   },
   {
    "duration": 35,
    "start_time": "2022-06-25T15:56:04.059Z"
   },
   {
    "duration": 242,
    "start_time": "2022-06-25T15:56:04.098Z"
   },
   {
    "duration": 126,
    "start_time": "2022-06-25T15:56:04.347Z"
   },
   {
    "duration": 21,
    "start_time": "2022-06-25T15:56:04.476Z"
   },
   {
    "duration": 89,
    "start_time": "2022-06-25T15:56:04.501Z"
   },
   {
    "duration": 0,
    "start_time": "2022-06-25T15:56:04.594Z"
   },
   {
    "duration": 0,
    "start_time": "2022-06-25T15:56:04.596Z"
   },
   {
    "duration": 0,
    "start_time": "2022-06-25T15:56:04.599Z"
   },
   {
    "duration": 0,
    "start_time": "2022-06-25T15:56:04.601Z"
   },
   {
    "duration": 0,
    "start_time": "2022-06-25T15:56:04.602Z"
   },
   {
    "duration": 0,
    "start_time": "2022-06-25T15:56:04.604Z"
   },
   {
    "duration": 0,
    "start_time": "2022-06-25T15:56:04.605Z"
   },
   {
    "duration": 0,
    "start_time": "2022-06-25T15:56:04.607Z"
   },
   {
    "duration": 0,
    "start_time": "2022-06-25T15:56:04.608Z"
   },
   {
    "duration": 0,
    "start_time": "2022-06-25T15:56:04.609Z"
   },
   {
    "duration": 0,
    "start_time": "2022-06-25T15:56:04.609Z"
   },
   {
    "duration": 0,
    "start_time": "2022-06-25T15:56:04.610Z"
   },
   {
    "duration": 0,
    "start_time": "2022-06-25T15:56:04.611Z"
   },
   {
    "duration": 0,
    "start_time": "2022-06-25T15:56:04.613Z"
   },
   {
    "duration": 0,
    "start_time": "2022-06-25T15:56:04.614Z"
   },
   {
    "duration": 0,
    "start_time": "2022-06-25T15:56:04.615Z"
   },
   {
    "duration": 0,
    "start_time": "2022-06-25T15:56:04.616Z"
   },
   {
    "duration": 0,
    "start_time": "2022-06-25T15:56:04.617Z"
   },
   {
    "duration": 0,
    "start_time": "2022-06-25T15:56:04.618Z"
   },
   {
    "duration": 0,
    "start_time": "2022-06-25T15:56:04.619Z"
   },
   {
    "duration": 0,
    "start_time": "2022-06-25T15:56:04.621Z"
   },
   {
    "duration": 0,
    "start_time": "2022-06-25T15:56:04.622Z"
   },
   {
    "duration": 0,
    "start_time": "2022-06-25T15:56:04.623Z"
   },
   {
    "duration": 0,
    "start_time": "2022-06-25T15:56:04.651Z"
   },
   {
    "duration": 0,
    "start_time": "2022-06-25T15:56:04.655Z"
   },
   {
    "duration": 0,
    "start_time": "2022-06-25T15:56:04.659Z"
   },
   {
    "duration": 0,
    "start_time": "2022-06-25T15:56:04.662Z"
   },
   {
    "duration": 0,
    "start_time": "2022-06-25T15:56:04.663Z"
   },
   {
    "duration": 0,
    "start_time": "2022-06-25T15:56:04.665Z"
   },
   {
    "duration": 0,
    "start_time": "2022-06-25T15:56:04.666Z"
   },
   {
    "duration": 0,
    "start_time": "2022-06-25T15:56:04.668Z"
   },
   {
    "duration": 0,
    "start_time": "2022-06-25T15:56:04.670Z"
   },
   {
    "duration": 0,
    "start_time": "2022-06-25T15:56:04.671Z"
   },
   {
    "duration": 0,
    "start_time": "2022-06-25T15:56:04.673Z"
   },
   {
    "duration": 0,
    "start_time": "2022-06-25T15:56:04.674Z"
   },
   {
    "duration": 0,
    "start_time": "2022-06-25T15:56:04.675Z"
   },
   {
    "duration": 0,
    "start_time": "2022-06-25T15:56:04.677Z"
   },
   {
    "duration": 0,
    "start_time": "2022-06-25T15:56:04.678Z"
   },
   {
    "duration": 0,
    "start_time": "2022-06-25T15:56:04.680Z"
   },
   {
    "duration": 0,
    "start_time": "2022-06-25T15:56:04.681Z"
   },
   {
    "duration": 0,
    "start_time": "2022-06-25T15:56:04.683Z"
   },
   {
    "duration": 0,
    "start_time": "2022-06-25T15:56:04.684Z"
   },
   {
    "duration": 0,
    "start_time": "2022-06-25T15:56:04.686Z"
   },
   {
    "duration": 0,
    "start_time": "2022-06-25T15:56:04.687Z"
   },
   {
    "duration": 0,
    "start_time": "2022-06-25T15:56:04.688Z"
   },
   {
    "duration": 0,
    "start_time": "2022-06-25T15:56:04.690Z"
   },
   {
    "duration": 1,
    "start_time": "2022-06-25T15:56:04.691Z"
   },
   {
    "duration": 61,
    "start_time": "2022-06-25T15:57:01.763Z"
   },
   {
    "duration": 60,
    "start_time": "2022-06-25T15:57:08.502Z"
   },
   {
    "duration": 5,
    "start_time": "2022-06-25T15:57:12.899Z"
   },
   {
    "duration": 88,
    "start_time": "2022-06-25T15:57:12.906Z"
   },
   {
    "duration": 17,
    "start_time": "2022-06-25T15:57:12.996Z"
   },
   {
    "duration": 298,
    "start_time": "2022-06-25T15:57:13.016Z"
   },
   {
    "duration": 45,
    "start_time": "2022-06-25T15:57:13.316Z"
   },
   {
    "duration": 169,
    "start_time": "2022-06-25T15:57:13.364Z"
   },
   {
    "duration": 89,
    "start_time": "2022-06-25T15:57:13.550Z"
   },
   {
    "duration": 45,
    "start_time": "2022-06-25T15:57:13.644Z"
   },
   {
    "duration": 24,
    "start_time": "2022-06-25T15:57:13.693Z"
   },
   {
    "duration": 53,
    "start_time": "2022-06-25T15:57:13.719Z"
   },
   {
    "duration": 136,
    "start_time": "2022-06-25T15:57:13.773Z"
   },
   {
    "duration": 97,
    "start_time": "2022-06-25T15:57:13.912Z"
   },
   {
    "duration": 83,
    "start_time": "2022-06-25T15:57:14.012Z"
   },
   {
    "duration": 49,
    "start_time": "2022-06-25T15:57:14.098Z"
   },
   {
    "duration": 20,
    "start_time": "2022-06-25T15:57:14.153Z"
   },
   {
    "duration": 213,
    "start_time": "2022-06-25T15:57:14.176Z"
   },
   {
    "duration": 152,
    "start_time": "2022-06-25T15:57:14.392Z"
   },
   {
    "duration": 22,
    "start_time": "2022-06-25T15:57:14.546Z"
   },
   {
    "duration": 51,
    "start_time": "2022-06-25T15:57:14.570Z"
   },
   {
    "duration": 102,
    "start_time": "2022-06-25T15:57:14.623Z"
   },
   {
    "duration": 79,
    "start_time": "2022-06-25T15:57:14.727Z"
   },
   {
    "duration": 23,
    "start_time": "2022-06-25T15:57:14.809Z"
   },
   {
    "duration": 39,
    "start_time": "2022-06-25T15:57:14.834Z"
   },
   {
    "duration": 27,
    "start_time": "2022-06-25T15:57:14.880Z"
   },
   {
    "duration": 56,
    "start_time": "2022-06-25T15:57:14.909Z"
   },
   {
    "duration": 14,
    "start_time": "2022-06-25T15:57:14.967Z"
   },
   {
    "duration": 25,
    "start_time": "2022-06-25T15:57:14.983Z"
   },
   {
    "duration": 46,
    "start_time": "2022-06-25T15:57:15.010Z"
   },
   {
    "duration": 102,
    "start_time": "2022-06-25T15:57:15.058Z"
   },
   {
    "duration": 27,
    "start_time": "2022-06-25T15:57:15.166Z"
   },
   {
    "duration": 14,
    "start_time": "2022-06-25T15:57:15.195Z"
   },
   {
    "duration": 57,
    "start_time": "2022-06-25T15:57:15.211Z"
   },
   {
    "duration": 10,
    "start_time": "2022-06-25T15:57:15.271Z"
   },
   {
    "duration": 14,
    "start_time": "2022-06-25T15:57:15.283Z"
   },
   {
    "duration": 18,
    "start_time": "2022-06-25T15:57:15.299Z"
   },
   {
    "duration": 25,
    "start_time": "2022-06-25T15:57:15.320Z"
   },
   {
    "duration": 418,
    "start_time": "2022-06-25T15:57:15.349Z"
   },
   {
    "duration": 437,
    "start_time": "2022-06-25T15:57:15.769Z"
   },
   {
    "duration": 7,
    "start_time": "2022-06-25T15:57:16.209Z"
   },
   {
    "duration": 13,
    "start_time": "2022-06-25T15:57:16.218Z"
   },
   {
    "duration": 379,
    "start_time": "2022-06-25T15:57:16.241Z"
   },
   {
    "duration": 6,
    "start_time": "2022-06-25T15:57:16.622Z"
   },
   {
    "duration": 24,
    "start_time": "2022-06-25T15:57:16.649Z"
   },
   {
    "duration": 37,
    "start_time": "2022-06-25T15:57:16.675Z"
   },
   {
    "duration": 16,
    "start_time": "2022-06-25T15:57:16.714Z"
   },
   {
    "duration": 23,
    "start_time": "2022-06-25T15:57:16.733Z"
   },
   {
    "duration": 17,
    "start_time": "2022-06-25T15:57:16.758Z"
   },
   {
    "duration": 14,
    "start_time": "2022-06-25T15:57:16.777Z"
   },
   {
    "duration": 14,
    "start_time": "2022-06-25T15:57:16.793Z"
   },
   {
    "duration": 491,
    "start_time": "2022-06-25T15:57:16.809Z"
   },
   {
    "duration": 18,
    "start_time": "2022-06-25T15:57:17.305Z"
   },
   {
    "duration": 49,
    "start_time": "2022-06-25T15:57:17.326Z"
   },
   {
    "duration": 26,
    "start_time": "2022-06-25T15:57:17.377Z"
   },
   {
    "duration": 493,
    "start_time": "2022-06-25T15:57:17.406Z"
   },
   {
    "duration": 17,
    "start_time": "2022-06-25T15:57:17.901Z"
   },
   {
    "duration": 33,
    "start_time": "2022-06-25T15:57:17.920Z"
   },
   {
    "duration": 28,
    "start_time": "2022-06-25T15:57:17.955Z"
   },
   {
    "duration": 493,
    "start_time": "2022-06-25T15:57:17.985Z"
   },
   {
    "duration": 13,
    "start_time": "2022-06-25T15:57:18.480Z"
   },
   {
    "duration": 16,
    "start_time": "2022-06-25T15:57:18.495Z"
   },
   {
    "duration": 40,
    "start_time": "2022-06-25T15:57:18.514Z"
   },
   {
    "duration": 28,
    "start_time": "2022-06-25T15:57:18.556Z"
   },
   {
    "duration": 18,
    "start_time": "2022-06-25T15:57:18.586Z"
   },
   {
    "duration": 38,
    "start_time": "2022-06-25T15:57:18.608Z"
   },
   {
    "duration": 34,
    "start_time": "2022-06-25T15:57:18.648Z"
   },
   {
    "duration": 8,
    "start_time": "2022-06-25T15:57:18.684Z"
   },
   {
    "duration": 48,
    "start_time": "2022-06-25T16:00:41.624Z"
   },
   {
    "duration": 35,
    "start_time": "2022-06-25T16:01:10.282Z"
   },
   {
    "duration": 6,
    "start_time": "2022-06-25T16:01:16.338Z"
   },
   {
    "duration": 96,
    "start_time": "2022-06-25T16:01:16.348Z"
   },
   {
    "duration": 21,
    "start_time": "2022-06-25T16:01:16.450Z"
   },
   {
    "duration": 280,
    "start_time": "2022-06-25T16:01:16.474Z"
   },
   {
    "duration": 15,
    "start_time": "2022-06-25T16:01:16.757Z"
   },
   {
    "duration": 218,
    "start_time": "2022-06-25T16:01:16.774Z"
   },
   {
    "duration": 98,
    "start_time": "2022-06-25T16:01:16.994Z"
   },
   {
    "duration": 32,
    "start_time": "2022-06-25T16:01:17.095Z"
   },
   {
    "duration": 40,
    "start_time": "2022-06-25T16:01:17.130Z"
   },
   {
    "duration": 78,
    "start_time": "2022-06-25T16:01:17.173Z"
   },
   {
    "duration": 165,
    "start_time": "2022-06-25T16:01:17.256Z"
   },
   {
    "duration": 105,
    "start_time": "2022-06-25T16:01:17.424Z"
   },
   {
    "duration": 92,
    "start_time": "2022-06-25T16:01:17.532Z"
   },
   {
    "duration": 77,
    "start_time": "2022-06-25T16:01:17.627Z"
   },
   {
    "duration": 11,
    "start_time": "2022-06-25T16:01:17.707Z"
   },
   {
    "duration": 276,
    "start_time": "2022-06-25T16:01:17.721Z"
   },
   {
    "duration": 160,
    "start_time": "2022-06-25T16:01:18.000Z"
   },
   {
    "duration": 20,
    "start_time": "2022-06-25T16:01:18.161Z"
   },
   {
    "duration": 37,
    "start_time": "2022-06-25T16:01:18.183Z"
   },
   {
    "duration": 33,
    "start_time": "2022-06-25T16:01:18.222Z"
   },
   {
    "duration": 71,
    "start_time": "2022-06-25T16:01:18.257Z"
   },
   {
    "duration": 33,
    "start_time": "2022-06-25T16:01:18.330Z"
   },
   {
    "duration": 41,
    "start_time": "2022-06-25T16:01:18.365Z"
   },
   {
    "duration": 30,
    "start_time": "2022-06-25T16:01:18.408Z"
   },
   {
    "duration": 53,
    "start_time": "2022-06-25T16:01:18.440Z"
   },
   {
    "duration": 18,
    "start_time": "2022-06-25T16:01:18.495Z"
   },
   {
    "duration": 40,
    "start_time": "2022-06-25T16:01:18.515Z"
   },
   {
    "duration": 15,
    "start_time": "2022-06-25T16:01:18.559Z"
   },
   {
    "duration": 82,
    "start_time": "2022-06-25T16:01:18.582Z"
   },
   {
    "duration": 25,
    "start_time": "2022-06-25T16:01:18.669Z"
   },
   {
    "duration": 10,
    "start_time": "2022-06-25T16:01:18.697Z"
   },
   {
    "duration": 50,
    "start_time": "2022-06-25T16:01:18.709Z"
   },
   {
    "duration": 19,
    "start_time": "2022-06-25T16:01:18.764Z"
   },
   {
    "duration": 9,
    "start_time": "2022-06-25T16:01:18.786Z"
   },
   {
    "duration": 14,
    "start_time": "2022-06-25T16:01:18.797Z"
   },
   {
    "duration": 8,
    "start_time": "2022-06-25T16:01:18.813Z"
   },
   {
    "duration": 434,
    "start_time": "2022-06-25T16:01:18.823Z"
   },
   {
    "duration": 413,
    "start_time": "2022-06-25T16:01:19.259Z"
   },
   {
    "duration": 7,
    "start_time": "2022-06-25T16:01:19.674Z"
   },
   {
    "duration": 16,
    "start_time": "2022-06-25T16:01:19.683Z"
   },
   {
    "duration": 423,
    "start_time": "2022-06-25T16:01:19.701Z"
   },
   {
    "duration": 7,
    "start_time": "2022-06-25T16:01:20.126Z"
   },
   {
    "duration": 54,
    "start_time": "2022-06-25T16:01:20.135Z"
   },
   {
    "duration": 47,
    "start_time": "2022-06-25T16:01:20.191Z"
   },
   {
    "duration": 15,
    "start_time": "2022-06-25T16:01:20.243Z"
   },
   {
    "duration": 24,
    "start_time": "2022-06-25T16:01:20.263Z"
   },
   {
    "duration": 16,
    "start_time": "2022-06-25T16:01:20.289Z"
   },
   {
    "duration": 17,
    "start_time": "2022-06-25T16:01:20.307Z"
   },
   {
    "duration": 24,
    "start_time": "2022-06-25T16:01:20.326Z"
   },
   {
    "duration": 525,
    "start_time": "2022-06-25T16:01:20.352Z"
   },
   {
    "duration": 14,
    "start_time": "2022-06-25T16:01:20.880Z"
   },
   {
    "duration": 20,
    "start_time": "2022-06-25T16:01:20.897Z"
   },
   {
    "duration": 14,
    "start_time": "2022-06-25T16:01:20.919Z"
   },
   {
    "duration": 434,
    "start_time": "2022-06-25T16:01:20.935Z"
   },
   {
    "duration": 14,
    "start_time": "2022-06-25T16:01:21.373Z"
   },
   {
    "duration": 21,
    "start_time": "2022-06-25T16:01:21.389Z"
   },
   {
    "duration": 13,
    "start_time": "2022-06-25T16:01:21.412Z"
   },
   {
    "duration": 494,
    "start_time": "2022-06-25T16:01:21.428Z"
   },
   {
    "duration": 25,
    "start_time": "2022-06-25T16:01:21.924Z"
   },
   {
    "duration": 34,
    "start_time": "2022-06-25T16:01:21.957Z"
   },
   {
    "duration": 24,
    "start_time": "2022-06-25T16:01:21.993Z"
   },
   {
    "duration": 32,
    "start_time": "2022-06-25T16:01:22.019Z"
   },
   {
    "duration": 42,
    "start_time": "2022-06-25T16:01:22.053Z"
   },
   {
    "duration": 54,
    "start_time": "2022-06-25T16:01:22.097Z"
   },
   {
    "duration": 57,
    "start_time": "2022-06-25T16:01:22.153Z"
   },
   {
    "duration": 7,
    "start_time": "2022-06-25T16:01:22.213Z"
   },
   {
    "duration": 56,
    "start_time": "2022-06-25T16:01:50.515Z"
   },
   {
    "duration": 40,
    "start_time": "2022-06-25T16:01:59.091Z"
   },
   {
    "duration": 12,
    "start_time": "2022-06-25T16:02:03.289Z"
   },
   {
    "duration": 6,
    "start_time": "2022-06-25T16:02:25.492Z"
   },
   {
    "duration": 96,
    "start_time": "2022-06-25T16:02:25.501Z"
   },
   {
    "duration": 21,
    "start_time": "2022-06-25T16:02:25.599Z"
   },
   {
    "duration": 388,
    "start_time": "2022-06-25T16:02:25.622Z"
   },
   {
    "duration": 44,
    "start_time": "2022-06-25T16:02:26.013Z"
   },
   {
    "duration": 240,
    "start_time": "2022-06-25T16:02:26.059Z"
   },
   {
    "duration": 94,
    "start_time": "2022-06-25T16:02:26.302Z"
   },
   {
    "duration": 46,
    "start_time": "2022-06-25T16:02:26.399Z"
   },
   {
    "duration": 251,
    "start_time": "2022-06-25T16:02:26.448Z"
   },
   {
    "duration": 61,
    "start_time": "2022-06-25T16:02:26.701Z"
   },
   {
    "duration": 237,
    "start_time": "2022-06-25T16:02:26.768Z"
   },
   {
    "duration": 104,
    "start_time": "2022-06-25T16:02:27.009Z"
   },
   {
    "duration": 93,
    "start_time": "2022-06-25T16:02:27.118Z"
   },
   {
    "duration": 51,
    "start_time": "2022-06-25T16:02:27.214Z"
   },
   {
    "duration": 32,
    "start_time": "2022-06-25T16:02:27.266Z"
   },
   {
    "duration": 279,
    "start_time": "2022-06-25T16:02:27.301Z"
   },
   {
    "duration": 141,
    "start_time": "2022-06-25T16:02:27.582Z"
   },
   {
    "duration": 46,
    "start_time": "2022-06-25T16:02:27.725Z"
   },
   {
    "duration": 57,
    "start_time": "2022-06-25T16:02:27.773Z"
   },
   {
    "duration": 23,
    "start_time": "2022-06-25T16:02:27.833Z"
   },
   {
    "duration": 96,
    "start_time": "2022-06-25T16:02:27.858Z"
   },
   {
    "duration": 21,
    "start_time": "2022-06-25T16:02:27.956Z"
   },
   {
    "duration": 32,
    "start_time": "2022-06-25T16:02:27.979Z"
   },
   {
    "duration": 40,
    "start_time": "2022-06-25T16:02:28.014Z"
   },
   {
    "duration": 37,
    "start_time": "2022-06-25T16:02:28.058Z"
   },
   {
    "duration": 30,
    "start_time": "2022-06-25T16:02:28.098Z"
   },
   {
    "duration": 80,
    "start_time": "2022-06-25T16:02:28.130Z"
   },
   {
    "duration": 10,
    "start_time": "2022-06-25T16:02:28.213Z"
   },
   {
    "duration": 100,
    "start_time": "2022-06-25T16:02:28.225Z"
   },
   {
    "duration": 40,
    "start_time": "2022-06-25T16:02:28.327Z"
   },
   {
    "duration": 16,
    "start_time": "2022-06-25T16:02:28.373Z"
   },
   {
    "duration": 31,
    "start_time": "2022-06-25T16:02:28.391Z"
   },
   {
    "duration": 9,
    "start_time": "2022-06-25T16:02:28.424Z"
   },
   {
    "duration": 43,
    "start_time": "2022-06-25T16:02:28.434Z"
   },
   {
    "duration": 16,
    "start_time": "2022-06-25T16:02:28.479Z"
   },
   {
    "duration": 13,
    "start_time": "2022-06-25T16:02:28.497Z"
   },
   {
    "duration": 419,
    "start_time": "2022-06-25T16:02:28.514Z"
   },
   {
    "duration": 455,
    "start_time": "2022-06-25T16:02:28.935Z"
   },
   {
    "duration": 12,
    "start_time": "2022-06-25T16:02:29.393Z"
   },
   {
    "duration": 9,
    "start_time": "2022-06-25T16:02:29.407Z"
   },
   {
    "duration": 400,
    "start_time": "2022-06-25T16:02:29.419Z"
   },
   {
    "duration": 8,
    "start_time": "2022-06-25T16:02:29.821Z"
   },
   {
    "duration": 22,
    "start_time": "2022-06-25T16:02:29.831Z"
   },
   {
    "duration": 40,
    "start_time": "2022-06-25T16:02:29.855Z"
   },
   {
    "duration": 10,
    "start_time": "2022-06-25T16:02:29.898Z"
   },
   {
    "duration": 10,
    "start_time": "2022-06-25T16:02:29.910Z"
   },
   {
    "duration": 44,
    "start_time": "2022-06-25T16:02:29.941Z"
   },
   {
    "duration": 4,
    "start_time": "2022-06-25T16:02:29.987Z"
   },
   {
    "duration": 16,
    "start_time": "2022-06-25T16:02:29.997Z"
   },
   {
    "duration": 418,
    "start_time": "2022-06-25T16:02:30.017Z"
   },
   {
    "duration": 37,
    "start_time": "2022-06-25T16:02:30.437Z"
   },
   {
    "duration": 20,
    "start_time": "2022-06-25T16:02:30.479Z"
   },
   {
    "duration": 15,
    "start_time": "2022-06-25T16:02:30.501Z"
   },
   {
    "duration": 443,
    "start_time": "2022-06-25T16:02:30.518Z"
   },
   {
    "duration": 15,
    "start_time": "2022-06-25T16:02:30.963Z"
   },
   {
    "duration": 53,
    "start_time": "2022-06-25T16:02:30.981Z"
   },
   {
    "duration": 40,
    "start_time": "2022-06-25T16:02:31.038Z"
   },
   {
    "duration": 466,
    "start_time": "2022-06-25T16:02:31.081Z"
   },
   {
    "duration": 11,
    "start_time": "2022-06-25T16:02:31.555Z"
   },
   {
    "duration": 15,
    "start_time": "2022-06-25T16:02:31.568Z"
   },
   {
    "duration": 12,
    "start_time": "2022-06-25T16:02:31.586Z"
   },
   {
    "duration": 31,
    "start_time": "2022-06-25T16:02:31.601Z"
   },
   {
    "duration": 56,
    "start_time": "2022-06-25T16:02:31.634Z"
   },
   {
    "duration": 50,
    "start_time": "2022-06-25T16:02:31.693Z"
   },
   {
    "duration": 38,
    "start_time": "2022-06-25T16:02:31.744Z"
   },
   {
    "duration": 6,
    "start_time": "2022-06-25T16:02:31.785Z"
   },
   {
    "duration": 9,
    "start_time": "2022-06-25T16:03:02.539Z"
   },
   {
    "duration": 128,
    "start_time": "2022-06-25T16:03:02.550Z"
   },
   {
    "duration": 18,
    "start_time": "2022-06-25T16:03:02.681Z"
   },
   {
    "duration": 360,
    "start_time": "2022-06-25T16:03:02.701Z"
   },
   {
    "duration": 18,
    "start_time": "2022-06-25T16:03:03.064Z"
   },
   {
    "duration": 182,
    "start_time": "2022-06-25T16:03:03.085Z"
   },
   {
    "duration": 57,
    "start_time": "2022-06-25T16:03:03.269Z"
   },
   {
    "duration": 47,
    "start_time": "2022-06-25T16:03:03.328Z"
   },
   {
    "duration": 23,
    "start_time": "2022-06-25T16:03:03.377Z"
   },
   {
    "duration": 79,
    "start_time": "2022-06-25T16:03:03.402Z"
   },
   {
    "duration": 292,
    "start_time": "2022-06-25T16:03:03.486Z"
   },
   {
    "duration": 109,
    "start_time": "2022-06-25T16:03:03.781Z"
   },
   {
    "duration": 91,
    "start_time": "2022-06-25T16:03:03.893Z"
   },
   {
    "duration": 70,
    "start_time": "2022-06-25T16:03:03.987Z"
   },
   {
    "duration": 28,
    "start_time": "2022-06-25T16:03:04.062Z"
   },
   {
    "duration": 260,
    "start_time": "2022-06-25T16:03:04.099Z"
   },
   {
    "duration": 126,
    "start_time": "2022-06-25T16:03:04.361Z"
   },
   {
    "duration": 24,
    "start_time": "2022-06-25T16:03:04.489Z"
   },
   {
    "duration": 81,
    "start_time": "2022-06-25T16:03:04.516Z"
   },
   {
    "duration": 12,
    "start_time": "2022-06-25T16:03:04.599Z"
   },
   {
    "duration": 72,
    "start_time": "2022-06-25T16:03:04.614Z"
   },
   {
    "duration": 28,
    "start_time": "2022-06-25T16:03:04.689Z"
   },
   {
    "duration": 51,
    "start_time": "2022-06-25T16:03:04.720Z"
   },
   {
    "duration": 31,
    "start_time": "2022-06-25T16:03:04.774Z"
   },
   {
    "duration": 57,
    "start_time": "2022-06-25T16:03:04.808Z"
   },
   {
    "duration": 14,
    "start_time": "2022-06-25T16:03:04.868Z"
   },
   {
    "duration": 24,
    "start_time": "2022-06-25T16:03:04.885Z"
   },
   {
    "duration": 39,
    "start_time": "2022-06-25T16:03:04.911Z"
   },
   {
    "duration": 101,
    "start_time": "2022-06-25T16:03:04.955Z"
   },
   {
    "duration": 20,
    "start_time": "2022-06-25T16:03:05.063Z"
   },
   {
    "duration": 13,
    "start_time": "2022-06-25T16:03:05.085Z"
   },
   {
    "duration": 63,
    "start_time": "2022-06-25T16:03:05.101Z"
   },
   {
    "duration": 9,
    "start_time": "2022-06-25T16:03:05.166Z"
   },
   {
    "duration": 12,
    "start_time": "2022-06-25T16:03:05.177Z"
   },
   {
    "duration": 15,
    "start_time": "2022-06-25T16:03:05.191Z"
   },
   {
    "duration": 13,
    "start_time": "2022-06-25T16:03:05.208Z"
   },
   {
    "duration": 461,
    "start_time": "2022-06-25T16:03:05.244Z"
   },
   {
    "duration": 445,
    "start_time": "2022-06-25T16:03:05.707Z"
   },
   {
    "duration": 10,
    "start_time": "2022-06-25T16:03:06.159Z"
   },
   {
    "duration": 7,
    "start_time": "2022-06-25T16:03:06.171Z"
   },
   {
    "duration": 420,
    "start_time": "2022-06-25T16:03:06.180Z"
   },
   {
    "duration": 10,
    "start_time": "2022-06-25T16:03:06.611Z"
   },
   {
    "duration": 19,
    "start_time": "2022-06-25T16:03:06.624Z"
   },
   {
    "duration": 60,
    "start_time": "2022-06-25T16:03:06.653Z"
   },
   {
    "duration": 10,
    "start_time": "2022-06-25T16:03:06.715Z"
   },
   {
    "duration": 6,
    "start_time": "2022-06-25T16:03:06.728Z"
   },
   {
    "duration": 24,
    "start_time": "2022-06-25T16:03:06.736Z"
   },
   {
    "duration": 48,
    "start_time": "2022-06-25T16:03:06.767Z"
   },
   {
    "duration": 12,
    "start_time": "2022-06-25T16:03:06.817Z"
   },
   {
    "duration": 501,
    "start_time": "2022-06-25T16:03:06.831Z"
   },
   {
    "duration": 33,
    "start_time": "2022-06-25T16:03:07.334Z"
   },
   {
    "duration": 25,
    "start_time": "2022-06-25T16:03:07.370Z"
   },
   {
    "duration": 7,
    "start_time": "2022-06-25T16:03:07.397Z"
   },
   {
    "duration": 470,
    "start_time": "2022-06-25T16:03:07.408Z"
   },
   {
    "duration": 16,
    "start_time": "2022-06-25T16:03:07.881Z"
   },
   {
    "duration": 25,
    "start_time": "2022-06-25T16:03:07.900Z"
   },
   {
    "duration": 20,
    "start_time": "2022-06-25T16:03:07.928Z"
   },
   {
    "duration": 394,
    "start_time": "2022-06-25T16:03:07.954Z"
   },
   {
    "duration": 19,
    "start_time": "2022-06-25T16:03:08.349Z"
   },
   {
    "duration": 22,
    "start_time": "2022-06-25T16:03:08.371Z"
   },
   {
    "duration": 11,
    "start_time": "2022-06-25T16:03:08.396Z"
   },
   {
    "duration": 18,
    "start_time": "2022-06-25T16:03:08.409Z"
   },
   {
    "duration": 24,
    "start_time": "2022-06-25T16:03:08.429Z"
   },
   {
    "duration": 47,
    "start_time": "2022-06-25T16:03:08.465Z"
   },
   {
    "duration": 39,
    "start_time": "2022-06-25T16:03:08.515Z"
   },
   {
    "duration": 5,
    "start_time": "2022-06-25T16:03:08.556Z"
   },
   {
    "duration": 45,
    "start_time": "2022-06-25T16:05:00.486Z"
   },
   {
    "duration": 4,
    "start_time": "2022-06-25T16:05:04.569Z"
   },
   {
    "duration": 89,
    "start_time": "2022-06-25T16:05:04.577Z"
   },
   {
    "duration": 18,
    "start_time": "2022-06-25T16:05:04.669Z"
   },
   {
    "duration": 272,
    "start_time": "2022-06-25T16:05:04.689Z"
   },
   {
    "duration": 16,
    "start_time": "2022-06-25T16:05:04.963Z"
   },
   {
    "duration": 193,
    "start_time": "2022-06-25T16:05:04.982Z"
   },
   {
    "duration": 91,
    "start_time": "2022-06-25T16:05:05.178Z"
   },
   {
    "duration": 37,
    "start_time": "2022-06-25T16:05:05.271Z"
   },
   {
    "duration": 42,
    "start_time": "2022-06-25T16:05:05.311Z"
   },
   {
    "duration": 54,
    "start_time": "2022-06-25T16:05:05.354Z"
   },
   {
    "duration": 153,
    "start_time": "2022-06-25T16:05:05.412Z"
   },
   {
    "duration": 94,
    "start_time": "2022-06-25T16:05:05.567Z"
   },
   {
    "duration": 60,
    "start_time": "2022-06-25T16:05:05.663Z"
   },
   {
    "duration": 65,
    "start_time": "2022-06-25T16:05:05.725Z"
   },
   {
    "duration": 11,
    "start_time": "2022-06-25T16:05:05.793Z"
   },
   {
    "duration": 216,
    "start_time": "2022-06-25T16:05:05.806Z"
   },
   {
    "duration": 134,
    "start_time": "2022-06-25T16:05:06.024Z"
   },
   {
    "duration": 18,
    "start_time": "2022-06-25T16:05:06.161Z"
   },
   {
    "duration": 47,
    "start_time": "2022-06-25T16:05:06.181Z"
   },
   {
    "duration": 17,
    "start_time": "2022-06-25T16:05:06.245Z"
   },
   {
    "duration": 72,
    "start_time": "2022-06-25T16:05:06.265Z"
   },
   {
    "duration": 27,
    "start_time": "2022-06-25T16:05:06.340Z"
   },
   {
    "duration": 30,
    "start_time": "2022-06-25T16:05:06.369Z"
   },
   {
    "duration": 25,
    "start_time": "2022-06-25T16:05:06.401Z"
   },
   {
    "duration": 31,
    "start_time": "2022-06-25T16:05:06.442Z"
   },
   {
    "duration": 12,
    "start_time": "2022-06-25T16:05:06.475Z"
   },
   {
    "duration": 21,
    "start_time": "2022-06-25T16:05:06.490Z"
   },
   {
    "duration": 10,
    "start_time": "2022-06-25T16:05:06.542Z"
   },
   {
    "duration": 104,
    "start_time": "2022-06-25T16:05:06.572Z"
   },
   {
    "duration": 26,
    "start_time": "2022-06-25T16:05:06.678Z"
   },
   {
    "duration": 12,
    "start_time": "2022-06-25T16:05:06.707Z"
   },
   {
    "duration": 84,
    "start_time": "2022-06-25T16:05:06.721Z"
   },
   {
    "duration": 10,
    "start_time": "2022-06-25T16:05:06.807Z"
   },
   {
    "duration": 64,
    "start_time": "2022-06-25T16:05:06.820Z"
   },
   {
    "duration": 22,
    "start_time": "2022-06-25T16:05:06.887Z"
   },
   {
    "duration": 13,
    "start_time": "2022-06-25T16:05:06.912Z"
   },
   {
    "duration": 439,
    "start_time": "2022-06-25T16:05:06.928Z"
   },
   {
    "duration": 422,
    "start_time": "2022-06-25T16:05:07.371Z"
   },
   {
    "duration": 8,
    "start_time": "2022-06-25T16:05:07.795Z"
   },
   {
    "duration": 13,
    "start_time": "2022-06-25T16:05:07.805Z"
   },
   {
    "duration": 413,
    "start_time": "2022-06-25T16:05:07.821Z"
   },
   {
    "duration": 14,
    "start_time": "2022-06-25T16:05:08.235Z"
   },
   {
    "duration": 29,
    "start_time": "2022-06-25T16:05:08.250Z"
   },
   {
    "duration": 34,
    "start_time": "2022-06-25T16:05:08.282Z"
   },
   {
    "duration": 11,
    "start_time": "2022-06-25T16:05:08.319Z"
   },
   {
    "duration": 20,
    "start_time": "2022-06-25T16:05:08.332Z"
   },
   {
    "duration": 26,
    "start_time": "2022-06-25T16:05:08.357Z"
   },
   {
    "duration": 6,
    "start_time": "2022-06-25T16:05:08.385Z"
   },
   {
    "duration": 10,
    "start_time": "2022-06-25T16:05:08.393Z"
   },
   {
    "duration": 457,
    "start_time": "2022-06-25T16:05:08.405Z"
   },
   {
    "duration": 12,
    "start_time": "2022-06-25T16:05:08.866Z"
   },
   {
    "duration": 23,
    "start_time": "2022-06-25T16:05:08.880Z"
   },
   {
    "duration": 7,
    "start_time": "2022-06-25T16:05:08.905Z"
   },
   {
    "duration": 616,
    "start_time": "2022-06-25T16:05:08.915Z"
   },
   {
    "duration": 31,
    "start_time": "2022-06-25T16:05:09.534Z"
   },
   {
    "duration": 16,
    "start_time": "2022-06-25T16:05:09.567Z"
   },
   {
    "duration": 13,
    "start_time": "2022-06-25T16:05:09.584Z"
   },
   {
    "duration": 422,
    "start_time": "2022-06-25T16:05:09.599Z"
   },
   {
    "duration": 33,
    "start_time": "2022-06-25T16:05:10.023Z"
   },
   {
    "duration": 35,
    "start_time": "2022-06-25T16:05:10.061Z"
   },
   {
    "duration": 19,
    "start_time": "2022-06-25T16:05:10.099Z"
   },
   {
    "duration": 16,
    "start_time": "2022-06-25T16:05:10.120Z"
   },
   {
    "duration": 14,
    "start_time": "2022-06-25T16:05:10.138Z"
   },
   {
    "duration": 47,
    "start_time": "2022-06-25T16:05:10.154Z"
   },
   {
    "duration": 36,
    "start_time": "2022-06-25T16:05:10.203Z"
   },
   {
    "duration": 8,
    "start_time": "2022-06-25T16:05:10.245Z"
   },
   {
    "duration": 5,
    "start_time": "2022-06-25T16:06:30.895Z"
   },
   {
    "duration": 84,
    "start_time": "2022-06-25T16:06:30.903Z"
   },
   {
    "duration": 14,
    "start_time": "2022-06-25T16:06:30.989Z"
   },
   {
    "duration": 281,
    "start_time": "2022-06-25T16:06:31.005Z"
   },
   {
    "duration": 28,
    "start_time": "2022-06-25T16:06:31.288Z"
   },
   {
    "duration": 183,
    "start_time": "2022-06-25T16:06:31.319Z"
   },
   {
    "duration": 75,
    "start_time": "2022-06-25T16:06:31.504Z"
   },
   {
    "duration": 34,
    "start_time": "2022-06-25T16:06:31.582Z"
   },
   {
    "duration": 27,
    "start_time": "2022-06-25T16:06:31.644Z"
   },
   {
    "duration": 52,
    "start_time": "2022-06-25T16:06:31.676Z"
   },
   {
    "duration": 165,
    "start_time": "2022-06-25T16:06:31.730Z"
   },
   {
    "duration": 93,
    "start_time": "2022-06-25T16:06:31.896Z"
   },
   {
    "duration": 72,
    "start_time": "2022-06-25T16:06:31.991Z"
   },
   {
    "duration": 49,
    "start_time": "2022-06-25T16:06:32.077Z"
   },
   {
    "duration": 40,
    "start_time": "2022-06-25T16:06:32.128Z"
   },
   {
    "duration": 233,
    "start_time": "2022-06-25T16:06:32.170Z"
   },
   {
    "duration": 127,
    "start_time": "2022-06-25T16:06:32.405Z"
   },
   {
    "duration": 28,
    "start_time": "2022-06-25T16:06:32.534Z"
   },
   {
    "duration": 101,
    "start_time": "2022-06-25T16:06:32.566Z"
   },
   {
    "duration": 0,
    "start_time": "2022-06-25T16:06:32.672Z"
   },
   {
    "duration": 0,
    "start_time": "2022-06-25T16:06:32.674Z"
   },
   {
    "duration": 0,
    "start_time": "2022-06-25T16:06:32.675Z"
   },
   {
    "duration": 0,
    "start_time": "2022-06-25T16:06:32.677Z"
   },
   {
    "duration": 0,
    "start_time": "2022-06-25T16:06:32.679Z"
   },
   {
    "duration": 0,
    "start_time": "2022-06-25T16:06:32.680Z"
   },
   {
    "duration": 0,
    "start_time": "2022-06-25T16:06:32.681Z"
   },
   {
    "duration": 0,
    "start_time": "2022-06-25T16:06:32.682Z"
   },
   {
    "duration": 0,
    "start_time": "2022-06-25T16:06:32.684Z"
   },
   {
    "duration": 0,
    "start_time": "2022-06-25T16:06:32.685Z"
   },
   {
    "duration": 0,
    "start_time": "2022-06-25T16:06:32.686Z"
   },
   {
    "duration": 0,
    "start_time": "2022-06-25T16:06:32.687Z"
   },
   {
    "duration": 0,
    "start_time": "2022-06-25T16:06:32.688Z"
   },
   {
    "duration": 0,
    "start_time": "2022-06-25T16:06:32.689Z"
   },
   {
    "duration": 0,
    "start_time": "2022-06-25T16:06:32.691Z"
   },
   {
    "duration": 0,
    "start_time": "2022-06-25T16:06:32.692Z"
   },
   {
    "duration": 0,
    "start_time": "2022-06-25T16:06:32.695Z"
   },
   {
    "duration": 0,
    "start_time": "2022-06-25T16:06:32.696Z"
   },
   {
    "duration": 0,
    "start_time": "2022-06-25T16:06:32.698Z"
   },
   {
    "duration": 0,
    "start_time": "2022-06-25T16:06:32.699Z"
   },
   {
    "duration": 0,
    "start_time": "2022-06-25T16:06:32.700Z"
   },
   {
    "duration": 0,
    "start_time": "2022-06-25T16:06:32.701Z"
   },
   {
    "duration": 0,
    "start_time": "2022-06-25T16:06:32.702Z"
   },
   {
    "duration": 0,
    "start_time": "2022-06-25T16:06:32.704Z"
   },
   {
    "duration": 0,
    "start_time": "2022-06-25T16:06:32.705Z"
   },
   {
    "duration": 0,
    "start_time": "2022-06-25T16:06:32.706Z"
   },
   {
    "duration": 0,
    "start_time": "2022-06-25T16:06:32.708Z"
   },
   {
    "duration": 0,
    "start_time": "2022-06-25T16:06:32.709Z"
   },
   {
    "duration": 0,
    "start_time": "2022-06-25T16:06:32.744Z"
   },
   {
    "duration": 0,
    "start_time": "2022-06-25T16:06:32.745Z"
   },
   {
    "duration": 0,
    "start_time": "2022-06-25T16:06:32.746Z"
   },
   {
    "duration": 0,
    "start_time": "2022-06-25T16:06:32.747Z"
   },
   {
    "duration": 0,
    "start_time": "2022-06-25T16:06:32.748Z"
   },
   {
    "duration": 0,
    "start_time": "2022-06-25T16:06:32.749Z"
   },
   {
    "duration": 0,
    "start_time": "2022-06-25T16:06:32.750Z"
   },
   {
    "duration": 0,
    "start_time": "2022-06-25T16:06:32.751Z"
   },
   {
    "duration": 0,
    "start_time": "2022-06-25T16:06:32.754Z"
   },
   {
    "duration": 0,
    "start_time": "2022-06-25T16:06:32.755Z"
   },
   {
    "duration": 0,
    "start_time": "2022-06-25T16:06:32.757Z"
   },
   {
    "duration": 1,
    "start_time": "2022-06-25T16:06:32.757Z"
   },
   {
    "duration": 0,
    "start_time": "2022-06-25T16:06:32.759Z"
   },
   {
    "duration": 0,
    "start_time": "2022-06-25T16:06:32.760Z"
   },
   {
    "duration": 0,
    "start_time": "2022-06-25T16:06:32.761Z"
   },
   {
    "duration": 0,
    "start_time": "2022-06-25T16:06:32.762Z"
   },
   {
    "duration": 0,
    "start_time": "2022-06-25T16:06:32.763Z"
   },
   {
    "duration": 0,
    "start_time": "2022-06-25T16:06:32.764Z"
   },
   {
    "duration": 1,
    "start_time": "2022-06-25T16:06:32.765Z"
   },
   {
    "duration": 161,
    "start_time": "2022-06-25T16:06:58.209Z"
   },
   {
    "duration": 103,
    "start_time": "2022-06-25T16:07:13.815Z"
   },
   {
    "duration": 44,
    "start_time": "2022-06-25T16:07:23.008Z"
   },
   {
    "duration": 16,
    "start_time": "2022-06-25T16:07:26.899Z"
   },
   {
    "duration": 7,
    "start_time": "2022-06-25T16:07:59.577Z"
   },
   {
    "duration": 83,
    "start_time": "2022-06-25T16:07:59.586Z"
   },
   {
    "duration": 15,
    "start_time": "2022-06-25T16:07:59.671Z"
   },
   {
    "duration": 283,
    "start_time": "2022-06-25T16:07:59.688Z"
   },
   {
    "duration": 16,
    "start_time": "2022-06-25T16:07:59.975Z"
   },
   {
    "duration": 197,
    "start_time": "2022-06-25T16:07:59.993Z"
   },
   {
    "duration": 73,
    "start_time": "2022-06-25T16:08:00.192Z"
   },
   {
    "duration": 29,
    "start_time": "2022-06-25T16:08:00.268Z"
   },
   {
    "duration": 53,
    "start_time": "2022-06-25T16:08:00.299Z"
   },
   {
    "duration": 56,
    "start_time": "2022-06-25T16:08:00.361Z"
   },
   {
    "duration": 158,
    "start_time": "2022-06-25T16:08:00.419Z"
   },
   {
    "duration": 94,
    "start_time": "2022-06-25T16:08:00.580Z"
   },
   {
    "duration": 83,
    "start_time": "2022-06-25T16:08:00.678Z"
   },
   {
    "duration": 43,
    "start_time": "2022-06-25T16:08:00.763Z"
   },
   {
    "duration": 9,
    "start_time": "2022-06-25T16:08:00.807Z"
   },
   {
    "duration": 292,
    "start_time": "2022-06-25T16:08:00.819Z"
   },
   {
    "duration": 157,
    "start_time": "2022-06-25T16:08:01.113Z"
   },
   {
    "duration": 21,
    "start_time": "2022-06-25T16:08:01.272Z"
   },
   {
    "duration": 66,
    "start_time": "2022-06-25T16:08:01.294Z"
   },
   {
    "duration": 12,
    "start_time": "2022-06-25T16:08:01.362Z"
   },
   {
    "duration": 19,
    "start_time": "2022-06-25T16:08:41.421Z"
   },
   {
    "duration": 26,
    "start_time": "2022-06-25T16:09:20.164Z"
   },
   {
    "duration": 12,
    "start_time": "2022-06-25T16:09:52.531Z"
   },
   {
    "duration": 8,
    "start_time": "2022-06-25T16:09:56.202Z"
   },
   {
    "duration": 32,
    "start_time": "2022-06-25T16:09:59.899Z"
   },
   {
    "duration": 55,
    "start_time": "2022-06-25T16:10:53.029Z"
   },
   {
    "duration": 12,
    "start_time": "2022-06-25T16:10:57.464Z"
   },
   {
    "duration": 9,
    "start_time": "2022-06-25T18:09:15.255Z"
   },
   {
    "duration": 5,
    "start_time": "2022-06-25T18:09:17.701Z"
   },
   {
    "duration": 15,
    "start_time": "2022-06-25T18:10:35.176Z"
   },
   {
    "duration": 7,
    "start_time": "2022-06-25T18:10:51.213Z"
   },
   {
    "duration": 476,
    "start_time": "2022-06-25T18:10:57.066Z"
   },
   {
    "duration": 486,
    "start_time": "2022-06-25T18:11:56.442Z"
   },
   {
    "duration": 6,
    "start_time": "2022-06-25T18:12:00.312Z"
   },
   {
    "duration": 8,
    "start_time": "2022-06-25T18:12:06.408Z"
   },
   {
    "duration": 455,
    "start_time": "2022-06-25T18:12:09.754Z"
   },
   {
    "duration": 7,
    "start_time": "2022-06-25T18:14:55.628Z"
   },
   {
    "duration": 10,
    "start_time": "2022-06-25T18:17:24.702Z"
   },
   {
    "duration": 40,
    "start_time": "2022-06-25T18:17:26.750Z"
   },
   {
    "duration": 9,
    "start_time": "2022-06-25T18:17:30.175Z"
   },
   {
    "duration": 5,
    "start_time": "2022-06-25T18:17:48.244Z"
   },
   {
    "duration": 10,
    "start_time": "2022-06-25T18:24:00.820Z"
   },
   {
    "duration": 6,
    "start_time": "2022-06-25T18:24:17.435Z"
   },
   {
    "duration": 7,
    "start_time": "2022-06-25T18:28:47.446Z"
   },
   {
    "duration": 448,
    "start_time": "2022-06-25T18:28:51.556Z"
   },
   {
    "duration": 16,
    "start_time": "2022-06-25T18:29:11.545Z"
   },
   {
    "duration": 14,
    "start_time": "2022-06-25T18:29:42.726Z"
   },
   {
    "duration": 16,
    "start_time": "2022-06-25T18:30:07.044Z"
   },
   {
    "duration": 7,
    "start_time": "2022-06-25T18:30:14.022Z"
   },
   {
    "duration": 382,
    "start_time": "2022-06-25T18:30:23.202Z"
   },
   {
    "duration": 14,
    "start_time": "2022-06-25T18:30:28.543Z"
   },
   {
    "duration": 13,
    "start_time": "2022-06-25T18:30:34.016Z"
   },
   {
    "duration": 5,
    "start_time": "2022-06-25T18:32:01.634Z"
   },
   {
    "duration": 81,
    "start_time": "2022-06-25T18:32:01.665Z"
   },
   {
    "duration": 14,
    "start_time": "2022-06-25T18:32:01.748Z"
   },
   {
    "duration": 623,
    "start_time": "2022-06-25T18:32:01.764Z"
   },
   {
    "duration": 13,
    "start_time": "2022-06-25T18:32:02.388Z"
   },
   {
    "duration": 222,
    "start_time": "2022-06-25T18:32:02.404Z"
   },
   {
    "duration": 83,
    "start_time": "2022-06-25T18:32:02.629Z"
   },
   {
    "duration": 47,
    "start_time": "2022-06-25T18:32:02.715Z"
   },
   {
    "duration": 28,
    "start_time": "2022-06-25T18:32:02.765Z"
   },
   {
    "duration": 61,
    "start_time": "2022-06-25T18:32:02.796Z"
   },
   {
    "duration": 227,
    "start_time": "2022-06-25T18:32:02.859Z"
   },
   {
    "duration": 95,
    "start_time": "2022-06-25T18:32:03.089Z"
   },
   {
    "duration": 92,
    "start_time": "2022-06-25T18:32:03.186Z"
   },
   {
    "duration": 61,
    "start_time": "2022-06-25T18:32:03.280Z"
   },
   {
    "duration": 11,
    "start_time": "2022-06-25T18:32:03.346Z"
   },
   {
    "duration": 514,
    "start_time": "2022-06-25T18:32:03.360Z"
   },
   {
    "duration": 119,
    "start_time": "2022-06-25T18:32:03.876Z"
   },
   {
    "duration": 24,
    "start_time": "2022-06-25T18:32:03.998Z"
   },
   {
    "duration": 61,
    "start_time": "2022-06-25T18:32:04.024Z"
   },
   {
    "duration": 17,
    "start_time": "2022-06-25T18:32:04.087Z"
   },
   {
    "duration": 85,
    "start_time": "2022-06-25T18:32:04.106Z"
   },
   {
    "duration": 26,
    "start_time": "2022-06-25T18:32:04.193Z"
   },
   {
    "duration": 45,
    "start_time": "2022-06-25T18:32:04.221Z"
   },
   {
    "duration": 33,
    "start_time": "2022-06-25T18:32:04.269Z"
   },
   {
    "duration": 51,
    "start_time": "2022-06-25T18:32:04.304Z"
   },
   {
    "duration": 12,
    "start_time": "2022-06-25T18:32:04.357Z"
   },
   {
    "duration": 22,
    "start_time": "2022-06-25T18:32:04.371Z"
   },
   {
    "duration": 14,
    "start_time": "2022-06-25T18:32:04.395Z"
   },
   {
    "duration": 75,
    "start_time": "2022-06-25T18:32:04.444Z"
   },
   {
    "duration": 34,
    "start_time": "2022-06-25T18:32:04.522Z"
   },
   {
    "duration": 10,
    "start_time": "2022-06-25T18:32:04.559Z"
   },
   {
    "duration": 42,
    "start_time": "2022-06-25T18:32:04.571Z"
   },
   {
    "duration": 11,
    "start_time": "2022-06-25T18:32:04.643Z"
   },
   {
    "duration": 13,
    "start_time": "2022-06-25T18:32:04.657Z"
   },
   {
    "duration": 14,
    "start_time": "2022-06-25T18:32:04.672Z"
   },
   {
    "duration": 6,
    "start_time": "2022-06-25T18:32:04.689Z"
   },
   {
    "duration": 405,
    "start_time": "2022-06-25T18:32:04.697Z"
   },
   {
    "duration": 398,
    "start_time": "2022-06-25T18:32:05.103Z"
   },
   {
    "duration": 8,
    "start_time": "2022-06-25T18:32:05.503Z"
   },
   {
    "duration": 10,
    "start_time": "2022-06-25T18:32:05.514Z"
   },
   {
    "duration": 354,
    "start_time": "2022-06-25T18:32:05.543Z"
   },
   {
    "duration": 6,
    "start_time": "2022-06-25T18:32:05.903Z"
   },
   {
    "duration": 18,
    "start_time": "2022-06-25T18:32:05.911Z"
   },
   {
    "duration": 31,
    "start_time": "2022-06-25T18:32:05.943Z"
   },
   {
    "duration": 10,
    "start_time": "2022-06-25T18:32:05.976Z"
   },
   {
    "duration": 8,
    "start_time": "2022-06-25T18:32:05.988Z"
   },
   {
    "duration": 11,
    "start_time": "2022-06-25T18:32:05.999Z"
   },
   {
    "duration": 28,
    "start_time": "2022-06-25T18:32:06.066Z"
   },
   {
    "duration": 16,
    "start_time": "2022-06-25T18:32:06.096Z"
   },
   {
    "duration": 394,
    "start_time": "2022-06-25T18:32:06.115Z"
   },
   {
    "duration": 29,
    "start_time": "2022-06-25T18:32:06.514Z"
   },
   {
    "duration": 18,
    "start_time": "2022-06-25T18:32:06.546Z"
   },
   {
    "duration": 16,
    "start_time": "2022-06-25T18:32:06.567Z"
   },
   {
    "duration": 510,
    "start_time": "2022-06-25T18:32:06.585Z"
   },
   {
    "duration": 16,
    "start_time": "2022-06-25T18:32:07.097Z"
   },
   {
    "duration": 28,
    "start_time": "2022-06-25T18:32:07.115Z"
   },
   {
    "duration": 47,
    "start_time": "2022-06-25T18:32:07.146Z"
   },
   {
    "duration": 474,
    "start_time": "2022-06-25T18:32:07.196Z"
   },
   {
    "duration": 13,
    "start_time": "2022-06-25T18:32:07.671Z"
   },
   {
    "duration": 13,
    "start_time": "2022-06-25T18:32:07.686Z"
   },
   {
    "duration": 7,
    "start_time": "2022-06-25T18:32:07.701Z"
   },
   {
    "duration": 39,
    "start_time": "2022-06-25T18:32:07.711Z"
   },
   {
    "duration": 14,
    "start_time": "2022-06-25T18:32:07.753Z"
   },
   {
    "duration": 32,
    "start_time": "2022-06-25T18:32:07.769Z"
   },
   {
    "duration": 52,
    "start_time": "2022-06-25T18:32:07.803Z"
   },
   {
    "duration": 7,
    "start_time": "2022-06-25T18:32:07.857Z"
   },
   {
    "duration": 15,
    "start_time": "2022-06-25T18:36:33.035Z"
   },
   {
    "duration": 15,
    "start_time": "2022-06-25T18:36:58.417Z"
   },
   {
    "duration": 7,
    "start_time": "2022-06-25T18:43:31.400Z"
   },
   {
    "duration": 7,
    "start_time": "2022-06-25T18:43:59.831Z"
   },
   {
    "duration": 14,
    "start_time": "2022-06-25T18:45:04.432Z"
   },
   {
    "duration": 8,
    "start_time": "2022-06-25T18:45:10.566Z"
   },
   {
    "duration": 28,
    "start_time": "2022-06-25T18:46:17.797Z"
   },
   {
    "duration": 6,
    "start_time": "2022-06-25T18:46:51.945Z"
   },
   {
    "duration": 5,
    "start_time": "2022-06-25T18:47:34.153Z"
   },
   {
    "duration": 75,
    "start_time": "2022-06-25T18:47:34.161Z"
   },
   {
    "duration": 28,
    "start_time": "2022-06-25T18:47:34.238Z"
   },
   {
    "duration": 219,
    "start_time": "2022-06-25T18:47:34.269Z"
   },
   {
    "duration": 13,
    "start_time": "2022-06-25T18:47:34.490Z"
   },
   {
    "duration": 181,
    "start_time": "2022-06-25T18:47:34.505Z"
   },
   {
    "duration": 70,
    "start_time": "2022-06-25T18:47:34.688Z"
   },
   {
    "duration": 35,
    "start_time": "2022-06-25T18:47:34.760Z"
   },
   {
    "duration": 51,
    "start_time": "2022-06-25T18:47:34.798Z"
   },
   {
    "duration": 49,
    "start_time": "2022-06-25T18:47:34.852Z"
   },
   {
    "duration": 154,
    "start_time": "2022-06-25T18:47:34.902Z"
   },
   {
    "duration": 90,
    "start_time": "2022-06-25T18:47:35.058Z"
   },
   {
    "duration": 92,
    "start_time": "2022-06-25T18:47:35.150Z"
   },
   {
    "duration": 35,
    "start_time": "2022-06-25T18:47:35.247Z"
   },
   {
    "duration": 9,
    "start_time": "2022-06-25T18:47:35.284Z"
   },
   {
    "duration": 205,
    "start_time": "2022-06-25T18:47:35.294Z"
   },
   {
    "duration": 127,
    "start_time": "2022-06-25T18:47:35.501Z"
   },
   {
    "duration": 25,
    "start_time": "2022-06-25T18:47:35.630Z"
   },
   {
    "duration": 42,
    "start_time": "2022-06-25T18:47:35.656Z"
   },
   {
    "duration": 9,
    "start_time": "2022-06-25T18:47:35.700Z"
   },
   {
    "duration": 63,
    "start_time": "2022-06-25T18:47:35.711Z"
   },
   {
    "duration": 20,
    "start_time": "2022-06-25T18:47:35.776Z"
   },
   {
    "duration": 50,
    "start_time": "2022-06-25T18:47:35.798Z"
   },
   {
    "duration": 22,
    "start_time": "2022-06-25T18:47:35.850Z"
   },
   {
    "duration": 23,
    "start_time": "2022-06-25T18:47:35.874Z"
   },
   {
    "duration": 43,
    "start_time": "2022-06-25T18:47:35.899Z"
   },
   {
    "duration": 17,
    "start_time": "2022-06-25T18:47:35.943Z"
   },
   {
    "duration": 8,
    "start_time": "2022-06-25T18:47:35.962Z"
   },
   {
    "duration": 78,
    "start_time": "2022-06-25T18:47:35.971Z"
   },
   {
    "duration": 22,
    "start_time": "2022-06-25T18:47:36.051Z"
   },
   {
    "duration": 8,
    "start_time": "2022-06-25T18:47:36.074Z"
   },
   {
    "duration": 30,
    "start_time": "2022-06-25T18:47:36.084Z"
   },
   {
    "duration": 30,
    "start_time": "2022-06-25T18:47:36.116Z"
   },
   {
    "duration": 9,
    "start_time": "2022-06-25T18:47:36.148Z"
   },
   {
    "duration": 10,
    "start_time": "2022-06-25T18:47:36.159Z"
   },
   {
    "duration": 7,
    "start_time": "2022-06-25T18:47:36.171Z"
   },
   {
    "duration": 413,
    "start_time": "2022-06-25T18:47:36.179Z"
   },
   {
    "duration": 667,
    "start_time": "2022-06-25T18:47:36.594Z"
   },
   {
    "duration": 5,
    "start_time": "2022-06-25T18:47:37.262Z"
   },
   {
    "duration": 13,
    "start_time": "2022-06-25T18:47:37.269Z"
   },
   {
    "duration": 420,
    "start_time": "2022-06-25T18:47:37.287Z"
   },
   {
    "duration": 5,
    "start_time": "2022-06-25T18:47:37.710Z"
   },
   {
    "duration": 15,
    "start_time": "2022-06-25T18:47:37.716Z"
   },
   {
    "duration": 38,
    "start_time": "2022-06-25T18:47:37.743Z"
   },
   {
    "duration": 9,
    "start_time": "2022-06-25T18:47:37.783Z"
   },
   {
    "duration": 9,
    "start_time": "2022-06-25T18:47:37.795Z"
   },
   {
    "duration": 12,
    "start_time": "2022-06-25T18:47:37.806Z"
   },
   {
    "duration": 5,
    "start_time": "2022-06-25T18:47:37.842Z"
   },
   {
    "duration": 9,
    "start_time": "2022-06-25T18:47:37.849Z"
   },
   {
    "duration": 393,
    "start_time": "2022-06-25T18:47:37.860Z"
   },
   {
    "duration": 13,
    "start_time": "2022-06-25T18:47:38.254Z"
   },
   {
    "duration": 14,
    "start_time": "2022-06-25T18:47:38.268Z"
   },
   {
    "duration": 7,
    "start_time": "2022-06-25T18:47:38.284Z"
   },
   {
    "duration": 409,
    "start_time": "2022-06-25T18:47:38.292Z"
   },
   {
    "duration": 13,
    "start_time": "2022-06-25T18:47:38.703Z"
   },
   {
    "duration": 30,
    "start_time": "2022-06-25T18:47:38.719Z"
   },
   {
    "duration": 10,
    "start_time": "2022-06-25T18:47:38.751Z"
   },
   {
    "duration": 365,
    "start_time": "2022-06-25T18:47:38.763Z"
   },
   {
    "duration": 19,
    "start_time": "2022-06-25T18:47:39.130Z"
   },
   {
    "duration": 11,
    "start_time": "2022-06-25T18:47:39.150Z"
   },
   {
    "duration": 6,
    "start_time": "2022-06-25T18:47:39.163Z"
   },
   {
    "duration": 11,
    "start_time": "2022-06-25T18:47:39.170Z"
   },
   {
    "duration": 10,
    "start_time": "2022-06-25T18:47:39.183Z"
   },
   {
    "duration": 68,
    "start_time": "2022-06-25T18:47:39.195Z"
   },
   {
    "duration": 28,
    "start_time": "2022-06-25T18:47:39.265Z"
   },
   {
    "duration": 5,
    "start_time": "2022-06-25T18:47:39.295Z"
   },
   {
    "duration": 4,
    "start_time": "2022-06-25T19:25:25.466Z"
   },
   {
    "duration": 101,
    "start_time": "2022-06-25T19:25:25.474Z"
   },
   {
    "duration": 21,
    "start_time": "2022-06-25T19:25:25.579Z"
   },
   {
    "duration": 612,
    "start_time": "2022-06-25T19:25:25.602Z"
   },
   {
    "duration": 14,
    "start_time": "2022-06-25T19:25:26.217Z"
   },
   {
    "duration": 156,
    "start_time": "2022-06-25T19:25:26.232Z"
   },
   {
    "duration": 89,
    "start_time": "2022-06-25T19:25:26.391Z"
   },
   {
    "duration": 25,
    "start_time": "2022-06-25T19:25:26.482Z"
   },
   {
    "duration": 44,
    "start_time": "2022-06-25T19:25:26.510Z"
   },
   {
    "duration": 41,
    "start_time": "2022-06-25T19:25:26.556Z"
   },
   {
    "duration": 282,
    "start_time": "2022-06-25T19:25:26.600Z"
   },
   {
    "duration": 107,
    "start_time": "2022-06-25T19:25:26.884Z"
   },
   {
    "duration": 80,
    "start_time": "2022-06-25T19:25:26.994Z"
   },
   {
    "duration": 44,
    "start_time": "2022-06-25T19:25:27.077Z"
   },
   {
    "duration": 10,
    "start_time": "2022-06-25T19:25:27.141Z"
   },
   {
    "duration": 524,
    "start_time": "2022-06-25T19:25:27.153Z"
   },
   {
    "duration": 113,
    "start_time": "2022-06-25T19:25:27.679Z"
   },
   {
    "duration": 16,
    "start_time": "2022-06-25T19:25:27.794Z"
   },
   {
    "duration": 51,
    "start_time": "2022-06-25T19:25:27.812Z"
   },
   {
    "duration": 11,
    "start_time": "2022-06-25T19:25:27.865Z"
   },
   {
    "duration": 113,
    "start_time": "2022-06-25T19:25:27.879Z"
   },
   {
    "duration": 24,
    "start_time": "2022-06-25T19:25:27.995Z"
   },
   {
    "duration": 43,
    "start_time": "2022-06-25T19:25:28.021Z"
   },
   {
    "duration": 29,
    "start_time": "2022-06-25T19:25:28.066Z"
   },
   {
    "duration": 56,
    "start_time": "2022-06-25T19:25:28.097Z"
   },
   {
    "duration": 20,
    "start_time": "2022-06-25T19:25:28.155Z"
   },
   {
    "duration": 67,
    "start_time": "2022-06-25T19:25:28.178Z"
   },
   {
    "duration": 11,
    "start_time": "2022-06-25T19:25:28.247Z"
   },
   {
    "duration": 56,
    "start_time": "2022-06-25T19:25:28.264Z"
   },
   {
    "duration": 49,
    "start_time": "2022-06-25T19:25:28.322Z"
   },
   {
    "duration": 11,
    "start_time": "2022-06-25T19:25:28.373Z"
   },
   {
    "duration": 28,
    "start_time": "2022-06-25T19:25:28.386Z"
   },
   {
    "duration": 7,
    "start_time": "2022-06-25T19:25:28.416Z"
   },
   {
    "duration": 5,
    "start_time": "2022-06-25T19:25:28.441Z"
   },
   {
    "duration": 12,
    "start_time": "2022-06-25T19:25:28.449Z"
   },
   {
    "duration": 14,
    "start_time": "2022-06-25T19:25:28.463Z"
   },
   {
    "duration": 465,
    "start_time": "2022-06-25T19:25:28.479Z"
   },
   {
    "duration": 517,
    "start_time": "2022-06-25T19:25:28.946Z"
   },
   {
    "duration": 7,
    "start_time": "2022-06-25T19:25:29.465Z"
   },
   {
    "duration": 10,
    "start_time": "2022-06-25T19:25:29.473Z"
   },
   {
    "duration": 453,
    "start_time": "2022-06-25T19:25:29.485Z"
   },
   {
    "duration": 6,
    "start_time": "2022-06-25T19:25:29.943Z"
   },
   {
    "duration": 14,
    "start_time": "2022-06-25T19:25:29.951Z"
   },
   {
    "duration": 32,
    "start_time": "2022-06-25T19:25:29.968Z"
   },
   {
    "duration": 8,
    "start_time": "2022-06-25T19:25:30.002Z"
   },
   {
    "duration": 5,
    "start_time": "2022-06-25T19:25:30.042Z"
   },
   {
    "duration": 41,
    "start_time": "2022-06-25T19:25:30.049Z"
   },
   {
    "duration": 10,
    "start_time": "2022-06-25T19:25:30.092Z"
   },
   {
    "duration": 12,
    "start_time": "2022-06-25T19:25:30.104Z"
   },
   {
    "duration": 447,
    "start_time": "2022-06-25T19:25:30.118Z"
   },
   {
    "duration": 14,
    "start_time": "2022-06-25T19:25:30.567Z"
   },
   {
    "duration": 31,
    "start_time": "2022-06-25T19:25:30.583Z"
   },
   {
    "duration": 28,
    "start_time": "2022-06-25T19:25:30.617Z"
   },
   {
    "duration": 451,
    "start_time": "2022-06-25T19:25:30.647Z"
   },
   {
    "duration": 15,
    "start_time": "2022-06-25T19:25:31.101Z"
   },
   {
    "duration": 28,
    "start_time": "2022-06-25T19:25:31.119Z"
   },
   {
    "duration": 6,
    "start_time": "2022-06-25T19:25:31.150Z"
   },
   {
    "duration": 500,
    "start_time": "2022-06-25T19:25:31.158Z"
   },
   {
    "duration": 15,
    "start_time": "2022-06-25T19:25:31.661Z"
   },
   {
    "duration": 20,
    "start_time": "2022-06-25T19:25:31.678Z"
   },
   {
    "duration": 42,
    "start_time": "2022-06-25T19:25:31.700Z"
   },
   {
    "duration": 14,
    "start_time": "2022-06-25T19:25:31.744Z"
   },
   {
    "duration": 24,
    "start_time": "2022-06-25T19:25:31.760Z"
   },
   {
    "duration": 36,
    "start_time": "2022-06-25T19:25:31.786Z"
   },
   {
    "duration": 41,
    "start_time": "2022-06-25T19:25:31.824Z"
   },
   {
    "duration": 6,
    "start_time": "2022-06-25T19:25:31.867Z"
   },
   {
    "duration": 48,
    "start_time": "2022-06-26T18:18:06.493Z"
   },
   {
    "duration": 1206,
    "start_time": "2022-06-26T18:18:12.873Z"
   },
   {
    "duration": 77,
    "start_time": "2022-06-26T18:18:14.081Z"
   },
   {
    "duration": 12,
    "start_time": "2022-06-26T18:18:14.159Z"
   },
   {
    "duration": 197,
    "start_time": "2022-06-26T18:18:14.173Z"
   },
   {
    "duration": 24,
    "start_time": "2022-06-26T18:18:14.371Z"
   },
   {
    "duration": 141,
    "start_time": "2022-06-26T18:18:14.396Z"
   },
   {
    "duration": 58,
    "start_time": "2022-06-26T18:18:14.539Z"
   },
   {
    "duration": 5,
    "start_time": "2022-06-26T18:18:14.599Z"
   },
   {
    "duration": 26,
    "start_time": "2022-06-26T18:18:14.606Z"
   },
   {
    "duration": 32,
    "start_time": "2022-06-26T18:18:14.635Z"
   },
   {
    "duration": 55,
    "start_time": "2022-06-26T18:18:14.668Z"
   },
   {
    "duration": 121,
    "start_time": "2022-06-26T18:18:14.724Z"
   },
   {
    "duration": 74,
    "start_time": "2022-06-26T18:18:14.846Z"
   },
   {
    "duration": 49,
    "start_time": "2022-06-26T18:18:14.922Z"
   },
   {
    "duration": 48,
    "start_time": "2022-06-26T18:18:14.972Z"
   },
   {
    "duration": 8,
    "start_time": "2022-06-26T18:18:15.023Z"
   },
   {
    "duration": 194,
    "start_time": "2022-06-26T18:18:15.033Z"
   },
   {
    "duration": 102,
    "start_time": "2022-06-26T18:18:15.229Z"
   },
   {
    "duration": 17,
    "start_time": "2022-06-26T18:18:15.333Z"
   },
   {
    "duration": 50,
    "start_time": "2022-06-26T18:18:15.351Z"
   },
   {
    "duration": 8,
    "start_time": "2022-06-26T18:18:15.402Z"
   },
   {
    "duration": 75,
    "start_time": "2022-06-26T18:18:15.411Z"
   },
   {
    "duration": 17,
    "start_time": "2022-06-26T18:18:15.488Z"
   },
   {
    "duration": 20,
    "start_time": "2022-06-26T18:18:15.507Z"
   },
   {
    "duration": 24,
    "start_time": "2022-06-26T18:18:15.528Z"
   },
   {
    "duration": 48,
    "start_time": "2022-06-26T18:18:15.553Z"
   },
   {
    "duration": 9,
    "start_time": "2022-06-26T18:18:15.603Z"
   },
   {
    "duration": 20,
    "start_time": "2022-06-26T18:18:15.617Z"
   },
   {
    "duration": 11,
    "start_time": "2022-06-26T18:18:15.639Z"
   },
   {
    "duration": 76,
    "start_time": "2022-06-26T18:18:15.651Z"
   },
   {
    "duration": 15,
    "start_time": "2022-06-26T18:18:15.729Z"
   },
   {
    "duration": 17,
    "start_time": "2022-06-26T18:18:15.746Z"
   },
   {
    "duration": 36,
    "start_time": "2022-06-26T18:18:15.765Z"
   },
   {
    "duration": 7,
    "start_time": "2022-06-26T18:18:15.802Z"
   },
   {
    "duration": 14,
    "start_time": "2022-06-26T18:18:15.811Z"
   },
   {
    "duration": 12,
    "start_time": "2022-06-26T18:18:15.826Z"
   },
   {
    "duration": 12,
    "start_time": "2022-06-26T18:18:15.840Z"
   },
   {
    "duration": 393,
    "start_time": "2022-06-26T18:18:15.854Z"
   },
   {
    "duration": 353,
    "start_time": "2022-06-26T18:18:16.249Z"
   },
   {
    "duration": 5,
    "start_time": "2022-06-26T18:18:16.603Z"
   },
   {
    "duration": 9,
    "start_time": "2022-06-26T18:18:16.610Z"
   },
   {
    "duration": 326,
    "start_time": "2022-06-26T18:18:16.620Z"
   },
   {
    "duration": 5,
    "start_time": "2022-06-26T18:18:16.948Z"
   },
   {
    "duration": 10,
    "start_time": "2022-06-26T18:18:16.955Z"
   },
   {
    "duration": 43,
    "start_time": "2022-06-26T18:18:16.967Z"
   },
   {
    "duration": 7,
    "start_time": "2022-06-26T18:18:17.012Z"
   },
   {
    "duration": 6,
    "start_time": "2022-06-26T18:18:17.021Z"
   },
   {
    "duration": 8,
    "start_time": "2022-06-26T18:18:17.028Z"
   },
   {
    "duration": 6,
    "start_time": "2022-06-26T18:18:17.037Z"
   },
   {
    "duration": 9,
    "start_time": "2022-06-26T18:18:17.044Z"
   },
   {
    "duration": 378,
    "start_time": "2022-06-26T18:18:17.054Z"
   },
   {
    "duration": 11,
    "start_time": "2022-06-26T18:18:17.433Z"
   },
   {
    "duration": 14,
    "start_time": "2022-06-26T18:18:17.446Z"
   },
   {
    "duration": 8,
    "start_time": "2022-06-26T18:18:17.462Z"
   },
   {
    "duration": 359,
    "start_time": "2022-06-26T18:18:17.472Z"
   },
   {
    "duration": 10,
    "start_time": "2022-06-26T18:18:17.833Z"
   },
   {
    "duration": 12,
    "start_time": "2022-06-26T18:18:17.845Z"
   },
   {
    "duration": 9,
    "start_time": "2022-06-26T18:18:17.859Z"
   },
   {
    "duration": 441,
    "start_time": "2022-06-26T18:18:17.869Z"
   },
   {
    "duration": 13,
    "start_time": "2022-06-26T18:18:18.312Z"
   },
   {
    "duration": 17,
    "start_time": "2022-06-26T18:18:18.327Z"
   },
   {
    "duration": 7,
    "start_time": "2022-06-26T18:18:18.346Z"
   },
   {
    "duration": 40,
    "start_time": "2022-06-26T18:18:18.355Z"
   },
   {
    "duration": 7,
    "start_time": "2022-06-26T18:18:18.398Z"
   },
   {
    "duration": 32,
    "start_time": "2022-06-26T18:18:18.406Z"
   },
   {
    "duration": 25,
    "start_time": "2022-06-26T18:18:18.439Z"
   },
   {
    "duration": 5,
    "start_time": "2022-06-26T18:18:18.465Z"
   },
   {
    "duration": 2000,
    "start_time": "2022-06-26T18:18:37.001Z"
   },
   {
    "duration": 1946,
    "start_time": "2022-06-26T18:18:50.551Z"
   },
   {
    "duration": 1971,
    "start_time": "2022-06-26T18:19:32.389Z"
   },
   {
    "duration": 4423,
    "start_time": "2022-06-26T18:20:15.521Z"
   },
   {
    "duration": 3,
    "start_time": "2022-06-26T18:20:30.460Z"
   },
   {
    "duration": 84,
    "start_time": "2022-06-26T18:20:30.465Z"
   },
   {
    "duration": 14,
    "start_time": "2022-06-26T18:20:30.551Z"
   },
   {
    "duration": 229,
    "start_time": "2022-06-26T18:20:30.566Z"
   },
   {
    "duration": 11,
    "start_time": "2022-06-26T18:20:30.796Z"
   },
   {
    "duration": 149,
    "start_time": "2022-06-26T18:20:30.808Z"
   },
   {
    "duration": 61,
    "start_time": "2022-06-26T18:20:30.959Z"
   },
   {
    "duration": 6,
    "start_time": "2022-06-26T18:20:35.861Z"
   },
   {
    "duration": 23,
    "start_time": "2022-06-26T18:20:43.109Z"
   },
   {
    "duration": 23,
    "start_time": "2022-06-26T18:21:59.127Z"
   },
   {
    "duration": 1249,
    "start_time": "2022-06-26T18:55:31.920Z"
   },
   {
    "duration": 68,
    "start_time": "2022-06-26T18:55:33.170Z"
   },
   {
    "duration": 13,
    "start_time": "2022-06-26T18:55:33.240Z"
   },
   {
    "duration": 205,
    "start_time": "2022-06-26T18:55:33.255Z"
   },
   {
    "duration": 12,
    "start_time": "2022-06-26T18:55:33.461Z"
   },
   {
    "duration": 219,
    "start_time": "2022-06-26T18:55:33.475Z"
   },
   {
    "duration": 79,
    "start_time": "2022-06-26T18:55:33.696Z"
   },
   {
    "duration": 39,
    "start_time": "2022-06-26T18:55:33.777Z"
   },
   {
    "duration": 21,
    "start_time": "2022-06-26T18:55:33.817Z"
   },
   {
    "duration": 61,
    "start_time": "2022-06-26T18:55:33.842Z"
   },
   {
    "duration": 116,
    "start_time": "2022-06-26T18:55:33.904Z"
   },
   {
    "duration": 74,
    "start_time": "2022-06-26T18:55:34.021Z"
   },
   {
    "duration": 51,
    "start_time": "2022-06-26T18:55:34.097Z"
   },
   {
    "duration": 53,
    "start_time": "2022-06-26T18:55:34.149Z"
   },
   {
    "duration": 10,
    "start_time": "2022-06-26T18:55:34.204Z"
   },
   {
    "duration": 197,
    "start_time": "2022-06-26T18:55:34.215Z"
   },
   {
    "duration": 109,
    "start_time": "2022-06-26T18:55:34.413Z"
   },
   {
    "duration": 14,
    "start_time": "2022-06-26T18:55:34.523Z"
   },
   {
    "duration": 58,
    "start_time": "2022-06-26T18:55:34.539Z"
   },
   {
    "duration": 7,
    "start_time": "2022-06-26T18:55:34.599Z"
   },
   {
    "duration": 62,
    "start_time": "2022-06-26T18:55:34.608Z"
   },
   {
    "duration": 22,
    "start_time": "2022-06-26T18:55:34.673Z"
   },
   {
    "duration": 22,
    "start_time": "2022-06-26T18:55:34.698Z"
   },
   {
    "duration": 21,
    "start_time": "2022-06-26T18:55:34.722Z"
   },
   {
    "duration": 61,
    "start_time": "2022-06-26T18:55:34.746Z"
   },
   {
    "duration": 13,
    "start_time": "2022-06-26T18:55:34.810Z"
   },
   {
    "duration": 21,
    "start_time": "2022-06-26T18:55:34.825Z"
   },
   {
    "duration": 10,
    "start_time": "2022-06-26T18:55:34.852Z"
   },
   {
    "duration": 54,
    "start_time": "2022-06-26T18:55:34.893Z"
   },
   {
    "duration": 18,
    "start_time": "2022-06-26T18:55:34.949Z"
   },
   {
    "duration": 32,
    "start_time": "2022-06-26T18:55:34.969Z"
   },
   {
    "duration": 31,
    "start_time": "2022-06-26T18:55:35.002Z"
   },
   {
    "duration": 7,
    "start_time": "2022-06-26T18:55:35.035Z"
   },
   {
    "duration": 12,
    "start_time": "2022-06-26T18:55:35.043Z"
   },
   {
    "duration": 14,
    "start_time": "2022-06-26T18:55:35.057Z"
   },
   {
    "duration": 26,
    "start_time": "2022-06-26T18:55:35.073Z"
   },
   {
    "duration": 358,
    "start_time": "2022-06-26T18:55:35.100Z"
   },
   {
    "duration": 357,
    "start_time": "2022-06-26T18:55:35.460Z"
   },
   {
    "duration": 6,
    "start_time": "2022-06-26T18:55:35.819Z"
   },
   {
    "duration": 12,
    "start_time": "2022-06-26T18:55:35.828Z"
   },
   {
    "duration": 378,
    "start_time": "2022-06-26T18:55:35.843Z"
   },
   {
    "duration": 5,
    "start_time": "2022-06-26T18:55:36.222Z"
   },
   {
    "duration": 11,
    "start_time": "2022-06-26T18:55:36.229Z"
   },
   {
    "duration": 31,
    "start_time": "2022-06-26T18:55:36.241Z"
   },
   {
    "duration": 26,
    "start_time": "2022-06-26T18:55:36.274Z"
   },
   {
    "duration": 9,
    "start_time": "2022-06-26T18:55:36.302Z"
   },
   {
    "duration": 10,
    "start_time": "2022-06-26T18:55:36.312Z"
   },
   {
    "duration": 6,
    "start_time": "2022-06-26T18:55:36.324Z"
   },
   {
    "duration": 15,
    "start_time": "2022-06-26T18:55:36.332Z"
   },
   {
    "duration": 403,
    "start_time": "2022-06-26T18:55:36.349Z"
   },
   {
    "duration": 10,
    "start_time": "2022-06-26T18:55:36.754Z"
   },
   {
    "duration": 31,
    "start_time": "2022-06-26T18:55:36.766Z"
   },
   {
    "duration": 10,
    "start_time": "2022-06-26T18:55:36.799Z"
   },
   {
    "duration": 360,
    "start_time": "2022-06-26T18:55:36.812Z"
   },
   {
    "duration": 21,
    "start_time": "2022-06-26T18:55:37.174Z"
   },
   {
    "duration": 12,
    "start_time": "2022-06-26T18:55:37.196Z"
   },
   {
    "duration": 9,
    "start_time": "2022-06-26T18:55:37.210Z"
   },
   {
    "duration": 462,
    "start_time": "2022-06-26T18:55:37.221Z"
   },
   {
    "duration": 14,
    "start_time": "2022-06-26T18:55:37.685Z"
   },
   {
    "duration": 17,
    "start_time": "2022-06-26T18:55:37.701Z"
   },
   {
    "duration": 6,
    "start_time": "2022-06-26T18:55:37.720Z"
   },
   {
    "duration": 14,
    "start_time": "2022-06-26T18:55:37.728Z"
   },
   {
    "duration": 8,
    "start_time": "2022-06-26T18:55:37.744Z"
   },
   {
    "duration": 57,
    "start_time": "2022-06-26T18:55:37.754Z"
   },
   {
    "duration": 28,
    "start_time": "2022-06-26T18:55:37.812Z"
   },
   {
    "duration": 5,
    "start_time": "2022-06-26T18:55:37.843Z"
   },
   {
    "duration": 50,
    "start_time": "2022-06-26T19:05:21.407Z"
   },
   {
    "duration": 1390,
    "start_time": "2022-06-26T19:05:51.395Z"
   },
   {
    "duration": 73,
    "start_time": "2022-06-26T19:05:52.787Z"
   },
   {
    "duration": 13,
    "start_time": "2022-06-26T19:05:52.862Z"
   },
   {
    "duration": 272,
    "start_time": "2022-06-26T19:05:52.878Z"
   },
   {
    "duration": 18,
    "start_time": "2022-06-26T19:05:53.152Z"
   },
   {
    "duration": 160,
    "start_time": "2022-06-26T19:05:53.172Z"
   },
   {
    "duration": 127,
    "start_time": "2022-06-26T19:05:53.334Z"
   },
   {
    "duration": 0,
    "start_time": "2022-06-26T19:05:53.464Z"
   },
   {
    "duration": 0,
    "start_time": "2022-06-26T19:05:53.465Z"
   },
   {
    "duration": 0,
    "start_time": "2022-06-26T19:05:53.467Z"
   },
   {
    "duration": 0,
    "start_time": "2022-06-26T19:05:53.468Z"
   },
   {
    "duration": 0,
    "start_time": "2022-06-26T19:05:53.469Z"
   },
   {
    "duration": 0,
    "start_time": "2022-06-26T19:05:53.470Z"
   },
   {
    "duration": 0,
    "start_time": "2022-06-26T19:05:53.471Z"
   },
   {
    "duration": 0,
    "start_time": "2022-06-26T19:05:53.472Z"
   },
   {
    "duration": 0,
    "start_time": "2022-06-26T19:05:53.473Z"
   },
   {
    "duration": 0,
    "start_time": "2022-06-26T19:05:53.474Z"
   },
   {
    "duration": 0,
    "start_time": "2022-06-26T19:05:53.475Z"
   },
   {
    "duration": 1,
    "start_time": "2022-06-26T19:05:53.476Z"
   },
   {
    "duration": 0,
    "start_time": "2022-06-26T19:05:53.477Z"
   },
   {
    "duration": 0,
    "start_time": "2022-06-26T19:05:53.479Z"
   },
   {
    "duration": 0,
    "start_time": "2022-06-26T19:05:53.480Z"
   },
   {
    "duration": 0,
    "start_time": "2022-06-26T19:05:53.481Z"
   },
   {
    "duration": 0,
    "start_time": "2022-06-26T19:05:53.482Z"
   },
   {
    "duration": 0,
    "start_time": "2022-06-26T19:05:53.483Z"
   },
   {
    "duration": 0,
    "start_time": "2022-06-26T19:05:53.484Z"
   },
   {
    "duration": 0,
    "start_time": "2022-06-26T19:05:53.485Z"
   },
   {
    "duration": 0,
    "start_time": "2022-06-26T19:05:53.486Z"
   },
   {
    "duration": 0,
    "start_time": "2022-06-26T19:05:53.487Z"
   },
   {
    "duration": 0,
    "start_time": "2022-06-26T19:05:53.488Z"
   },
   {
    "duration": 0,
    "start_time": "2022-06-26T19:05:53.527Z"
   },
   {
    "duration": 0,
    "start_time": "2022-06-26T19:05:53.528Z"
   },
   {
    "duration": 0,
    "start_time": "2022-06-26T19:05:53.530Z"
   },
   {
    "duration": 0,
    "start_time": "2022-06-26T19:05:53.531Z"
   },
   {
    "duration": 0,
    "start_time": "2022-06-26T19:05:53.534Z"
   },
   {
    "duration": 0,
    "start_time": "2022-06-26T19:05:53.535Z"
   },
   {
    "duration": 0,
    "start_time": "2022-06-26T19:05:53.537Z"
   },
   {
    "duration": 0,
    "start_time": "2022-06-26T19:05:53.538Z"
   },
   {
    "duration": 0,
    "start_time": "2022-06-26T19:05:53.539Z"
   },
   {
    "duration": 0,
    "start_time": "2022-06-26T19:05:53.541Z"
   },
   {
    "duration": 0,
    "start_time": "2022-06-26T19:05:53.541Z"
   },
   {
    "duration": 0,
    "start_time": "2022-06-26T19:05:53.542Z"
   },
   {
    "duration": 0,
    "start_time": "2022-06-26T19:05:53.544Z"
   },
   {
    "duration": 0,
    "start_time": "2022-06-26T19:05:53.545Z"
   },
   {
    "duration": 0,
    "start_time": "2022-06-26T19:05:53.546Z"
   },
   {
    "duration": 0,
    "start_time": "2022-06-26T19:05:53.547Z"
   },
   {
    "duration": 0,
    "start_time": "2022-06-26T19:05:53.549Z"
   },
   {
    "duration": 0,
    "start_time": "2022-06-26T19:05:53.550Z"
   },
   {
    "duration": 0,
    "start_time": "2022-06-26T19:05:53.551Z"
   },
   {
    "duration": 0,
    "start_time": "2022-06-26T19:05:53.552Z"
   },
   {
    "duration": 0,
    "start_time": "2022-06-26T19:05:53.553Z"
   },
   {
    "duration": 0,
    "start_time": "2022-06-26T19:05:53.554Z"
   },
   {
    "duration": 0,
    "start_time": "2022-06-26T19:05:53.556Z"
   },
   {
    "duration": 0,
    "start_time": "2022-06-26T19:05:53.557Z"
   },
   {
    "duration": 0,
    "start_time": "2022-06-26T19:05:53.558Z"
   },
   {
    "duration": 0,
    "start_time": "2022-06-26T19:05:53.559Z"
   },
   {
    "duration": 0,
    "start_time": "2022-06-26T19:05:53.561Z"
   },
   {
    "duration": 0,
    "start_time": "2022-06-26T19:05:53.562Z"
   },
   {
    "duration": 0,
    "start_time": "2022-06-26T19:05:53.563Z"
   },
   {
    "duration": 0,
    "start_time": "2022-06-26T19:05:53.626Z"
   },
   {
    "duration": 0,
    "start_time": "2022-06-26T19:05:53.628Z"
   },
   {
    "duration": 0,
    "start_time": "2022-06-26T19:05:53.629Z"
   },
   {
    "duration": 0,
    "start_time": "2022-06-26T19:05:53.630Z"
   },
   {
    "duration": 0,
    "start_time": "2022-06-26T19:05:53.633Z"
   },
   {
    "duration": 0,
    "start_time": "2022-06-26T19:05:53.634Z"
   },
   {
    "duration": 0,
    "start_time": "2022-06-26T19:05:53.635Z"
   },
   {
    "duration": 95,
    "start_time": "2022-06-26T19:08:31.496Z"
   },
   {
    "duration": 60,
    "start_time": "2022-06-26T19:08:36.746Z"
   },
   {
    "duration": 3,
    "start_time": "2022-06-26T19:08:41.904Z"
   },
   {
    "duration": 52,
    "start_time": "2022-06-26T19:08:41.909Z"
   },
   {
    "duration": 11,
    "start_time": "2022-06-26T19:08:41.963Z"
   },
   {
    "duration": 220,
    "start_time": "2022-06-26T19:08:41.975Z"
   },
   {
    "duration": 30,
    "start_time": "2022-06-26T19:08:42.197Z"
   },
   {
    "duration": 143,
    "start_time": "2022-06-26T19:08:42.228Z"
   },
   {
    "duration": 99,
    "start_time": "2022-06-26T19:08:42.373Z"
   },
   {
    "duration": 23,
    "start_time": "2022-06-26T19:08:42.474Z"
   },
   {
    "duration": 44,
    "start_time": "2022-06-26T19:08:42.499Z"
   },
   {
    "duration": 34,
    "start_time": "2022-06-26T19:08:42.544Z"
   },
   {
    "duration": 151,
    "start_time": "2022-06-26T19:08:42.581Z"
   },
   {
    "duration": 63,
    "start_time": "2022-06-26T19:08:42.733Z"
   },
   {
    "duration": 57,
    "start_time": "2022-06-26T19:08:42.798Z"
   },
   {
    "duration": 26,
    "start_time": "2022-06-26T19:08:42.857Z"
   },
   {
    "duration": 7,
    "start_time": "2022-06-26T19:08:42.884Z"
   },
   {
    "duration": 346,
    "start_time": "2022-06-26T19:08:42.892Z"
   },
   {
    "duration": 102,
    "start_time": "2022-06-26T19:08:43.239Z"
   },
   {
    "duration": 14,
    "start_time": "2022-06-26T19:08:43.343Z"
   },
   {
    "duration": 32,
    "start_time": "2022-06-26T19:08:43.358Z"
   },
   {
    "duration": 7,
    "start_time": "2022-06-26T19:08:43.392Z"
   },
   {
    "duration": 65,
    "start_time": "2022-06-26T19:08:43.427Z"
   },
   {
    "duration": 18,
    "start_time": "2022-06-26T19:08:43.493Z"
   },
   {
    "duration": 24,
    "start_time": "2022-06-26T19:08:43.512Z"
   },
   {
    "duration": 18,
    "start_time": "2022-06-26T19:08:43.538Z"
   },
   {
    "duration": 20,
    "start_time": "2022-06-26T19:08:43.557Z"
   },
   {
    "duration": 10,
    "start_time": "2022-06-26T19:08:43.578Z"
   },
   {
    "duration": 46,
    "start_time": "2022-06-26T19:08:43.590Z"
   },
   {
    "duration": 8,
    "start_time": "2022-06-26T19:08:43.639Z"
   },
   {
    "duration": 51,
    "start_time": "2022-06-26T19:08:43.652Z"
   },
   {
    "duration": 40,
    "start_time": "2022-06-26T19:08:43.704Z"
   },
   {
    "duration": 9,
    "start_time": "2022-06-26T19:08:43.745Z"
   },
   {
    "duration": 25,
    "start_time": "2022-06-26T19:08:43.757Z"
   },
   {
    "duration": 6,
    "start_time": "2022-06-26T19:08:43.784Z"
   },
   {
    "duration": 8,
    "start_time": "2022-06-26T19:08:43.792Z"
   },
   {
    "duration": 29,
    "start_time": "2022-06-26T19:08:43.802Z"
   },
   {
    "duration": 8,
    "start_time": "2022-06-26T19:08:43.833Z"
   },
   {
    "duration": 345,
    "start_time": "2022-06-26T19:08:43.843Z"
   },
   {
    "duration": 356,
    "start_time": "2022-06-26T19:08:44.190Z"
   },
   {
    "duration": 4,
    "start_time": "2022-06-26T19:08:44.548Z"
   },
   {
    "duration": 6,
    "start_time": "2022-06-26T19:08:44.554Z"
   },
   {
    "duration": 321,
    "start_time": "2022-06-26T19:08:44.562Z"
   },
   {
    "duration": 4,
    "start_time": "2022-06-26T19:08:44.884Z"
   },
   {
    "duration": 13,
    "start_time": "2022-06-26T19:08:44.890Z"
   },
   {
    "duration": 32,
    "start_time": "2022-06-26T19:08:44.905Z"
   },
   {
    "duration": 5,
    "start_time": "2022-06-26T19:08:44.939Z"
   },
   {
    "duration": 9,
    "start_time": "2022-06-26T19:08:44.946Z"
   },
   {
    "duration": 10,
    "start_time": "2022-06-26T19:08:44.956Z"
   },
   {
    "duration": 5,
    "start_time": "2022-06-26T19:08:44.968Z"
   },
   {
    "duration": 9,
    "start_time": "2022-06-26T19:08:44.974Z"
   },
   {
    "duration": 400,
    "start_time": "2022-06-26T19:08:44.984Z"
   },
   {
    "duration": 10,
    "start_time": "2022-06-26T19:08:45.386Z"
   },
   {
    "duration": 16,
    "start_time": "2022-06-26T19:08:45.397Z"
   },
   {
    "duration": 14,
    "start_time": "2022-06-26T19:08:45.415Z"
   },
   {
    "duration": 316,
    "start_time": "2022-06-26T19:08:45.431Z"
   },
   {
    "duration": 9,
    "start_time": "2022-06-26T19:08:45.749Z"
   },
   {
    "duration": 11,
    "start_time": "2022-06-26T19:08:45.760Z"
   },
   {
    "duration": 11,
    "start_time": "2022-06-26T19:08:45.773Z"
   },
   {
    "duration": 454,
    "start_time": "2022-06-26T19:08:45.785Z"
   },
   {
    "duration": 9,
    "start_time": "2022-06-26T19:08:46.241Z"
   },
   {
    "duration": 8,
    "start_time": "2022-06-26T19:08:46.251Z"
   },
   {
    "duration": 10,
    "start_time": "2022-06-26T19:08:46.260Z"
   },
   {
    "duration": 11,
    "start_time": "2022-06-26T19:08:46.272Z"
   },
   {
    "duration": 7,
    "start_time": "2022-06-26T19:08:46.285Z"
   },
   {
    "duration": 52,
    "start_time": "2022-06-26T19:08:46.294Z"
   },
   {
    "duration": 24,
    "start_time": "2022-06-26T19:08:46.348Z"
   },
   {
    "duration": 5,
    "start_time": "2022-06-26T19:08:46.373Z"
   },
   {
    "duration": 1007,
    "start_time": "2022-06-26T19:09:16.048Z"
   },
   {
    "duration": 3,
    "start_time": "2022-06-26T19:09:28.023Z"
   },
   {
    "duration": 56,
    "start_time": "2022-06-26T19:09:28.028Z"
   },
   {
    "duration": 12,
    "start_time": "2022-06-26T19:09:28.087Z"
   },
   {
    "duration": 297,
    "start_time": "2022-06-26T19:09:28.100Z"
   },
   {
    "duration": 27,
    "start_time": "2022-06-26T19:09:28.400Z"
   },
   {
    "duration": 155,
    "start_time": "2022-06-26T19:09:28.429Z"
   },
   {
    "duration": 100,
    "start_time": "2022-06-26T19:09:28.586Z"
   },
   {
    "duration": 44,
    "start_time": "2022-06-26T19:09:28.688Z"
   },
   {
    "duration": 18,
    "start_time": "2022-06-26T19:09:28.734Z"
   },
   {
    "duration": 34,
    "start_time": "2022-06-26T19:09:28.754Z"
   },
   {
    "duration": 143,
    "start_time": "2022-06-26T19:09:28.791Z"
   },
   {
    "duration": 62,
    "start_time": "2022-06-26T19:09:28.936Z"
   },
   {
    "duration": 66,
    "start_time": "2022-06-26T19:09:29.001Z"
   },
   {
    "duration": 29,
    "start_time": "2022-06-26T19:09:29.069Z"
   },
   {
    "duration": 7,
    "start_time": "2022-06-26T19:09:29.100Z"
   },
   {
    "duration": 177,
    "start_time": "2022-06-26T19:09:29.126Z"
   },
   {
    "duration": 104,
    "start_time": "2022-06-26T19:09:29.304Z"
   },
   {
    "duration": 23,
    "start_time": "2022-06-26T19:09:29.410Z"
   },
   {
    "duration": 38,
    "start_time": "2022-06-26T19:09:29.434Z"
   },
   {
    "duration": 7,
    "start_time": "2022-06-26T19:09:29.474Z"
   },
   {
    "duration": 55,
    "start_time": "2022-06-26T19:09:29.482Z"
   },
   {
    "duration": 16,
    "start_time": "2022-06-26T19:09:29.538Z"
   },
   {
    "duration": 18,
    "start_time": "2022-06-26T19:09:29.556Z"
   },
   {
    "duration": 18,
    "start_time": "2022-06-26T19:09:29.576Z"
   },
   {
    "duration": 49,
    "start_time": "2022-06-26T19:09:29.595Z"
   },
   {
    "duration": 8,
    "start_time": "2022-06-26T19:09:29.645Z"
   },
   {
    "duration": 18,
    "start_time": "2022-06-26T19:09:29.654Z"
   },
   {
    "duration": 7,
    "start_time": "2022-06-26T19:09:29.674Z"
   },
   {
    "duration": 78,
    "start_time": "2022-06-26T19:09:29.684Z"
   },
   {
    "duration": 16,
    "start_time": "2022-06-26T19:09:29.764Z"
   },
   {
    "duration": 10,
    "start_time": "2022-06-26T19:09:29.782Z"
   },
   {
    "duration": 46,
    "start_time": "2022-06-26T19:09:29.794Z"
   },
   {
    "duration": 6,
    "start_time": "2022-06-26T19:09:29.842Z"
   },
   {
    "duration": 14,
    "start_time": "2022-06-26T19:09:29.850Z"
   },
   {
    "duration": 11,
    "start_time": "2022-06-26T19:09:29.866Z"
   },
   {
    "duration": 7,
    "start_time": "2022-06-26T19:09:29.879Z"
   },
   {
    "duration": 358,
    "start_time": "2022-06-26T19:09:29.888Z"
   },
   {
    "duration": 312,
    "start_time": "2022-06-26T19:09:30.247Z"
   },
   {
    "duration": 6,
    "start_time": "2022-06-26T19:09:30.561Z"
   },
   {
    "duration": 24,
    "start_time": "2022-06-26T19:09:30.568Z"
   },
   {
    "duration": 362,
    "start_time": "2022-06-26T19:09:30.594Z"
   },
   {
    "duration": 5,
    "start_time": "2022-06-26T19:09:30.958Z"
   },
   {
    "duration": 30,
    "start_time": "2022-06-26T19:09:30.965Z"
   },
   {
    "duration": 54,
    "start_time": "2022-06-26T19:09:30.997Z"
   },
   {
    "duration": 8,
    "start_time": "2022-06-26T19:09:31.057Z"
   },
   {
    "duration": 39,
    "start_time": "2022-06-26T19:09:31.067Z"
   },
   {
    "duration": 22,
    "start_time": "2022-06-26T19:09:31.108Z"
   },
   {
    "duration": 54,
    "start_time": "2022-06-26T19:09:31.132Z"
   },
   {
    "duration": 45,
    "start_time": "2022-06-26T19:09:31.188Z"
   },
   {
    "duration": 383,
    "start_time": "2022-06-26T19:09:31.236Z"
   },
   {
    "duration": 10,
    "start_time": "2022-06-26T19:09:31.625Z"
   },
   {
    "duration": 18,
    "start_time": "2022-06-26T19:09:31.637Z"
   },
   {
    "duration": 5,
    "start_time": "2022-06-26T19:09:31.656Z"
   },
   {
    "duration": 357,
    "start_time": "2022-06-26T19:09:31.662Z"
   },
   {
    "duration": 10,
    "start_time": "2022-06-26T19:09:32.025Z"
   },
   {
    "duration": 17,
    "start_time": "2022-06-26T19:09:32.036Z"
   },
   {
    "duration": 14,
    "start_time": "2022-06-26T19:09:32.055Z"
   },
   {
    "duration": 393,
    "start_time": "2022-06-26T19:09:32.070Z"
   },
   {
    "duration": 10,
    "start_time": "2022-06-26T19:09:32.465Z"
   },
   {
    "duration": 9,
    "start_time": "2022-06-26T19:09:32.477Z"
   },
   {
    "duration": 5,
    "start_time": "2022-06-26T19:09:32.488Z"
   },
   {
    "duration": 36,
    "start_time": "2022-06-26T19:09:32.494Z"
   },
   {
    "duration": 7,
    "start_time": "2022-06-26T19:09:32.532Z"
   },
   {
    "duration": 28,
    "start_time": "2022-06-26T19:09:32.541Z"
   },
   {
    "duration": 23,
    "start_time": "2022-06-26T19:09:32.570Z"
   },
   {
    "duration": 4,
    "start_time": "2022-06-26T19:09:32.595Z"
   },
   {
    "duration": 13,
    "start_time": "2022-06-26T19:21:57.652Z"
   },
   {
    "duration": 3,
    "start_time": "2022-06-26T19:22:06.106Z"
   },
   {
    "duration": 60,
    "start_time": "2022-06-26T19:22:06.112Z"
   },
   {
    "duration": 11,
    "start_time": "2022-06-26T19:22:06.174Z"
   },
   {
    "duration": 258,
    "start_time": "2022-06-26T19:22:06.187Z"
   },
   {
    "duration": 12,
    "start_time": "2022-06-26T19:22:06.447Z"
   },
   {
    "duration": 166,
    "start_time": "2022-06-26T19:22:06.461Z"
   },
   {
    "duration": 86,
    "start_time": "2022-06-26T19:22:06.629Z"
   },
   {
    "duration": 25,
    "start_time": "2022-06-26T19:22:06.726Z"
   },
   {
    "duration": 21,
    "start_time": "2022-06-26T19:22:06.754Z"
   },
   {
    "duration": 67,
    "start_time": "2022-06-26T19:22:06.778Z"
   },
   {
    "duration": 141,
    "start_time": "2022-06-26T19:22:06.848Z"
   },
   {
    "duration": 88,
    "start_time": "2022-06-26T19:22:06.991Z"
   },
   {
    "duration": 63,
    "start_time": "2022-06-26T19:22:07.080Z"
   },
   {
    "duration": 28,
    "start_time": "2022-06-26T19:22:07.147Z"
   },
   {
    "duration": 8,
    "start_time": "2022-06-26T19:22:07.177Z"
   },
   {
    "duration": 224,
    "start_time": "2022-06-26T19:22:07.187Z"
   },
   {
    "duration": 122,
    "start_time": "2022-06-26T19:22:07.412Z"
   },
   {
    "duration": 19,
    "start_time": "2022-06-26T19:22:07.537Z"
   },
   {
    "duration": 34,
    "start_time": "2022-06-26T19:22:07.558Z"
   },
   {
    "duration": 33,
    "start_time": "2022-06-26T19:22:07.594Z"
   },
   {
    "duration": 42,
    "start_time": "2022-06-26T19:22:07.629Z"
   },
   {
    "duration": 17,
    "start_time": "2022-06-26T19:22:07.672Z"
   },
   {
    "duration": 47,
    "start_time": "2022-06-26T19:22:07.691Z"
   },
   {
    "duration": 21,
    "start_time": "2022-06-26T19:22:07.739Z"
   },
   {
    "duration": 56,
    "start_time": "2022-06-26T19:22:07.762Z"
   },
   {
    "duration": 12,
    "start_time": "2022-06-26T19:22:07.820Z"
   },
   {
    "duration": 0,
    "start_time": "2022-06-26T19:22:07.835Z"
   },
   {
    "duration": 0,
    "start_time": "2022-06-26T19:22:07.836Z"
   },
   {
    "duration": 0,
    "start_time": "2022-06-26T19:22:07.837Z"
   },
   {
    "duration": 0,
    "start_time": "2022-06-26T19:22:07.839Z"
   },
   {
    "duration": 0,
    "start_time": "2022-06-26T19:22:07.841Z"
   },
   {
    "duration": 0,
    "start_time": "2022-06-26T19:22:07.842Z"
   },
   {
    "duration": 0,
    "start_time": "2022-06-26T19:22:07.844Z"
   },
   {
    "duration": 0,
    "start_time": "2022-06-26T19:22:07.845Z"
   },
   {
    "duration": 0,
    "start_time": "2022-06-26T19:22:07.846Z"
   },
   {
    "duration": 0,
    "start_time": "2022-06-26T19:22:07.848Z"
   },
   {
    "duration": 0,
    "start_time": "2022-06-26T19:22:07.849Z"
   },
   {
    "duration": 0,
    "start_time": "2022-06-26T19:22:07.851Z"
   },
   {
    "duration": 0,
    "start_time": "2022-06-26T19:22:07.853Z"
   },
   {
    "duration": 0,
    "start_time": "2022-06-26T19:22:07.855Z"
   },
   {
    "duration": 0,
    "start_time": "2022-06-26T19:22:07.857Z"
   },
   {
    "duration": 0,
    "start_time": "2022-06-26T19:22:07.859Z"
   },
   {
    "duration": 0,
    "start_time": "2022-06-26T19:22:07.861Z"
   },
   {
    "duration": 0,
    "start_time": "2022-06-26T19:22:07.862Z"
   },
   {
    "duration": 0,
    "start_time": "2022-06-26T19:22:07.864Z"
   },
   {
    "duration": 0,
    "start_time": "2022-06-26T19:22:07.865Z"
   },
   {
    "duration": 0,
    "start_time": "2022-06-26T19:22:07.867Z"
   },
   {
    "duration": 0,
    "start_time": "2022-06-26T19:22:07.868Z"
   },
   {
    "duration": 0,
    "start_time": "2022-06-26T19:22:07.868Z"
   },
   {
    "duration": 0,
    "start_time": "2022-06-26T19:22:07.870Z"
   },
   {
    "duration": 0,
    "start_time": "2022-06-26T19:22:07.871Z"
   },
   {
    "duration": 0,
    "start_time": "2022-06-26T19:22:07.926Z"
   },
   {
    "duration": 0,
    "start_time": "2022-06-26T19:22:07.927Z"
   },
   {
    "duration": 0,
    "start_time": "2022-06-26T19:22:07.928Z"
   },
   {
    "duration": 0,
    "start_time": "2022-06-26T19:22:07.929Z"
   },
   {
    "duration": 0,
    "start_time": "2022-06-26T19:22:07.930Z"
   },
   {
    "duration": 0,
    "start_time": "2022-06-26T19:22:07.931Z"
   },
   {
    "duration": 0,
    "start_time": "2022-06-26T19:22:07.932Z"
   },
   {
    "duration": 0,
    "start_time": "2022-06-26T19:22:07.933Z"
   },
   {
    "duration": 0,
    "start_time": "2022-06-26T19:22:07.933Z"
   },
   {
    "duration": 0,
    "start_time": "2022-06-26T19:22:07.934Z"
   },
   {
    "duration": 0,
    "start_time": "2022-06-26T19:22:07.935Z"
   },
   {
    "duration": 0,
    "start_time": "2022-06-26T19:22:07.937Z"
   },
   {
    "duration": 0,
    "start_time": "2022-06-26T19:22:07.938Z"
   },
   {
    "duration": 0,
    "start_time": "2022-06-26T19:22:07.939Z"
   },
   {
    "duration": 0,
    "start_time": "2022-06-26T19:22:07.940Z"
   },
   {
    "duration": 12,
    "start_time": "2022-06-26T19:24:38.862Z"
   },
   {
    "duration": 10,
    "start_time": "2022-06-26T19:25:33.016Z"
   },
   {
    "duration": 4,
    "start_time": "2022-06-26T19:25:51.422Z"
   },
   {
    "duration": 53,
    "start_time": "2022-06-26T19:25:51.428Z"
   },
   {
    "duration": 13,
    "start_time": "2022-06-26T19:25:51.482Z"
   },
   {
    "duration": 237,
    "start_time": "2022-06-26T19:25:51.498Z"
   },
   {
    "duration": 11,
    "start_time": "2022-06-26T19:25:51.737Z"
   },
   {
    "duration": 150,
    "start_time": "2022-06-26T19:25:51.749Z"
   },
   {
    "duration": 192,
    "start_time": "2022-06-26T19:25:51.901Z"
   },
   {
    "duration": 32,
    "start_time": "2022-06-26T19:25:52.095Z"
   },
   {
    "duration": 18,
    "start_time": "2022-06-26T19:25:52.129Z"
   },
   {
    "duration": 30,
    "start_time": "2022-06-26T19:25:52.148Z"
   },
   {
    "duration": 131,
    "start_time": "2022-06-26T19:25:52.180Z"
   },
   {
    "duration": 62,
    "start_time": "2022-06-26T19:25:52.325Z"
   },
   {
    "duration": 58,
    "start_time": "2022-06-26T19:25:52.388Z"
   },
   {
    "duration": 25,
    "start_time": "2022-06-26T19:25:52.448Z"
   },
   {
    "duration": 7,
    "start_time": "2022-06-26T19:25:52.474Z"
   },
   {
    "duration": 194,
    "start_time": "2022-06-26T19:25:52.483Z"
   },
   {
    "duration": 111,
    "start_time": "2022-06-26T19:25:52.679Z"
   },
   {
    "duration": 13,
    "start_time": "2022-06-26T19:25:52.792Z"
   },
   {
    "duration": 39,
    "start_time": "2022-06-26T19:25:52.807Z"
   },
   {
    "duration": 8,
    "start_time": "2022-06-26T19:25:52.848Z"
   },
   {
    "duration": 42,
    "start_time": "2022-06-26T19:25:52.857Z"
   },
   {
    "duration": 31,
    "start_time": "2022-06-26T19:25:52.901Z"
   },
   {
    "duration": 19,
    "start_time": "2022-06-26T19:25:52.934Z"
   },
   {
    "duration": 20,
    "start_time": "2022-06-26T19:25:52.957Z"
   },
   {
    "duration": 19,
    "start_time": "2022-06-26T19:25:52.978Z"
   },
   {
    "duration": 10,
    "start_time": "2022-06-26T19:25:53.027Z"
   },
   {
    "duration": 0,
    "start_time": "2022-06-26T19:25:53.039Z"
   },
   {
    "duration": 0,
    "start_time": "2022-06-26T19:25:53.040Z"
   },
   {
    "duration": 0,
    "start_time": "2022-06-26T19:25:53.041Z"
   },
   {
    "duration": 0,
    "start_time": "2022-06-26T19:25:53.042Z"
   },
   {
    "duration": 0,
    "start_time": "2022-06-26T19:25:53.043Z"
   },
   {
    "duration": 0,
    "start_time": "2022-06-26T19:25:53.044Z"
   },
   {
    "duration": 0,
    "start_time": "2022-06-26T19:25:53.045Z"
   },
   {
    "duration": 0,
    "start_time": "2022-06-26T19:25:53.045Z"
   },
   {
    "duration": 0,
    "start_time": "2022-06-26T19:25:53.046Z"
   },
   {
    "duration": 0,
    "start_time": "2022-06-26T19:25:53.047Z"
   },
   {
    "duration": 0,
    "start_time": "2022-06-26T19:25:53.049Z"
   },
   {
    "duration": 0,
    "start_time": "2022-06-26T19:25:53.050Z"
   },
   {
    "duration": 1,
    "start_time": "2022-06-26T19:25:53.050Z"
   },
   {
    "duration": 0,
    "start_time": "2022-06-26T19:25:53.052Z"
   },
   {
    "duration": 0,
    "start_time": "2022-06-26T19:25:53.053Z"
   },
   {
    "duration": 0,
    "start_time": "2022-06-26T19:25:53.054Z"
   },
   {
    "duration": 0,
    "start_time": "2022-06-26T19:25:53.055Z"
   },
   {
    "duration": 0,
    "start_time": "2022-06-26T19:25:53.056Z"
   },
   {
    "duration": 0,
    "start_time": "2022-06-26T19:25:53.057Z"
   },
   {
    "duration": 0,
    "start_time": "2022-06-26T19:25:53.058Z"
   },
   {
    "duration": 0,
    "start_time": "2022-06-26T19:25:53.059Z"
   },
   {
    "duration": 0,
    "start_time": "2022-06-26T19:25:53.059Z"
   },
   {
    "duration": 0,
    "start_time": "2022-06-26T19:25:53.060Z"
   },
   {
    "duration": 0,
    "start_time": "2022-06-26T19:25:53.061Z"
   },
   {
    "duration": 0,
    "start_time": "2022-06-26T19:25:53.062Z"
   },
   {
    "duration": 0,
    "start_time": "2022-06-26T19:25:53.063Z"
   },
   {
    "duration": 0,
    "start_time": "2022-06-26T19:25:53.064Z"
   },
   {
    "duration": 0,
    "start_time": "2022-06-26T19:25:53.065Z"
   },
   {
    "duration": 0,
    "start_time": "2022-06-26T19:25:53.066Z"
   },
   {
    "duration": 0,
    "start_time": "2022-06-26T19:25:53.066Z"
   },
   {
    "duration": 0,
    "start_time": "2022-06-26T19:25:53.067Z"
   },
   {
    "duration": 0,
    "start_time": "2022-06-26T19:25:53.068Z"
   },
   {
    "duration": 0,
    "start_time": "2022-06-26T19:25:53.069Z"
   },
   {
    "duration": 0,
    "start_time": "2022-06-26T19:25:53.070Z"
   },
   {
    "duration": 0,
    "start_time": "2022-06-26T19:25:53.126Z"
   },
   {
    "duration": 0,
    "start_time": "2022-06-26T19:25:53.127Z"
   },
   {
    "duration": 0,
    "start_time": "2022-06-26T19:25:53.128Z"
   },
   {
    "duration": 0,
    "start_time": "2022-06-26T19:25:53.129Z"
   },
   {
    "duration": 0,
    "start_time": "2022-06-26T19:25:53.129Z"
   },
   {
    "duration": 0,
    "start_time": "2022-06-26T19:25:53.130Z"
   },
   {
    "duration": 13,
    "start_time": "2022-06-26T19:28:13.999Z"
   },
   {
    "duration": 8,
    "start_time": "2022-06-26T19:28:32.323Z"
   },
   {
    "duration": 13,
    "start_time": "2022-06-26T19:29:07.441Z"
   },
   {
    "duration": 74,
    "start_time": "2022-06-26T20:07:58.653Z"
   },
   {
    "duration": 1525,
    "start_time": "2022-06-26T20:08:07.367Z"
   },
   {
    "duration": 79,
    "start_time": "2022-06-26T20:08:08.894Z"
   },
   {
    "duration": 16,
    "start_time": "2022-06-26T20:08:08.975Z"
   },
   {
    "duration": 387,
    "start_time": "2022-06-26T20:08:08.994Z"
   },
   {
    "duration": 24,
    "start_time": "2022-06-26T20:08:09.385Z"
   },
   {
    "duration": 177,
    "start_time": "2022-06-26T20:08:09.416Z"
   },
   {
    "duration": 103,
    "start_time": "2022-06-26T20:08:09.595Z"
   },
   {
    "duration": 42,
    "start_time": "2022-06-26T20:08:09.700Z"
   },
   {
    "duration": 21,
    "start_time": "2022-06-26T20:08:09.744Z"
   },
   {
    "duration": 61,
    "start_time": "2022-06-26T20:08:09.768Z"
   },
   {
    "duration": 202,
    "start_time": "2022-06-26T20:08:09.831Z"
   },
   {
    "duration": 109,
    "start_time": "2022-06-26T20:08:10.038Z"
   },
   {
    "duration": 91,
    "start_time": "2022-06-26T20:08:10.149Z"
   },
   {
    "duration": 65,
    "start_time": "2022-06-26T20:08:10.242Z"
   },
   {
    "duration": 14,
    "start_time": "2022-06-26T20:08:10.308Z"
   },
   {
    "duration": 667,
    "start_time": "2022-06-26T20:08:10.324Z"
   },
   {
    "duration": 151,
    "start_time": "2022-06-26T20:08:10.994Z"
   },
   {
    "duration": 14,
    "start_time": "2022-06-26T20:08:11.148Z"
   },
   {
    "duration": 63,
    "start_time": "2022-06-26T20:08:11.164Z"
   },
   {
    "duration": 11,
    "start_time": "2022-06-26T20:08:11.230Z"
   },
   {
    "duration": 100,
    "start_time": "2022-06-26T20:08:11.243Z"
   },
   {
    "duration": 24,
    "start_time": "2022-06-26T20:08:11.346Z"
   },
   {
    "duration": 26,
    "start_time": "2022-06-26T20:08:11.372Z"
   },
   {
    "duration": 57,
    "start_time": "2022-06-26T20:08:11.400Z"
   },
   {
    "duration": 33,
    "start_time": "2022-06-26T20:08:11.461Z"
   },
   {
    "duration": 117,
    "start_time": "2022-06-26T20:08:11.496Z"
   },
   {
    "duration": 0,
    "start_time": "2022-06-26T20:08:11.616Z"
   },
   {
    "duration": 0,
    "start_time": "2022-06-26T20:08:11.618Z"
   },
   {
    "duration": 0,
    "start_time": "2022-06-26T20:08:11.627Z"
   },
   {
    "duration": 0,
    "start_time": "2022-06-26T20:08:11.628Z"
   },
   {
    "duration": 0,
    "start_time": "2022-06-26T20:08:11.630Z"
   },
   {
    "duration": 0,
    "start_time": "2022-06-26T20:08:11.631Z"
   },
   {
    "duration": 0,
    "start_time": "2022-06-26T20:08:11.633Z"
   },
   {
    "duration": 0,
    "start_time": "2022-06-26T20:08:11.634Z"
   },
   {
    "duration": 0,
    "start_time": "2022-06-26T20:08:11.635Z"
   },
   {
    "duration": 0,
    "start_time": "2022-06-26T20:08:11.636Z"
   },
   {
    "duration": 0,
    "start_time": "2022-06-26T20:08:11.638Z"
   },
   {
    "duration": 0,
    "start_time": "2022-06-26T20:08:11.639Z"
   },
   {
    "duration": 0,
    "start_time": "2022-06-26T20:08:11.641Z"
   },
   {
    "duration": 0,
    "start_time": "2022-06-26T20:08:11.644Z"
   },
   {
    "duration": 0,
    "start_time": "2022-06-26T20:08:11.645Z"
   },
   {
    "duration": 0,
    "start_time": "2022-06-26T20:08:11.646Z"
   },
   {
    "duration": 0,
    "start_time": "2022-06-26T20:08:11.647Z"
   },
   {
    "duration": 0,
    "start_time": "2022-06-26T20:08:11.650Z"
   },
   {
    "duration": 0,
    "start_time": "2022-06-26T20:08:11.651Z"
   },
   {
    "duration": 0,
    "start_time": "2022-06-26T20:08:11.652Z"
   },
   {
    "duration": 0,
    "start_time": "2022-06-26T20:08:11.654Z"
   },
   {
    "duration": 0,
    "start_time": "2022-06-26T20:08:11.655Z"
   },
   {
    "duration": 0,
    "start_time": "2022-06-26T20:08:11.657Z"
   },
   {
    "duration": 0,
    "start_time": "2022-06-26T20:08:11.658Z"
   },
   {
    "duration": 0,
    "start_time": "2022-06-26T20:08:11.659Z"
   },
   {
    "duration": 0,
    "start_time": "2022-06-26T20:08:11.660Z"
   },
   {
    "duration": 0,
    "start_time": "2022-06-26T20:08:11.662Z"
   },
   {
    "duration": 0,
    "start_time": "2022-06-26T20:08:11.663Z"
   },
   {
    "duration": 0,
    "start_time": "2022-06-26T20:08:11.665Z"
   },
   {
    "duration": 0,
    "start_time": "2022-06-26T20:08:11.666Z"
   },
   {
    "duration": 0,
    "start_time": "2022-06-26T20:08:11.667Z"
   },
   {
    "duration": 0,
    "start_time": "2022-06-26T20:08:11.668Z"
   },
   {
    "duration": 0,
    "start_time": "2022-06-26T20:08:11.669Z"
   },
   {
    "duration": 0,
    "start_time": "2022-06-26T20:08:11.670Z"
   },
   {
    "duration": 0,
    "start_time": "2022-06-26T20:08:11.671Z"
   },
   {
    "duration": 0,
    "start_time": "2022-06-26T20:08:11.673Z"
   },
   {
    "duration": 0,
    "start_time": "2022-06-26T20:08:11.728Z"
   },
   {
    "duration": 0,
    "start_time": "2022-06-26T20:08:11.730Z"
   },
   {
    "duration": 0,
    "start_time": "2022-06-26T20:08:11.730Z"
   },
   {
    "duration": 0,
    "start_time": "2022-06-26T20:08:11.732Z"
   },
   {
    "duration": 24,
    "start_time": "2022-06-26T20:09:42.122Z"
   },
   {
    "duration": 13,
    "start_time": "2022-06-26T20:10:04.192Z"
   },
   {
    "duration": 21,
    "start_time": "2022-06-26T20:10:08.316Z"
   },
   {
    "duration": 15,
    "start_time": "2022-06-26T20:11:18.641Z"
   },
   {
    "duration": 22,
    "start_time": "2022-06-26T20:11:32.928Z"
   },
   {
    "duration": 73,
    "start_time": "2022-06-26T20:43:18.560Z"
   },
   {
    "duration": 1474,
    "start_time": "2022-06-26T20:43:24.732Z"
   },
   {
    "duration": 73,
    "start_time": "2022-06-26T20:43:26.211Z"
   },
   {
    "duration": 13,
    "start_time": "2022-06-26T20:43:26.285Z"
   },
   {
    "duration": 313,
    "start_time": "2022-06-26T20:43:26.300Z"
   },
   {
    "duration": 16,
    "start_time": "2022-06-26T20:43:26.616Z"
   },
   {
    "duration": 189,
    "start_time": "2022-06-26T20:43:26.634Z"
   },
   {
    "duration": 148,
    "start_time": "2022-06-26T20:43:26.825Z"
   },
   {
    "duration": 40,
    "start_time": "2022-06-26T20:43:26.975Z"
   },
   {
    "duration": 22,
    "start_time": "2022-06-26T20:43:27.017Z"
   },
   {
    "duration": 35,
    "start_time": "2022-06-26T20:43:27.042Z"
   },
   {
    "duration": 177,
    "start_time": "2022-06-26T20:43:27.079Z"
   },
   {
    "duration": 65,
    "start_time": "2022-06-26T20:43:27.258Z"
   },
   {
    "duration": 60,
    "start_time": "2022-06-26T20:43:27.324Z"
   },
   {
    "duration": 41,
    "start_time": "2022-06-26T20:43:27.388Z"
   },
   {
    "duration": 25,
    "start_time": "2022-06-26T20:43:27.430Z"
   },
   {
    "duration": 408,
    "start_time": "2022-06-26T20:43:27.456Z"
   },
   {
    "duration": 96,
    "start_time": "2022-06-26T20:43:27.866Z"
   },
   {
    "duration": 13,
    "start_time": "2022-06-26T20:43:27.964Z"
   },
   {
    "duration": 52,
    "start_time": "2022-06-26T20:43:27.979Z"
   },
   {
    "duration": 25,
    "start_time": "2022-06-26T20:43:28.035Z"
   },
   {
    "duration": 75,
    "start_time": "2022-06-26T20:43:28.062Z"
   },
   {
    "duration": 34,
    "start_time": "2022-06-26T20:43:28.139Z"
   },
   {
    "duration": 30,
    "start_time": "2022-06-26T20:43:28.176Z"
   },
   {
    "duration": 27,
    "start_time": "2022-06-26T20:43:28.208Z"
   },
   {
    "duration": 38,
    "start_time": "2022-06-26T20:43:28.237Z"
   },
   {
    "duration": 956,
    "start_time": "2022-06-26T20:43:28.277Z"
   },
   {
    "duration": 0,
    "start_time": "2022-06-26T20:43:29.236Z"
   },
   {
    "duration": 0,
    "start_time": "2022-06-26T20:43:29.239Z"
   },
   {
    "duration": 0,
    "start_time": "2022-06-26T20:43:29.240Z"
   },
   {
    "duration": 0,
    "start_time": "2022-06-26T20:43:29.242Z"
   },
   {
    "duration": 0,
    "start_time": "2022-06-26T20:43:29.243Z"
   },
   {
    "duration": 0,
    "start_time": "2022-06-26T20:43:29.245Z"
   },
   {
    "duration": 0,
    "start_time": "2022-06-26T20:43:29.247Z"
   },
   {
    "duration": 0,
    "start_time": "2022-06-26T20:43:29.248Z"
   },
   {
    "duration": 0,
    "start_time": "2022-06-26T20:43:29.249Z"
   },
   {
    "duration": 0,
    "start_time": "2022-06-26T20:43:29.251Z"
   },
   {
    "duration": 0,
    "start_time": "2022-06-26T20:43:29.253Z"
   },
   {
    "duration": 0,
    "start_time": "2022-06-26T20:43:29.254Z"
   },
   {
    "duration": 0,
    "start_time": "2022-06-26T20:43:29.255Z"
   },
   {
    "duration": 0,
    "start_time": "2022-06-26T20:43:29.256Z"
   },
   {
    "duration": 0,
    "start_time": "2022-06-26T20:43:29.257Z"
   },
   {
    "duration": 0,
    "start_time": "2022-06-26T20:43:29.259Z"
   },
   {
    "duration": 0,
    "start_time": "2022-06-26T20:43:29.260Z"
   },
   {
    "duration": 0,
    "start_time": "2022-06-26T20:43:29.261Z"
   },
   {
    "duration": 0,
    "start_time": "2022-06-26T20:43:29.262Z"
   },
   {
    "duration": 0,
    "start_time": "2022-06-26T20:43:29.263Z"
   },
   {
    "duration": 0,
    "start_time": "2022-06-26T20:43:29.264Z"
   },
   {
    "duration": 0,
    "start_time": "2022-06-26T20:43:29.266Z"
   },
   {
    "duration": 0,
    "start_time": "2022-06-26T20:43:29.267Z"
   },
   {
    "duration": 0,
    "start_time": "2022-06-26T20:43:29.268Z"
   },
   {
    "duration": 0,
    "start_time": "2022-06-26T20:43:29.269Z"
   },
   {
    "duration": 0,
    "start_time": "2022-06-26T20:43:29.271Z"
   },
   {
    "duration": 0,
    "start_time": "2022-06-26T20:43:29.272Z"
   },
   {
    "duration": 0,
    "start_time": "2022-06-26T20:43:29.273Z"
   },
   {
    "duration": 0,
    "start_time": "2022-06-26T20:43:29.274Z"
   },
   {
    "duration": 0,
    "start_time": "2022-06-26T20:43:29.275Z"
   },
   {
    "duration": 0,
    "start_time": "2022-06-26T20:43:29.275Z"
   },
   {
    "duration": 0,
    "start_time": "2022-06-26T20:43:29.276Z"
   },
   {
    "duration": 0,
    "start_time": "2022-06-26T20:43:29.277Z"
   },
   {
    "duration": 0,
    "start_time": "2022-06-26T20:43:29.278Z"
   },
   {
    "duration": 0,
    "start_time": "2022-06-26T20:43:29.280Z"
   },
   {
    "duration": 0,
    "start_time": "2022-06-26T20:43:29.285Z"
   },
   {
    "duration": 0,
    "start_time": "2022-06-26T20:43:29.286Z"
   },
   {
    "duration": 0,
    "start_time": "2022-06-26T20:43:29.287Z"
   },
   {
    "duration": 0,
    "start_time": "2022-06-26T20:43:29.289Z"
   },
   {
    "duration": 0,
    "start_time": "2022-06-26T20:43:29.291Z"
   },
   {
    "duration": 49,
    "start_time": "2022-06-27T09:27:38.196Z"
   },
   {
    "duration": 1292,
    "start_time": "2022-06-27T09:27:45.543Z"
   },
   {
    "duration": 77,
    "start_time": "2022-06-27T09:27:46.837Z"
   },
   {
    "duration": 12,
    "start_time": "2022-06-27T09:27:46.915Z"
   },
   {
    "duration": 260,
    "start_time": "2022-06-27T09:27:46.929Z"
   },
   {
    "duration": 13,
    "start_time": "2022-06-27T09:27:47.190Z"
   },
   {
    "duration": 155,
    "start_time": "2022-06-27T09:27:47.204Z"
   },
   {
    "duration": 93,
    "start_time": "2022-06-27T09:27:47.361Z"
   },
   {
    "duration": 23,
    "start_time": "2022-06-27T09:27:47.456Z"
   },
   {
    "duration": 19,
    "start_time": "2022-06-27T09:27:47.480Z"
   },
   {
    "duration": 53,
    "start_time": "2022-06-27T09:27:47.502Z"
   },
   {
    "duration": 148,
    "start_time": "2022-06-27T09:27:47.557Z"
   },
   {
    "duration": 64,
    "start_time": "2022-06-27T09:27:47.706Z"
   },
   {
    "duration": 57,
    "start_time": "2022-06-27T09:27:47.771Z"
   },
   {
    "duration": 27,
    "start_time": "2022-06-27T09:27:47.830Z"
   },
   {
    "duration": 7,
    "start_time": "2022-06-27T09:27:47.858Z"
   },
   {
    "duration": 359,
    "start_time": "2022-06-27T09:27:47.866Z"
   },
   {
    "duration": 104,
    "start_time": "2022-06-27T09:27:48.227Z"
   },
   {
    "duration": 17,
    "start_time": "2022-06-27T09:27:48.333Z"
   },
   {
    "duration": 33,
    "start_time": "2022-06-27T09:27:48.352Z"
   },
   {
    "duration": 8,
    "start_time": "2022-06-27T09:27:48.387Z"
   },
   {
    "duration": 96,
    "start_time": "2022-06-27T09:27:48.396Z"
   },
   {
    "duration": 17,
    "start_time": "2022-06-27T09:27:48.493Z"
   },
   {
    "duration": 21,
    "start_time": "2022-06-27T09:27:48.512Z"
   },
   {
    "duration": 20,
    "start_time": "2022-06-27T09:27:48.534Z"
   },
   {
    "duration": 21,
    "start_time": "2022-06-27T09:27:48.556Z"
   },
   {
    "duration": 10,
    "start_time": "2022-06-27T09:27:48.578Z"
   },
   {
    "duration": 48,
    "start_time": "2022-06-27T09:27:48.590Z"
   },
   {
    "duration": 8,
    "start_time": "2022-06-27T09:27:48.642Z"
   },
   {
    "duration": 74,
    "start_time": "2022-06-27T09:27:48.652Z"
   },
   {
    "duration": 18,
    "start_time": "2022-06-27T09:27:48.728Z"
   },
   {
    "duration": 8,
    "start_time": "2022-06-27T09:27:48.747Z"
   },
   {
    "duration": 25,
    "start_time": "2022-06-27T09:27:48.756Z"
   },
   {
    "duration": 6,
    "start_time": "2022-06-27T09:27:48.783Z"
   },
   {
    "duration": 10,
    "start_time": "2022-06-27T09:27:48.790Z"
   },
   {
    "duration": 30,
    "start_time": "2022-06-27T09:27:48.802Z"
   },
   {
    "duration": 5,
    "start_time": "2022-06-27T09:27:48.833Z"
   },
   {
    "duration": 398,
    "start_time": "2022-06-27T09:27:48.839Z"
   },
   {
    "duration": 299,
    "start_time": "2022-06-27T09:27:49.239Z"
   },
   {
    "duration": 5,
    "start_time": "2022-06-27T09:27:49.540Z"
   },
   {
    "duration": 9,
    "start_time": "2022-06-27T09:27:49.546Z"
   },
   {
    "duration": 308,
    "start_time": "2022-06-27T09:27:49.557Z"
   },
   {
    "duration": 5,
    "start_time": "2022-06-27T09:27:49.867Z"
   },
   {
    "duration": 21,
    "start_time": "2022-06-27T09:27:49.873Z"
   },
   {
    "duration": 33,
    "start_time": "2022-06-27T09:27:49.896Z"
   },
   {
    "duration": 7,
    "start_time": "2022-06-27T09:27:49.931Z"
   },
   {
    "duration": 11,
    "start_time": "2022-06-27T09:27:49.939Z"
   },
   {
    "duration": 16,
    "start_time": "2022-06-27T09:27:49.952Z"
   },
   {
    "duration": 6,
    "start_time": "2022-06-27T09:27:49.970Z"
   },
   {
    "duration": 6,
    "start_time": "2022-06-27T09:27:49.977Z"
   },
   {
    "duration": 380,
    "start_time": "2022-06-27T09:27:49.984Z"
   },
   {
    "duration": 10,
    "start_time": "2022-06-27T09:27:50.366Z"
   },
   {
    "duration": 15,
    "start_time": "2022-06-27T09:27:50.378Z"
   },
   {
    "duration": 6,
    "start_time": "2022-06-27T09:27:50.394Z"
   },
   {
    "duration": 334,
    "start_time": "2022-06-27T09:27:50.426Z"
   },
   {
    "duration": 11,
    "start_time": "2022-06-27T09:27:50.763Z"
   },
   {
    "duration": 25,
    "start_time": "2022-06-27T09:27:50.776Z"
   },
   {
    "duration": 7,
    "start_time": "2022-06-27T09:27:50.804Z"
   },
   {
    "duration": 363,
    "start_time": "2022-06-27T09:27:50.826Z"
   },
   {
    "duration": 16,
    "start_time": "2022-06-27T09:27:51.191Z"
   },
   {
    "duration": 27,
    "start_time": "2022-06-27T09:27:51.209Z"
   },
   {
    "duration": 5,
    "start_time": "2022-06-27T09:27:51.238Z"
   },
   {
    "duration": 13,
    "start_time": "2022-06-27T09:27:51.244Z"
   },
   {
    "duration": 10,
    "start_time": "2022-06-27T09:27:51.259Z"
   },
   {
    "duration": 36,
    "start_time": "2022-06-27T09:27:51.271Z"
   },
   {
    "duration": 38,
    "start_time": "2022-06-27T09:27:51.309Z"
   },
   {
    "duration": 5,
    "start_time": "2022-06-27T09:27:51.349Z"
   },
   {
    "duration": 9,
    "start_time": "2022-06-27T09:30:35.724Z"
   },
   {
    "duration": 17,
    "start_time": "2022-06-27T09:30:40.878Z"
   },
   {
    "duration": 11,
    "start_time": "2022-06-27T09:33:47.484Z"
   },
   {
    "duration": 10,
    "start_time": "2022-06-27T09:35:07.455Z"
   },
   {
    "duration": 21,
    "start_time": "2022-06-27T09:35:14.405Z"
   },
   {
    "duration": 3,
    "start_time": "2022-06-27T09:35:25.294Z"
   },
   {
    "duration": 52,
    "start_time": "2022-06-27T09:35:25.301Z"
   },
   {
    "duration": 12,
    "start_time": "2022-06-27T09:35:25.355Z"
   },
   {
    "duration": 239,
    "start_time": "2022-06-27T09:35:25.368Z"
   },
   {
    "duration": 28,
    "start_time": "2022-06-27T09:35:25.608Z"
   },
   {
    "duration": 159,
    "start_time": "2022-06-27T09:35:25.638Z"
   },
   {
    "duration": 175,
    "start_time": "2022-06-27T09:35:25.798Z"
   },
   {
    "duration": 24,
    "start_time": "2022-06-27T09:35:25.974Z"
   },
   {
    "duration": 41,
    "start_time": "2022-06-27T09:35:26.000Z"
   },
   {
    "duration": 32,
    "start_time": "2022-06-27T09:35:26.042Z"
   },
   {
    "duration": 132,
    "start_time": "2022-06-27T09:35:26.075Z"
   },
   {
    "duration": 83,
    "start_time": "2022-06-27T09:35:26.209Z"
   },
   {
    "duration": 60,
    "start_time": "2022-06-27T09:35:26.294Z"
   },
   {
    "duration": 28,
    "start_time": "2022-06-27T09:35:26.356Z"
   },
   {
    "duration": 7,
    "start_time": "2022-06-27T09:35:26.387Z"
   },
   {
    "duration": 202,
    "start_time": "2022-06-27T09:35:26.396Z"
   },
   {
    "duration": 111,
    "start_time": "2022-06-27T09:35:26.600Z"
   },
   {
    "duration": 19,
    "start_time": "2022-06-27T09:35:26.713Z"
   },
   {
    "duration": 33,
    "start_time": "2022-06-27T09:35:26.734Z"
   },
   {
    "duration": 9,
    "start_time": "2022-06-27T09:35:26.769Z"
   },
   {
    "duration": 61,
    "start_time": "2022-06-27T09:35:26.779Z"
   },
   {
    "duration": 16,
    "start_time": "2022-06-27T09:35:26.842Z"
   },
   {
    "duration": 19,
    "start_time": "2022-06-27T09:35:26.860Z"
   },
   {
    "duration": 49,
    "start_time": "2022-06-27T09:35:26.881Z"
   },
   {
    "duration": 21,
    "start_time": "2022-06-27T09:35:26.931Z"
   },
   {
    "duration": 9,
    "start_time": "2022-06-27T09:35:26.953Z"
   },
   {
    "duration": 16,
    "start_time": "2022-06-27T09:35:26.963Z"
   },
   {
    "duration": 8,
    "start_time": "2022-06-27T09:35:26.980Z"
   },
   {
    "duration": 83,
    "start_time": "2022-06-27T09:35:26.989Z"
   },
   {
    "duration": 14,
    "start_time": "2022-06-27T09:35:27.074Z"
   },
   {
    "duration": 15,
    "start_time": "2022-06-27T09:35:27.090Z"
   },
   {
    "duration": 31,
    "start_time": "2022-06-27T09:35:27.107Z"
   },
   {
    "duration": 6,
    "start_time": "2022-06-27T09:35:27.140Z"
   },
   {
    "duration": 8,
    "start_time": "2022-06-27T09:35:27.147Z"
   },
   {
    "duration": 10,
    "start_time": "2022-06-27T09:35:27.156Z"
   },
   {
    "duration": 9,
    "start_time": "2022-06-27T09:35:27.167Z"
   },
   {
    "duration": 362,
    "start_time": "2022-06-27T09:35:27.178Z"
   },
   {
    "duration": 297,
    "start_time": "2022-06-27T09:35:27.541Z"
   },
   {
    "duration": 5,
    "start_time": "2022-06-27T09:35:27.840Z"
   },
   {
    "duration": 21,
    "start_time": "2022-06-27T09:35:27.846Z"
   },
   {
    "duration": 314,
    "start_time": "2022-06-27T09:35:27.869Z"
   },
   {
    "duration": 4,
    "start_time": "2022-06-27T09:35:28.187Z"
   },
   {
    "duration": 12,
    "start_time": "2022-06-27T09:35:28.193Z"
   },
   {
    "duration": 32,
    "start_time": "2022-06-27T09:35:28.207Z"
   },
   {
    "duration": 6,
    "start_time": "2022-06-27T09:35:28.240Z"
   },
   {
    "duration": 10,
    "start_time": "2022-06-27T09:35:28.248Z"
   },
   {
    "duration": 11,
    "start_time": "2022-06-27T09:35:28.259Z"
   },
   {
    "duration": 11,
    "start_time": "2022-06-27T09:35:28.272Z"
   },
   {
    "duration": 6,
    "start_time": "2022-06-27T09:35:28.285Z"
   },
   {
    "duration": 353,
    "start_time": "2022-06-27T09:35:28.292Z"
   },
   {
    "duration": 10,
    "start_time": "2022-06-27T09:35:28.647Z"
   },
   {
    "duration": 9,
    "start_time": "2022-06-27T09:35:28.659Z"
   },
   {
    "duration": 12,
    "start_time": "2022-06-27T09:35:28.669Z"
   },
   {
    "duration": 354,
    "start_time": "2022-06-27T09:35:28.682Z"
   },
   {
    "duration": 10,
    "start_time": "2022-06-27T09:35:29.037Z"
   },
   {
    "duration": 11,
    "start_time": "2022-06-27T09:35:29.049Z"
   },
   {
    "duration": 5,
    "start_time": "2022-06-27T09:35:29.062Z"
   },
   {
    "duration": 386,
    "start_time": "2022-06-27T09:35:29.068Z"
   },
   {
    "duration": 9,
    "start_time": "2022-06-27T09:35:29.456Z"
   },
   {
    "duration": 24,
    "start_time": "2022-06-27T09:35:29.467Z"
   },
   {
    "duration": 11,
    "start_time": "2022-06-27T09:35:29.493Z"
   },
   {
    "duration": 15,
    "start_time": "2022-06-27T09:35:29.505Z"
   },
   {
    "duration": 10,
    "start_time": "2022-06-27T09:35:29.522Z"
   },
   {
    "duration": 26,
    "start_time": "2022-06-27T09:35:29.534Z"
   },
   {
    "duration": 25,
    "start_time": "2022-06-27T09:35:29.562Z"
   },
   {
    "duration": 6,
    "start_time": "2022-06-27T09:35:29.588Z"
   },
   {
    "duration": 3,
    "start_time": "2022-06-27T09:37:20.506Z"
   },
   {
    "duration": 57,
    "start_time": "2022-06-27T09:37:20.513Z"
   },
   {
    "duration": 13,
    "start_time": "2022-06-27T09:37:20.572Z"
   },
   {
    "duration": 263,
    "start_time": "2022-06-27T09:37:20.586Z"
   },
   {
    "duration": 11,
    "start_time": "2022-06-27T09:37:20.852Z"
   },
   {
    "duration": 184,
    "start_time": "2022-06-27T09:37:20.865Z"
   },
   {
    "duration": 105,
    "start_time": "2022-06-27T09:37:21.051Z"
   },
   {
    "duration": 27,
    "start_time": "2022-06-27T09:37:21.157Z"
   },
   {
    "duration": 44,
    "start_time": "2022-06-27T09:37:21.185Z"
   },
   {
    "duration": 46,
    "start_time": "2022-06-27T09:37:21.231Z"
   },
   {
    "duration": 153,
    "start_time": "2022-06-27T09:37:21.281Z"
   },
   {
    "duration": 95,
    "start_time": "2022-06-27T09:37:21.436Z"
   },
   {
    "duration": 62,
    "start_time": "2022-06-27T09:37:21.532Z"
   },
   {
    "duration": 47,
    "start_time": "2022-06-27T09:37:21.596Z"
   },
   {
    "duration": 9,
    "start_time": "2022-06-27T09:37:21.645Z"
   },
   {
    "duration": 198,
    "start_time": "2022-06-27T09:37:21.655Z"
   },
   {
    "duration": 113,
    "start_time": "2022-06-27T09:37:21.854Z"
   },
   {
    "duration": 15,
    "start_time": "2022-06-27T09:37:21.969Z"
   },
   {
    "duration": 49,
    "start_time": "2022-06-27T09:37:21.986Z"
   },
   {
    "duration": 9,
    "start_time": "2022-06-27T09:37:22.037Z"
   },
   {
    "duration": 50,
    "start_time": "2022-06-27T09:37:22.047Z"
   },
   {
    "duration": 28,
    "start_time": "2022-06-27T09:37:22.099Z"
   },
   {
    "duration": 21,
    "start_time": "2022-06-27T09:37:22.130Z"
   },
   {
    "duration": 22,
    "start_time": "2022-06-27T09:37:22.153Z"
   },
   {
    "duration": 53,
    "start_time": "2022-06-27T09:37:22.177Z"
   },
   {
    "duration": 9,
    "start_time": "2022-06-27T09:37:22.232Z"
   },
   {
    "duration": 17,
    "start_time": "2022-06-27T09:37:22.243Z"
   },
   {
    "duration": 19,
    "start_time": "2022-06-27T09:37:22.261Z"
   },
   {
    "duration": 73,
    "start_time": "2022-06-27T09:37:22.285Z"
   },
   {
    "duration": 18,
    "start_time": "2022-06-27T09:37:22.360Z"
   },
   {
    "duration": 8,
    "start_time": "2022-06-27T09:37:22.380Z"
   },
   {
    "duration": 50,
    "start_time": "2022-06-27T09:37:22.389Z"
   },
   {
    "duration": 7,
    "start_time": "2022-06-27T09:37:22.440Z"
   },
   {
    "duration": 24,
    "start_time": "2022-06-27T09:37:22.449Z"
   },
   {
    "duration": 24,
    "start_time": "2022-06-27T09:37:22.475Z"
   },
   {
    "duration": 19,
    "start_time": "2022-06-27T09:37:22.501Z"
   },
   {
    "duration": 340,
    "start_time": "2022-06-27T09:37:22.522Z"
   },
   {
    "duration": 306,
    "start_time": "2022-06-27T09:37:22.864Z"
   },
   {
    "duration": 5,
    "start_time": "2022-06-27T09:37:23.171Z"
   },
   {
    "duration": 15,
    "start_time": "2022-06-27T09:37:23.178Z"
   },
   {
    "duration": 446,
    "start_time": "2022-06-27T09:37:23.195Z"
   },
   {
    "duration": 6,
    "start_time": "2022-06-27T09:37:23.643Z"
   },
   {
    "duration": 12,
    "start_time": "2022-06-27T09:37:23.650Z"
   },
   {
    "duration": 29,
    "start_time": "2022-06-27T09:37:23.663Z"
   },
   {
    "duration": 8,
    "start_time": "2022-06-27T09:37:23.693Z"
   },
   {
    "duration": 29,
    "start_time": "2022-06-27T09:37:23.702Z"
   },
   {
    "duration": 15,
    "start_time": "2022-06-27T09:37:23.733Z"
   },
   {
    "duration": 18,
    "start_time": "2022-06-27T09:37:23.749Z"
   },
   {
    "duration": 11,
    "start_time": "2022-06-27T09:37:23.768Z"
   },
   {
    "duration": 363,
    "start_time": "2022-06-27T09:37:23.780Z"
   },
   {
    "duration": 10,
    "start_time": "2022-06-27T09:37:24.145Z"
   },
   {
    "duration": 27,
    "start_time": "2022-06-27T09:37:24.157Z"
   },
   {
    "duration": 11,
    "start_time": "2022-06-27T09:37:24.185Z"
   },
   {
    "duration": 378,
    "start_time": "2022-06-27T09:37:24.198Z"
   },
   {
    "duration": 12,
    "start_time": "2022-06-27T09:37:24.577Z"
   },
   {
    "duration": 14,
    "start_time": "2022-06-27T09:37:24.590Z"
   },
   {
    "duration": 30,
    "start_time": "2022-06-27T09:37:24.605Z"
   },
   {
    "duration": 346,
    "start_time": "2022-06-27T09:37:24.637Z"
   },
   {
    "duration": 12,
    "start_time": "2022-06-27T09:37:24.985Z"
   },
   {
    "duration": 29,
    "start_time": "2022-06-27T09:37:24.998Z"
   },
   {
    "duration": 6,
    "start_time": "2022-06-27T09:37:25.029Z"
   },
   {
    "duration": 16,
    "start_time": "2022-06-27T09:37:25.036Z"
   },
   {
    "duration": 16,
    "start_time": "2022-06-27T09:37:25.053Z"
   },
   {
    "duration": 31,
    "start_time": "2022-06-27T09:37:25.071Z"
   },
   {
    "duration": 41,
    "start_time": "2022-06-27T09:37:25.104Z"
   },
   {
    "duration": 4,
    "start_time": "2022-06-27T09:37:25.147Z"
   },
   {
    "duration": 12,
    "start_time": "2022-06-27T09:38:38.105Z"
   },
   {
    "duration": 3,
    "start_time": "2022-06-27T09:38:53.528Z"
   },
   {
    "duration": 48,
    "start_time": "2022-06-27T09:38:53.536Z"
   },
   {
    "duration": 10,
    "start_time": "2022-06-27T09:38:53.586Z"
   },
   {
    "duration": 230,
    "start_time": "2022-06-27T09:38:53.598Z"
   },
   {
    "duration": 11,
    "start_time": "2022-06-27T09:38:53.830Z"
   },
   {
    "duration": 148,
    "start_time": "2022-06-27T09:38:53.843Z"
   },
   {
    "duration": 103,
    "start_time": "2022-06-27T09:38:53.993Z"
   },
   {
    "duration": 34,
    "start_time": "2022-06-27T09:38:54.098Z"
   },
   {
    "duration": 22,
    "start_time": "2022-06-27T09:38:54.134Z"
   },
   {
    "duration": 36,
    "start_time": "2022-06-27T09:38:54.157Z"
   },
   {
    "duration": 140,
    "start_time": "2022-06-27T09:38:54.195Z"
   },
   {
    "duration": 72,
    "start_time": "2022-06-27T09:38:54.337Z"
   },
   {
    "duration": 73,
    "start_time": "2022-06-27T09:38:54.411Z"
   },
   {
    "duration": 53,
    "start_time": "2022-06-27T09:38:54.487Z"
   },
   {
    "duration": 8,
    "start_time": "2022-06-27T09:38:54.543Z"
   },
   {
    "duration": 211,
    "start_time": "2022-06-27T09:38:54.552Z"
   },
   {
    "duration": 110,
    "start_time": "2022-06-27T09:38:54.764Z"
   },
   {
    "duration": 14,
    "start_time": "2022-06-27T09:38:54.876Z"
   },
   {
    "duration": 49,
    "start_time": "2022-06-27T09:38:54.891Z"
   },
   {
    "duration": 9,
    "start_time": "2022-06-27T09:38:54.941Z"
   },
   {
    "duration": 55,
    "start_time": "2022-06-27T09:38:54.951Z"
   },
   {
    "duration": 22,
    "start_time": "2022-06-27T09:38:55.008Z"
   },
   {
    "duration": 20,
    "start_time": "2022-06-27T09:38:55.032Z"
   },
   {
    "duration": 20,
    "start_time": "2022-06-27T09:38:55.053Z"
   },
   {
    "duration": 21,
    "start_time": "2022-06-27T09:38:55.075Z"
   },
   {
    "duration": 9,
    "start_time": "2022-06-27T09:38:55.127Z"
   },
   {
    "duration": 25,
    "start_time": "2022-06-27T09:38:55.138Z"
   },
   {
    "duration": 9,
    "start_time": "2022-06-27T09:38:55.164Z"
   },
   {
    "duration": 75,
    "start_time": "2022-06-27T09:38:55.175Z"
   },
   {
    "duration": 39,
    "start_time": "2022-06-27T09:38:55.252Z"
   },
   {
    "duration": 40,
    "start_time": "2022-06-27T09:38:55.294Z"
   },
   {
    "duration": 60,
    "start_time": "2022-06-27T09:38:55.336Z"
   },
   {
    "duration": 43,
    "start_time": "2022-06-27T09:38:55.398Z"
   },
   {
    "duration": 29,
    "start_time": "2022-06-27T09:38:55.442Z"
   },
   {
    "duration": 32,
    "start_time": "2022-06-27T09:38:55.473Z"
   },
   {
    "duration": 31,
    "start_time": "2022-06-27T09:38:55.506Z"
   },
   {
    "duration": 321,
    "start_time": "2022-06-27T09:38:55.538Z"
   },
   {
    "duration": 306,
    "start_time": "2022-06-27T09:38:55.860Z"
   },
   {
    "duration": 5,
    "start_time": "2022-06-27T09:38:56.168Z"
   },
   {
    "duration": 36,
    "start_time": "2022-06-27T09:38:56.174Z"
   },
   {
    "duration": 344,
    "start_time": "2022-06-27T09:38:56.212Z"
   },
   {
    "duration": 5,
    "start_time": "2022-06-27T09:38:56.560Z"
   },
   {
    "duration": 28,
    "start_time": "2022-06-27T09:38:56.566Z"
   },
   {
    "duration": 44,
    "start_time": "2022-06-27T09:38:56.595Z"
   },
   {
    "duration": 11,
    "start_time": "2022-06-27T09:38:56.640Z"
   },
   {
    "duration": 18,
    "start_time": "2022-06-27T09:38:56.652Z"
   },
   {
    "duration": 20,
    "start_time": "2022-06-27T09:38:56.671Z"
   },
   {
    "duration": 20,
    "start_time": "2022-06-27T09:38:56.692Z"
   },
   {
    "duration": 35,
    "start_time": "2022-06-27T09:38:56.713Z"
   },
   {
    "duration": 381,
    "start_time": "2022-06-27T09:38:56.750Z"
   },
   {
    "duration": 11,
    "start_time": "2022-06-27T09:38:57.132Z"
   },
   {
    "duration": 11,
    "start_time": "2022-06-27T09:38:57.145Z"
   },
   {
    "duration": 5,
    "start_time": "2022-06-27T09:38:57.157Z"
   },
   {
    "duration": 383,
    "start_time": "2022-06-27T09:38:57.163Z"
   },
   {
    "duration": 10,
    "start_time": "2022-06-27T09:38:57.548Z"
   },
   {
    "duration": 13,
    "start_time": "2022-06-27T09:38:57.559Z"
   },
   {
    "duration": 6,
    "start_time": "2022-06-27T09:38:57.574Z"
   },
   {
    "duration": 471,
    "start_time": "2022-06-27T09:38:57.581Z"
   },
   {
    "duration": 10,
    "start_time": "2022-06-27T09:38:58.054Z"
   },
   {
    "duration": 11,
    "start_time": "2022-06-27T09:38:58.066Z"
   },
   {
    "duration": 5,
    "start_time": "2022-06-27T09:38:58.078Z"
   },
   {
    "duration": 10,
    "start_time": "2022-06-27T09:38:58.085Z"
   },
   {
    "duration": 33,
    "start_time": "2022-06-27T09:38:58.096Z"
   },
   {
    "duration": 25,
    "start_time": "2022-06-27T09:38:58.130Z"
   },
   {
    "duration": 21,
    "start_time": "2022-06-27T09:38:58.157Z"
   },
   {
    "duration": 4,
    "start_time": "2022-06-27T09:38:58.179Z"
   },
   {
    "duration": 1320,
    "start_time": "2022-06-27T15:36:44.495Z"
   },
   {
    "duration": 80,
    "start_time": "2022-06-27T15:36:45.818Z"
   },
   {
    "duration": 12,
    "start_time": "2022-06-27T15:36:45.899Z"
   },
   {
    "duration": 278,
    "start_time": "2022-06-27T15:36:45.913Z"
   },
   {
    "duration": 13,
    "start_time": "2022-06-27T15:36:46.193Z"
   },
   {
    "duration": 185,
    "start_time": "2022-06-27T15:36:46.208Z"
   },
   {
    "duration": 97,
    "start_time": "2022-06-27T15:36:46.395Z"
   },
   {
    "duration": 39,
    "start_time": "2022-06-27T15:36:46.494Z"
   },
   {
    "duration": 23,
    "start_time": "2022-06-27T15:36:46.535Z"
   },
   {
    "duration": 45,
    "start_time": "2022-06-27T15:36:46.560Z"
   },
   {
    "duration": 179,
    "start_time": "2022-06-27T15:36:46.625Z"
   },
   {
    "duration": 88,
    "start_time": "2022-06-27T15:36:46.806Z"
   },
   {
    "duration": 75,
    "start_time": "2022-06-27T15:36:46.896Z"
   },
   {
    "duration": 57,
    "start_time": "2022-06-27T15:36:46.975Z"
   },
   {
    "duration": 9,
    "start_time": "2022-06-27T15:36:47.033Z"
   },
   {
    "duration": 365,
    "start_time": "2022-06-27T15:36:47.044Z"
   },
   {
    "duration": 119,
    "start_time": "2022-06-27T15:36:47.410Z"
   },
   {
    "duration": 15,
    "start_time": "2022-06-27T15:36:47.531Z"
   },
   {
    "duration": 35,
    "start_time": "2022-06-27T15:36:47.547Z"
   },
   {
    "duration": 9,
    "start_time": "2022-06-27T15:36:47.584Z"
   },
   {
    "duration": 94,
    "start_time": "2022-06-27T15:36:47.595Z"
   },
   {
    "duration": 19,
    "start_time": "2022-06-27T15:36:47.691Z"
   },
   {
    "duration": 23,
    "start_time": "2022-06-27T15:36:47.712Z"
   },
   {
    "duration": 30,
    "start_time": "2022-06-27T15:36:47.736Z"
   },
   {
    "duration": 24,
    "start_time": "2022-06-27T15:36:47.768Z"
   },
   {
    "duration": 38,
    "start_time": "2022-06-27T15:36:47.794Z"
   },
   {
    "duration": 24,
    "start_time": "2022-06-27T15:36:47.834Z"
   },
   {
    "duration": 11,
    "start_time": "2022-06-27T15:36:47.860Z"
   },
   {
    "duration": 83,
    "start_time": "2022-06-27T15:36:47.873Z"
   },
   {
    "duration": 23,
    "start_time": "2022-06-27T15:36:47.958Z"
   },
   {
    "duration": 11,
    "start_time": "2022-06-27T15:36:47.983Z"
   },
   {
    "duration": 59,
    "start_time": "2022-06-27T15:36:47.996Z"
   },
   {
    "duration": 8,
    "start_time": "2022-06-27T15:36:48.057Z"
   },
   {
    "duration": 32,
    "start_time": "2022-06-27T15:36:48.067Z"
   },
   {
    "duration": 19,
    "start_time": "2022-06-27T15:36:48.101Z"
   },
   {
    "duration": 9,
    "start_time": "2022-06-27T15:36:48.122Z"
   },
   {
    "duration": 378,
    "start_time": "2022-06-27T15:36:48.133Z"
   },
   {
    "duration": 332,
    "start_time": "2022-06-27T15:36:48.512Z"
   },
   {
    "duration": 5,
    "start_time": "2022-06-27T15:36:48.846Z"
   },
   {
    "duration": 8,
    "start_time": "2022-06-27T15:36:48.853Z"
   },
   {
    "duration": 373,
    "start_time": "2022-06-27T15:36:48.865Z"
   },
   {
    "duration": 5,
    "start_time": "2022-06-27T15:36:49.240Z"
   },
   {
    "duration": 12,
    "start_time": "2022-06-27T15:36:49.247Z"
   },
   {
    "duration": 33,
    "start_time": "2022-06-27T15:36:49.261Z"
   },
   {
    "duration": 29,
    "start_time": "2022-06-27T15:36:49.297Z"
   },
   {
    "duration": 26,
    "start_time": "2022-06-27T15:36:49.328Z"
   },
   {
    "duration": 15,
    "start_time": "2022-06-27T15:36:49.355Z"
   },
   {
    "duration": 8,
    "start_time": "2022-06-27T15:36:49.373Z"
   },
   {
    "duration": 29,
    "start_time": "2022-06-27T15:36:49.383Z"
   },
   {
    "duration": 391,
    "start_time": "2022-06-27T15:36:49.414Z"
   },
   {
    "duration": 20,
    "start_time": "2022-06-27T15:36:49.807Z"
   },
   {
    "duration": 10,
    "start_time": "2022-06-27T15:36:49.829Z"
   },
   {
    "duration": 9,
    "start_time": "2022-06-27T15:36:49.841Z"
   },
   {
    "duration": 369,
    "start_time": "2022-06-27T15:36:49.852Z"
   },
   {
    "duration": 10,
    "start_time": "2022-06-27T15:36:50.225Z"
   },
   {
    "duration": 23,
    "start_time": "2022-06-27T15:36:50.237Z"
   },
   {
    "duration": 28,
    "start_time": "2022-06-27T15:36:50.262Z"
   },
   {
    "duration": 379,
    "start_time": "2022-06-27T15:36:50.292Z"
   },
   {
    "duration": 13,
    "start_time": "2022-06-27T15:36:50.672Z"
   },
   {
    "duration": 48,
    "start_time": "2022-06-27T15:36:50.687Z"
   },
   {
    "duration": 7,
    "start_time": "2022-06-27T15:36:50.737Z"
   },
   {
    "duration": 11,
    "start_time": "2022-06-27T15:36:50.745Z"
   },
   {
    "duration": 8,
    "start_time": "2022-06-27T15:36:50.758Z"
   },
   {
    "duration": 26,
    "start_time": "2022-06-27T15:36:50.767Z"
   },
   {
    "duration": 47,
    "start_time": "2022-06-27T15:36:50.795Z"
   },
   {
    "duration": 5,
    "start_time": "2022-06-27T15:36:50.844Z"
   },
   {
    "duration": 13,
    "start_time": "2022-06-27T15:42:09.939Z"
   },
   {
    "duration": 14,
    "start_time": "2022-06-27T15:51:16.913Z"
   },
   {
    "duration": 420,
    "start_time": "2022-06-27T15:51:57.555Z"
   },
   {
    "duration": 323,
    "start_time": "2022-06-27T15:53:19.949Z"
   }
  ],
  "kernelspec": {
   "display_name": "Python 3 (ipykernel)",
   "language": "python",
   "name": "python3"
  },
  "language_info": {
   "codemirror_mode": {
    "name": "ipython",
    "version": 3
   },
   "file_extension": ".py",
   "mimetype": "text/x-python",
   "name": "python",
   "nbconvert_exporter": "python",
   "pygments_lexer": "ipython3",
   "version": "3.9.5"
  },
  "toc": {
   "base_numbering": 1,
   "nav_menu": {},
   "number_sections": true,
   "sideBar": true,
   "skip_h1_title": true,
   "title_cell": "Table of Contents",
   "title_sidebar": "Contents",
   "toc_cell": false,
   "toc_position": {},
   "toc_section_display": true,
   "toc_window_display": false
  }
 },
 "nbformat": 4,
 "nbformat_minor": 2
}
